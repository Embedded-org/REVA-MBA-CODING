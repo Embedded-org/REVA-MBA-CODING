{
  "nbformat": 4,
  "nbformat_minor": 0,
  "metadata": {
    "colab": {
      "provenance": []
    },
    "kernelspec": {
      "name": "python3",
      "display_name": "Python 3"
    },
    "language_info": {
      "name": "python"
    },
    "accelerator": "GPU",
    "gpuClass": "standard"
  },
  "cells": [
    {
      "cell_type": "code",
      "execution_count": 1,
      "metadata": {
        "id": "behybedPpZah"
      },
      "outputs": [],
      "source": [
        "from keras.datasets import imdb\n",
        "import tensorflow as tf\n",
        "pad_sequences=tf.keras.preprocessing.sequence.pad_sequences"
      ]
    },
    {
      "cell_type": "code",
      "source": [
        "max_features = 10000 #max number of words in vocab\n",
        "maxlen = 500         #cut off text after this many words\n",
        "batch_size = 32\n",
        "\n",
        "print('Loading data...')\n",
        "(input_train, y_train), (input_test, y_test) = imdb.load_data(num_words=max_features)\n",
        "\n",
        "print(len(input_train), 'train sequences')\n",
        "print(len(input_test), 'test sequences')\n",
        "\n",
        "print('Pad sequences (samples x time)')\n",
        "input_train = pad_sequences(input_train, maxlen=maxlen)\n",
        "input_test = pad_sequences(input_test, maxlen=maxlen)\n",
        "\n",
        "print('input_train shape:', input_train.shape)\n",
        "print('input_test shape:', input_test.shape)\n"
      ],
      "metadata": {
        "colab": {
          "base_uri": "https://localhost:8080/"
        },
        "id": "aPcWogkApj82",
        "outputId": "30e1ce6c-9499-48e5-bc2f-ed6864f48b44"
      },
      "execution_count": 2,
      "outputs": [
        {
          "output_type": "stream",
          "name": "stdout",
          "text": [
            "Loading data...\n",
            "Downloading data from https://storage.googleapis.com/tensorflow/tf-keras-datasets/imdb.npz\n",
            "17464789/17464789 [==============================] - 0s 0us/step\n",
            "25000 train sequences\n",
            "25000 test sequences\n",
            "Pad sequences (samples x time)\n",
            "input_train shape: (25000, 500)\n",
            "input_test shape: (25000, 500)\n"
          ]
        }
      ]
    },
    {
      "cell_type": "code",
      "source": [
        "from keras.models import Sequential\n",
        "from keras.layers import Embedding\n",
        "from keras.layers import Dense\n",
        "from keras.layers import LSTM\n",
        "model = Sequential()\n",
        "model.add(Embedding(max_features, 32))\n",
        "model.add(LSTM(32))\n",
        "model.add(Dense(1, activation='sigmoid'))\n",
        "model.compile(optimizer='rmsprop',loss='binary_crossentropy',metrics=['acc'])"
      ],
      "metadata": {
        "id": "paefsRG3plr9"
      },
      "execution_count": 3,
      "outputs": []
    },
    {
      "cell_type": "code",
      "source": [
        "history = model.fit(input_train, y_train,epochs=10,batch_size=128,validation_split=0.2)"
      ],
      "metadata": {
        "colab": {
          "base_uri": "https://localhost:8080/"
        },
        "id": "5bQ0b5hBr2fC",
        "outputId": "43fad304-56bc-4cef-9dfe-9414e2c752f5"
      },
      "execution_count": 4,
      "outputs": [
        {
          "output_type": "stream",
          "name": "stdout",
          "text": [
            "Epoch 1/10\n",
            "157/157 [==============================] - 31s 154ms/step - loss: 0.5725 - acc: 0.6986 - val_loss: 0.4151 - val_acc: 0.8268\n",
            "Epoch 2/10\n",
            "157/157 [==============================] - 19s 124ms/step - loss: 0.3523 - acc: 0.8547 - val_loss: 0.3240 - val_acc: 0.8698\n",
            "Epoch 3/10\n",
            "157/157 [==============================] - 16s 100ms/step - loss: 0.2734 - acc: 0.8942 - val_loss: 0.3113 - val_acc: 0.8692\n",
            "Epoch 4/10\n",
            "157/157 [==============================] - 13s 84ms/step - loss: 0.2311 - acc: 0.9119 - val_loss: 0.3517 - val_acc: 0.8494\n",
            "Epoch 5/10\n",
            "157/157 [==============================] - 9s 54ms/step - loss: 0.1996 - acc: 0.9276 - val_loss: 0.3466 - val_acc: 0.8782\n",
            "Epoch 6/10\n",
            "157/157 [==============================] - 8s 54ms/step - loss: 0.1776 - acc: 0.9367 - val_loss: 0.3687 - val_acc: 0.8758\n",
            "Epoch 7/10\n",
            "157/157 [==============================] - 6s 40ms/step - loss: 0.1623 - acc: 0.9427 - val_loss: 0.3088 - val_acc: 0.8836\n",
            "Epoch 8/10\n",
            "157/157 [==============================] - 6s 40ms/step - loss: 0.1484 - acc: 0.9481 - val_loss: 0.3442 - val_acc: 0.8752\n",
            "Epoch 9/10\n",
            "157/157 [==============================] - 5s 30ms/step - loss: 0.1348 - acc: 0.9536 - val_loss: 0.4395 - val_acc: 0.8684\n",
            "Epoch 10/10\n",
            "157/157 [==============================] - 6s 38ms/step - loss: 0.1217 - acc: 0.9596 - val_loss: 0.3665 - val_acc: 0.8754\n"
          ]
        }
      ]
    },
    {
      "cell_type": "code",
      "source": [
        "!jupyter nbconvert --to html keras_LSTM_IMDB_Sentiment_analysis.ipynb"
      ],
      "metadata": {
        "id": "msE_Ucznr_wm"
      },
      "execution_count": null,
      "outputs": []
    }
  ]
}