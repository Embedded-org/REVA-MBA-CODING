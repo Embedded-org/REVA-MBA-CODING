{
  "nbformat": 4,
  "nbformat_minor": 0,
  "metadata": {
    "colab": {
      "provenance": []
    },
    "kernelspec": {
      "name": "python3",
      "display_name": "Python 3"
    },
    "language_info": {
      "name": "python"
    },
    "gpuClass": "standard",
    "accelerator": "GPU"
  },
  "cells": [
    {
      "cell_type": "code",
      "execution_count": 2,
      "metadata": {
        "id": "JM221fOIobqO"
      },
      "outputs": [],
      "source": [
        "#!pip install transformers"
      ]
    },
    {
      "cell_type": "code",
      "source": [
        "from transformers import pipeline"
      ],
      "metadata": {
        "id": "j6drKJRyp8J0"
      },
      "execution_count": 23,
      "outputs": []
    },
    {
      "cell_type": "markdown",
      "source": [
        "#zero-shot sequence classifiers\n",
        "\n",
        "Yin et al. proposed a method for using pre-trained NLI models as a ready-made zero-shot sequence classifiers. The method works by posing the sequence to be classified as the NLI premise and to construct a hypothesis from each candidate label."
      ],
      "metadata": {
        "id": "UXx5bgu_jrKC"
      }
    },
    {
      "cell_type": "code",
      "source": [
        "classifier = pipeline(\"zero-shot-classification\",model=\"facebook/bart-large-mnli\")"
      ],
      "metadata": {
        "id": "xqwdJpt0qNm5"
      },
      "execution_count": 24,
      "outputs": []
    },
    {
      "cell_type": "markdown",
      "source": [
        "#zero-shot classification method:\n",
        "It is surprisingly effective in many cases, particularly when used with larger pre-trained models like BART and Roberta. \n",
        "\n",
        "Here,we are using this model for zero-shot classification with Hugging Face's built-in pipeline"
      ],
      "metadata": {
        "id": "Zv_bfgtKj4sr"
      }
    },
    {
      "cell_type": "code",
      "source": [
        "import pandas as pd"
      ],
      "metadata": {
        "id": "EJqogsBatfwi"
      },
      "execution_count": 25,
      "outputs": []
    },
    {
      "cell_type": "code",
      "source": [
        "from google.colab import drive\n",
        "drive.mount('/content/drive')"
      ],
      "metadata": {
        "colab": {
          "base_uri": "https://localhost:8080/"
        },
        "id": "6eCM5c_5nsV7",
        "outputId": "666b9c88-8486-403c-fd89-8e75bc6a01c4"
      },
      "execution_count": 6,
      "outputs": [
        {
          "output_type": "stream",
          "name": "stdout",
          "text": [
            "Mounted at /content/drive\n"
          ]
        }
      ]
    },
    {
      "cell_type": "code",
      "source": [
        "df = pd.read_csv('/content/drive/MyDrive/Colab_Notebooks/SECONDYEAR_TRIMESTER4_Module03_deep-learning-applications/DAY1_APPLICATION_OF_DEEP_LEARNING/amazon_review.csv')"
      ],
      "metadata": {
        "id": "SbAGq5i7n0f-"
      },
      "execution_count": 26,
      "outputs": []
    },
    {
      "cell_type": "code",
      "source": [
        "df.head(5)"
      ],
      "metadata": {
        "colab": {
          "base_uri": "https://localhost:8080/",
          "height": 206
        },
        "id": "nCB6WUFIn3jH",
        "outputId": "3a7e9003-1bf7-4618-cf5c-9ec622cb03a5"
      },
      "execution_count": 27,
      "outputs": [
        {
          "output_type": "execute_result",
          "data": {
            "text/plain": [
              "   Score                                               Text\n",
              "0      5  I have bought several of the Vitality canned d...\n",
              "1      1  Product arrived labeled as Jumbo Salted Peanut...\n",
              "2      4  This is a confection that has been around a fe...\n",
              "3      2  If you are looking for the secret ingredient i...\n",
              "4      5  Great taffy at a great price.  There was a wid..."
            ],
            "text/html": [
              "\n",
              "  <div id=\"df-796ac546-747b-4920-b497-588cac6a4dc0\">\n",
              "    <div class=\"colab-df-container\">\n",
              "      <div>\n",
              "<style scoped>\n",
              "    .dataframe tbody tr th:only-of-type {\n",
              "        vertical-align: middle;\n",
              "    }\n",
              "\n",
              "    .dataframe tbody tr th {\n",
              "        vertical-align: top;\n",
              "    }\n",
              "\n",
              "    .dataframe thead th {\n",
              "        text-align: right;\n",
              "    }\n",
              "</style>\n",
              "<table border=\"1\" class=\"dataframe\">\n",
              "  <thead>\n",
              "    <tr style=\"text-align: right;\">\n",
              "      <th></th>\n",
              "      <th>Score</th>\n",
              "      <th>Text</th>\n",
              "    </tr>\n",
              "  </thead>\n",
              "  <tbody>\n",
              "    <tr>\n",
              "      <th>0</th>\n",
              "      <td>5</td>\n",
              "      <td>I have bought several of the Vitality canned d...</td>\n",
              "    </tr>\n",
              "    <tr>\n",
              "      <th>1</th>\n",
              "      <td>1</td>\n",
              "      <td>Product arrived labeled as Jumbo Salted Peanut...</td>\n",
              "    </tr>\n",
              "    <tr>\n",
              "      <th>2</th>\n",
              "      <td>4</td>\n",
              "      <td>This is a confection that has been around a fe...</td>\n",
              "    </tr>\n",
              "    <tr>\n",
              "      <th>3</th>\n",
              "      <td>2</td>\n",
              "      <td>If you are looking for the secret ingredient i...</td>\n",
              "    </tr>\n",
              "    <tr>\n",
              "      <th>4</th>\n",
              "      <td>5</td>\n",
              "      <td>Great taffy at a great price.  There was a wid...</td>\n",
              "    </tr>\n",
              "  </tbody>\n",
              "</table>\n",
              "</div>\n",
              "      <button class=\"colab-df-convert\" onclick=\"convertToInteractive('df-796ac546-747b-4920-b497-588cac6a4dc0')\"\n",
              "              title=\"Convert this dataframe to an interactive table.\"\n",
              "              style=\"display:none;\">\n",
              "        \n",
              "  <svg xmlns=\"http://www.w3.org/2000/svg\" height=\"24px\"viewBox=\"0 0 24 24\"\n",
              "       width=\"24px\">\n",
              "    <path d=\"M0 0h24v24H0V0z\" fill=\"none\"/>\n",
              "    <path d=\"M18.56 5.44l.94 2.06.94-2.06 2.06-.94-2.06-.94-.94-2.06-.94 2.06-2.06.94zm-11 1L8.5 8.5l.94-2.06 2.06-.94-2.06-.94L8.5 2.5l-.94 2.06-2.06.94zm10 10l.94 2.06.94-2.06 2.06-.94-2.06-.94-.94-2.06-.94 2.06-2.06.94z\"/><path d=\"M17.41 7.96l-1.37-1.37c-.4-.4-.92-.59-1.43-.59-.52 0-1.04.2-1.43.59L10.3 9.45l-7.72 7.72c-.78.78-.78 2.05 0 2.83L4 21.41c.39.39.9.59 1.41.59.51 0 1.02-.2 1.41-.59l7.78-7.78 2.81-2.81c.8-.78.8-2.07 0-2.86zM5.41 20L4 18.59l7.72-7.72 1.47 1.35L5.41 20z\"/>\n",
              "  </svg>\n",
              "      </button>\n",
              "      \n",
              "  <style>\n",
              "    .colab-df-container {\n",
              "      display:flex;\n",
              "      flex-wrap:wrap;\n",
              "      gap: 12px;\n",
              "    }\n",
              "\n",
              "    .colab-df-convert {\n",
              "      background-color: #E8F0FE;\n",
              "      border: none;\n",
              "      border-radius: 50%;\n",
              "      cursor: pointer;\n",
              "      display: none;\n",
              "      fill: #1967D2;\n",
              "      height: 32px;\n",
              "      padding: 0 0 0 0;\n",
              "      width: 32px;\n",
              "    }\n",
              "\n",
              "    .colab-df-convert:hover {\n",
              "      background-color: #E2EBFA;\n",
              "      box-shadow: 0px 1px 2px rgba(60, 64, 67, 0.3), 0px 1px 3px 1px rgba(60, 64, 67, 0.15);\n",
              "      fill: #174EA6;\n",
              "    }\n",
              "\n",
              "    [theme=dark] .colab-df-convert {\n",
              "      background-color: #3B4455;\n",
              "      fill: #D2E3FC;\n",
              "    }\n",
              "\n",
              "    [theme=dark] .colab-df-convert:hover {\n",
              "      background-color: #434B5C;\n",
              "      box-shadow: 0px 1px 3px 1px rgba(0, 0, 0, 0.15);\n",
              "      filter: drop-shadow(0px 1px 2px rgba(0, 0, 0, 0.3));\n",
              "      fill: #FFFFFF;\n",
              "    }\n",
              "  </style>\n",
              "\n",
              "      <script>\n",
              "        const buttonEl =\n",
              "          document.querySelector('#df-796ac546-747b-4920-b497-588cac6a4dc0 button.colab-df-convert');\n",
              "        buttonEl.style.display =\n",
              "          google.colab.kernel.accessAllowed ? 'block' : 'none';\n",
              "\n",
              "        async function convertToInteractive(key) {\n",
              "          const element = document.querySelector('#df-796ac546-747b-4920-b497-588cac6a4dc0');\n",
              "          const dataTable =\n",
              "            await google.colab.kernel.invokeFunction('convertToInteractive',\n",
              "                                                     [key], {});\n",
              "          if (!dataTable) return;\n",
              "\n",
              "          const docLinkHtml = 'Like what you see? Visit the ' +\n",
              "            '<a target=\"_blank\" href=https://colab.research.google.com/notebooks/data_table.ipynb>data table notebook</a>'\n",
              "            + ' to learn more about interactive tables.';\n",
              "          element.innerHTML = '';\n",
              "          dataTable['output_type'] = 'display_data';\n",
              "          await google.colab.output.renderOutput(dataTable, element);\n",
              "          const docLink = document.createElement('div');\n",
              "          docLink.innerHTML = docLinkHtml;\n",
              "          element.appendChild(docLink);\n",
              "        }\n",
              "      </script>\n",
              "    </div>\n",
              "  </div>\n",
              "  "
            ]
          },
          "metadata": {},
          "execution_count": 27
        }
      ]
    },
    {
      "cell_type": "code",
      "source": [
        "df=df[(df.Score == 1) | (df.Score == 5)]"
      ],
      "metadata": {
        "id": "EBsUUOhnpmf7"
      },
      "execution_count": 28,
      "outputs": []
    },
    {
      "cell_type": "code",
      "source": [
        "df.head(5)"
      ],
      "metadata": {
        "colab": {
          "base_uri": "https://localhost:8080/",
          "height": 206
        },
        "id": "HuNBQJYzqOS1",
        "outputId": "0bdeab85-221e-4712-a08b-6ba24038152c"
      },
      "execution_count": 29,
      "outputs": [
        {
          "output_type": "execute_result",
          "data": {
            "text/plain": [
              "   Score                                               Text\n",
              "0      5  I have bought several of the Vitality canned d...\n",
              "1      1  Product arrived labeled as Jumbo Salted Peanut...\n",
              "4      5  Great taffy at a great price.  There was a wid...\n",
              "6      5  This saltwater taffy had great flavors and was...\n",
              "7      5  This taffy is so good.  It is very soft and ch..."
            ],
            "text/html": [
              "\n",
              "  <div id=\"df-61b63e6a-dcc0-474a-8663-52cfbe7d3b70\">\n",
              "    <div class=\"colab-df-container\">\n",
              "      <div>\n",
              "<style scoped>\n",
              "    .dataframe tbody tr th:only-of-type {\n",
              "        vertical-align: middle;\n",
              "    }\n",
              "\n",
              "    .dataframe tbody tr th {\n",
              "        vertical-align: top;\n",
              "    }\n",
              "\n",
              "    .dataframe thead th {\n",
              "        text-align: right;\n",
              "    }\n",
              "</style>\n",
              "<table border=\"1\" class=\"dataframe\">\n",
              "  <thead>\n",
              "    <tr style=\"text-align: right;\">\n",
              "      <th></th>\n",
              "      <th>Score</th>\n",
              "      <th>Text</th>\n",
              "    </tr>\n",
              "  </thead>\n",
              "  <tbody>\n",
              "    <tr>\n",
              "      <th>0</th>\n",
              "      <td>5</td>\n",
              "      <td>I have bought several of the Vitality canned d...</td>\n",
              "    </tr>\n",
              "    <tr>\n",
              "      <th>1</th>\n",
              "      <td>1</td>\n",
              "      <td>Product arrived labeled as Jumbo Salted Peanut...</td>\n",
              "    </tr>\n",
              "    <tr>\n",
              "      <th>4</th>\n",
              "      <td>5</td>\n",
              "      <td>Great taffy at a great price.  There was a wid...</td>\n",
              "    </tr>\n",
              "    <tr>\n",
              "      <th>6</th>\n",
              "      <td>5</td>\n",
              "      <td>This saltwater taffy had great flavors and was...</td>\n",
              "    </tr>\n",
              "    <tr>\n",
              "      <th>7</th>\n",
              "      <td>5</td>\n",
              "      <td>This taffy is so good.  It is very soft and ch...</td>\n",
              "    </tr>\n",
              "  </tbody>\n",
              "</table>\n",
              "</div>\n",
              "      <button class=\"colab-df-convert\" onclick=\"convertToInteractive('df-61b63e6a-dcc0-474a-8663-52cfbe7d3b70')\"\n",
              "              title=\"Convert this dataframe to an interactive table.\"\n",
              "              style=\"display:none;\">\n",
              "        \n",
              "  <svg xmlns=\"http://www.w3.org/2000/svg\" height=\"24px\"viewBox=\"0 0 24 24\"\n",
              "       width=\"24px\">\n",
              "    <path d=\"M0 0h24v24H0V0z\" fill=\"none\"/>\n",
              "    <path d=\"M18.56 5.44l.94 2.06.94-2.06 2.06-.94-2.06-.94-.94-2.06-.94 2.06-2.06.94zm-11 1L8.5 8.5l.94-2.06 2.06-.94-2.06-.94L8.5 2.5l-.94 2.06-2.06.94zm10 10l.94 2.06.94-2.06 2.06-.94-2.06-.94-.94-2.06-.94 2.06-2.06.94z\"/><path d=\"M17.41 7.96l-1.37-1.37c-.4-.4-.92-.59-1.43-.59-.52 0-1.04.2-1.43.59L10.3 9.45l-7.72 7.72c-.78.78-.78 2.05 0 2.83L4 21.41c.39.39.9.59 1.41.59.51 0 1.02-.2 1.41-.59l7.78-7.78 2.81-2.81c.8-.78.8-2.07 0-2.86zM5.41 20L4 18.59l7.72-7.72 1.47 1.35L5.41 20z\"/>\n",
              "  </svg>\n",
              "      </button>\n",
              "      \n",
              "  <style>\n",
              "    .colab-df-container {\n",
              "      display:flex;\n",
              "      flex-wrap:wrap;\n",
              "      gap: 12px;\n",
              "    }\n",
              "\n",
              "    .colab-df-convert {\n",
              "      background-color: #E8F0FE;\n",
              "      border: none;\n",
              "      border-radius: 50%;\n",
              "      cursor: pointer;\n",
              "      display: none;\n",
              "      fill: #1967D2;\n",
              "      height: 32px;\n",
              "      padding: 0 0 0 0;\n",
              "      width: 32px;\n",
              "    }\n",
              "\n",
              "    .colab-df-convert:hover {\n",
              "      background-color: #E2EBFA;\n",
              "      box-shadow: 0px 1px 2px rgba(60, 64, 67, 0.3), 0px 1px 3px 1px rgba(60, 64, 67, 0.15);\n",
              "      fill: #174EA6;\n",
              "    }\n",
              "\n",
              "    [theme=dark] .colab-df-convert {\n",
              "      background-color: #3B4455;\n",
              "      fill: #D2E3FC;\n",
              "    }\n",
              "\n",
              "    [theme=dark] .colab-df-convert:hover {\n",
              "      background-color: #434B5C;\n",
              "      box-shadow: 0px 1px 3px 1px rgba(0, 0, 0, 0.15);\n",
              "      filter: drop-shadow(0px 1px 2px rgba(0, 0, 0, 0.3));\n",
              "      fill: #FFFFFF;\n",
              "    }\n",
              "  </style>\n",
              "\n",
              "      <script>\n",
              "        const buttonEl =\n",
              "          document.querySelector('#df-61b63e6a-dcc0-474a-8663-52cfbe7d3b70 button.colab-df-convert');\n",
              "        buttonEl.style.display =\n",
              "          google.colab.kernel.accessAllowed ? 'block' : 'none';\n",
              "\n",
              "        async function convertToInteractive(key) {\n",
              "          const element = document.querySelector('#df-61b63e6a-dcc0-474a-8663-52cfbe7d3b70');\n",
              "          const dataTable =\n",
              "            await google.colab.kernel.invokeFunction('convertToInteractive',\n",
              "                                                     [key], {});\n",
              "          if (!dataTable) return;\n",
              "\n",
              "          const docLinkHtml = 'Like what you see? Visit the ' +\n",
              "            '<a target=\"_blank\" href=https://colab.research.google.com/notebooks/data_table.ipynb>data table notebook</a>'\n",
              "            + ' to learn more about interactive tables.';\n",
              "          element.innerHTML = '';\n",
              "          dataTable['output_type'] = 'display_data';\n",
              "          await google.colab.output.renderOutput(dataTable, element);\n",
              "          const docLink = document.createElement('div');\n",
              "          docLink.innerHTML = docLinkHtml;\n",
              "          element.appendChild(docLink);\n",
              "        }\n",
              "      </script>\n",
              "    </div>\n",
              "  </div>\n",
              "  "
            ]
          },
          "metadata": {},
          "execution_count": 29
        }
      ]
    },
    {
      "cell_type": "code",
      "source": [
        "df.Score = df.Score.replace(5,'Excellent,Awesome,great,outstanding,brilliant')\n",
        "df.Score = df.Score.replace(1,'bad,poor,unworthy,below average,unsatisfactory')"
      ],
      "metadata": {
        "id": "B7BhBd8KVV9P"
      },
      "execution_count": 30,
      "outputs": []
    },
    {
      "cell_type": "code",
      "source": [
        "df.head(5)"
      ],
      "metadata": {
        "colab": {
          "base_uri": "https://localhost:8080/",
          "height": 206
        },
        "id": "IciCqRTuqne9",
        "outputId": "d9260683-04f2-44a2-c67f-3462c8c8ed0b"
      },
      "execution_count": 31,
      "outputs": [
        {
          "output_type": "execute_result",
          "data": {
            "text/plain": [
              "                                            Score  \\\n",
              "0   Excellent,Awesome,great,outstanding,brilliant   \n",
              "1  bad,poor,unworthy,below average,unsatisfactory   \n",
              "4   Excellent,Awesome,great,outstanding,brilliant   \n",
              "6   Excellent,Awesome,great,outstanding,brilliant   \n",
              "7   Excellent,Awesome,great,outstanding,brilliant   \n",
              "\n",
              "                                                Text  \n",
              "0  I have bought several of the Vitality canned d...  \n",
              "1  Product arrived labeled as Jumbo Salted Peanut...  \n",
              "4  Great taffy at a great price.  There was a wid...  \n",
              "6  This saltwater taffy had great flavors and was...  \n",
              "7  This taffy is so good.  It is very soft and ch...  "
            ],
            "text/html": [
              "\n",
              "  <div id=\"df-7f302a4b-7060-4e3f-8f46-3ea007dde4db\">\n",
              "    <div class=\"colab-df-container\">\n",
              "      <div>\n",
              "<style scoped>\n",
              "    .dataframe tbody tr th:only-of-type {\n",
              "        vertical-align: middle;\n",
              "    }\n",
              "\n",
              "    .dataframe tbody tr th {\n",
              "        vertical-align: top;\n",
              "    }\n",
              "\n",
              "    .dataframe thead th {\n",
              "        text-align: right;\n",
              "    }\n",
              "</style>\n",
              "<table border=\"1\" class=\"dataframe\">\n",
              "  <thead>\n",
              "    <tr style=\"text-align: right;\">\n",
              "      <th></th>\n",
              "      <th>Score</th>\n",
              "      <th>Text</th>\n",
              "    </tr>\n",
              "  </thead>\n",
              "  <tbody>\n",
              "    <tr>\n",
              "      <th>0</th>\n",
              "      <td>Excellent,Awesome,great,outstanding,brilliant</td>\n",
              "      <td>I have bought several of the Vitality canned d...</td>\n",
              "    </tr>\n",
              "    <tr>\n",
              "      <th>1</th>\n",
              "      <td>bad,poor,unworthy,below average,unsatisfactory</td>\n",
              "      <td>Product arrived labeled as Jumbo Salted Peanut...</td>\n",
              "    </tr>\n",
              "    <tr>\n",
              "      <th>4</th>\n",
              "      <td>Excellent,Awesome,great,outstanding,brilliant</td>\n",
              "      <td>Great taffy at a great price.  There was a wid...</td>\n",
              "    </tr>\n",
              "    <tr>\n",
              "      <th>6</th>\n",
              "      <td>Excellent,Awesome,great,outstanding,brilliant</td>\n",
              "      <td>This saltwater taffy had great flavors and was...</td>\n",
              "    </tr>\n",
              "    <tr>\n",
              "      <th>7</th>\n",
              "      <td>Excellent,Awesome,great,outstanding,brilliant</td>\n",
              "      <td>This taffy is so good.  It is very soft and ch...</td>\n",
              "    </tr>\n",
              "  </tbody>\n",
              "</table>\n",
              "</div>\n",
              "      <button class=\"colab-df-convert\" onclick=\"convertToInteractive('df-7f302a4b-7060-4e3f-8f46-3ea007dde4db')\"\n",
              "              title=\"Convert this dataframe to an interactive table.\"\n",
              "              style=\"display:none;\">\n",
              "        \n",
              "  <svg xmlns=\"http://www.w3.org/2000/svg\" height=\"24px\"viewBox=\"0 0 24 24\"\n",
              "       width=\"24px\">\n",
              "    <path d=\"M0 0h24v24H0V0z\" fill=\"none\"/>\n",
              "    <path d=\"M18.56 5.44l.94 2.06.94-2.06 2.06-.94-2.06-.94-.94-2.06-.94 2.06-2.06.94zm-11 1L8.5 8.5l.94-2.06 2.06-.94-2.06-.94L8.5 2.5l-.94 2.06-2.06.94zm10 10l.94 2.06.94-2.06 2.06-.94-2.06-.94-.94-2.06-.94 2.06-2.06.94z\"/><path d=\"M17.41 7.96l-1.37-1.37c-.4-.4-.92-.59-1.43-.59-.52 0-1.04.2-1.43.59L10.3 9.45l-7.72 7.72c-.78.78-.78 2.05 0 2.83L4 21.41c.39.39.9.59 1.41.59.51 0 1.02-.2 1.41-.59l7.78-7.78 2.81-2.81c.8-.78.8-2.07 0-2.86zM5.41 20L4 18.59l7.72-7.72 1.47 1.35L5.41 20z\"/>\n",
              "  </svg>\n",
              "      </button>\n",
              "      \n",
              "  <style>\n",
              "    .colab-df-container {\n",
              "      display:flex;\n",
              "      flex-wrap:wrap;\n",
              "      gap: 12px;\n",
              "    }\n",
              "\n",
              "    .colab-df-convert {\n",
              "      background-color: #E8F0FE;\n",
              "      border: none;\n",
              "      border-radius: 50%;\n",
              "      cursor: pointer;\n",
              "      display: none;\n",
              "      fill: #1967D2;\n",
              "      height: 32px;\n",
              "      padding: 0 0 0 0;\n",
              "      width: 32px;\n",
              "    }\n",
              "\n",
              "    .colab-df-convert:hover {\n",
              "      background-color: #E2EBFA;\n",
              "      box-shadow: 0px 1px 2px rgba(60, 64, 67, 0.3), 0px 1px 3px 1px rgba(60, 64, 67, 0.15);\n",
              "      fill: #174EA6;\n",
              "    }\n",
              "\n",
              "    [theme=dark] .colab-df-convert {\n",
              "      background-color: #3B4455;\n",
              "      fill: #D2E3FC;\n",
              "    }\n",
              "\n",
              "    [theme=dark] .colab-df-convert:hover {\n",
              "      background-color: #434B5C;\n",
              "      box-shadow: 0px 1px 3px 1px rgba(0, 0, 0, 0.15);\n",
              "      filter: drop-shadow(0px 1px 2px rgba(0, 0, 0, 0.3));\n",
              "      fill: #FFFFFF;\n",
              "    }\n",
              "  </style>\n",
              "\n",
              "      <script>\n",
              "        const buttonEl =\n",
              "          document.querySelector('#df-7f302a4b-7060-4e3f-8f46-3ea007dde4db button.colab-df-convert');\n",
              "        buttonEl.style.display =\n",
              "          google.colab.kernel.accessAllowed ? 'block' : 'none';\n",
              "\n",
              "        async function convertToInteractive(key) {\n",
              "          const element = document.querySelector('#df-7f302a4b-7060-4e3f-8f46-3ea007dde4db');\n",
              "          const dataTable =\n",
              "            await google.colab.kernel.invokeFunction('convertToInteractive',\n",
              "                                                     [key], {});\n",
              "          if (!dataTable) return;\n",
              "\n",
              "          const docLinkHtml = 'Like what you see? Visit the ' +\n",
              "            '<a target=\"_blank\" href=https://colab.research.google.com/notebooks/data_table.ipynb>data table notebook</a>'\n",
              "            + ' to learn more about interactive tables.';\n",
              "          element.innerHTML = '';\n",
              "          dataTable['output_type'] = 'display_data';\n",
              "          await google.colab.output.renderOutput(dataTable, element);\n",
              "          const docLink = document.createElement('div');\n",
              "          docLink.innerHTML = docLinkHtml;\n",
              "          element.appendChild(docLink);\n",
              "        }\n",
              "      </script>\n",
              "    </div>\n",
              "  </div>\n",
              "  "
            ]
          },
          "metadata": {},
          "execution_count": 31
        }
      ]
    },
    {
      "cell_type": "code",
      "source": [
        "df['Score'].unique()"
      ],
      "metadata": {
        "colab": {
          "base_uri": "https://localhost:8080/"
        },
        "id": "98FcHQAbq3S5",
        "outputId": "1aeeaeb7-dbd1-4a62-c868-9aae8951fb0d"
      },
      "execution_count": 32,
      "outputs": [
        {
          "output_type": "execute_result",
          "data": {
            "text/plain": [
              "array(['Excellent,Awesome,great,outstanding,brilliant',\n",
              "       'bad,poor,unworthy,below average,unsatisfactory'], dtype=object)"
            ]
          },
          "metadata": {},
          "execution_count": 32
        }
      ]
    },
    {
      "cell_type": "code",
      "source": [
        "df.shape"
      ],
      "metadata": {
        "colab": {
          "base_uri": "https://localhost:8080/"
        },
        "id": "7kcJVnnDsMsN",
        "outputId": "7db72c04-4656-420f-fd4a-cfc7b4af0868"
      },
      "execution_count": 33,
      "outputs": [
        {
          "output_type": "execute_result",
          "data": {
            "text/plain": [
              "(409871, 2)"
            ]
          },
          "metadata": {},
          "execution_count": 33
        }
      ]
    },
    {
      "cell_type": "code",
      "source": [
        "amazon_db = df.sample(frac =.00025)"
      ],
      "metadata": {
        "id": "JpG9rKAZqmhq"
      },
      "execution_count": 34,
      "outputs": []
    },
    {
      "cell_type": "code",
      "source": [
        "amazon_db.shape"
      ],
      "metadata": {
        "colab": {
          "base_uri": "https://localhost:8080/"
        },
        "id": "EGLuhY1Qrvp2",
        "outputId": "fb25c81c-2f7e-4745-f0fa-3c41be049cf0"
      },
      "execution_count": 35,
      "outputs": [
        {
          "output_type": "execute_result",
          "data": {
            "text/plain": [
              "(102, 2)"
            ]
          },
          "metadata": {},
          "execution_count": 35
        }
      ]
    },
    {
      "cell_type": "code",
      "source": [
        "sequences=amazon_db['Text']"
      ],
      "metadata": {
        "id": "cCpbXR5puxSg"
      },
      "execution_count": 36,
      "outputs": []
    },
    {
      "cell_type": "code",
      "source": [
        "Score_list = amazon_db['Score'].tolist()\n",
        "genlist=[]\n",
        "for k in range(0,100):\n",
        "  x = Score_list[k].split(\",\")\n",
        "  for i in x:\n",
        "    genlist.append(i)\n",
        "set_Genre = set(genlist)\n",
        "genre = (list(set_Genre))"
      ],
      "metadata": {
        "id": "Gb28knERysKn"
      },
      "execution_count": 37,
      "outputs": []
    },
    {
      "cell_type": "markdown",
      "source": [
        "#Applying Zero Shot Text Classification Model on IMDB-Movie-Data Dataset:\n",
        "\n",
        "we will collect first 100 rows of IMDB-Movie-Data Dataset and\n",
        "use Zero Shot Text Classification Model on the “Description” Field to predict the “Genre” Labels."
      ],
      "metadata": {
        "id": "zUmTq-lTkpSn"
      }
    },
    {
      "cell_type": "code",
      "source": [
        "print(genre)"
      ],
      "metadata": {
        "colab": {
          "base_uri": "https://localhost:8080/"
        },
        "id": "vjaBVJ1Wxuar",
        "outputId": "5a1d4113-2668-44b8-fcde-bf4ea2a72e21"
      },
      "execution_count": 38,
      "outputs": [
        {
          "output_type": "stream",
          "name": "stdout",
          "text": [
            "['great', 'bad', 'unsatisfactory', 'Excellent', 'poor', 'below average', 'brilliant', 'Awesome', 'outstanding', 'unworthy']\n"
          ]
        }
      ]
    },
    {
      "cell_type": "code",
      "source": [
        "sequences[0:5]"
      ],
      "metadata": {
        "colab": {
          "base_uri": "https://localhost:8080/"
        },
        "id": "xrv4LabD3zJT",
        "outputId": "365a93cb-233a-4043-b9e9-ac258ed54917"
      },
      "execution_count": 39,
      "outputs": [
        {
          "output_type": "execute_result",
          "data": {
            "text/plain": [
              "318086    I love this tea.  It has great flavor.  It rea...\n",
              "378558    My wife likes the lower acidity of this coffee...\n",
              "87517     Nespresso makes GREAT coffee and GREAT machine...\n",
              "15369     OK...I's serious here. If you like Cajun food ...\n",
              "5505      I just picked this up at my local grocery stor...\n",
              "Name: Text, dtype: object"
            ]
          },
          "metadata": {},
          "execution_count": 39
        }
      ]
    },
    {
      "cell_type": "markdown",
      "source": [
        "#predicting the “Genre” Labels"
      ],
      "metadata": {
        "id": "JvPEvZkrmlEt"
      }
    },
    {
      "cell_type": "code",
      "source": [
        "x=[]\n",
        "j=0\n",
        "for i in sequences:\n",
        "  x.append(classifier(i,genre,multi_label=True))\n",
        "  if(j<10):\n",
        "    print(x[j])\n",
        "  j=j+1\n",
        "with open(\"classification_100.txt\",\"w\")as file1:\n",
        "  file1.write(str(x))\n",
        "file1.close()"
      ],
      "metadata": {
        "colab": {
          "base_uri": "https://localhost:8080/"
        },
        "id": "RUanhb3K36nj",
        "outputId": "7ff8e388-6912-4f00-9da0-f651fe37386a"
      },
      "execution_count": 42,
      "outputs": [
        {
          "output_type": "stream",
          "name": "stdout",
          "text": [
            "{'sequence': \"I love this tea.  It has great flavor.  It really beats all the tea bags I've been using.  Add some fruit while brewing for extra flavor.\", 'labels': ['outstanding', 'great', 'Excellent', 'brilliant', 'Awesome', 'below average', 'unworthy', 'poor', 'bad', 'unsatisfactory'], 'scores': [0.9987502694129944, 0.9982247352600098, 0.9972559213638306, 0.9945630431175232, 0.9938384890556335, 0.0009115230641327798, 0.0004369163070805371, 0.00041845536907203496, 0.00041059424984268844, 0.00013638348900713027]}\n",
            "{'sequence': 'My wife likes the lower acidity of this coffee and the flavor is good. This was the best price I have found for this coffee as well which is a bonus. If higher acidity coffees impact you unfavorably I recommend trying this brand.', 'labels': ['great', 'Excellent', 'outstanding', 'Awesome', 'brilliant', 'below average', 'bad', 'unworthy', 'poor', 'unsatisfactory'], 'scores': [0.9765316843986511, 0.9220234155654907, 0.8609794974327087, 0.8419145345687866, 0.6349940896034241, 0.04318013787269592, 0.0007196404039859772, 0.000655698066111654, 0.0006031536613591015, 0.00047217810060828924]}\n",
            "{'sequence': 'Nespresso makes GREAT coffee and GREAT machines. I switched over to a Nespresso machine 7 years ago and have never looked back. I save a small fortune every year by making my lattes at home.<br /><br />That being said, the Nespresso capsule offers posted here are from a third party who is putting a large additional margin on their price.<br /><br />You can order the same products online from Nespresso for approx $0.55 each (half the price here).', 'labels': ['below average', 'Excellent', 'Awesome', 'great', 'outstanding', 'bad', 'unworthy', 'unsatisfactory', 'brilliant', 'poor'], 'scores': [0.8745617866516113, 0.21119999885559082, 0.16748031973838806, 0.1576017290353775, 0.09451302886009216, 0.09064723551273346, 0.07551176846027374, 0.04067477211356163, 0.037967704236507416, 0.03098817728459835]}\n",
            "{'sequence': \"OK...I's serious here. If you like Cajun food or even if you don't, you really need all of his seasoning blends in your pantry.  He's now got a special seasoning for just about everything and I've yet to run across one that was not tasty in the extreme.<br /><br />Also, you should order a gallon of his hot sauce.  It's the most flavorful hot sauce I have ever tried and it's not so hot that you can't eat what you put on it.<br /><br />If the US Government operated like he does, we might actually have a good news day once in awhile.\", 'labels': ['outstanding', 'great', 'Excellent', 'Awesome', 'brilliant', 'below average', 'bad', 'poor', 'unworthy', 'unsatisfactory'], 'scores': [0.97831791639328, 0.9580498337745667, 0.956838846206665, 0.9185155034065247, 0.8735669255256653, 0.6550609469413757, 0.06773965060710907, 0.038573190569877625, 0.020647350698709488, 0.010778368450701237]}\n",
            "{'sequence': 'I just picked this up at my local grocery store because it was the only organic brown rice they had and I was pleasantly surprised! It cooks really well, not sticky at all (I use a bit of coconut oil and cook it in organic vegetable broth.) Tastes great! I am not typically a brown rice lover but this kind was really good. My kids and husband ate it and asked for seconds as well.  Was delighted to see it on Amazon and for such a great price with subscribe and save!', 'labels': ['great', 'outstanding', 'Excellent', 'brilliant', 'Awesome', 'below average', 'unworthy', 'bad', 'unsatisfactory', 'poor'], 'scores': [0.7608758807182312, 0.7473025918006897, 0.6282811164855957, 0.5400665998458862, 0.47367289662361145, 0.001063066185452044, 0.00035173972719348967, 0.00012771993351634592, 0.00011789696873165667, 0.00011459796951385215]}\n",
            "{'sequence': \"Sahale snacks are so yummy! Cashews are my favourite. Great price buying through Amazon especially if you get the 'subscription'. Seems though the option of getting the Cashews and Almonds varieties in one shipment no longer is an option.\", 'labels': ['great', 'outstanding', 'Excellent', 'Awesome', 'brilliant', 'below average', 'bad', 'unworthy', 'poor', 'unsatisfactory'], 'scores': [0.9556258320808411, 0.9544000029563904, 0.9198513031005859, 0.8876946568489075, 0.8318697810173035, 0.0082566998898983, 0.0032849174458533525, 0.002399585908278823, 0.001670542173087597, 0.0009126937948167324]}\n",
            "{'sequence': 'The cookies were delicious, chrisp and whole. I can only say they did not last long.  Pepperidge Farm Mint Milano is the only cookie I realy enjoy and would eat a lot off.  The others, even in Peppridge Farm I would only eat one or two.  But I have found that the Mint Milano is hard to get.  Pepperidge Farm should try selling in Canada and Jamaica,  West Indies.  I actually live in Jamaica, W.I. and can not get Mint Milano there so I either ask friends to buy it for me or buy it on line.  Would recommend this cookie for all those people that like a lite combination of mint and chocolate.', 'labels': ['outstanding', 'Excellent', 'great', 'Awesome', 'brilliant', 'below average', 'poor', 'bad', 'unworthy', 'unsatisfactory'], 'scores': [0.9875981211662292, 0.9871857762336731, 0.9867933988571167, 0.9560881853103638, 0.823797881603241, 0.1140451580286026, 0.017746759578585625, 0.014536375179886818, 0.00476318271830678, 0.0028814508114010096]}\n",
            "{'sequence': \"The flax seed I try to use everyday, and this was a great price and it is a great thing to add to cereal, or yogurt or muffins.  It is a good source of fiber and omega 3's\", 'labels': ['great', 'Excellent', 'Awesome', 'outstanding', 'brilliant', 'below average', 'bad', 'unworthy', 'poor', 'unsatisfactory'], 'scores': [0.99527907371521, 0.9921844005584717, 0.9723610281944275, 0.9693725109100342, 0.9275329113006592, 0.01778915710747242, 0.0006338264211080968, 0.000556673388928175, 0.00021270383149385452, 0.00018803284910973161]}\n",
            "{'sequence': 'Very pleased with my purchase, and the swiftness with which it was delivered. Also, being able to do it over the computer.', 'labels': ['great', 'outstanding', 'Excellent', 'brilliant', 'Awesome', 'below average', 'bad', 'unworthy', 'unsatisfactory', 'poor'], 'scores': [0.9918725490570068, 0.991840660572052, 0.9897424578666687, 0.966352641582489, 0.9595356583595276, 0.002974927192553878, 0.00048501312267035246, 0.000278917548712343, 0.00027041425346396863, 0.00024581351317465305]}\n",
            "{'sequence': \"Be sure to note that although this shows regular chicken broth, it's actually the one with 1/3 less sodium. This wonderful broth is perfect for the start of any soup. Add a few pasta pieces, some dehydrated vegetables, some dried herbs and spices, and you'll be able to enjoy a tasty, easy-to-prepare, nutritious 'The Grid's Gone Down' meal. Straight from the pantry to the heat to the table in a flash! This price can't be beat either. I'm stocking up on this particular product for all the right reasons.\", 'labels': ['outstanding', 'great', 'Excellent', 'brilliant', 'Awesome', 'below average', 'bad', 'poor', 'unworthy', 'unsatisfactory'], 'scores': [0.9958164095878601, 0.9951562285423279, 0.9827516674995422, 0.9787583947181702, 0.9718164801597595, 0.04475308209657669, 0.0011918845120817423, 0.0003614415181800723, 0.00028223925619386137, 0.0001003009092528373]}\n"
          ]
        }
      ]
    },
    {
      "cell_type": "markdown",
      "source": [
        "# Evaluating prediction probabilities for the first five sequences:\n",
        "\n",
        "predicting the “Genre” Labels,we are listing all scores of different labels for first five sequences and comparing with what is available in Genre_list.we get prediction probabilities of quite many labels as higher than 45% and mostly in the range of 70-90% which is quite satisfactory. "
      ],
      "metadata": {
        "id": "UxjwgXfMlbMU"
      }
    },
    {
      "cell_type": "code",
      "source": [
        "for i in range(0,5):\n",
        "  print(x[i]['sequence'])\n",
        "  print(\"Score_list:\",genre)\n",
        "  loop_len=len(x[i]['labels'])\n",
        "  for j in range(0,loop_len):\n",
        "    if(x[i]['scores'][j]<0.20):\n",
        "      continue\n",
        "    print(x[i]['labels'][j],'.....',x[i]['scores'][j])"
      ],
      "metadata": {
        "colab": {
          "base_uri": "https://localhost:8080/"
        },
        "id": "5v5VQp5B7NK3",
        "outputId": "1030fb92-94ad-4671-d51c-9e1eb1508d90"
      },
      "execution_count": 43,
      "outputs": [
        {
          "output_type": "stream",
          "name": "stdout",
          "text": [
            "I love this tea.  It has great flavor.  It really beats all the tea bags I've been using.  Add some fruit while brewing for extra flavor.\n",
            "Score_list: ['great', 'bad', 'unsatisfactory', 'Excellent', 'poor', 'below average', 'brilliant', 'Awesome', 'outstanding', 'unworthy']\n",
            "outstanding ..... 0.9987502694129944\n",
            "great ..... 0.9982247352600098\n",
            "Excellent ..... 0.9972559213638306\n",
            "brilliant ..... 0.9945630431175232\n",
            "Awesome ..... 0.9938384890556335\n",
            "My wife likes the lower acidity of this coffee and the flavor is good. This was the best price I have found for this coffee as well which is a bonus. If higher acidity coffees impact you unfavorably I recommend trying this brand.\n",
            "Score_list: ['great', 'bad', 'unsatisfactory', 'Excellent', 'poor', 'below average', 'brilliant', 'Awesome', 'outstanding', 'unworthy']\n",
            "great ..... 0.9765316843986511\n",
            "Excellent ..... 0.9220234155654907\n",
            "outstanding ..... 0.8609794974327087\n",
            "Awesome ..... 0.8419145345687866\n",
            "brilliant ..... 0.6349940896034241\n",
            "Nespresso makes GREAT coffee and GREAT machines. I switched over to a Nespresso machine 7 years ago and have never looked back. I save a small fortune every year by making my lattes at home.<br /><br />That being said, the Nespresso capsule offers posted here are from a third party who is putting a large additional margin on their price.<br /><br />You can order the same products online from Nespresso for approx $0.55 each (half the price here).\n",
            "Score_list: ['great', 'bad', 'unsatisfactory', 'Excellent', 'poor', 'below average', 'brilliant', 'Awesome', 'outstanding', 'unworthy']\n",
            "below average ..... 0.8745617866516113\n",
            "Excellent ..... 0.21119999885559082\n",
            "OK...I's serious here. If you like Cajun food or even if you don't, you really need all of his seasoning blends in your pantry.  He's now got a special seasoning for just about everything and I've yet to run across one that was not tasty in the extreme.<br /><br />Also, you should order a gallon of his hot sauce.  It's the most flavorful hot sauce I have ever tried and it's not so hot that you can't eat what you put on it.<br /><br />If the US Government operated like he does, we might actually have a good news day once in awhile.\n",
            "Score_list: ['great', 'bad', 'unsatisfactory', 'Excellent', 'poor', 'below average', 'brilliant', 'Awesome', 'outstanding', 'unworthy']\n",
            "outstanding ..... 0.97831791639328\n",
            "great ..... 0.9580498337745667\n",
            "Excellent ..... 0.956838846206665\n",
            "Awesome ..... 0.9185155034065247\n",
            "brilliant ..... 0.8735669255256653\n",
            "below average ..... 0.6550609469413757\n",
            "I just picked this up at my local grocery store because it was the only organic brown rice they had and I was pleasantly surprised! It cooks really well, not sticky at all (I use a bit of coconut oil and cook it in organic vegetable broth.) Tastes great! I am not typically a brown rice lover but this kind was really good. My kids and husband ate it and asked for seconds as well.  Was delighted to see it on Amazon and for such a great price with subscribe and save!\n",
            "Score_list: ['great', 'bad', 'unsatisfactory', 'Excellent', 'poor', 'below average', 'brilliant', 'Awesome', 'outstanding', 'unworthy']\n",
            "great ..... 0.7608758807182312\n",
            "outstanding ..... 0.7473025918006897\n",
            "Excellent ..... 0.6282811164855957\n",
            "brilliant ..... 0.5400665998458862\n",
            "Awesome ..... 0.47367289662361145\n"
          ]
        }
      ]
    },
    {
      "cell_type": "code",
      "source": [
        "!jupyter nbconvert --to html FB_bart_large_mnli_zero_shot.ipynb"
      ],
      "metadata": {
        "colab": {
          "base_uri": "https://localhost:8080/"
        },
        "id": "OaZHoU1TXInS",
        "outputId": "42e35121-ce2e-411d-aa94-02f2e4549306"
      },
      "execution_count": 40,
      "outputs": [
        {
          "output_type": "stream",
          "name": "stdout",
          "text": [
            "[NbConvertApp] Converting notebook FB_bart_large_mnli_zero_shot.ipynb to html\n",
            "[NbConvertApp] Writing 647626 bytes to FB_bart_large_mnli_zero_shot.html\n"
          ]
        }
      ]
    }
  ]
}