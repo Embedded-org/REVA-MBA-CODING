{
  "nbformat": 4,
  "nbformat_minor": 0,
  "metadata": {
    "colab": {
      "provenance": []
    },
    "kernelspec": {
      "name": "python3",
      "display_name": "Python 3"
    },
    "language_info": {
      "name": "python"
    }
  },
  "cells": [
    {
      "cell_type": "code",
      "execution_count": 1,
      "metadata": {
        "id": "EWQYuR8Njpuc"
      },
      "outputs": [],
      "source": [
        "import os, shutil"
      ]
    },
    {
      "cell_type": "code",
      "source": [
        "from google.colab import drive\n",
        "drive.mount('/content/drive')"
      ],
      "metadata": {
        "colab": {
          "base_uri": "https://localhost:8080/"
        },
        "id": "cv5z_DuRdwll",
        "outputId": "8b59dd2e-2f2b-487f-96be-929776564bef"
      },
      "execution_count": 2,
      "outputs": [
        {
          "output_type": "stream",
          "name": "stdout",
          "text": [
            "Mounted at /content/drive\n"
          ]
        }
      ]
    },
    {
      "cell_type": "code",
      "source": [
        "!rm -rf '/content/cats_vs_dogs_small'\n",
        "!rm -rf '/content/dogs_cats'"
      ],
      "metadata": {
        "id": "faERcKQYfl0S"
      },
      "execution_count": 3,
      "outputs": []
    },
    {
      "cell_type": "code",
      "source": [
        "!unzip -qq '/content/drive/MyDrive/Colab_Notebooks/SECONDYEAR_TRIMESTER4_Module03_deep-learning-applications/DAY3_APPLICATION_OF_DEEP_LEARNING/dogs_cats.zip'"
      ],
      "metadata": {
        "id": "5R1fyEnxfr7F"
      },
      "execution_count": 4,
      "outputs": []
    },
    {
      "cell_type": "markdown",
      "source": [
        "Path to the directory where the original dataset was uncompressed"
      ],
      "metadata": {
        "id": "g3b1EF47j5I9"
      }
    },
    {
      "cell_type": "code",
      "source": [
        "import pathlib\n",
        "original_dataset_dir = pathlib.Path(\"dogs_cats/train\")"
      ],
      "metadata": {
        "id": "Myxv65wBj8J2"
      },
      "execution_count": 6,
      "outputs": []
    },
    {
      "cell_type": "markdown",
      "source": [
        "Directory where you’ll store your smaller dataset"
      ],
      "metadata": {
        "id": "jZHYPtylj_Se"
      }
    },
    {
      "cell_type": "code",
      "source": [
        "base_dir = pathlib.Path(\"cats_vs_dogs_small\")\n",
        "os.mkdir(base_dir)"
      ],
      "metadata": {
        "id": "SWexiDsSkAHs"
      },
      "execution_count": 7,
      "outputs": []
    },
    {
      "cell_type": "markdown",
      "source": [
        "Directories for the training, validation, and test splits"
      ],
      "metadata": {
        "id": "H-3s6HRwkFxH"
      }
    },
    {
      "cell_type": "code",
      "source": [
        "train_dir = os.path.join(base_dir, 'train')\n",
        "os.mkdir(train_dir)\n",
        "validation_dir = os.path.join(base_dir, 'validation')\n",
        "os.mkdir(validation_dir)\n",
        "test_dir = os.path.join(base_dir, 'test')\n",
        "os.mkdir(test_dir)"
      ],
      "metadata": {
        "id": "M1S_YjiSkG1G"
      },
      "execution_count": 8,
      "outputs": []
    },
    {
      "cell_type": "markdown",
      "source": [
        "Directory with training cat pictures"
      ],
      "metadata": {
        "id": "i-FmLHpKkLth"
      }
    },
    {
      "cell_type": "code",
      "source": [
        "train_cats_dir = os.path.join(train_dir, 'cats')\n",
        "os.mkdir(train_cats_dir)"
      ],
      "metadata": {
        "id": "REC8YtlJkO3t"
      },
      "execution_count": 9,
      "outputs": []
    },
    {
      "cell_type": "markdown",
      "source": [
        "Directory with training dog pictures"
      ],
      "metadata": {
        "id": "Lbor4Q1jkRNn"
      }
    },
    {
      "cell_type": "code",
      "source": [
        "train_dogs_dir = os.path.join(train_dir, 'dogs')\n",
        "os.mkdir(train_dogs_dir)"
      ],
      "metadata": {
        "id": "bX_tQ_XSkSD5"
      },
      "execution_count": 10,
      "outputs": []
    },
    {
      "cell_type": "markdown",
      "source": [
        "Directory with validation cat pictures"
      ],
      "metadata": {
        "id": "o2JQqXHokUxW"
      }
    },
    {
      "cell_type": "code",
      "source": [
        "validation_cats_dir = os.path.join(validation_dir, 'cats')\n",
        "os.mkdir(validation_cats_dir)"
      ],
      "metadata": {
        "id": "1-ZKiElIkXjA"
      },
      "execution_count": 11,
      "outputs": []
    },
    {
      "cell_type": "markdown",
      "source": [
        "Directory with validation dog pictures"
      ],
      "metadata": {
        "id": "S-gpVJRjkcMQ"
      }
    },
    {
      "cell_type": "code",
      "source": [
        "validation_dogs_dir = os.path.join(validation_dir, 'dogs')\n",
        "os.mkdir(validation_dogs_dir)"
      ],
      "metadata": {
        "id": "6vqdXEg0kecx"
      },
      "execution_count": 12,
      "outputs": []
    },
    {
      "cell_type": "markdown",
      "source": [
        "Directory with test cat pictures"
      ],
      "metadata": {
        "id": "iaagfbwMkggp"
      }
    },
    {
      "cell_type": "code",
      "source": [
        "test_cats_dir = os.path.join(test_dir, 'cats')\n",
        "os.mkdir(test_cats_dir)"
      ],
      "metadata": {
        "id": "hLuAzDprkhMD"
      },
      "execution_count": 13,
      "outputs": []
    },
    {
      "cell_type": "markdown",
      "source": [
        "Directory with test dog pictures"
      ],
      "metadata": {
        "id": "fD_YXoJLklNW"
      }
    },
    {
      "cell_type": "code",
      "source": [
        "test_dogs_dir = os.path.join(test_dir, 'dogs')\n",
        "os.mkdir(test_dogs_dir)"
      ],
      "metadata": {
        "id": "o9WXwJrGknTZ"
      },
      "execution_count": 14,
      "outputs": []
    },
    {
      "cell_type": "markdown",
      "source": [
        "Copies the first 1,000 cat images to train_cats_dir"
      ],
      "metadata": {
        "id": "xDn6Kl2Akp-2"
      }
    },
    {
      "cell_type": "code",
      "source": [
        "fnames = ['cat.{}.jpg'.format(i) for i in range(1000)]\n",
        "for fname in fnames:\n",
        "    src = os.path.join(original_dataset_dir, fname)\n",
        "    dst = os.path.join(train_cats_dir, fname)\n",
        "    shutil.copyfile(src, dst)"
      ],
      "metadata": {
        "id": "8moIPK30kqo6"
      },
      "execution_count": 15,
      "outputs": []
    },
    {
      "cell_type": "markdown",
      "source": [
        "Copies the next 500 cat images to validation_cats_dir"
      ],
      "metadata": {
        "id": "hQAzw-RskvyN"
      }
    },
    {
      "cell_type": "code",
      "source": [
        "fnames = ['cat.{}.jpg'.format(i) for i in range(1000, 1500)]\n",
        "for fname in fnames:\n",
        "    src = os.path.join(original_dataset_dir, fname)\n",
        "    dst = os.path.join(validation_cats_dir, fname)\n",
        "    shutil.copyfile(src, dst)"
      ],
      "metadata": {
        "id": "sP6BuiUVkwgF"
      },
      "execution_count": 16,
      "outputs": []
    },
    {
      "cell_type": "markdown",
      "source": [
        "Copies the next 500 cat images to test_cats_dir"
      ],
      "metadata": {
        "id": "maXtqX7Fkzbg"
      }
    },
    {
      "cell_type": "code",
      "source": [
        "fnames = ['cat.{}.jpg'.format(i) for i in range(1500, 2000)]\n",
        "for fname in fnames:\n",
        "    src = os.path.join(original_dataset_dir, fname)\n",
        "    dst = os.path.join(test_cats_dir, fname)\n",
        "    shutil.copyfile(src, dst)"
      ],
      "metadata": {
        "id": "sBvyiFosk11h"
      },
      "execution_count": 17,
      "outputs": []
    },
    {
      "cell_type": "markdown",
      "source": [
        "Copies the first 1,000 dog images to train_dogs_dir"
      ],
      "metadata": {
        "id": "lK-T45wpk6VE"
      }
    },
    {
      "cell_type": "code",
      "source": [
        "fnames = ['dog.{}.jpg'.format(i) for i in range(1000)]\n",
        "for fname in fnames:\n",
        "    src = os.path.join(original_dataset_dir, fname)\n",
        "    dst = os.path.join(train_dogs_dir, fname)\n",
        "    shutil.copyfile(src, dst)"
      ],
      "metadata": {
        "id": "TKWJhHuKk8Nj"
      },
      "execution_count": 18,
      "outputs": []
    },
    {
      "cell_type": "markdown",
      "source": [
        "the next 500 dog images to validation_dogs_dir "
      ],
      "metadata": {
        "id": "cgWp1EvJk89n"
      }
    },
    {
      "cell_type": "code",
      "source": [
        "fnames = ['dog.{}.jpg'.format(i) for i in range(1000, 1500)]\n",
        "for fname in fnames:\n",
        "    src = os.path.join(original_dataset_dir, fname)\n",
        "    dst = os.path.join(validation_dogs_dir, fname)\n",
        "    shutil.copyfile(src, dst)"
      ],
      "metadata": {
        "id": "IboqNskik_fS"
      },
      "execution_count": 19,
      "outputs": []
    },
    {
      "cell_type": "markdown",
      "source": [
        "Copies the next 500 dog images to test_dogs_dir "
      ],
      "metadata": {
        "id": "w2YsI9rJlB6I"
      }
    },
    {
      "cell_type": "code",
      "source": [
        "fnames = ['dog.{}.jpg'.format(i) for i in range(1500, 2000)]\n",
        "for fname in fnames:\n",
        "    src = os.path.join(original_dataset_dir, fname)\n",
        "    dst = os.path.join(test_dogs_dir, fname)\n",
        "    shutil.copyfile(src, dst)"
      ],
      "metadata": {
        "id": "2BDwDU-ElE-R"
      },
      "execution_count": 20,
      "outputs": []
    },
    {
      "cell_type": "code",
      "source": [
        "!jupyter nbconvert --to html keras_cats_dogs_data_prep.ipynb"
      ],
      "metadata": {
        "id": "IG4umNsKpUb3"
      },
      "execution_count": null,
      "outputs": []
    }
  ]
}