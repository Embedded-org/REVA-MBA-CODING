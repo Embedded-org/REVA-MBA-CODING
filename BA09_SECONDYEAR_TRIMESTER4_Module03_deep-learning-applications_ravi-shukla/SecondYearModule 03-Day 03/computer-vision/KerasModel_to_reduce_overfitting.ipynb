{
  "cells": [
    {
      "cell_type": "markdown",
      "metadata": {
        "id": "pD-xIe0dFPbg"
      },
      "source": [
        "Keras Model with Image Augmentation and Dropout to reduce overfitting"
      ]
    },
    {
      "cell_type": "code",
      "execution_count": null,
      "metadata": {
        "id": "peK_g6_yFS-X"
      },
      "outputs": [],
      "source": [
        "from keras import layers\n",
        "from keras import models"
      ]
    },
    {
      "cell_type": "code",
      "execution_count": null,
      "metadata": {
        "colab": {
          "base_uri": "https://localhost:8080/",
          "height": 328
        },
        "id": "UQIwYkYICxTo",
        "outputId": "1e10fa55-05d3-4265-cd8f-106e80514883"
      },
      "outputs": [
        {
          "output_type": "error",
          "ename": "MessageError",
          "evalue": "ignored",
          "traceback": [
            "\u001b[0;31m---------------------------------------------------------------------------\u001b[0m",
            "\u001b[0;31mMessageError\u001b[0m                              Traceback (most recent call last)",
            "\u001b[0;32m<ipython-input-2-d5df0069828e>\u001b[0m in \u001b[0;36m<cell line: 2>\u001b[0;34m()\u001b[0m\n\u001b[1;32m      1\u001b[0m \u001b[0;32mfrom\u001b[0m \u001b[0mgoogle\u001b[0m\u001b[0;34m.\u001b[0m\u001b[0mcolab\u001b[0m \u001b[0;32mimport\u001b[0m \u001b[0mdrive\u001b[0m\u001b[0;34m\u001b[0m\u001b[0;34m\u001b[0m\u001b[0m\n\u001b[0;32m----> 2\u001b[0;31m \u001b[0mdrive\u001b[0m\u001b[0;34m.\u001b[0m\u001b[0mmount\u001b[0m\u001b[0;34m(\u001b[0m\u001b[0;34m'/content/drive'\u001b[0m\u001b[0;34m)\u001b[0m\u001b[0;34m\u001b[0m\u001b[0;34m\u001b[0m\u001b[0m\n\u001b[0m",
            "\u001b[0;32m/usr/local/lib/python3.10/dist-packages/google/colab/drive.py\u001b[0m in \u001b[0;36mmount\u001b[0;34m(mountpoint, force_remount, timeout_ms, readonly)\u001b[0m\n\u001b[1;32m    101\u001b[0m \u001b[0;32mdef\u001b[0m \u001b[0mmount\u001b[0m\u001b[0;34m(\u001b[0m\u001b[0mmountpoint\u001b[0m\u001b[0;34m,\u001b[0m \u001b[0mforce_remount\u001b[0m\u001b[0;34m=\u001b[0m\u001b[0;32mFalse\u001b[0m\u001b[0;34m,\u001b[0m \u001b[0mtimeout_ms\u001b[0m\u001b[0;34m=\u001b[0m\u001b[0;36m120000\u001b[0m\u001b[0;34m,\u001b[0m \u001b[0mreadonly\u001b[0m\u001b[0;34m=\u001b[0m\u001b[0;32mFalse\u001b[0m\u001b[0;34m)\u001b[0m\u001b[0;34m:\u001b[0m\u001b[0;34m\u001b[0m\u001b[0;34m\u001b[0m\u001b[0m\n\u001b[1;32m    102\u001b[0m   \u001b[0;34m\"\"\"Mount your Google Drive at the specified mountpoint path.\"\"\"\u001b[0m\u001b[0;34m\u001b[0m\u001b[0;34m\u001b[0m\u001b[0m\n\u001b[0;32m--> 103\u001b[0;31m   return _mount(\n\u001b[0m\u001b[1;32m    104\u001b[0m       \u001b[0mmountpoint\u001b[0m\u001b[0;34m,\u001b[0m\u001b[0;34m\u001b[0m\u001b[0;34m\u001b[0m\u001b[0m\n\u001b[1;32m    105\u001b[0m       \u001b[0mforce_remount\u001b[0m\u001b[0;34m=\u001b[0m\u001b[0mforce_remount\u001b[0m\u001b[0;34m,\u001b[0m\u001b[0;34m\u001b[0m\u001b[0;34m\u001b[0m\u001b[0m\n",
            "\u001b[0;32m/usr/local/lib/python3.10/dist-packages/google/colab/drive.py\u001b[0m in \u001b[0;36m_mount\u001b[0;34m(mountpoint, force_remount, timeout_ms, ephemeral, readonly)\u001b[0m\n\u001b[1;32m    130\u001b[0m   )\n\u001b[1;32m    131\u001b[0m   \u001b[0;32mif\u001b[0m \u001b[0mephemeral\u001b[0m\u001b[0;34m:\u001b[0m\u001b[0;34m\u001b[0m\u001b[0;34m\u001b[0m\u001b[0m\n\u001b[0;32m--> 132\u001b[0;31m     _message.blocking_request(\n\u001b[0m\u001b[1;32m    133\u001b[0m         \u001b[0;34m'request_auth'\u001b[0m\u001b[0;34m,\u001b[0m \u001b[0mrequest\u001b[0m\u001b[0;34m=\u001b[0m\u001b[0;34m{\u001b[0m\u001b[0;34m'authType'\u001b[0m\u001b[0;34m:\u001b[0m \u001b[0;34m'dfs_ephemeral'\u001b[0m\u001b[0;34m}\u001b[0m\u001b[0;34m,\u001b[0m \u001b[0mtimeout_sec\u001b[0m\u001b[0;34m=\u001b[0m\u001b[0;32mNone\u001b[0m\u001b[0;34m\u001b[0m\u001b[0;34m\u001b[0m\u001b[0m\n\u001b[1;32m    134\u001b[0m     )\n",
            "\u001b[0;32m/usr/local/lib/python3.10/dist-packages/google/colab/_message.py\u001b[0m in \u001b[0;36mblocking_request\u001b[0;34m(request_type, request, timeout_sec, parent)\u001b[0m\n\u001b[1;32m    174\u001b[0m       \u001b[0mrequest_type\u001b[0m\u001b[0;34m,\u001b[0m \u001b[0mrequest\u001b[0m\u001b[0;34m,\u001b[0m \u001b[0mparent\u001b[0m\u001b[0;34m=\u001b[0m\u001b[0mparent\u001b[0m\u001b[0;34m,\u001b[0m \u001b[0mexpect_reply\u001b[0m\u001b[0;34m=\u001b[0m\u001b[0;32mTrue\u001b[0m\u001b[0;34m\u001b[0m\u001b[0;34m\u001b[0m\u001b[0m\n\u001b[1;32m    175\u001b[0m   )\n\u001b[0;32m--> 176\u001b[0;31m   \u001b[0;32mreturn\u001b[0m \u001b[0mread_reply_from_input\u001b[0m\u001b[0;34m(\u001b[0m\u001b[0mrequest_id\u001b[0m\u001b[0;34m,\u001b[0m \u001b[0mtimeout_sec\u001b[0m\u001b[0;34m)\u001b[0m\u001b[0;34m\u001b[0m\u001b[0;34m\u001b[0m\u001b[0m\n\u001b[0m",
            "\u001b[0;32m/usr/local/lib/python3.10/dist-packages/google/colab/_message.py\u001b[0m in \u001b[0;36mread_reply_from_input\u001b[0;34m(message_id, timeout_sec)\u001b[0m\n\u001b[1;32m    101\u001b[0m     ):\n\u001b[1;32m    102\u001b[0m       \u001b[0;32mif\u001b[0m \u001b[0;34m'error'\u001b[0m \u001b[0;32min\u001b[0m \u001b[0mreply\u001b[0m\u001b[0;34m:\u001b[0m\u001b[0;34m\u001b[0m\u001b[0;34m\u001b[0m\u001b[0m\n\u001b[0;32m--> 103\u001b[0;31m         \u001b[0;32mraise\u001b[0m \u001b[0mMessageError\u001b[0m\u001b[0;34m(\u001b[0m\u001b[0mreply\u001b[0m\u001b[0;34m[\u001b[0m\u001b[0;34m'error'\u001b[0m\u001b[0;34m]\u001b[0m\u001b[0;34m)\u001b[0m\u001b[0;34m\u001b[0m\u001b[0;34m\u001b[0m\u001b[0m\n\u001b[0m\u001b[1;32m    104\u001b[0m       \u001b[0;32mreturn\u001b[0m \u001b[0mreply\u001b[0m\u001b[0;34m.\u001b[0m\u001b[0mget\u001b[0m\u001b[0;34m(\u001b[0m\u001b[0;34m'data'\u001b[0m\u001b[0;34m,\u001b[0m \u001b[0;32mNone\u001b[0m\u001b[0;34m)\u001b[0m\u001b[0;34m\u001b[0m\u001b[0;34m\u001b[0m\u001b[0m\n\u001b[1;32m    105\u001b[0m \u001b[0;34m\u001b[0m\u001b[0m\n",
            "\u001b[0;31mMessageError\u001b[0m: Error: credential propagation was unsuccessful"
          ]
        }
      ],
      "source": [
        "from google.colab import drive\n",
        "drive.mount('/content/drive')"
      ]
    },
    {
      "cell_type": "code",
      "execution_count": null,
      "metadata": {
        "id": "cEXPs77LFbe6"
      },
      "outputs": [],
      "source": [
        "!rm -rf '/content/cats_vs_dogs_small'"
      ]
    },
    {
      "cell_type": "code",
      "execution_count": null,
      "metadata": {
        "id": "A4jxJ5HJFeD1"
      },
      "outputs": [],
      "source": [
        "!unzip -qq '/content/drive/MyDrive/Colab_Notebooks/SECONDYEAR_TRIMESTER4_Module03_deep-learning-applications/DAY3_APPLICATION_OF_DEEP_LEARNING/dogs_cats.zip'"
      ]
    },
    {
      "cell_type": "code",
      "execution_count": null,
      "metadata": {
        "id": "FUuwmcxsFlEh"
      },
      "outputs": [],
      "source": [
        "import os, shutil, pathlib\n",
        "\n",
        "original_dir = pathlib.Path(\"dogs_cats/train\")\n",
        "new_base_dir = pathlib.Path(\"cats_vs_dogs_small\")\n",
        "\n",
        "def make_subset(subset_name, start_index, end_index):\n",
        "    for category in (\"cat\", \"dog\"):\n",
        "        dir = new_base_dir / subset_name / category\n",
        "        os.makedirs(dir)\n",
        "        fnames = [f\"{category}.{i}.jpg\" for i in range(start_index, end_index)]\n",
        "        for fname in fnames:\n",
        "            shutil.copyfile(src=original_dir / fname,dst=dir / fname)\n",
        "  \n",
        "make_subset(\"train\", start_index=0, end_index=1000)\n",
        "make_subset(\"validation\", start_index=1000, end_index=1500)\n",
        "make_subset(\"test\", start_index=1500, end_index=2500)"
      ]
    },
    {
      "cell_type": "code",
      "execution_count": null,
      "metadata": {
        "id": "zPj6zGwWEBOG"
      },
      "outputs": [],
      "source": [
        "from keras import layers\n",
        "from keras import models\n",
        "\n",
        "train_dir=\"/content/cats_vs_dogs_small/train\"\n",
        "validation_dir=\"/content/cats_vs_dogs_small/validation\""
      ]
    },
    {
      "cell_type": "code",
      "execution_count": null,
      "metadata": {
        "id": "xTcGvpwGFYc0"
      },
      "outputs": [],
      "source": [
        "\n",
        "from keras.preprocessing.image import ImageDataGenerator\n",
        "train_datagen = ImageDataGenerator(\n",
        "rescale=1./255,\n",
        "rotation_range=40,\n",
        "width_shift_range=0.2,\n",
        "height_shift_range=0.2,\n",
        "shear_range=0.2,\n",
        "zoom_range=0.2,\n",
        "horizontal_flip=True,)"
      ]
    },
    {
      "cell_type": "markdown",
      "metadata": {
        "id": "NG6KAlU9FdFe"
      },
      "source": [
        "Validation Data Set should not be augmented"
      ]
    },
    {
      "cell_type": "code",
      "execution_count": null,
      "metadata": {
        "id": "G-DZBWY2Fd-3"
      },
      "outputs": [],
      "source": [
        "test_datagen = ImageDataGenerator(rescale=1./255)"
      ]
    },
    {
      "cell_type": "markdown",
      "metadata": {
        "id": "QSE0k8y6FjLn"
      },
      "source": [
        "Resize all images to 150x150"
      ]
    },
    {
      "cell_type": "code",
      "execution_count": null,
      "metadata": {
        "colab": {
          "base_uri": "https://localhost:8080/"
        },
        "id": "dcAU5RRZFj8w",
        "outputId": "489cee40-09d7-4ef1-d869-9164350213dc"
      },
      "outputs": [
        {
          "name": "stdout",
          "output_type": "stream",
          "text": [
            "Found 2000 images belonging to 2 classes.\n",
            "Found 1000 images belonging to 2 classes.\n"
          ]
        }
      ],
      "source": [
        "train_generator = train_datagen.flow_from_directory(train_dir,target_size=(150, 150),batch_size=20,class_mode='binary')\n",
        "validation_generator = test_datagen.flow_from_directory(validation_dir,target_size=(150, 150),batch_size=20,class_mode='binary')"
      ]
    },
    {
      "cell_type": "code",
      "execution_count": null,
      "metadata": {
        "id": "Jcnude8mFsWU"
      },
      "outputs": [],
      "source": [
        "model = models.Sequential()\n",
        "model.add(layers.Conv2D(32, (3, 3), activation='relu',input_shape=(150, 150, 3)))\n",
        "model.add(layers.MaxPooling2D((2, 2)))\n",
        "model.add(layers.Conv2D(64, (3, 3), activation='relu'))\n",
        "model.add(layers.MaxPooling2D((2, 2)))\n",
        "model.add(layers.Conv2D(128, (3, 3), activation='relu'))\n",
        "model.add(layers.MaxPooling2D((2, 2)))\n",
        "model.add(layers.Conv2D(128, (3, 3), activation='relu'))\n",
        "model.add(layers.MaxPooling2D((2, 2)))\n",
        "model.add(layers.Flatten())\n",
        "model.add(layers.Dropout(0.5))\n",
        "model.add(layers.Dense(512, activation='relu'))\n",
        "model.add(layers.Dense(1, activation='sigmoid'))\n"
      ]
    },
    {
      "cell_type": "code",
      "execution_count": null,
      "metadata": {
        "id": "pkmyaCZ9Fw00"
      },
      "outputs": [],
      "source": [
        "from keras import optimizers\n",
        "model.compile(loss='binary_crossentropy',optimizer=optimizers.RMSprop(learning_rate=1e-4),metrics=['acc'])"
      ]
    },
    {
      "cell_type": "code",
      "execution_count": null,
      "metadata": {
        "colab": {
          "background_save": true,
          "base_uri": "https://localhost:8080/"
        },
        "id": "M1W_-85bF2iV",
        "outputId": "39a97589-d552-4756-dfe2-05131bbffd58"
      },
      "outputs": [
        {
          "name": "stdout",
          "output_type": "stream",
          "text": [
            "Epoch 1/100\n",
            "100/100 [==============================] - 142s 1s/step - loss: 0.6955 - acc: 0.5110 - val_loss: 0.6925 - val_acc: 0.5130\n",
            "Epoch 2/100\n",
            "100/100 [==============================] - 141s 1s/step - loss: 0.6877 - acc: 0.5435 - val_loss: 0.6747 - val_acc: 0.5770\n",
            "Epoch 3/100\n",
            "100/100 [==============================] - 143s 1s/step - loss: 0.6786 - acc: 0.5660 - val_loss: 0.6947 - val_acc: 0.5470\n",
            "Epoch 4/100\n",
            "100/100 [==============================] - 143s 1s/step - loss: 0.6742 - acc: 0.5835 - val_loss: 0.6979 - val_acc: 0.5190\n",
            "Epoch 5/100\n",
            "100/100 [==============================] - 135s 1s/step - loss: 0.6583 - acc: 0.6165 - val_loss: 0.6394 - val_acc: 0.6440\n",
            "Epoch 6/100\n",
            "100/100 [==============================] - 141s 1s/step - loss: 0.6557 - acc: 0.6180 - val_loss: 0.6263 - val_acc: 0.6680\n",
            "Epoch 7/100\n",
            "100/100 [==============================] - 136s 1s/step - loss: 0.6408 - acc: 0.6260 - val_loss: 0.6500 - val_acc: 0.6180\n",
            "Epoch 8/100\n",
            "100/100 [==============================] - 142s 1s/step - loss: 0.6320 - acc: 0.6465 - val_loss: 0.6096 - val_acc: 0.6530\n",
            "Epoch 9/100\n",
            "100/100 [==============================] - 136s 1s/step - loss: 0.6176 - acc: 0.6605 - val_loss: 0.6396 - val_acc: 0.6420\n",
            "Epoch 10/100\n",
            "100/100 [==============================] - 134s 1s/step - loss: 0.6124 - acc: 0.6605 - val_loss: 0.5990 - val_acc: 0.6800\n",
            "Epoch 11/100\n",
            "100/100 [==============================] - 139s 1s/step - loss: 0.6049 - acc: 0.6705 - val_loss: 0.5708 - val_acc: 0.7030\n",
            "Epoch 12/100\n",
            "100/100 [==============================] - 137s 1s/step - loss: 0.6018 - acc: 0.6665 - val_loss: 0.5628 - val_acc: 0.7030\n",
            "Epoch 13/100\n",
            "100/100 [==============================] - 143s 1s/step - loss: 0.5895 - acc: 0.6880 - val_loss: 0.5599 - val_acc: 0.7080\n",
            "Epoch 14/100\n",
            "100/100 [==============================] - 136s 1s/step - loss: 0.5867 - acc: 0.6845 - val_loss: 0.5430 - val_acc: 0.7170\n",
            "Epoch 15/100\n",
            "100/100 [==============================] - 131s 1s/step - loss: 0.5811 - acc: 0.7020 - val_loss: 0.5479 - val_acc: 0.7040\n",
            "Epoch 16/100\n",
            "100/100 [==============================] - 131s 1s/step - loss: 0.5769 - acc: 0.6955 - val_loss: 0.5414 - val_acc: 0.7160\n",
            "Epoch 17/100\n",
            "100/100 [==============================] - 131s 1s/step - loss: 0.5650 - acc: 0.7000 - val_loss: 0.5539 - val_acc: 0.7090\n",
            "Epoch 18/100\n",
            "100/100 [==============================] - 136s 1s/step - loss: 0.5638 - acc: 0.7015 - val_loss: 0.5292 - val_acc: 0.7210\n",
            "Epoch 19/100\n",
            "100/100 [==============================] - 135s 1s/step - loss: 0.5644 - acc: 0.7045 - val_loss: 0.5370 - val_acc: 0.7220\n",
            "Epoch 20/100\n",
            "100/100 [==============================] - 134s 1s/step - loss: 0.5629 - acc: 0.7070 - val_loss: 0.5271 - val_acc: 0.7310\n",
            "Epoch 21/100\n",
            "100/100 [==============================] - 136s 1s/step - loss: 0.5570 - acc: 0.6970 - val_loss: 0.5080 - val_acc: 0.7490\n",
            "Epoch 22/100\n",
            "100/100 [==============================] - 132s 1s/step - loss: 0.5562 - acc: 0.7160 - val_loss: 0.5343 - val_acc: 0.7270\n",
            "Epoch 23/100\n",
            "100/100 [==============================] - 135s 1s/step - loss: 0.5478 - acc: 0.7195 - val_loss: 0.5433 - val_acc: 0.7010\n",
            "Epoch 24/100\n",
            "100/100 [==============================] - 133s 1s/step - loss: 0.5464 - acc: 0.7210 - val_loss: 0.5581 - val_acc: 0.7140\n",
            "Epoch 25/100\n",
            "100/100 [==============================] - 137s 1s/step - loss: 0.5435 - acc: 0.7170 - val_loss: 0.5284 - val_acc: 0.7220\n",
            "Epoch 26/100\n",
            "100/100 [==============================] - 137s 1s/step - loss: 0.5330 - acc: 0.7270 - val_loss: 0.4932 - val_acc: 0.7500\n",
            "Epoch 27/100\n",
            "100/100 [==============================] - 135s 1s/step - loss: 0.5391 - acc: 0.7220 - val_loss: 0.5689 - val_acc: 0.6830\n",
            "Epoch 28/100\n",
            "100/100 [==============================] - 137s 1s/step - loss: 0.5270 - acc: 0.7415 - val_loss: 0.4987 - val_acc: 0.7500\n",
            "Epoch 29/100\n",
            "100/100 [==============================] - 133s 1s/step - loss: 0.5312 - acc: 0.7370 - val_loss: 0.4904 - val_acc: 0.7590\n",
            "Epoch 30/100\n",
            "100/100 [==============================] - 133s 1s/step - loss: 0.5108 - acc: 0.7385 - val_loss: 0.4842 - val_acc: 0.7550\n",
            "Epoch 31/100\n",
            "100/100 [==============================] - 135s 1s/step - loss: 0.5186 - acc: 0.7390 - val_loss: 0.5035 - val_acc: 0.7400\n",
            "Epoch 32/100\n",
            "100/100 [==============================] - 131s 1s/step - loss: 0.5143 - acc: 0.7465 - val_loss: 0.4810 - val_acc: 0.7580\n",
            "Epoch 33/100\n",
            "100/100 [==============================] - 136s 1s/step - loss: 0.5108 - acc: 0.7460 - val_loss: 0.4817 - val_acc: 0.7620\n",
            "Epoch 34/100\n",
            "100/100 [==============================] - 133s 1s/step - loss: 0.5078 - acc: 0.7480 - val_loss: 0.4655 - val_acc: 0.7810\n",
            "Epoch 35/100\n",
            "100/100 [==============================] - 130s 1s/step - loss: 0.5052 - acc: 0.7390 - val_loss: 0.4862 - val_acc: 0.7700\n",
            "Epoch 36/100\n",
            "100/100 [==============================] - 132s 1s/step - loss: 0.4994 - acc: 0.7580 - val_loss: 0.5252 - val_acc: 0.7190\n",
            "Epoch 37/100\n",
            "100/100 [==============================] - 130s 1s/step - loss: 0.5106 - acc: 0.7400 - val_loss: 0.5085 - val_acc: 0.7480\n",
            "Epoch 38/100\n",
            "100/100 [==============================] - ETA: 0s - loss: 0.4909 - acc: 0.7510"
          ]
        }
      ],
      "source": [
        "history = model.fit(\n",
        "train_generator,\n",
        "steps_per_epoch=100,\n",
        "epochs=100,\n",
        "validation_data=validation_generator,\n",
        "validation_steps=50)"
      ]
    },
    {
      "cell_type": "code",
      "execution_count": null,
      "metadata": {
        "id": "2r2pSD1nF6TN"
      },
      "outputs": [],
      "source": [
        "model.save('cats_and_dogs_small_2.h5')"
      ]
    },
    {
      "cell_type": "code",
      "execution_count": null,
      "metadata": {
        "id": "5Cxyqr5BF-hN"
      },
      "outputs": [],
      "source": [
        "import matplotlib.pyplot as plt\n",
        "acc = history.history['acc']\n",
        "val_acc = history.history['val_acc']\n",
        "loss = history.history['loss']\n",
        "val_loss = history.history['val_loss']\n",
        "epochs = range(1, len(acc) + 1)\n",
        "plt.plot(epochs, acc, 'bo', label='Training acc')\n",
        "plt.plot(epochs, val_acc, 'b', label='Validation acc')\n",
        "plt.title('Training and validation accuracy')\n",
        "plt.legend()\n",
        "plt.figure()\n",
        "plt.plot(epochs, loss, 'bo', label='Training loss')\n",
        "plt.plot(epochs, val_loss, 'b', label='Validation loss')\n",
        "plt.title('Training and validation loss')\n",
        "plt.legend()\n",
        "plt.show()"
      ]
    },
    {
      "cell_type": "code",
      "execution_count": null,
      "metadata": {
        "id": "lwUDe7zGkIru"
      },
      "outputs": [],
      "source": [
        "!jupyter nbconvert --to html KerasModel_to_reduce_overfitting.ipynb"
      ]
    }
  ],
  "metadata": {
    "colab": {
      "provenance": []
    },
    "gpuClass": "standard",
    "kernelspec": {
      "display_name": "Python 3",
      "name": "python3"
    },
    "language_info": {
      "name": "python"
    },
    "accelerator": "TPU"
  },
  "nbformat": 4,
  "nbformat_minor": 0
}