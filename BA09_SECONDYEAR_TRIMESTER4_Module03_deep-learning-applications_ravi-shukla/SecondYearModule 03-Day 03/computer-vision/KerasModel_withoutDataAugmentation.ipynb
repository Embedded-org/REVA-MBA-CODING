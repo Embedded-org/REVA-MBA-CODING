{
  "nbformat": 4,
  "nbformat_minor": 0,
  "metadata": {
    "colab": {
      "provenance": []
    },
    "kernelspec": {
      "name": "python3",
      "display_name": "Python 3"
    },
    "language_info": {
      "name": "python"
    },
    "accelerator": "GPU",
    "gpuClass": "standard"
  },
  "cells": [
    {
      "cell_type": "markdown",
      "source": [
        "This method allows Data Augmentation but should only be run on GPU"
      ],
      "metadata": {
        "id": "ZTSmmRt5hg8k"
      }
    },
    {
      "cell_type": "code",
      "source": [
        "from keras.applications import VGG16"
      ],
      "metadata": {
        "id": "nhAO3qL6Hi5z"
      },
      "execution_count": null,
      "outputs": []
    },
    {
      "cell_type": "markdown",
      "source": [
        "Just reuse the bottom convolutional base of VGG16 model as its more generic, top will be related to specific classes so not used"
      ],
      "metadata": {
        "id": "wlD2HMGFHlXg"
      }
    },
    {
      "cell_type": "code",
      "source": [
        "conv_base = VGG16(weights='imagenet',include_top=False,input_shape=(150, 150, 3))"
      ],
      "metadata": {
        "id": "BcXGrgLZHmBf",
        "colab": {
          "base_uri": "https://localhost:8080/"
        },
        "outputId": "6e5a5620-b757-448a-94be-ec4bc8a1bfec"
      },
      "execution_count": null,
      "outputs": [
        {
          "output_type": "stream",
          "name": "stdout",
          "text": [
            "Downloading data from https://storage.googleapis.com/tensorflow/keras-applications/vgg16/vgg16_weights_tf_dim_ordering_tf_kernels_notop.h5\n",
            "58889256/58889256 [==============================] - 2s 0us/step\n"
          ]
        }
      ]
    },
    {
      "cell_type": "markdown",
      "source": [
        "Adding a sequential model to top of conv_base"
      ],
      "metadata": {
        "id": "1xjQuL-GHpUf"
      }
    },
    {
      "cell_type": "code",
      "source": [
        "from keras import models\n",
        "from keras import layers\n",
        "model = models.Sequential()\n",
        "model.add(conv_base)\n",
        "model.add(layers.Flatten())\n",
        "model.add(layers.Dense(256, activation='relu'))\n",
        "model.add(layers.Dense(1, activation='sigmoid'))"
      ],
      "metadata": {
        "id": "98Y8ZeurHsBs"
      },
      "execution_count": null,
      "outputs": []
    },
    {
      "cell_type": "markdown",
      "source": [
        "freeze the conv base. Freezing a layer means preventing their weights from being updated during training"
      ],
      "metadata": {
        "id": "8y60HAcUHvyP"
      }
    },
    {
      "cell_type": "code",
      "source": [
        "print('This is the number of trainable weights ''before freezing the conv base:', len(model.trainable_weights))\n",
        "conv_base.trainable = False\n",
        "print('This is the number of trainable weights '\n",
        "'after freezing the conv base:', len(model.trainable_weights))"
      ],
      "metadata": {
        "id": "UAKJAOkkHzXc",
        "colab": {
          "base_uri": "https://localhost:8080/"
        },
        "outputId": "2556b956-3115-417e-8313-29a28bee9f57"
      },
      "execution_count": null,
      "outputs": [
        {
          "output_type": "stream",
          "name": "stdout",
          "text": [
            "This is the number of trainable weights before freezing the conv base: 30\n",
            "This is the number of trainable weights after freezing the conv base: 4\n"
          ]
        }
      ]
    },
    {
      "cell_type": "code",
      "source": [
        "from google.colab import drive\n",
        "drive.mount('/content/drive')"
      ],
      "metadata": {
        "colab": {
          "base_uri": "https://localhost:8080/"
        },
        "id": "UQIwYkYICxTo",
        "outputId": "f89d0e6a-28f9-47ef-eb0f-c2bfb1567dad"
      },
      "execution_count": null,
      "outputs": [
        {
          "output_type": "stream",
          "name": "stdout",
          "text": [
            "Mounted at /content/drive\n"
          ]
        }
      ]
    },
    {
      "cell_type": "code",
      "source": [
        "!rm -rf '/content/cats_vs_dogs_small'"
      ],
      "metadata": {
        "id": "cEXPs77LFbe6"
      },
      "execution_count": null,
      "outputs": []
    },
    {
      "cell_type": "code",
      "source": [
        "!unzip -qq '/content/drive/MyDrive/Colab_Notebooks/SECONDYEAR_TRIMESTER4_Module03_deep-learning-applications/DAY3_APPLICATION_OF_DEEP_LEARNING/dogs_cats.zip'"
      ],
      "metadata": {
        "id": "A4jxJ5HJFeD1"
      },
      "execution_count": null,
      "outputs": []
    },
    {
      "cell_type": "code",
      "source": [
        "import os, shutil, pathlib\n",
        "\n",
        "original_dir = pathlib.Path(\"dogs_cats/train\")\n",
        "new_base_dir = pathlib.Path(\"cats_vs_dogs_small\")\n",
        "\n",
        "def make_subset(subset_name, start_index, end_index):\n",
        "    for category in (\"cat\", \"dog\"):\n",
        "        dir = new_base_dir / subset_name / category\n",
        "        os.makedirs(dir)\n",
        "        fnames = [f\"{category}.{i}.jpg\" for i in range(start_index, end_index)]\n",
        "        for fname in fnames:\n",
        "            shutil.copyfile(src=original_dir / fname,dst=dir / fname)\n",
        "  \n",
        "make_subset(\"train\", start_index=0, end_index=1000)\n",
        "make_subset(\"validation\", start_index=1000, end_index=1500)\n",
        "make_subset(\"test\", start_index=1500, end_index=2500)"
      ],
      "metadata": {
        "id": "FUuwmcxsFlEh"
      },
      "execution_count": null,
      "outputs": []
    },
    {
      "cell_type": "code",
      "source": [
        "from keras import layers\n",
        "from keras import models\n",
        "\n",
        "train_dir=\"/content/cats_vs_dogs_small/train\"\n",
        "validation_dir=\"/content/cats_vs_dogs_small/validation\""
      ],
      "metadata": {
        "id": "zPj6zGwWEBOG"
      },
      "execution_count": null,
      "outputs": []
    },
    {
      "cell_type": "code",
      "source": [
        "from keras.preprocessing.image import ImageDataGenerator\n",
        "train_datagen = ImageDataGenerator(\n",
        "rescale=1./255,\n",
        "rotation_range=40,\n",
        "width_shift_range=0.2,\n",
        "height_shift_range=0.2,\n",
        "shear_range=0.2,\n",
        "zoom_range=0.2,\n",
        "horizontal_flip=True,)"
      ],
      "metadata": {
        "id": "-q4JjFfcH7Zi"
      },
      "execution_count": null,
      "outputs": []
    },
    {
      "cell_type": "markdown",
      "source": [
        "Validation Data Set should not be augmented"
      ],
      "metadata": {
        "id": "pQZPhsf1IQWx"
      }
    },
    {
      "cell_type": "code",
      "source": [
        "test_datagen = ImageDataGenerator(rescale=1./255)"
      ],
      "metadata": {
        "id": "R6BtBpYsIRCv"
      },
      "execution_count": null,
      "outputs": []
    },
    {
      "cell_type": "markdown",
      "source": [
        "Resize all images to 150x150"
      ],
      "metadata": {
        "id": "Anph9ma9IVLZ"
      }
    },
    {
      "cell_type": "code",
      "source": [
        "train_generator = train_datagen.flow_from_directory(train_dir,target_size=(150, 150),batch_size=20,class_mode='binary')\n",
        "validation_generator = test_datagen.flow_from_directory(\n",
        "validation_dir,target_size=(150, 150),batch_size=20,class_mode='binary')\n",
        "from keras import optimizers\n",
        "model.compile(loss='binary_crossentropy',\n",
        "optimizer=optimizers.RMSprop(learning_rate=2e-5),\n",
        "metrics=['acc'])"
      ],
      "metadata": {
        "id": "zOvFxrt3IYR_",
        "colab": {
          "base_uri": "https://localhost:8080/"
        },
        "outputId": "eb89f5bf-0586-4e0b-aa29-d86bb2f857bd"
      },
      "execution_count": null,
      "outputs": [
        {
          "output_type": "stream",
          "name": "stdout",
          "text": [
            "Found 2000 images belonging to 2 classes.\n",
            "Found 1000 images belonging to 2 classes.\n"
          ]
        }
      ]
    },
    {
      "cell_type": "code",
      "source": [
        "history = model.fit(\n",
        "train_generator,\n",
        "steps_per_epoch=100,\n",
        "epochs=30,\n",
        "validation_data=validation_generator,\n",
        "validation_steps=50)"
      ],
      "metadata": {
        "id": "z7e37YKtIiFP",
        "colab": {
          "base_uri": "https://localhost:8080/"
        },
        "outputId": "cd5df81f-a686-444a-e044-9641a6ca9b1b"
      },
      "execution_count": null,
      "outputs": [
        {
          "output_type": "stream",
          "name": "stdout",
          "text": [
            "Epoch 1/30\n",
            "100/100 [==============================] - 23s 220ms/step - loss: 0.4863 - acc: 0.7805 - val_loss: 0.3862 - val_acc: 0.8240\n",
            "Epoch 2/30\n",
            "100/100 [==============================] - 24s 244ms/step - loss: 0.4453 - acc: 0.8030 - val_loss: 0.3348 - val_acc: 0.8730\n",
            "Epoch 3/30\n",
            "100/100 [==============================] - 22s 219ms/step - loss: 0.4087 - acc: 0.8175 - val_loss: 0.3080 - val_acc: 0.8700\n",
            "Epoch 4/30\n",
            "100/100 [==============================] - 21s 213ms/step - loss: 0.3841 - acc: 0.8315 - val_loss: 0.2955 - val_acc: 0.8760\n",
            "Epoch 5/30\n",
            "100/100 [==============================] - 24s 236ms/step - loss: 0.3832 - acc: 0.8205 - val_loss: 0.2829 - val_acc: 0.8830\n",
            "Epoch 6/30\n",
            "100/100 [==============================] - 23s 226ms/step - loss: 0.3558 - acc: 0.8430 - val_loss: 0.2773 - val_acc: 0.8830\n",
            "Epoch 7/30\n",
            "100/100 [==============================] - 21s 206ms/step - loss: 0.3560 - acc: 0.8445 - val_loss: 0.2684 - val_acc: 0.8920\n",
            "Epoch 8/30\n",
            "100/100 [==============================] - 22s 217ms/step - loss: 0.3509 - acc: 0.8515 - val_loss: 0.2690 - val_acc: 0.8900\n",
            "Epoch 9/30\n",
            "100/100 [==============================] - 21s 205ms/step - loss: 0.3339 - acc: 0.8525 - val_loss: 0.2661 - val_acc: 0.8910\n",
            "Epoch 10/30\n",
            "100/100 [==============================] - 20s 204ms/step - loss: 0.3316 - acc: 0.8505 - val_loss: 0.2585 - val_acc: 0.8900\n",
            "Epoch 11/30\n",
            "100/100 [==============================] - 24s 244ms/step - loss: 0.3261 - acc: 0.8490 - val_loss: 0.2602 - val_acc: 0.8900\n",
            "Epoch 12/30\n",
            "100/100 [==============================] - 24s 240ms/step - loss: 0.3347 - acc: 0.8545 - val_loss: 0.2666 - val_acc: 0.8880\n",
            "Epoch 13/30\n",
            "100/100 [==============================] - 22s 217ms/step - loss: 0.3193 - acc: 0.8685 - val_loss: 0.2516 - val_acc: 0.8950\n",
            "Epoch 14/30\n",
            "100/100 [==============================] - 22s 216ms/step - loss: 0.3192 - acc: 0.8590 - val_loss: 0.2498 - val_acc: 0.8980\n",
            "Epoch 15/30\n",
            "100/100 [==============================] - 20s 203ms/step - loss: 0.3248 - acc: 0.8605 - val_loss: 0.2492 - val_acc: 0.8940\n",
            "Epoch 16/30\n",
            "100/100 [==============================] - 21s 213ms/step - loss: 0.3073 - acc: 0.8655 - val_loss: 0.2514 - val_acc: 0.8960\n",
            "Epoch 17/30\n",
            "100/100 [==============================] - 20s 204ms/step - loss: 0.3090 - acc: 0.8755 - val_loss: 0.2650 - val_acc: 0.8890\n",
            "Epoch 18/30\n",
            "100/100 [==============================] - 22s 217ms/step - loss: 0.3041 - acc: 0.8655 - val_loss: 0.2452 - val_acc: 0.8990\n",
            "Epoch 19/30\n",
            "100/100 [==============================] - 20s 204ms/step - loss: 0.2993 - acc: 0.8700 - val_loss: 0.2475 - val_acc: 0.8990\n",
            "Epoch 20/30\n",
            "100/100 [==============================] - 22s 216ms/step - loss: 0.2939 - acc: 0.8755 - val_loss: 0.2436 - val_acc: 0.9020\n",
            "Epoch 21/30\n",
            "100/100 [==============================] - 22s 219ms/step - loss: 0.2955 - acc: 0.8740 - val_loss: 0.2413 - val_acc: 0.9020\n",
            "Epoch 22/30\n",
            "100/100 [==============================] - 20s 203ms/step - loss: 0.2916 - acc: 0.8650 - val_loss: 0.2547 - val_acc: 0.8980\n",
            "Epoch 23/30\n",
            "100/100 [==============================] - 22s 217ms/step - loss: 0.2980 - acc: 0.8715 - val_loss: 0.2515 - val_acc: 0.8970\n",
            "Epoch 24/30\n",
            "100/100 [==============================] - 22s 221ms/step - loss: 0.2906 - acc: 0.8725 - val_loss: 0.2409 - val_acc: 0.9030\n",
            "Epoch 25/30\n",
            "100/100 [==============================] - 20s 203ms/step - loss: 0.3067 - acc: 0.8625 - val_loss: 0.2405 - val_acc: 0.9020\n",
            "Epoch 26/30\n",
            "100/100 [==============================] - 22s 218ms/step - loss: 0.2845 - acc: 0.8735 - val_loss: 0.2398 - val_acc: 0.9020\n",
            "Epoch 27/30\n",
            "100/100 [==============================] - 20s 204ms/step - loss: 0.2819 - acc: 0.8825 - val_loss: 0.2363 - val_acc: 0.9000\n",
            "Epoch 28/30\n",
            "100/100 [==============================] - 22s 218ms/step - loss: 0.2898 - acc: 0.8715 - val_loss: 0.2412 - val_acc: 0.9000\n",
            "Epoch 29/30\n",
            "100/100 [==============================] - 20s 203ms/step - loss: 0.2824 - acc: 0.8755 - val_loss: 0.2624 - val_acc: 0.8850\n",
            "Epoch 30/30\n",
            "100/100 [==============================] - 22s 216ms/step - loss: 0.2888 - acc: 0.8760 - val_loss: 0.2439 - val_acc: 0.9050\n"
          ]
        }
      ]
    },
    {
      "cell_type": "markdown",
      "source": [
        "Plotting the results"
      ],
      "metadata": {
        "id": "boBaV2EvIlB-"
      }
    },
    {
      "cell_type": "code",
      "source": [
        "import matplotlib.pyplot as plt\n",
        "acc = history.history['acc']\n",
        "val_acc = history.history['val_acc']\n",
        "loss = history.history['loss']\n",
        "val_loss = history.history['val_loss']\n",
        "epochs = range(1, len(acc) + 1)\n",
        "plt.plot(epochs, acc, 'bo', label='Training acc')\n",
        "plt.plot(epochs, val_acc, 'b', label='Validation acc')\n",
        "plt.title('Training and validation accuracy')\n",
        "plt.legend()\n",
        "plt.figure()\n",
        "plt.plot(epochs, loss, 'bo', label='Training loss')\n",
        "plt.plot(epochs, val_loss, 'b', label='Validation loss')\n",
        "plt.title('Training and validation loss')\n",
        "plt.legend()\n",
        "plt.show()"
      ],
      "metadata": {
        "id": "J0CxdKFOIlv5",
        "colab": {
          "base_uri": "https://localhost:8080/",
          "height": 887
        },
        "outputId": "45ae6306-5b31-41e7-dfdd-6c55921c1a10"
      },
      "execution_count": null,
      "outputs": [
        {
          "output_type": "display_data",
          "data": {
            "text/plain": [
              "<Figure size 640x480 with 1 Axes>"
            ],
            "image/png": "[encoded data removed]"
          },
          "metadata": {}
        },
        {
          "output_type": "display_data",
          "data": {
            "text/plain": [
              "<Figure size 640x480 with 1 Axes>"
            ],
            "image/png": "[encoded data removed]"
          },
          "metadata": {}
        }
      ]
    },
    {
      "cell_type": "markdown",
      "source": [
        "This method allows Data Augmentation but should only be run on GPU"
      ],
      "metadata": {
        "id": "yDaxFmi7IuHm"
      }
    },
    {
      "cell_type": "code",
      "source": [
        "from keras.applications import VGG16"
      ],
      "metadata": {
        "id": "Cfw0FDtEIwXT"
      },
      "execution_count": null,
      "outputs": []
    },
    {
      "cell_type": "markdown",
      "source": [
        "Just reuse the bottom convolutional base of VGG16 model as its more generic, top will be related to specific classes so not used"
      ],
      "metadata": {
        "id": "NjfxEBn7Izk4"
      }
    },
    {
      "cell_type": "code",
      "source": [
        "conv_base = VGG16(weights='imagenet',include_top=False,input_shape=(150, 150, 3))"
      ],
      "metadata": {
        "id": "vYSeIbSdI0SF"
      },
      "execution_count": null,
      "outputs": []
    },
    {
      "cell_type": "markdown",
      "source": [
        "Adding a sequential model to top of conv_base"
      ],
      "metadata": {
        "id": "D_pztBWtI4I0"
      }
    },
    {
      "cell_type": "code",
      "source": [
        "from keras import models\n",
        "from keras import layers\n",
        "model = models.Sequential()\n",
        "model.add(conv_base)\n",
        "model.add(layers.Flatten())\n",
        "model.add(layers.Dense(256, activation='relu'))\n",
        "model.add(layers.Dense(1, activation='sigmoid'))\n",
        "\n",
        "#freeze the conv base. Freezing a layer means preventing their weights from being updated during training\n",
        "print('This is the number of trainable weights ''before freezing the conv base:', len(model.trainable_weights))\n",
        "conv_base.trainable = False\n",
        "print('This is the number of trainable weights '\n",
        "'after freezing the conv base:', len(model.trainable_weights))"
      ],
      "metadata": {
        "id": "4Rt3xI4EI67h",
        "colab": {
          "base_uri": "https://localhost:8080/"
        },
        "outputId": "a44e94a5-4cc7-493c-892b-4be1554880bc"
      },
      "execution_count": null,
      "outputs": [
        {
          "output_type": "stream",
          "name": "stdout",
          "text": [
            "This is the number of trainable weights before freezing the conv base: 30\n",
            "This is the number of trainable weights after freezing the conv base: 4\n"
          ]
        }
      ]
    },
    {
      "cell_type": "code",
      "source": [
        "from keras.preprocessing.image import ImageDataGenerator\n",
        "train_datagen = ImageDataGenerator(\n",
        "rescale=1./255,\n",
        "rotation_range=40,\n",
        "width_shift_range=0.2,\n",
        "height_shift_range=0.2,\n",
        "shear_range=0.2,\n",
        "zoom_range=0.2,\n",
        "horizontal_flip=True,)"
      ],
      "metadata": {
        "id": "wQBNSPp-JHR6"
      },
      "execution_count": null,
      "outputs": []
    },
    {
      "cell_type": "markdown",
      "source": [
        "Validation Data Set should not be augmented"
      ],
      "metadata": {
        "id": "ZEZMTzSVJOJR"
      }
    },
    {
      "cell_type": "code",
      "source": [
        "test_datagen = ImageDataGenerator(rescale=1./255)"
      ],
      "metadata": {
        "id": "GiFdHCNmJOud"
      },
      "execution_count": null,
      "outputs": []
    },
    {
      "cell_type": "markdown",
      "source": [
        "Resize all images to 150x150"
      ],
      "metadata": {
        "id": "_O0RggmMJQ16"
      }
    },
    {
      "cell_type": "code",
      "source": [
        "train_generator = train_datagen.flow_from_directory(train_dir,target_size=(150, 150),batch_size=20,class_mode='binary')\n",
        "validation_generator = test_datagen.flow_from_directory(\n",
        "validation_dir,target_size=(150, 150),batch_size=20,class_mode='binary')\n",
        "from keras import optimizers\n",
        "model.compile(loss='binary_crossentropy',\n",
        "optimizer=optimizers.RMSprop(learning_rate=2e-5),\n",
        "metrics=['acc'])"
      ],
      "metadata": {
        "id": "RBrbeKPxJTuc",
        "colab": {
          "base_uri": "https://localhost:8080/"
        },
        "outputId": "c6777cbb-90e5-4eeb-8f8a-5c342b054c1a"
      },
      "execution_count": null,
      "outputs": [
        {
          "output_type": "stream",
          "name": "stdout",
          "text": [
            "Found 2000 images belonging to 2 classes.\n",
            "Found 1000 images belonging to 2 classes.\n"
          ]
        }
      ]
    },
    {
      "cell_type": "code",
      "source": [
        "history = model.fit(\n",
        "train_generator,\n",
        "steps_per_epoch=100,\n",
        "epochs=30,\n",
        "validation_data=validation_generator,\n",
        "validation_steps=50)"
      ],
      "metadata": {
        "id": "5iBMcloSJcXM",
        "colab": {
          "base_uri": "https://localhost:8080/"
        },
        "outputId": "4aacca96-5159-4f80-ddf6-c2e08a3397ba"
      },
      "execution_count": null,
      "outputs": [
        {
          "output_type": "stream",
          "name": "stdout",
          "text": [
            "Epoch 1/30\n",
            "100/100 [==============================] - 23s 227ms/step - loss: 0.5836 - acc: 0.7070 - val_loss: 0.4529 - val_acc: 0.8180\n",
            "Epoch 2/30\n",
            "100/100 [==============================] - 20s 204ms/step - loss: 0.4850 - acc: 0.7855 - val_loss: 0.3977 - val_acc: 0.8230\n",
            "Epoch 3/30\n",
            "100/100 [==============================] - 22s 216ms/step - loss: 0.4384 - acc: 0.8010 - val_loss: 0.3377 - val_acc: 0.8690\n",
            "Epoch 4/30\n",
            "100/100 [==============================] - 22s 216ms/step - loss: 0.4061 - acc: 0.8275 - val_loss: 0.3158 - val_acc: 0.8730\n",
            "Epoch 5/30\n",
            "100/100 [==============================] - 20s 203ms/step - loss: 0.3816 - acc: 0.8310 - val_loss: 0.3022 - val_acc: 0.8770\n",
            "Epoch 6/30\n",
            "100/100 [==============================] - 23s 226ms/step - loss: 0.3706 - acc: 0.8325 - val_loss: 0.2916 - val_acc: 0.8740\n",
            "Epoch 7/30\n",
            "100/100 [==============================] - 22s 219ms/step - loss: 0.3661 - acc: 0.8445 - val_loss: 0.2951 - val_acc: 0.8730\n",
            "Epoch 8/30\n",
            "100/100 [==============================] - 20s 201ms/step - loss: 0.3414 - acc: 0.8560 - val_loss: 0.2723 - val_acc: 0.8820\n",
            "Epoch 9/30\n",
            "100/100 [==============================] - 22s 217ms/step - loss: 0.3412 - acc: 0.8555 - val_loss: 0.2649 - val_acc: 0.8890\n",
            "Epoch 10/30\n",
            "100/100 [==============================] - 25s 248ms/step - loss: 0.3354 - acc: 0.8495 - val_loss: 0.2694 - val_acc: 0.8830\n",
            "Epoch 11/30\n",
            "100/100 [==============================] - 24s 241ms/step - loss: 0.3241 - acc: 0.8655 - val_loss: 0.2586 - val_acc: 0.8910\n",
            "Epoch 12/30\n",
            "100/100 [==============================] - 22s 222ms/step - loss: 0.3284 - acc: 0.8575 - val_loss: 0.2546 - val_acc: 0.8940\n",
            "Epoch 13/30\n",
            "100/100 [==============================] - 22s 219ms/step - loss: 0.3201 - acc: 0.8540 - val_loss: 0.2665 - val_acc: 0.8920\n",
            "Epoch 14/30\n",
            "100/100 [==============================] - 22s 218ms/step - loss: 0.3191 - acc: 0.8615 - val_loss: 0.2475 - val_acc: 0.9010\n",
            "Epoch 15/30\n",
            "100/100 [==============================] - 21s 211ms/step - loss: 0.3099 - acc: 0.8685 - val_loss: 0.2604 - val_acc: 0.8960\n",
            "Epoch 16/30\n",
            "100/100 [==============================] - 22s 218ms/step - loss: 0.3074 - acc: 0.8775 - val_loss: 0.2461 - val_acc: 0.9020\n",
            "Epoch 17/30\n",
            "100/100 [==============================] - 22s 221ms/step - loss: 0.2971 - acc: 0.8715 - val_loss: 0.2435 - val_acc: 0.9040\n",
            "Epoch 18/30\n",
            "100/100 [==============================] - 22s 218ms/step - loss: 0.3013 - acc: 0.8690 - val_loss: 0.2487 - val_acc: 0.8970\n",
            "Epoch 19/30\n",
            "100/100 [==============================] - 21s 215ms/step - loss: 0.3074 - acc: 0.8650 - val_loss: 0.2491 - val_acc: 0.8970\n",
            "Epoch 20/30\n",
            "100/100 [==============================] - 22s 219ms/step - loss: 0.3030 - acc: 0.8665 - val_loss: 0.2446 - val_acc: 0.9010\n",
            "Epoch 21/30\n",
            "100/100 [==============================] - 20s 202ms/step - loss: 0.2936 - acc: 0.8740 - val_loss: 0.2501 - val_acc: 0.9030\n",
            "Epoch 22/30\n",
            "100/100 [==============================] - 22s 218ms/step - loss: 0.2829 - acc: 0.8825 - val_loss: 0.2512 - val_acc: 0.8940\n",
            "Epoch 23/30\n",
            "100/100 [==============================] - 20s 204ms/step - loss: 0.2892 - acc: 0.8770 - val_loss: 0.2434 - val_acc: 0.9000\n",
            "Epoch 24/30\n",
            "100/100 [==============================] - 22s 217ms/step - loss: 0.2951 - acc: 0.8775 - val_loss: 0.2393 - val_acc: 0.9040\n",
            "Epoch 25/30\n",
            "100/100 [==============================] - 20s 202ms/step - loss: 0.2913 - acc: 0.8760 - val_loss: 0.2475 - val_acc: 0.8990\n",
            "Epoch 26/30\n",
            "100/100 [==============================] - 22s 223ms/step - loss: 0.2931 - acc: 0.8790 - val_loss: 0.2389 - val_acc: 0.9020\n",
            "Epoch 27/30\n",
            "100/100 [==============================] - 21s 207ms/step - loss: 0.2838 - acc: 0.8720 - val_loss: 0.2417 - val_acc: 0.9070\n",
            "Epoch 28/30\n",
            "100/100 [==============================] - 22s 223ms/step - loss: 0.2911 - acc: 0.8805 - val_loss: 0.2421 - val_acc: 0.9000\n",
            "Epoch 29/30\n",
            "100/100 [==============================] - 20s 204ms/step - loss: 0.2730 - acc: 0.8845 - val_loss: 0.2385 - val_acc: 0.9060\n",
            "Epoch 30/30\n",
            "100/100 [==============================] - 23s 229ms/step - loss: 0.2898 - acc: 0.8760 - val_loss: 0.2484 - val_acc: 0.8950\n"
          ]
        }
      ]
    },
    {
      "cell_type": "markdown",
      "source": [
        "Freezing all the layers except a specific one"
      ],
      "metadata": {
        "id": "2o4SbvXRJgIU"
      }
    },
    {
      "cell_type": "code",
      "source": [
        "conv_base.trainable = True\n",
        "set_trainable = False\n",
        "for layer in conv_base.layers:\n",
        "    if layer.name == 'block5_conv1':\n",
        "      set_trainable = True\n",
        "    if set_trainable:\n",
        "      layer.trainable = True\n",
        "    else:\n",
        "      layer.trainable = False"
      ],
      "metadata": {
        "id": "W3GomsNXJjcO"
      },
      "execution_count": null,
      "outputs": []
    },
    {
      "cell_type": "markdown",
      "source": [
        "Fine Tuning the model"
      ],
      "metadata": {
        "id": "g8r5DnG9Jl5_"
      }
    },
    {
      "cell_type": "code",
      "source": [
        "model.compile(loss='binary_crossentropy',\n",
        "optimizer=optimizers.RMSprop(learning_rate=1e-5),\n",
        "metrics=['acc'])"
      ],
      "metadata": {
        "id": "I6k5WDPqJmfa"
      },
      "execution_count": null,
      "outputs": []
    },
    {
      "cell_type": "code",
      "source": [
        "history = model.fit(\n",
        "train_generator,\n",
        "steps_per_epoch=100,\n",
        "epochs=100,\n",
        "validation_data=validation_generator,\n",
        "validation_steps=50)"
      ],
      "metadata": {
        "id": "JgQydDIrJpsz",
        "colab": {
          "base_uri": "https://localhost:8080/"
        },
        "outputId": "846c8879-5a45-4730-ce4f-65006c23e02f"
      },
      "execution_count": null,
      "outputs": [
        {
          "output_type": "stream",
          "name": "stdout",
          "text": [
            "Epoch 1/100\n",
            " 45/100 [============>.................] - ETA: 9s - loss: 0.3204 - acc: 0.8589"
          ]
        }
      ]
    },
    {
      "cell_type": "markdown",
      "source": [
        "Plotting the results"
      ],
      "metadata": {
        "id": "FTp9DnWzJwJS"
      }
    },
    {
      "cell_type": "code",
      "source": [
        "import matplotlib.pyplot as plt\n",
        "acc = history.history['acc']\n",
        "val_acc = history.history['val_acc']\n",
        "loss = history.history['loss']\n",
        "val_loss = history.history['val_loss']\n",
        "epochs = range(1, len(acc) + 1)\n",
        "plt.plot(epochs, acc, 'bo', label='Training acc')\n",
        "plt.plot(epochs, val_acc, 'b', label='Validation acc')\n",
        "plt.title('Training and validation accuracy')\n",
        "plt.legend()\n",
        "plt.figure()\n",
        "plt.plot(epochs, loss, 'bo', label='Training loss')\n",
        "plt.plot(epochs, val_loss, 'b', label='Validation loss')\n",
        "plt.title('Training and validation loss')\n",
        "plt.legend()\n",
        "plt.show()"
      ],
      "metadata": {
        "id": "Cpv2BRyGJ0DR"
      },
      "execution_count": null,
      "outputs": []
    },
    {
      "cell_type": "code",
      "source": [
        "!jupyter nbconvert --to html KerasModel_withoutDataAugmentation.ipynb"
      ],
      "metadata": {
        "id": "9Mn3Wn1Mj9kQ"
      },
      "execution_count": null,
      "outputs": []
    }
  ]
}