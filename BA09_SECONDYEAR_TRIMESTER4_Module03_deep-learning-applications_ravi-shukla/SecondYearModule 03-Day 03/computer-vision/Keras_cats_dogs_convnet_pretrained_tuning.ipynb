{
  "nbformat": 4,
  "nbformat_minor": 0,
  "metadata": {
    "colab": {
      "provenance": []
    },
    "kernelspec": {
      "name": "python3",
      "display_name": "Python 3"
    },
    "language_info": {
      "name": "python"
    },
    "accelerator": "GPU",
    "gpuClass": "standard"
  },
  "cells": [
    {
      "cell_type": "code",
      "source": [
        "from google.colab import drive\n",
        "drive.mount('/content/drive')"
      ],
      "metadata": {
        "colab": {
          "base_uri": "https://localhost:8080/"
        },
        "id": "cv5z_DuRdwll",
        "outputId": "36359691-cd7a-41f2-b2ba-feccd769ce7f"
      },
      "execution_count": 1,
      "outputs": [
        {
          "output_type": "stream",
          "name": "stdout",
          "text": [
            "Drive already mounted at /content/drive; to attempt to forcibly remount, call drive.mount(\"/content/drive\", force_remount=True).\n"
          ]
        }
      ]
    },
    {
      "cell_type": "code",
      "source": [
        "!rm -rf '/content/cats_vs_dogs_small'\n",
        "!rm -rf '/content/dogs_cats'"
      ],
      "metadata": {
        "id": "faERcKQYfl0S"
      },
      "execution_count": 2,
      "outputs": []
    },
    {
      "cell_type": "code",
      "source": [
        "!unzip -qq '/content/drive/MyDrive/Colab_Notebooks/SECONDYEAR_TRIMESTER4_Module03_deep-learning-applications/DAY3_APPLICATION_OF_DEEP_LEARNING/dogs_cats.zip'"
      ],
      "metadata": {
        "id": "5R1fyEnxfr7F"
      },
      "execution_count": 3,
      "outputs": []
    },
    {
      "cell_type": "code",
      "source": [
        "import os, shutil, pathlib\n",
        "\n",
        "original_dir = pathlib.Path(\"dogs_cats/train\")\n",
        "new_base_dir = pathlib.Path(\"cats_vs_dogs_small\")\n",
        "\n",
        "def make_subset(subset_name, start_index, end_index):\n",
        "    for category in (\"cat\", \"dog\"):\n",
        "        dir = new_base_dir / subset_name / category\n",
        "        os.makedirs(dir)\n",
        "        fnames = [f\"{category}.{i}.jpg\" for i in range(start_index, end_index)]\n",
        "        for fname in fnames:\n",
        "            shutil.copyfile(src=original_dir / fname,dst=dir / fname)\n",
        "  \n",
        "make_subset(\"train\", start_index=0, end_index=1000)\n",
        "make_subset(\"validation\", start_index=1000, end_index=1500)\n",
        "make_subset(\"test\", start_index=1500, end_index=2500)"
      ],
      "metadata": {
        "id": "9doIijy9fsn9"
      },
      "execution_count": 4,
      "outputs": []
    },
    {
      "cell_type": "code",
      "source": [
        "from keras import layers\n",
        "from keras import models\n",
        "\n",
        "train_dir=\"/content/cats_vs_dogs_small/train\"\n",
        "validation_dir=\"/content/cats_vs_dogs_small/validation\"\n",
        "test_dir = \"/content/cats_vs_dogs_small/test\""
      ],
      "metadata": {
        "id": "-rST4zaAfw_i"
      },
      "execution_count": 5,
      "outputs": []
    },
    {
      "cell_type": "markdown",
      "source": [
        "This method allows Data Augmentation but should only be run on GPU"
      ],
      "metadata": {
        "id": "ECdr9C20yr_6"
      }
    },
    {
      "cell_type": "code",
      "source": [
        "from keras.applications import VGG16"
      ],
      "metadata": {
        "id": "RgqxnqaEytXz"
      },
      "execution_count": 6,
      "outputs": []
    },
    {
      "cell_type": "markdown",
      "source": [
        "Just reuse the bottom convolutional base of VGG16 model as its more generic, top will be related to specific classes so not used"
      ],
      "metadata": {
        "id": "3984lasWyvof"
      }
    },
    {
      "cell_type": "code",
      "source": [
        "conv_base = VGG16(weights='imagenet',include_top=False,input_shape=(150, 150, 3))"
      ],
      "metadata": {
        "id": "JtmPO9awyzzH"
      },
      "execution_count": 7,
      "outputs": []
    },
    {
      "cell_type": "markdown",
      "source": [
        "Adding a sequential model to top of conv_base"
      ],
      "metadata": {
        "id": "44T2l5Wry579"
      }
    },
    {
      "cell_type": "code",
      "source": [
        "from keras import models\n",
        "from keras import layers\n",
        "model = models.Sequential()\n",
        "model.add(conv_base)\n",
        "model.add(layers.Flatten())\n",
        "model.add(layers.Dense(256, activation='relu'))\n",
        "model.add(layers.Dense(1, activation='sigmoid'))"
      ],
      "metadata": {
        "id": "TdYxh82Yy2Vb"
      },
      "execution_count": 8,
      "outputs": []
    },
    {
      "cell_type": "markdown",
      "source": [
        "freeze the conv base. Freezing a layer means preventing their weights from being updated during training"
      ],
      "metadata": {
        "id": "D-tYF9XpzARN"
      }
    },
    {
      "cell_type": "code",
      "source": [
        "print('This is the number of trainable weights ''before freezing the conv base:', len(model.trainable_weights))\n",
        "conv_base.trainable = False\n",
        "print('This is the number of trainable weights '\n",
        "'after freezing the conv base:', len(model.trainable_weights))"
      ],
      "metadata": {
        "colab": {
          "base_uri": "https://localhost:8080/"
        },
        "id": "KbxBloaXzBG9",
        "outputId": "fdd515ce-a1f6-4c99-8a5f-1e5f4fef3327"
      },
      "execution_count": 9,
      "outputs": [
        {
          "output_type": "stream",
          "name": "stdout",
          "text": [
            "This is the number of trainable weights before freezing the conv base: 30\n",
            "This is the number of trainable weights after freezing the conv base: 4\n"
          ]
        }
      ]
    },
    {
      "cell_type": "code",
      "source": [
        "from keras.preprocessing.image import ImageDataGenerator\n",
        "train_datagen = ImageDataGenerator(\n",
        "rescale=1./255,\n",
        "rotation_range=40,\n",
        "width_shift_range=0.2,\n",
        "height_shift_range=0.2,\n",
        "shear_range=0.2,\n",
        "zoom_range=0.2,\n",
        "horizontal_flip=True,)"
      ],
      "metadata": {
        "id": "lxO06VZBzExT"
      },
      "execution_count": 10,
      "outputs": []
    },
    {
      "cell_type": "markdown",
      "source": [
        "Validation Data Set should not be augmented"
      ],
      "metadata": {
        "id": "fC_HPZK6zbVj"
      }
    },
    {
      "cell_type": "code",
      "source": [
        "\n",
        "test_datagen = ImageDataGenerator(rescale=1./255)"
      ],
      "metadata": {
        "id": "PAVmV43zzcMO"
      },
      "execution_count": 11,
      "outputs": []
    },
    {
      "cell_type": "markdown",
      "source": [
        "Resize all images to 150x150"
      ],
      "metadata": {
        "id": "eA88SPWBzezp"
      }
    },
    {
      "cell_type": "code",
      "source": [
        "'''\n",
        "train_generator = train_datagen.flow_from_directory(train_dir,target_size=(150, 150),batch_size=20,class_mode='binary')\n",
        "validation_generator = test_datagen.flow_from_directory(validation_dir,target_size=(150, 150),batch_size=20,class_mode='binary')\n",
        "from keras import optimizers\n",
        "model.compile(loss='binary_crossentropy',\n",
        "optimizer=optimizers.RMSprop(learning_rate=2e-5),\n",
        "metrics=['acc'])\n",
        "history = model.fit(\n",
        "train_generator,\n",
        "steps_per_epoch=100,\n",
        "epochs=30,\n",
        "validation_data=validation_generator,\n",
        "validation_steps=50)\n",
        "'''"
      ],
      "metadata": {
        "colab": {
          "base_uri": "https://localhost:8080/",
          "height": 105
        },
        "id": "pef0CpnpXTfJ",
        "outputId": "93fcdcf5-d707-4696-a96f-2674f3cb0bb5"
      },
      "execution_count": 12,
      "outputs": [
        {
          "output_type": "execute_result",
          "data": {
            "text/plain": [
              "\"\\ntrain_generator = train_datagen.flow_from_directory(train_dir,target_size=(150, 150),batch_size=20,class_mode='binary')\\nvalidation_generator = test_datagen.flow_from_directory(validation_dir,target_size=(150, 150),batch_size=20,class_mode='binary')\\nfrom keras import optimizers\\nmodel.compile(loss='binary_crossentropy',\\noptimizer=optimizers.RMSprop(learning_rate=2e-5),\\nmetrics=['acc'])\\nhistory = model.fit(\\ntrain_generator,\\nsteps_per_epoch=100,\\nepochs=30,\\nvalidation_data=validation_generator,\\nvalidation_steps=50)\\n\""
            ],
            "application/vnd.google.colaboratory.intrinsic+json": {
              "type": "string"
            }
          },
          "metadata": {},
          "execution_count": 12
        }
      ]
    },
    {
      "cell_type": "markdown",
      "source": [
        "Freezing all the layers except a specific one"
      ],
      "metadata": {
        "id": "1RIcA_30z1GW"
      }
    },
    {
      "cell_type": "code",
      "source": [
        "conv_base.trainable = True\n",
        "set_trainable = False\n",
        "for layer in conv_base.layers:\n",
        "    if layer.name == 'block5_conv1':\n",
        "        set_trainable = True\n",
        "    if set_trainable:\n",
        "        layer.trainable = True\n",
        "    else:\n",
        "        layer.trainable = False"
      ],
      "metadata": {
        "id": "X-ZNHLdszlyp"
      },
      "execution_count": 13,
      "outputs": []
    },
    {
      "cell_type": "code",
      "source": [
        "train_generator = train_datagen.flow_from_directory(train_dir,target_size=(150, 150),batch_size=20,class_mode='binary')\n",
        "validation_generator = test_datagen.flow_from_directory(validation_dir,target_size=(150, 150),batch_size=20,class_mode='binary')\n",
        "from keras import optimizers"
      ],
      "metadata": {
        "colab": {
          "base_uri": "https://localhost:8080/"
        },
        "id": "uVZ_C5j2X_PZ",
        "outputId": "e32faca3-bfb1-4740-c6ec-433d0ec3a411"
      },
      "execution_count": 14,
      "outputs": [
        {
          "output_type": "stream",
          "name": "stdout",
          "text": [
            "Found 2000 images belonging to 2 classes.\n",
            "Found 1000 images belonging to 2 classes.\n"
          ]
        }
      ]
    },
    {
      "cell_type": "markdown",
      "source": [
        "Fine Tuning the model"
      ],
      "metadata": {
        "id": "ZWheO6lEYEYI"
      }
    },
    {
      "cell_type": "code",
      "source": [
        "model.compile(loss='binary_crossentropy',\n",
        "optimizer=optimizers.RMSprop(learning_rate=1e-5),\n",
        "metrics=['acc'])\n",
        "history = model.fit(\n",
        "train_generator,\n",
        "steps_per_epoch=100,\n",
        "epochs=100,\n",
        "validation_data=validation_generator,\n",
        "validation_steps=50)"
      ],
      "metadata": {
        "colab": {
          "base_uri": "https://localhost:8080/"
        },
        "id": "HerBIomM0JTp",
        "outputId": "689494d4-4e1a-4441-8549-4773c0778102"
      },
      "execution_count": 15,
      "outputs": [
        {
          "output_type": "stream",
          "name": "stdout",
          "text": [
            "Epoch 1/100\n",
            "100/100 [==============================] - 27s 219ms/step - loss: 0.5510 - acc: 0.7225 - val_loss: 0.3440 - val_acc: 0.8570\n",
            "Epoch 2/100\n",
            "100/100 [==============================] - 23s 233ms/step - loss: 0.3795 - acc: 0.8340 - val_loss: 0.2528 - val_acc: 0.8970\n",
            "Epoch 3/100\n",
            "100/100 [==============================] - 23s 230ms/step - loss: 0.3157 - acc: 0.8675 - val_loss: 0.2431 - val_acc: 0.8920\n",
            "Epoch 4/100\n",
            "100/100 [==============================] - 22s 216ms/step - loss: 0.2841 - acc: 0.8765 - val_loss: 0.2072 - val_acc: 0.9140\n",
            "Epoch 5/100\n",
            "100/100 [==============================] - 23s 230ms/step - loss: 0.2690 - acc: 0.8855 - val_loss: 0.1894 - val_acc: 0.9230\n",
            "Epoch 6/100\n",
            "100/100 [==============================] - 21s 214ms/step - loss: 0.2499 - acc: 0.8890 - val_loss: 0.2184 - val_acc: 0.9100\n",
            "Epoch 7/100\n",
            "100/100 [==============================] - 22s 222ms/step - loss: 0.2403 - acc: 0.8960 - val_loss: 0.1820 - val_acc: 0.9230\n",
            "Epoch 8/100\n",
            "100/100 [==============================] - 23s 229ms/step - loss: 0.2296 - acc: 0.9015 - val_loss: 0.1795 - val_acc: 0.9240\n",
            "Epoch 9/100\n",
            "100/100 [==============================] - 21s 209ms/step - loss: 0.2184 - acc: 0.9055 - val_loss: 0.1826 - val_acc: 0.9220\n",
            "Epoch 10/100\n",
            "100/100 [==============================] - 23s 225ms/step - loss: 0.2106 - acc: 0.9120 - val_loss: 0.1664 - val_acc: 0.9180\n",
            "Epoch 11/100\n",
            "100/100 [==============================] - 23s 231ms/step - loss: 0.1811 - acc: 0.9200 - val_loss: 0.1664 - val_acc: 0.9230\n",
            "Epoch 12/100\n",
            "100/100 [==============================] - 23s 230ms/step - loss: 0.1963 - acc: 0.9200 - val_loss: 0.1637 - val_acc: 0.9390\n",
            "Epoch 13/100\n",
            "100/100 [==============================] - 21s 214ms/step - loss: 0.1973 - acc: 0.9245 - val_loss: 0.1826 - val_acc: 0.9240\n",
            "Epoch 14/100\n",
            "100/100 [==============================] - 22s 219ms/step - loss: 0.1689 - acc: 0.9315 - val_loss: 0.1527 - val_acc: 0.9320\n",
            "Epoch 15/100\n",
            "100/100 [==============================] - 21s 212ms/step - loss: 0.1743 - acc: 0.9300 - val_loss: 0.1985 - val_acc: 0.9210\n",
            "Epoch 16/100\n",
            "100/100 [==============================] - 23s 230ms/step - loss: 0.1664 - acc: 0.9325 - val_loss: 0.1620 - val_acc: 0.9310\n",
            "Epoch 17/100\n",
            "100/100 [==============================] - 21s 210ms/step - loss: 0.1394 - acc: 0.9450 - val_loss: 0.1672 - val_acc: 0.9270\n",
            "Epoch 18/100\n",
            "100/100 [==============================] - 22s 222ms/step - loss: 0.1486 - acc: 0.9400 - val_loss: 0.1713 - val_acc: 0.9400\n",
            "Epoch 19/100\n",
            "100/100 [==============================] - 21s 208ms/step - loss: 0.1374 - acc: 0.9430 - val_loss: 0.1789 - val_acc: 0.9340\n",
            "Epoch 20/100\n",
            "100/100 [==============================] - 22s 225ms/step - loss: 0.1315 - acc: 0.9475 - val_loss: 0.2581 - val_acc: 0.9150\n",
            "Epoch 21/100\n",
            "100/100 [==============================] - 21s 212ms/step - loss: 0.1377 - acc: 0.9435 - val_loss: 0.1560 - val_acc: 0.9400\n",
            "Epoch 22/100\n",
            "100/100 [==============================] - 22s 218ms/step - loss: 0.1200 - acc: 0.9505 - val_loss: 0.1775 - val_acc: 0.9340\n",
            "Epoch 23/100\n",
            "100/100 [==============================] - 21s 212ms/step - loss: 0.1076 - acc: 0.9565 - val_loss: 0.1564 - val_acc: 0.9400\n",
            "Epoch 24/100\n",
            "100/100 [==============================] - 23s 227ms/step - loss: 0.1214 - acc: 0.9470 - val_loss: 0.1567 - val_acc: 0.9400\n",
            "Epoch 25/100\n",
            "100/100 [==============================] - 21s 210ms/step - loss: 0.1178 - acc: 0.9540 - val_loss: 0.1743 - val_acc: 0.9340\n",
            "Epoch 26/100\n",
            "100/100 [==============================] - 22s 221ms/step - loss: 0.1119 - acc: 0.9575 - val_loss: 0.1575 - val_acc: 0.9390\n",
            "Epoch 27/100\n",
            "100/100 [==============================] - 21s 205ms/step - loss: 0.1001 - acc: 0.9640 - val_loss: 0.2027 - val_acc: 0.9320\n",
            "Epoch 28/100\n",
            "100/100 [==============================] - 23s 229ms/step - loss: 0.1072 - acc: 0.9585 - val_loss: 0.1986 - val_acc: 0.9330\n",
            "Epoch 29/100\n",
            "100/100 [==============================] - 21s 209ms/step - loss: 0.0886 - acc: 0.9665 - val_loss: 0.1756 - val_acc: 0.9360\n",
            "Epoch 30/100\n",
            "100/100 [==============================] - 23s 230ms/step - loss: 0.1067 - acc: 0.9590 - val_loss: 0.1615 - val_acc: 0.9390\n",
            "Epoch 31/100\n",
            "100/100 [==============================] - 21s 211ms/step - loss: 0.1019 - acc: 0.9555 - val_loss: 0.1606 - val_acc: 0.9330\n",
            "Epoch 32/100\n",
            "100/100 [==============================] - 22s 218ms/step - loss: 0.1023 - acc: 0.9595 - val_loss: 0.1619 - val_acc: 0.9370\n",
            "Epoch 33/100\n",
            "100/100 [==============================] - 21s 214ms/step - loss: 0.0865 - acc: 0.9680 - val_loss: 0.1514 - val_acc: 0.9390\n",
            "Epoch 34/100\n",
            "100/100 [==============================] - 23s 226ms/step - loss: 0.0833 - acc: 0.9635 - val_loss: 0.1994 - val_acc: 0.9270\n",
            "Epoch 35/100\n",
            "100/100 [==============================] - 22s 224ms/step - loss: 0.0756 - acc: 0.9705 - val_loss: 0.2217 - val_acc: 0.9280\n",
            "Epoch 36/100\n",
            "100/100 [==============================] - 23s 228ms/step - loss: 0.0869 - acc: 0.9690 - val_loss: 0.1615 - val_acc: 0.9400\n",
            "Epoch 37/100\n",
            "100/100 [==============================] - 22s 222ms/step - loss: 0.0856 - acc: 0.9650 - val_loss: 0.2432 - val_acc: 0.9220\n",
            "Epoch 38/100\n",
            "100/100 [==============================] - 21s 214ms/step - loss: 0.0805 - acc: 0.9690 - val_loss: 0.1746 - val_acc: 0.9370\n",
            "Epoch 39/100\n",
            "100/100 [==============================] - 22s 220ms/step - loss: 0.0676 - acc: 0.9755 - val_loss: 0.2048 - val_acc: 0.9290\n",
            "Epoch 40/100\n",
            "100/100 [==============================] - 21s 212ms/step - loss: 0.0767 - acc: 0.9730 - val_loss: 0.1835 - val_acc: 0.9370\n",
            "Epoch 41/100\n",
            "100/100 [==============================] - 23s 225ms/step - loss: 0.0663 - acc: 0.9750 - val_loss: 0.1575 - val_acc: 0.9430\n",
            "Epoch 42/100\n",
            "100/100 [==============================] - 21s 213ms/step - loss: 0.0666 - acc: 0.9745 - val_loss: 0.2185 - val_acc: 0.9320\n",
            "Epoch 43/100\n",
            "100/100 [==============================] - 23s 225ms/step - loss: 0.0648 - acc: 0.9765 - val_loss: 0.1760 - val_acc: 0.9400\n",
            "Epoch 44/100\n",
            "100/100 [==============================] - 21s 208ms/step - loss: 0.0563 - acc: 0.9785 - val_loss: 0.4056 - val_acc: 0.8950\n",
            "Epoch 45/100\n",
            "100/100 [==============================] - 23s 226ms/step - loss: 0.0556 - acc: 0.9800 - val_loss: 0.2212 - val_acc: 0.9310\n",
            "Epoch 46/100\n",
            "100/100 [==============================] - 23s 230ms/step - loss: 0.0545 - acc: 0.9800 - val_loss: 0.1706 - val_acc: 0.9460\n",
            "Epoch 47/100\n",
            "100/100 [==============================] - 21s 207ms/step - loss: 0.0588 - acc: 0.9770 - val_loss: 0.1694 - val_acc: 0.9460\n",
            "Epoch 48/100\n",
            "100/100 [==============================] - 22s 224ms/step - loss: 0.0593 - acc: 0.9800 - val_loss: 0.2142 - val_acc: 0.9370\n",
            "Epoch 49/100\n",
            "100/100 [==============================] - 21s 215ms/step - loss: 0.0472 - acc: 0.9835 - val_loss: 0.1959 - val_acc: 0.9410\n",
            "Epoch 50/100\n",
            "100/100 [==============================] - 22s 219ms/step - loss: 0.0557 - acc: 0.9765 - val_loss: 0.1963 - val_acc: 0.9330\n",
            "Epoch 51/100\n",
            "100/100 [==============================] - 23s 225ms/step - loss: 0.0515 - acc: 0.9810 - val_loss: 0.2601 - val_acc: 0.9280\n",
            "Epoch 52/100\n",
            "100/100 [==============================] - 21s 215ms/step - loss: 0.0468 - acc: 0.9835 - val_loss: 0.1866 - val_acc: 0.9390\n",
            "Epoch 53/100\n",
            "100/100 [==============================] - 22s 223ms/step - loss: 0.0517 - acc: 0.9790 - val_loss: 0.1835 - val_acc: 0.9370\n",
            "Epoch 54/100\n",
            "100/100 [==============================] - 21s 211ms/step - loss: 0.0520 - acc: 0.9825 - val_loss: 0.3706 - val_acc: 0.9100\n",
            "Epoch 55/100\n",
            "100/100 [==============================] - 22s 221ms/step - loss: 0.0569 - acc: 0.9770 - val_loss: 0.1775 - val_acc: 0.9380\n",
            "Epoch 56/100\n",
            "100/100 [==============================] - 21s 209ms/step - loss: 0.0503 - acc: 0.9810 - val_loss: 0.2375 - val_acc: 0.9280\n",
            "Epoch 57/100\n",
            "100/100 [==============================] - 22s 221ms/step - loss: 0.0441 - acc: 0.9815 - val_loss: 0.3999 - val_acc: 0.9090\n",
            "Epoch 58/100\n",
            "100/100 [==============================] - 22s 221ms/step - loss: 0.0394 - acc: 0.9870 - val_loss: 0.3122 - val_acc: 0.9240\n",
            "Epoch 59/100\n",
            "100/100 [==============================] - 21s 211ms/step - loss: 0.0458 - acc: 0.9825 - val_loss: 0.2330 - val_acc: 0.9350\n",
            "Epoch 60/100\n",
            "100/100 [==============================] - 22s 222ms/step - loss: 0.0509 - acc: 0.9790 - val_loss: 0.2278 - val_acc: 0.9380\n",
            "Epoch 61/100\n",
            "100/100 [==============================] - 21s 215ms/step - loss: 0.0385 - acc: 0.9855 - val_loss: 0.2332 - val_acc: 0.9340\n",
            "Epoch 62/100\n",
            "100/100 [==============================] - 22s 221ms/step - loss: 0.0434 - acc: 0.9815 - val_loss: 0.2127 - val_acc: 0.9350\n",
            "Epoch 63/100\n",
            "100/100 [==============================] - 22s 224ms/step - loss: 0.0424 - acc: 0.9845 - val_loss: 0.1868 - val_acc: 0.9380\n",
            "Epoch 64/100\n",
            "100/100 [==============================] - 22s 220ms/step - loss: 0.0422 - acc: 0.9835 - val_loss: 0.2015 - val_acc: 0.9370\n",
            "Epoch 65/100\n",
            "100/100 [==============================] - 21s 209ms/step - loss: 0.0398 - acc: 0.9840 - val_loss: 0.2922 - val_acc: 0.9350\n",
            "Epoch 66/100\n",
            "100/100 [==============================] - 22s 223ms/step - loss: 0.0383 - acc: 0.9865 - val_loss: 0.2794 - val_acc: 0.9360\n",
            "Epoch 67/100\n",
            "100/100 [==============================] - 23s 229ms/step - loss: 0.0296 - acc: 0.9895 - val_loss: 0.2313 - val_acc: 0.9390\n",
            "Epoch 68/100\n",
            "100/100 [==============================] - 21s 213ms/step - loss: 0.0293 - acc: 0.9880 - val_loss: 0.2379 - val_acc: 0.9380\n",
            "Epoch 69/100\n",
            "100/100 [==============================] - 22s 223ms/step - loss: 0.0346 - acc: 0.9865 - val_loss: 0.3285 - val_acc: 0.9260\n",
            "Epoch 70/100\n",
            "100/100 [==============================] - 21s 215ms/step - loss: 0.0434 - acc: 0.9855 - val_loss: 0.1897 - val_acc: 0.9420\n",
            "Epoch 71/100\n",
            "100/100 [==============================] - 21s 209ms/step - loss: 0.0367 - acc: 0.9860 - val_loss: 0.2109 - val_acc: 0.9400\n",
            "Epoch 72/100\n",
            "100/100 [==============================] - 22s 222ms/step - loss: 0.0427 - acc: 0.9825 - val_loss: 0.2783 - val_acc: 0.9350\n",
            "Epoch 73/100\n",
            "100/100 [==============================] - 21s 213ms/step - loss: 0.0360 - acc: 0.9870 - val_loss: 0.2763 - val_acc: 0.9370\n",
            "Epoch 74/100\n",
            "100/100 [==============================] - 21s 214ms/step - loss: 0.0306 - acc: 0.9875 - val_loss: 0.2022 - val_acc: 0.9380\n",
            "Epoch 75/100\n",
            "100/100 [==============================] - 22s 219ms/step - loss: 0.0316 - acc: 0.9880 - val_loss: 0.2192 - val_acc: 0.9420\n",
            "Epoch 76/100\n",
            "100/100 [==============================] - 21s 211ms/step - loss: 0.0363 - acc: 0.9865 - val_loss: 0.2779 - val_acc: 0.9320\n",
            "Epoch 77/100\n",
            "100/100 [==============================] - 22s 216ms/step - loss: 0.0265 - acc: 0.9895 - val_loss: 0.2843 - val_acc: 0.9340\n",
            "Epoch 78/100\n",
            "100/100 [==============================] - 23s 226ms/step - loss: 0.0312 - acc: 0.9880 - val_loss: 0.2574 - val_acc: 0.9360\n",
            "Epoch 79/100\n",
            "100/100 [==============================] - 21s 214ms/step - loss: 0.0306 - acc: 0.9890 - val_loss: 0.2945 - val_acc: 0.9280\n",
            "Epoch 80/100\n",
            "100/100 [==============================] - 22s 224ms/step - loss: 0.0360 - acc: 0.9875 - val_loss: 0.2924 - val_acc: 0.9300\n",
            "Epoch 81/100\n",
            "100/100 [==============================] - 21s 212ms/step - loss: 0.0265 - acc: 0.9915 - val_loss: 0.2356 - val_acc: 0.9380\n",
            "Epoch 82/100\n",
            "100/100 [==============================] - 22s 219ms/step - loss: 0.0271 - acc: 0.9900 - val_loss: 0.2140 - val_acc: 0.9430\n",
            "Epoch 83/100\n",
            "100/100 [==============================] - 23s 229ms/step - loss: 0.0300 - acc: 0.9885 - val_loss: 0.2811 - val_acc: 0.9330\n",
            "Epoch 84/100\n",
            "100/100 [==============================] - 21s 212ms/step - loss: 0.0353 - acc: 0.9875 - val_loss: 0.2055 - val_acc: 0.9430\n",
            "Epoch 85/100\n",
            "100/100 [==============================] - 22s 218ms/step - loss: 0.0324 - acc: 0.9890 - val_loss: 0.2189 - val_acc: 0.9410\n",
            "Epoch 86/100\n",
            "100/100 [==============================] - 23s 228ms/step - loss: 0.0195 - acc: 0.9955 - val_loss: 0.3421 - val_acc: 0.9260\n",
            "Epoch 87/100\n",
            "100/100 [==============================] - 21s 211ms/step - loss: 0.0333 - acc: 0.9900 - val_loss: 0.2764 - val_acc: 0.9350\n",
            "Epoch 88/100\n",
            "100/100 [==============================] - 22s 222ms/step - loss: 0.0372 - acc: 0.9850 - val_loss: 0.3069 - val_acc: 0.9300\n",
            "Epoch 89/100\n",
            "100/100 [==============================] - 22s 223ms/step - loss: 0.0281 - acc: 0.9895 - val_loss: 0.2204 - val_acc: 0.9400\n",
            "Epoch 90/100\n",
            "100/100 [==============================] - 21s 211ms/step - loss: 0.0259 - acc: 0.9920 - val_loss: 0.2097 - val_acc: 0.9450\n",
            "Epoch 91/100\n",
            "100/100 [==============================] - 22s 222ms/step - loss: 0.0229 - acc: 0.9910 - val_loss: 0.2609 - val_acc: 0.9340\n",
            "Epoch 92/100\n",
            "100/100 [==============================] - 22s 223ms/step - loss: 0.0305 - acc: 0.9900 - val_loss: 0.2210 - val_acc: 0.9460\n",
            "Epoch 93/100\n",
            "100/100 [==============================] - 21s 210ms/step - loss: 0.0159 - acc: 0.9935 - val_loss: 0.2695 - val_acc: 0.9420\n",
            "Epoch 94/100\n",
            "100/100 [==============================] - 22s 224ms/step - loss: 0.0293 - acc: 0.9875 - val_loss: 0.3002 - val_acc: 0.9350\n",
            "Epoch 95/100\n",
            "100/100 [==============================] - 22s 218ms/step - loss: 0.0180 - acc: 0.9925 - val_loss: 0.5977 - val_acc: 0.9060\n",
            "Epoch 96/100\n",
            "100/100 [==============================] - 21s 212ms/step - loss: 0.0209 - acc: 0.9935 - val_loss: 0.2369 - val_acc: 0.9420\n",
            "Epoch 97/100\n",
            "100/100 [==============================] - 22s 222ms/step - loss: 0.0306 - acc: 0.9895 - val_loss: 0.2508 - val_acc: 0.9440\n",
            "Epoch 98/100\n",
            "100/100 [==============================] - 22s 222ms/step - loss: 0.0252 - acc: 0.9930 - val_loss: 0.2631 - val_acc: 0.9430\n",
            "Epoch 99/100\n",
            "100/100 [==============================] - 21s 211ms/step - loss: 0.0270 - acc: 0.9890 - val_loss: 0.2623 - val_acc: 0.9410\n",
            "Epoch 100/100\n",
            "100/100 [==============================] - 22s 219ms/step - loss: 0.0268 - acc: 0.9905 - val_loss: 0.2573 - val_acc: 0.9410\n"
          ]
        }
      ]
    },
    {
      "cell_type": "markdown",
      "source": [
        "Plotting the results\n",
        "\n",
        "\n",
        "\n"
      ],
      "metadata": {
        "id": "GS4Ny1d_0MJZ"
      }
    },
    {
      "cell_type": "code",
      "source": [
        "import matplotlib.pyplot as plt\n",
        "acc = history.history['acc']\n",
        "val_acc = history.history['val_acc']\n",
        "loss = history.history['loss']\n",
        "val_loss = history.history['val_loss']\n",
        "epochs = range(1, len(acc) + 1)\n",
        "plt.plot(epochs, acc, 'bo', label='Training acc')\n",
        "plt.plot(epochs, val_acc, 'b', label='Validation acc')\n",
        "plt.title('Training and validation accuracy')\n",
        "plt.legend()\n",
        "plt.figure()\n",
        "plt.plot(epochs, loss, 'bo', label='Training loss')\n",
        "plt.plot(epochs, val_loss, 'b', label='Validation loss')\n",
        "plt.title('Training and validation loss')\n",
        "plt.legend()\n",
        "plt.show()"
      ],
      "metadata": {
        "colab": {
          "base_uri": "https://localhost:8080/",
          "height": 887
        },
        "id": "PpjDvhsf0PIP",
        "outputId": "a9c86704-87b1-4f0f-c4b5-e22fec368ae4"
      },
      "execution_count": 16,
      "outputs": [
        {
          "output_type": "display_data",
          "data": {
            "text/plain": [
              "<Figure size 640x480 with 1 Axes>"
            ],
            "image/png": "[encoded data removed]"
          },
          "metadata": {}
        },
        {
          "output_type": "display_data",
          "data": {
            "text/plain": [
              "<Figure size 640x480 with 1 Axes>"
            ],
            "image/png": "[encoded data removed]"
          },
          "metadata": {}
        }
      ]
    },
    {
      "cell_type": "code",
      "source": [
        "!jupyter nbconvert Keras_cats_dogs_convnet_pretrained_tuning.ipynb --to html"
      ],
      "metadata": {
        "id": "dJsYSNjmXEq3"
      },
      "execution_count": 17,
      "outputs": []
    }
  ]
}