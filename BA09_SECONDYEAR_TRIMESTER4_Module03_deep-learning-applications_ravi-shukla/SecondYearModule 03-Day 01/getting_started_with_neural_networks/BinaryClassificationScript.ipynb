{
  "nbformat": 4,
  "nbformat_minor": 0,
  "metadata": {
    "colab": {
      "provenance": []
    },
    "kernelspec": {
      "name": "python3",
      "display_name": "Python 3"
    },
    "language_info": {
      "name": "python"
    },
    "accelerator": "GPU",
    "gpuClass": "standard"
  },
  "cells": [
    {
      "cell_type": "markdown",
      "source": [
        "This is a companion notebook for the book Deep Learning with Python, Second Edition. For readability, it only contains runnable code blocks and section titles, and omits everything else in the book: text paragraphs, figures, and pseudocode.\n",
        "\n",
        "If you want to be able to follow what's going on, I recommend reading the notebook side by side with your copy of the book.\n",
        "\n",
        "This notebook was generated for TensorFlow 2.6.\n",
        "\n",
        "**# Getting started with neural networks: Classification and regression**\n",
        "\n",
        "# **Classifying movie reviews: A binary classification example**\n",
        "\n",
        "**# The IMDB dataset**\n",
        "\n",
        "Loading the IMDB dataset"
      ],
      "metadata": {
        "id": "5zga0c3Lfjtk"
      }
    },
    {
      "cell_type": "code",
      "source": [
        "import tensorflow as tf\n",
        "imdb=tf.keras.datasets.imdb"
      ],
      "metadata": {
        "id": "TTKMiT80jqy6"
      },
      "execution_count": 7,
      "outputs": []
    },
    {
      "cell_type": "code",
      "source": [
        "(train_data, train_labels), (test_data, test_labels) = imdb.load_data(\n",
        "    num_words=10000)"
      ],
      "metadata": {
        "id": "0haAQYwsgKS6"
      },
      "execution_count": 8,
      "outputs": []
    },
    {
      "cell_type": "code",
      "source": [
        "train_data[0]"
      ],
      "metadata": {
        "colab": {
          "base_uri": "https://localhost:8080/"
        },
        "id": "8p7uaE_ugNc4",
        "outputId": "2da22b0a-bb8c-4c42-c0fe-ff9574d96771"
      },
      "execution_count": 9,
      "outputs": [
        {
          "output_type": "execute_result",
          "data": {
            "text/plain": [
              "[1,\n",
              " 14,\n",
              " 22,\n",
              " 16,\n",
              " 43,\n",
              " 530,\n",
              " 973,\n",
              " 1622,\n",
              " 1385,\n",
              " 65,\n",
              " 458,\n",
              " 4468,\n",
              " 66,\n",
              " 3941,\n",
              " 4,\n",
              " 173,\n",
              " 36,\n",
              " 256,\n",
              " 5,\n",
              " 25,\n",
              " 100,\n",
              " 43,\n",
              " 838,\n",
              " 112,\n",
              " 50,\n",
              " 670,\n",
              " 2,\n",
              " 9,\n",
              " 35,\n",
              " 480,\n",
              " 284,\n",
              " 5,\n",
              " 150,\n",
              " 4,\n",
              " 172,\n",
              " 112,\n",
              " 167,\n",
              " 2,\n",
              " 336,\n",
              " 385,\n",
              " 39,\n",
              " 4,\n",
              " 172,\n",
              " 4536,\n",
              " 1111,\n",
              " 17,\n",
              " 546,\n",
              " 38,\n",
              " 13,\n",
              " 447,\n",
              " 4,\n",
              " 192,\n",
              " 50,\n",
              " 16,\n",
              " 6,\n",
              " 147,\n",
              " 2025,\n",
              " 19,\n",
              " 14,\n",
              " 22,\n",
              " 4,\n",
              " 1920,\n",
              " 4613,\n",
              " 469,\n",
              " 4,\n",
              " 22,\n",
              " 71,\n",
              " 87,\n",
              " 12,\n",
              " 16,\n",
              " 43,\n",
              " 530,\n",
              " 38,\n",
              " 76,\n",
              " 15,\n",
              " 13,\n",
              " 1247,\n",
              " 4,\n",
              " 22,\n",
              " 17,\n",
              " 515,\n",
              " 17,\n",
              " 12,\n",
              " 16,\n",
              " 626,\n",
              " 18,\n",
              " 2,\n",
              " 5,\n",
              " 62,\n",
              " 386,\n",
              " 12,\n",
              " 8,\n",
              " 316,\n",
              " 8,\n",
              " 106,\n",
              " 5,\n",
              " 4,\n",
              " 2223,\n",
              " 5244,\n",
              " 16,\n",
              " 480,\n",
              " 66,\n",
              " 3785,\n",
              " 33,\n",
              " 4,\n",
              " 130,\n",
              " 12,\n",
              " 16,\n",
              " 38,\n",
              " 619,\n",
              " 5,\n",
              " 25,\n",
              " 124,\n",
              " 51,\n",
              " 36,\n",
              " 135,\n",
              " 48,\n",
              " 25,\n",
              " 1415,\n",
              " 33,\n",
              " 6,\n",
              " 22,\n",
              " 12,\n",
              " 215,\n",
              " 28,\n",
              " 77,\n",
              " 52,\n",
              " 5,\n",
              " 14,\n",
              " 407,\n",
              " 16,\n",
              " 82,\n",
              " 2,\n",
              " 8,\n",
              " 4,\n",
              " 107,\n",
              " 117,\n",
              " 5952,\n",
              " 15,\n",
              " 256,\n",
              " 4,\n",
              " 2,\n",
              " 7,\n",
              " 3766,\n",
              " 5,\n",
              " 723,\n",
              " 36,\n",
              " 71,\n",
              " 43,\n",
              " 530,\n",
              " 476,\n",
              " 26,\n",
              " 400,\n",
              " 317,\n",
              " 46,\n",
              " 7,\n",
              " 4,\n",
              " 2,\n",
              " 1029,\n",
              " 13,\n",
              " 104,\n",
              " 88,\n",
              " 4,\n",
              " 381,\n",
              " 15,\n",
              " 297,\n",
              " 98,\n",
              " 32,\n",
              " 2071,\n",
              " 56,\n",
              " 26,\n",
              " 141,\n",
              " 6,\n",
              " 194,\n",
              " 7486,\n",
              " 18,\n",
              " 4,\n",
              " 226,\n",
              " 22,\n",
              " 21,\n",
              " 134,\n",
              " 476,\n",
              " 26,\n",
              " 480,\n",
              " 5,\n",
              " 144,\n",
              " 30,\n",
              " 5535,\n",
              " 18,\n",
              " 51,\n",
              " 36,\n",
              " 28,\n",
              " 224,\n",
              " 92,\n",
              " 25,\n",
              " 104,\n",
              " 4,\n",
              " 226,\n",
              " 65,\n",
              " 16,\n",
              " 38,\n",
              " 1334,\n",
              " 88,\n",
              " 12,\n",
              " 16,\n",
              " 283,\n",
              " 5,\n",
              " 16,\n",
              " 4472,\n",
              " 113,\n",
              " 103,\n",
              " 32,\n",
              " 15,\n",
              " 16,\n",
              " 5345,\n",
              " 19,\n",
              " 178,\n",
              " 32]"
            ]
          },
          "metadata": {},
          "execution_count": 9
        }
      ]
    },
    {
      "cell_type": "code",
      "source": [
        "train_labels[0]"
      ],
      "metadata": {
        "colab": {
          "base_uri": "https://localhost:8080/"
        },
        "id": "QTpfRisfgSiH",
        "outputId": "38cdab2f-1c70-4f7f-a75b-5497aa356a57"
      },
      "execution_count": 10,
      "outputs": [
        {
          "output_type": "execute_result",
          "data": {
            "text/plain": [
              "1"
            ]
          },
          "metadata": {},
          "execution_count": 10
        }
      ]
    },
    {
      "cell_type": "code",
      "source": [
        "max([max(sequence) for sequence in train_data])"
      ],
      "metadata": {
        "colab": {
          "base_uri": "https://localhost:8080/"
        },
        "id": "vG1iDELugViP",
        "outputId": "4b6c02cf-8e83-4a77-ec0e-368592a72466"
      },
      "execution_count": 11,
      "outputs": [
        {
          "output_type": "execute_result",
          "data": {
            "text/plain": [
              "9999"
            ]
          },
          "metadata": {},
          "execution_count": 11
        }
      ]
    },
    {
      "cell_type": "markdown",
      "source": [
        "**Decoding reviews back to text**"
      ],
      "metadata": {
        "id": "FDO31IE9gXsg"
      }
    },
    {
      "cell_type": "code",
      "source": [
        "word_index = imdb.get_word_index()\n",
        "reverse_word_index = dict(\n",
        "    [(value, key) for (key, value) in word_index.items()])\n",
        "decoded_review = \" \".join(\n",
        "    [reverse_word_index.get(i - 3, \"?\") for i in train_data[0]])"
      ],
      "metadata": {
        "colab": {
          "base_uri": "https://localhost:8080/"
        },
        "id": "Tzn5Mv3bgam_",
        "outputId": "1d53d910-3e83-42ac-c2f0-4721f2eea7ad"
      },
      "execution_count": 12,
      "outputs": [
        {
          "output_type": "stream",
          "name": "stdout",
          "text": [
            "Downloading data from https://storage.googleapis.com/tensorflow/tf-keras-datasets/imdb_word_index.json\n",
            "1641221/1641221 [==============================] - 0s 0us/step\n"
          ]
        }
      ]
    },
    {
      "cell_type": "markdown",
      "source": [
        "# **Preparing the data**"
      ],
      "metadata": {
        "id": "2gLwT5evgvrK"
      }
    },
    {
      "cell_type": "markdown",
      "source": [
        "**Encoding the integer sequences via multi-hot encoding**"
      ],
      "metadata": {
        "id": "KEGlLVuegy1D"
      }
    },
    {
      "cell_type": "code",
      "source": [
        "import numpy as np\n",
        "def vectorize_sequences(sequences, dimension=10000):\n",
        "    results = np.zeros((len(sequences), dimension))\n",
        "    for i, sequence in enumerate(sequences):\n",
        "        for j in sequence:\n",
        "            results[i, j] = 1.\n",
        "    return results\n",
        "x_train = vectorize_sequences(train_data)\n",
        "x_test = vectorize_sequences(test_data)"
      ],
      "metadata": {
        "id": "QIj4vu10g4cL"
      },
      "execution_count": 13,
      "outputs": []
    },
    {
      "cell_type": "code",
      "source": [
        "x_train[0]"
      ],
      "metadata": {
        "colab": {
          "base_uri": "https://localhost:8080/"
        },
        "id": "ol3bbMi7g9ey",
        "outputId": "9fad267c-9da4-4fd2-e61a-6a0199629a54"
      },
      "execution_count": 14,
      "outputs": [
        {
          "output_type": "execute_result",
          "data": {
            "text/plain": [
              "array([0., 1., 1., ..., 0., 0., 0.])"
            ]
          },
          "metadata": {},
          "execution_count": 14
        }
      ]
    },
    {
      "cell_type": "code",
      "source": [
        "y_train = np.asarray(train_labels).astype(\"float32\")\n",
        "y_test = np.asarray(test_labels).astype(\"float32\")"
      ],
      "metadata": {
        "id": "AApb24ldhCAU"
      },
      "execution_count": 15,
      "outputs": []
    },
    {
      "cell_type": "markdown",
      "source": [
        "# **Building your model**\n",
        "\n",
        "**Model definition**\n",
        "\n",
        "relu=max(0,z) and 16 here is dimension of the output of this layer .\n",
        "\n",
        "we want to transform the input so we use activation function in deep learning so that learning is happening as it moves from one iteration to the next iteration.\n",
        "\n",
        "logistic regression also uses optimizer to change the weights to feed back but they don't use activation function unlike deep learning.\n",
        "\n",
        "sigmoid activation function will genaerate a value i.e. either 0 or 1.since it is a classification problem we want the output to be either 0 or 1 so we use the last layer i.e. output layer activation function as sigmoid."
      ],
      "metadata": {
        "id": "KHc54XeyhFMS"
      }
    },
    {
      "cell_type": "code",
      "source": [
        "layers=tf.keras.layers\n",
        "\n",
        "model = tf.keras.Sequential([\n",
        "    layers.Dense(16, activation=\"relu\"),  #this is the input layer\n",
        "    layers.Dense(16, activation=\"relu\"), #this is the hidden layer\n",
        "    layers.Dense(1, activation=\"sigmoid\") #this is the output layer\n",
        "])"
      ],
      "metadata": {
        "id": "Hs-wRza3hKId"
      },
      "execution_count": 19,
      "outputs": []
    },
    {
      "cell_type": "markdown",
      "source": [
        "**Compiling the model**\n",
        "\n",
        "Here loss function takes the difference between the actual output and the predicted output and feed it to optimizer which is used to adjust the weights for different layers accordingly for the next iteraration in the deep learning model.\n",
        "\n",
        "adam and rmsprop are 2 optimizer used in deep learning. adam used to be used earlier. rmsprop is more popular now."
      ],
      "metadata": {
        "id": "-jbHoVt3hQLv"
      }
    },
    {
      "cell_type": "code",
      "source": [
        "model.compile(optimizer=\"rmsprop\",\n",
        "              loss=\"binary_crossentropy\",\n",
        "              metrics=[\"accuracy\"])"
      ],
      "metadata": {
        "id": "jVL5Mr0ohSKy"
      },
      "execution_count": 20,
      "outputs": []
    },
    {
      "cell_type": "markdown",
      "source": [
        "# **Validating your approach**\n",
        "\n",
        "Validation data is extremely important otherwise we will not know the optimal  training capability of our model building which might lead to overfitting.\n",
        "\n",
        "**Setting aside a validation set**"
      ],
      "metadata": {
        "id": "nfhh5UOChWSa"
      }
    },
    {
      "cell_type": "code",
      "source": [
        "x_val = x_train[:10000]\n",
        "partial_x_train = x_train[10000:]\n",
        "y_val = y_train[:10000]\n",
        "partial_y_train = y_train[10000:]"
      ],
      "metadata": {
        "id": "aRPXjgUxhblJ"
      },
      "execution_count": 21,
      "outputs": []
    },
    {
      "cell_type": "markdown",
      "source": [
        "**Training your model**\n",
        "\n",
        "say we have 1000 rows of input data and we keep batch size of 500 so we will need to run training on entire data in 2 batches to comple all 1000 rows.this is what is meant by the term batch size.\n",
        "\n",
        "Epocs are number of iteration for which the Deep learning model is being run."
      ],
      "metadata": {
        "id": "r0hpOU0bhpc5"
      }
    },
    {
      "cell_type": "code",
      "source": [
        "\n",
        "history = model.fit(partial_x_train,\n",
        "                    partial_y_train,\n",
        "                    epochs=20,\n",
        "                    batch_size=512,\n",
        "                    validation_data=(x_val, y_val))"
      ],
      "metadata": {
        "colab": {
          "base_uri": "https://localhost:8080/"
        },
        "id": "iKWn6Uj3hsFM",
        "outputId": "f71a3776-1ed4-4c0f-e015-37b1ed3b5c69"
      },
      "execution_count": 22,
      "outputs": [
        {
          "output_type": "stream",
          "name": "stdout",
          "text": [
            "Epoch 1/20\n",
            "30/30 [==============================] - 8s 72ms/step - loss: 0.5309 - accuracy: 0.7642 - val_loss: 0.3985 - val_accuracy: 0.8621\n",
            "Epoch 2/20\n",
            "30/30 [==============================] - 1s 38ms/step - loss: 0.3221 - accuracy: 0.8934 - val_loss: 0.3114 - val_accuracy: 0.8857\n",
            "Epoch 3/20\n",
            "30/30 [==============================] - 1s 21ms/step - loss: 0.2391 - accuracy: 0.9215 - val_loss: 0.3303 - val_accuracy: 0.8638\n",
            "Epoch 4/20\n",
            "30/30 [==============================] - 1s 22ms/step - loss: 0.1932 - accuracy: 0.9356 - val_loss: 0.2743 - val_accuracy: 0.8895\n",
            "Epoch 5/20\n",
            "30/30 [==============================] - 1s 23ms/step - loss: 0.1580 - accuracy: 0.9499 - val_loss: 0.2832 - val_accuracy: 0.8844\n",
            "Epoch 6/20\n",
            "30/30 [==============================] - 1s 24ms/step - loss: 0.1366 - accuracy: 0.9558 - val_loss: 0.2891 - val_accuracy: 0.8857\n",
            "Epoch 7/20\n",
            "30/30 [==============================] - 1s 22ms/step - loss: 0.1151 - accuracy: 0.9637 - val_loss: 0.3491 - val_accuracy: 0.8678\n",
            "Epoch 8/20\n",
            "30/30 [==============================] - 1s 22ms/step - loss: 0.0998 - accuracy: 0.9694 - val_loss: 0.3244 - val_accuracy: 0.8776\n",
            "Epoch 9/20\n",
            "30/30 [==============================] - 1s 25ms/step - loss: 0.0851 - accuracy: 0.9743 - val_loss: 0.3316 - val_accuracy: 0.8825\n",
            "Epoch 10/20\n",
            "30/30 [==============================] - 1s 24ms/step - loss: 0.0719 - accuracy: 0.9793 - val_loss: 0.3486 - val_accuracy: 0.8817\n",
            "Epoch 11/20\n",
            "30/30 [==============================] - 1s 23ms/step - loss: 0.0597 - accuracy: 0.9857 - val_loss: 0.3812 - val_accuracy: 0.8779\n",
            "Epoch 12/20\n",
            "30/30 [==============================] - 1s 22ms/step - loss: 0.0515 - accuracy: 0.9883 - val_loss: 0.4434 - val_accuracy: 0.8645\n",
            "Epoch 13/20\n",
            "30/30 [==============================] - 1s 24ms/step - loss: 0.0464 - accuracy: 0.9892 - val_loss: 0.4138 - val_accuracy: 0.8769\n",
            "Epoch 14/20\n",
            "30/30 [==============================] - 1s 22ms/step - loss: 0.0378 - accuracy: 0.9926 - val_loss: 0.4408 - val_accuracy: 0.8751\n",
            "Epoch 15/20\n",
            "30/30 [==============================] - 1s 25ms/step - loss: 0.0303 - accuracy: 0.9944 - val_loss: 0.4582 - val_accuracy: 0.8757\n",
            "Epoch 16/20\n",
            "30/30 [==============================] - 1s 25ms/step - loss: 0.0272 - accuracy: 0.9946 - val_loss: 0.4815 - val_accuracy: 0.8743\n",
            "Epoch 17/20\n",
            "30/30 [==============================] - 1s 27ms/step - loss: 0.0245 - accuracy: 0.9955 - val_loss: 0.5022 - val_accuracy: 0.8726\n",
            "Epoch 18/20\n",
            "30/30 [==============================] - 1s 27ms/step - loss: 0.0180 - accuracy: 0.9979 - val_loss: 0.5324 - val_accuracy: 0.8700\n",
            "Epoch 19/20\n",
            "30/30 [==============================] - 1s 26ms/step - loss: 0.0188 - accuracy: 0.9965 - val_loss: 0.5465 - val_accuracy: 0.8717\n",
            "Epoch 20/20\n",
            "30/30 [==============================] - 1s 24ms/step - loss: 0.0106 - accuracy: 0.9995 - val_loss: 0.6043 - val_accuracy: 0.8666\n"
          ]
        }
      ]
    },
    {
      "cell_type": "markdown",
      "source": [
        "Normally after improving the model accuracy on validation data once the model got fitted.we should then have test data as well and we should run the built model on test data as well.\n",
        "\n",
        "validation accuracy is the accuracy for validation data.seeing validation accuracy we should decide upto what epoch training model need to run.if validation accuracy becomes almost constant and not tend to improve we can stop training our model uptil that epochs otherwise we will be just doing overfitting.here.accuracy term denotes training accuracy and val_accuracy denotes accuracy for the validation data.\n",
        "\n",
        "we can see from above training accuracy improved till .9998 on the last epoch but validation accuracy has started going down in the last few epochs which should not happen so we should adjust our epoch in such a way that validation accuracy for validation data should not start going down."
      ],
      "metadata": {
        "id": "lXtK9qkDhyyr"
      }
    },
    {
      "cell_type": "code",
      "source": [
        "history_dict = history.history\n",
        "history_dict.keys()"
      ],
      "metadata": {
        "colab": {
          "base_uri": "https://localhost:8080/"
        },
        "id": "k0kkZDhWhztj",
        "outputId": "08e0c404-a6dd-49c3-eb28-06c4700c327e"
      },
      "execution_count": 23,
      "outputs": [
        {
          "output_type": "execute_result",
          "data": {
            "text/plain": [
              "dict_keys(['loss', 'accuracy', 'val_loss', 'val_accuracy'])"
            ]
          },
          "metadata": {},
          "execution_count": 23
        }
      ]
    },
    {
      "cell_type": "markdown",
      "source": [
        "# **Plotting the training and validation loss**"
      ],
      "metadata": {
        "id": "jXd0wZHDh3xC"
      }
    },
    {
      "cell_type": "code",
      "source": [
        "import matplotlib.pyplot as plt\n",
        "history_dict = history.history\n",
        "loss_values = history_dict[\"loss\"]\n",
        "val_loss_values = history_dict[\"val_loss\"]\n",
        "epochs = range(1, len(loss_values) + 1)\n",
        "plt.plot(epochs, loss_values, \"bo\", label=\"Training loss\")\n",
        "plt.plot(epochs, val_loss_values, \"b\", label=\"Validation loss\")\n",
        "plt.title(\"Training and validation loss\")\n",
        "plt.xlabel(\"Epochs\")\n",
        "plt.ylabel(\"Loss\")\n",
        "plt.legend()\n",
        "plt.show()"
      ],
      "metadata": {
        "colab": {
          "base_uri": "https://localhost:8080/",
          "height": 472
        },
        "id": "thWpzZ7Qh5ya",
        "outputId": "04b79b98-e7ae-45ef-d7b7-4833308a8096"
      },
      "execution_count": 24,
      "outputs": [
        {
          "output_type": "display_data",
          "data": {
            "text/plain": [
              "<Figure size 640x480 with 1 Axes>"
            ],
            "image/png": "[encoded data removed]"
          },
          "metadata": {}
        }
      ]
    },
    {
      "cell_type": "markdown",
      "source": [
        "# **Plotting the training and validation accuracy**"
      ],
      "metadata": {
        "id": "Ym-L7TIvh9nj"
      }
    },
    {
      "cell_type": "code",
      "source": [
        "plt.clf()\n",
        "acc = history_dict[\"accuracy\"]\n",
        "val_acc = history_dict[\"val_accuracy\"]\n",
        "plt.plot(epochs, acc, \"bo\", label=\"Training acc\")\n",
        "plt.plot(epochs, val_acc, \"b\", label=\"Validation acc\")\n",
        "plt.title(\"Training and validation accuracy\")\n",
        "plt.xlabel(\"Epochs\")\n",
        "plt.ylabel(\"Accuracy\")\n",
        "plt.legend()\n",
        "plt.show()"
      ],
      "metadata": {
        "colab": {
          "base_uri": "https://localhost:8080/",
          "height": 472
        },
        "id": "poRCNPsKh_MJ",
        "outputId": "d27bc92c-fc26-4e16-ceb7-029686dbb730"
      },
      "execution_count": 25,
      "outputs": [
        {
          "output_type": "display_data",
          "data": {
            "text/plain": [
              "<Figure size 640x480 with 1 Axes>"
            ],
            "image/png": "[encoded data removed]"
          },
          "metadata": {}
        }
      ]
    },
    {
      "cell_type": "markdown",
      "source": [
        "# **Retraining a model from scratch**"
      ],
      "metadata": {
        "id": "9lux31_giEXr"
      }
    },
    {
      "cell_type": "code",
      "source": [
        "model = tf.keras.Sequential([\n",
        "    layers.Dense(16, activation=\"relu\"),\n",
        "    layers.Dense(16, activation=\"relu\"),\n",
        "    layers.Dense(1, activation=\"sigmoid\")\n",
        "])\n",
        "model.compile(optimizer=\"rmsprop\",\n",
        "              loss=\"binary_crossentropy\",\n",
        "              metrics=[\"accuracy\"])\n",
        "history = model.fit(partial_x_train,\n",
        "                    partial_y_train,\n",
        "                    epochs=4,\n",
        "                    batch_size=512,\n",
        "                    validation_data=(x_val, y_val))\n",
        "results = model.evaluate(x_test, y_test)"
      ],
      "metadata": {
        "colab": {
          "base_uri": "https://localhost:8080/"
        },
        "id": "ZH6MKcy4iHKA",
        "outputId": "44ab116f-1624-474a-984d-08f6b888f80f"
      },
      "execution_count": 28,
      "outputs": [
        {
          "output_type": "stream",
          "name": "stdout",
          "text": [
            "Epoch 1/4\n",
            "30/30 [==============================] - 3s 55ms/step - loss: 0.5685 - accuracy: 0.7652 - val_loss: 0.4509 - val_accuracy: 0.8590\n",
            "Epoch 2/4\n",
            "30/30 [==============================] - 1s 25ms/step - loss: 0.3652 - accuracy: 0.8853 - val_loss: 0.3331 - val_accuracy: 0.8828\n",
            "Epoch 3/4\n",
            "30/30 [==============================] - 1s 24ms/step - loss: 0.2662 - accuracy: 0.9132 - val_loss: 0.2945 - val_accuracy: 0.8857\n",
            "Epoch 4/4\n",
            "30/30 [==============================] - 1s 24ms/step - loss: 0.2143 - accuracy: 0.9294 - val_loss: 0.2869 - val_accuracy: 0.8867\n",
            "782/782 [==============================] - 3s 3ms/step - loss: 0.2979 - accuracy: 0.8810\n"
          ]
        }
      ]
    },
    {
      "cell_type": "code",
      "source": [
        "results"
      ],
      "metadata": {
        "colab": {
          "base_uri": "https://localhost:8080/"
        },
        "id": "c6NnltvTiYVj",
        "outputId": "1608b255-6447-42f4-f58e-bc48c996b859"
      },
      "execution_count": 29,
      "outputs": [
        {
          "output_type": "execute_result",
          "data": {
            "text/plain": [
              "[0.29789113998413086, 0.8809999823570251]"
            ]
          },
          "metadata": {},
          "execution_count": 29
        }
      ]
    },
    {
      "cell_type": "markdown",
      "source": [
        "**Using a trained model to generate predictions on new data**"
      ],
      "metadata": {
        "id": "kvPlqehZifui"
      }
    },
    {
      "cell_type": "code",
      "source": [
        "model.predict(x_test)"
      ],
      "metadata": {
        "colab": {
          "base_uri": "https://localhost:8080/"
        },
        "id": "LHTSBgvUihOV",
        "outputId": "0d423530-d42f-44c1-ad90-10a6ef11465c"
      },
      "execution_count": 31,
      "outputs": [
        {
          "output_type": "stream",
          "name": "stdout",
          "text": [
            "782/782 [==============================] - 2s 2ms/step\n"
          ]
        },
        {
          "output_type": "execute_result",
          "data": {
            "text/plain": [
              "array([[0.34331968],\n",
              "       [0.9959311 ],\n",
              "       [0.957829  ],\n",
              "       ...,\n",
              "       [0.16681609],\n",
              "       [0.20294398],\n",
              "       [0.6820928 ]], dtype=float32)"
            ]
          },
          "metadata": {},
          "execution_count": 31
        }
      ]
    },
    {
      "cell_type": "code",
      "source": [
        "!jupyter nbconvert --to html BinaryClassificationScript.ipynb"
      ],
      "metadata": {
        "id": "p9eNRef8nD-A"
      },
      "execution_count": null,
      "outputs": []
    }
  ]
}