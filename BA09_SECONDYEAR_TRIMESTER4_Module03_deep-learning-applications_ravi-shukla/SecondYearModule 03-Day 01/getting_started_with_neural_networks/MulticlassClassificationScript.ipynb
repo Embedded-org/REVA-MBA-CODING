{
  "nbformat": 4,
  "nbformat_minor": 0,
  "metadata": {
    "colab": {
      "provenance": []
    },
    "kernelspec": {
      "name": "python3",
      "display_name": "Python 3"
    },
    "language_info": {
      "name": "python"
    },
    "accelerator": "GPU",
    "gpuClass": "standard"
  },
  "cells": [
    {
      "cell_type": "markdown",
      "source": [
        "**# Classifying newswires: A multiclass classification example**\n",
        "# **The Reuters dataset**\n",
        "**Loading the Reuters dataset**"
      ],
      "metadata": {
        "id": "x2CAtsbNn7J-"
      }
    },
    {
      "cell_type": "code",
      "source": [
        "import tensorflow as tf\n",
        "reuters=tf.keras.datasets.reuters\n",
        "(train_data, train_labels), (test_data, test_labels) = reuters.load_data(\n",
        "    num_words=10000)"
      ],
      "metadata": {
        "colab": {
          "base_uri": "https://localhost:8080/"
        },
        "id": "fqqCqBZCoDa-",
        "outputId": "465124fe-9549-4448-c204-7f7ad04d14dc"
      },
      "execution_count": null,
      "outputs": [
        {
          "output_type": "stream",
          "name": "stdout",
          "text": [
            "Downloading data from https://storage.googleapis.com/tensorflow/tf-keras-datasets/reuters.npz\n",
            "2110848/2110848 [==============================] - 0s 0us/step\n"
          ]
        }
      ]
    },
    {
      "cell_type": "code",
      "source": [
        "len(train_data)"
      ],
      "metadata": {
        "colab": {
          "base_uri": "https://localhost:8080/"
        },
        "id": "mbVxXS69oIPx",
        "outputId": "fdfbed8e-8486-40a4-cb75-2ea656b5d79b"
      },
      "execution_count": null,
      "outputs": [
        {
          "output_type": "execute_result",
          "data": {
            "text/plain": [
              "8982"
            ]
          },
          "metadata": {},
          "execution_count": 2
        }
      ]
    },
    {
      "cell_type": "code",
      "source": [
        "len(test_data)"
      ],
      "metadata": {
        "colab": {
          "base_uri": "https://localhost:8080/"
        },
        "id": "K2blBoCnomNg",
        "outputId": "15fbb7de-ba84-4253-a146-2c160af0785a"
      },
      "execution_count": null,
      "outputs": [
        {
          "output_type": "execute_result",
          "data": {
            "text/plain": [
              "2246"
            ]
          },
          "metadata": {},
          "execution_count": 3
        }
      ]
    },
    {
      "cell_type": "code",
      "source": [
        "train_data[10]"
      ],
      "metadata": {
        "colab": {
          "base_uri": "https://localhost:8080/"
        },
        "id": "BIeLlB_IooLB",
        "outputId": "f42a3611-97e7-4c22-8c16-e89f8297c864"
      },
      "execution_count": null,
      "outputs": [
        {
          "output_type": "execute_result",
          "data": {
            "text/plain": [
              "[1,\n",
              " 245,\n",
              " 273,\n",
              " 207,\n",
              " 156,\n",
              " 53,\n",
              " 74,\n",
              " 160,\n",
              " 26,\n",
              " 14,\n",
              " 46,\n",
              " 296,\n",
              " 26,\n",
              " 39,\n",
              " 74,\n",
              " 2979,\n",
              " 3554,\n",
              " 14,\n",
              " 46,\n",
              " 4689,\n",
              " 4329,\n",
              " 86,\n",
              " 61,\n",
              " 3499,\n",
              " 4795,\n",
              " 14,\n",
              " 61,\n",
              " 451,\n",
              " 4329,\n",
              " 17,\n",
              " 12]"
            ]
          },
          "metadata": {},
          "execution_count": 4
        }
      ]
    },
    {
      "cell_type": "markdown",
      "source": [
        "**Decoding newswires back to text**"
      ],
      "metadata": {
        "id": "-gL4fe5MosQ8"
      }
    },
    {
      "cell_type": "code",
      "source": [
        "word_index = reuters.get_word_index()\n",
        "reverse_word_index = dict([(value, key) for (key, value) in word_index.items()])\n",
        "decoded_newswire = \" \".join([reverse_word_index.get(i - 3, \"?\") for i in\n",
        "    train_data[0]])"
      ],
      "metadata": {
        "colab": {
          "base_uri": "https://localhost:8080/"
        },
        "id": "yxRGGuVyot6Z",
        "outputId": "a6577eb3-203e-48d2-ff7f-e062976ed224"
      },
      "execution_count": null,
      "outputs": [
        {
          "output_type": "stream",
          "name": "stdout",
          "text": [
            "Downloading data from https://storage.googleapis.com/tensorflow/tf-keras-datasets/reuters_word_index.json\n",
            "550378/550378 [==============================] - 0s 0us/step\n"
          ]
        }
      ]
    },
    {
      "cell_type": "code",
      "source": [
        "train_labels[10]"
      ],
      "metadata": {
        "colab": {
          "base_uri": "https://localhost:8080/"
        },
        "id": "qvCvZon_oyEh",
        "outputId": "64393734-1161-474f-eff1-1b01b97e04d3"
      },
      "execution_count": null,
      "outputs": [
        {
          "output_type": "execute_result",
          "data": {
            "text/plain": [
              "3"
            ]
          },
          "metadata": {},
          "execution_count": 6
        }
      ]
    },
    {
      "cell_type": "markdown",
      "source": [
        "# **Preparing the data**\n",
        "\n",
        "**Encoding the input data**"
      ],
      "metadata": {
        "id": "IhMn8EAdo0Vl"
      }
    },
    {
      "cell_type": "code",
      "source": [
        "import numpy as np\n",
        "def vectorize_sequences(sequences, dimension=10000):\n",
        "    results = np.zeros((len(sequences), dimension))\n",
        "    for i, sequence in enumerate(sequences):\n",
        "        for j in sequence:\n",
        "            results[i, j] = 1.\n",
        "    return results"
      ],
      "metadata": {
        "id": "EH4hJZ5Aq9RK"
      },
      "execution_count": null,
      "outputs": []
    },
    {
      "cell_type": "code",
      "source": [
        "x_train = vectorize_sequences(train_data)\n",
        "x_test = vectorize_sequences(test_data)"
      ],
      "metadata": {
        "id": "pO666YoZo3tE"
      },
      "execution_count": null,
      "outputs": []
    },
    {
      "cell_type": "code",
      "source": [
        "x_train[0]"
      ],
      "metadata": {
        "colab": {
          "base_uri": "https://localhost:8080/"
        },
        "id": "N7ofTvPyrPhp",
        "outputId": "85328cf7-cb7c-4533-833d-a4c20d7189c7"
      },
      "execution_count": null,
      "outputs": [
        {
          "output_type": "execute_result",
          "data": {
            "text/plain": [
              "array([0., 1., 1., ..., 0., 0., 0.])"
            ]
          },
          "metadata": {},
          "execution_count": 12
        }
      ]
    },
    {
      "cell_type": "code",
      "source": [
        "x_test[0]"
      ],
      "metadata": {
        "colab": {
          "base_uri": "https://localhost:8080/"
        },
        "id": "XHqPKW5urVL1",
        "outputId": "e1782da1-dfaf-4d0f-e3b1-768231ea3405"
      },
      "execution_count": null,
      "outputs": [
        {
          "output_type": "execute_result",
          "data": {
            "text/plain": [
              "array([0., 1., 1., ..., 0., 0., 0.])"
            ]
          },
          "metadata": {},
          "execution_count": 13
        }
      ]
    },
    {
      "cell_type": "markdown",
      "source": [
        "**Encoding the labels**"
      ],
      "metadata": {
        "id": "zU_IJCmYo594"
      }
    },
    {
      "cell_type": "code",
      "source": [
        "def to_one_hot(labels, dimension=46):\n",
        "    results = np.zeros((len(labels), dimension))\n",
        "    for i, label in enumerate(labels):\n",
        "        results[i, label] = 1.\n",
        "    return results\n",
        "y_train = to_one_hot(train_labels)\n",
        "y_test = to_one_hot(test_labels)"
      ],
      "metadata": {
        "id": "C31H5WbMo8UF"
      },
      "execution_count": null,
      "outputs": []
    },
    {
      "cell_type": "code",
      "source": [
        "y_train[0]"
      ],
      "metadata": {
        "colab": {
          "base_uri": "https://localhost:8080/"
        },
        "id": "Ploiupe4rTB9",
        "outputId": "b4d2be83-8401-46fb-860c-b2aaa2355a16"
      },
      "execution_count": null,
      "outputs": [
        {
          "output_type": "execute_result",
          "data": {
            "text/plain": [
              "array([0., 0., 0., 1., 0., 0., 0., 0., 0., 0., 0., 0., 0., 0., 0., 0., 0.,\n",
              "       0., 0., 0., 0., 0., 0., 0., 0., 0., 0., 0., 0., 0., 0., 0., 0., 0.,\n",
              "       0., 0., 0., 0., 0., 0., 0., 0., 0., 0., 0., 0.])"
            ]
          },
          "metadata": {},
          "execution_count": 15
        }
      ]
    },
    {
      "cell_type": "code",
      "source": [
        "y_test[0]"
      ],
      "metadata": {
        "colab": {
          "base_uri": "https://localhost:8080/"
        },
        "id": "_i5hVFDbrWPW",
        "outputId": "99b79f61-2ed7-495f-f1b8-0f6577498d5d"
      },
      "execution_count": null,
      "outputs": [
        {
          "output_type": "execute_result",
          "data": {
            "text/plain": [
              "array([0., 0., 0., 1., 0., 0., 0., 0., 0., 0., 0., 0., 0., 0., 0., 0., 0.,\n",
              "       0., 0., 0., 0., 0., 0., 0., 0., 0., 0., 0., 0., 0., 0., 0., 0., 0.,\n",
              "       0., 0., 0., 0., 0., 0., 0., 0., 0., 0., 0., 0.])"
            ]
          },
          "metadata": {},
          "execution_count": 16
        }
      ]
    },
    {
      "cell_type": "code",
      "source": [
        "to_categorical=tf.keras.utils.to_categorical\n",
        "y_train = to_categorical(train_labels)\n",
        "y_test = to_categorical(test_labels)"
      ],
      "metadata": {
        "id": "UrpZ-F7-o-Zj"
      },
      "execution_count": null,
      "outputs": []
    },
    {
      "cell_type": "markdown",
      "source": [
        "# **Building your model**\n",
        "\n",
        "**Model definition**"
      ],
      "metadata": {
        "id": "myxMk4XGpBeJ"
      }
    },
    {
      "cell_type": "code",
      "source": [
        "layers=tf.keras.layers\n",
        "model = tf.keras.Sequential([\n",
        "    layers.Dense(64, activation=\"relu\"),\n",
        "    layers.Dense(64, activation=\"relu\"),\n",
        "    layers.Dense(46, activation=\"softmax\")\n",
        "])"
      ],
      "metadata": {
        "id": "ELyHVpjqpEvp"
      },
      "execution_count": null,
      "outputs": []
    },
    {
      "cell_type": "markdown",
      "source": [
        "**Compiling the model**"
      ],
      "metadata": {
        "id": "4K59VNqApIVr"
      }
    },
    {
      "cell_type": "code",
      "source": [
        "model.compile(optimizer=\"rmsprop\",\n",
        "              loss=\"categorical_crossentropy\",\n",
        "              metrics=[\"accuracy\"])"
      ],
      "metadata": {
        "id": "wX1TW1qmpJ26"
      },
      "execution_count": null,
      "outputs": []
    },
    {
      "cell_type": "markdown",
      "source": [
        "# **Validating your approach**\n",
        "\n",
        "**Setting aside a validation set**"
      ],
      "metadata": {
        "id": "bAG_edi1pNP0"
      }
    },
    {
      "cell_type": "code",
      "source": [
        "x_val = x_train[:1000]\n",
        "partial_x_train = x_train[1000:]\n",
        "y_val = y_train[:1000]\n",
        "partial_y_train = y_train[1000:]"
      ],
      "metadata": {
        "id": "BdMBirhQpQzw"
      },
      "execution_count": null,
      "outputs": []
    },
    {
      "cell_type": "markdown",
      "source": [
        "**Training the model**"
      ],
      "metadata": {
        "id": "dAcTkOq2pUk6"
      }
    },
    {
      "cell_type": "code",
      "source": [
        "history = model.fit(partial_x_train,\n",
        "                    partial_y_train,\n",
        "                    epochs=20,\n",
        "                    batch_size=512,\n",
        "                    validation_data=(x_val, y_val))"
      ],
      "metadata": {
        "colab": {
          "base_uri": "https://localhost:8080/"
        },
        "id": "NZ1yT1IUpVuQ",
        "outputId": "f894079e-11d2-4817-f036-fa07102c2a16"
      },
      "execution_count": null,
      "outputs": [
        {
          "output_type": "stream",
          "name": "stdout",
          "text": [
            "Epoch 1/20\n",
            "16/16 [==============================] - 6s 46ms/step - loss: 2.9076 - accuracy: 0.4684 - val_loss: 2.0348 - val_accuracy: 0.5840\n",
            "Epoch 2/20\n",
            "16/16 [==============================] - 0s 21ms/step - loss: 1.6795 - accuracy: 0.6483 - val_loss: 1.4701 - val_accuracy: 0.6660\n",
            "Epoch 3/20\n",
            "16/16 [==============================] - 0s 21ms/step - loss: 1.2550 - accuracy: 0.7219 - val_loss: 1.2474 - val_accuracy: 0.7250\n",
            "Epoch 4/20\n",
            "16/16 [==============================] - 0s 22ms/step - loss: 1.0108 - accuracy: 0.7779 - val_loss: 1.1192 - val_accuracy: 0.7560\n",
            "Epoch 5/20\n",
            "16/16 [==============================] - 0s 24ms/step - loss: 0.8329 - accuracy: 0.8206 - val_loss: 1.0518 - val_accuracy: 0.7530\n",
            "Epoch 6/20\n",
            "16/16 [==============================] - 0s 23ms/step - loss: 0.6963 - accuracy: 0.8524 - val_loss: 0.9771 - val_accuracy: 0.7900\n",
            "Epoch 7/20\n",
            "16/16 [==============================] - 0s 20ms/step - loss: 0.5830 - accuracy: 0.8789 - val_loss: 0.9145 - val_accuracy: 0.8110\n",
            "Epoch 8/20\n",
            "16/16 [==============================] - 0s 18ms/step - loss: 0.4909 - accuracy: 0.8968 - val_loss: 0.8983 - val_accuracy: 0.8060\n",
            "Epoch 9/20\n",
            "16/16 [==============================] - 0s 19ms/step - loss: 0.4144 - accuracy: 0.9134 - val_loss: 0.8914 - val_accuracy: 0.8050\n",
            "Epoch 10/20\n",
            "16/16 [==============================] - 0s 17ms/step - loss: 0.3540 - accuracy: 0.9250 - val_loss: 0.8995 - val_accuracy: 0.8140\n",
            "Epoch 11/20\n",
            "16/16 [==============================] - 0s 17ms/step - loss: 0.3125 - accuracy: 0.9326 - val_loss: 0.8734 - val_accuracy: 0.8080\n",
            "Epoch 12/20\n",
            "16/16 [==============================] - 0s 19ms/step - loss: 0.2655 - accuracy: 0.9429 - val_loss: 0.8932 - val_accuracy: 0.8140\n",
            "Epoch 13/20\n",
            "16/16 [==============================] - 0s 20ms/step - loss: 0.2352 - accuracy: 0.9459 - val_loss: 0.8716 - val_accuracy: 0.8170\n",
            "Epoch 14/20\n",
            "16/16 [==============================] - 0s 19ms/step - loss: 0.2105 - accuracy: 0.9496 - val_loss: 0.9024 - val_accuracy: 0.8100\n",
            "Epoch 15/20\n",
            "16/16 [==============================] - 0s 19ms/step - loss: 0.1922 - accuracy: 0.9518 - val_loss: 0.9186 - val_accuracy: 0.8190\n",
            "Epoch 16/20\n",
            "16/16 [==============================] - 0s 17ms/step - loss: 0.1788 - accuracy: 0.9528 - val_loss: 0.8992 - val_accuracy: 0.8190\n",
            "Epoch 17/20\n",
            "16/16 [==============================] - 0s 19ms/step - loss: 0.1633 - accuracy: 0.9555 - val_loss: 0.9002 - val_accuracy: 0.8190\n",
            "Epoch 18/20\n",
            "16/16 [==============================] - 0s 19ms/step - loss: 0.1522 - accuracy: 0.9562 - val_loss: 0.9729 - val_accuracy: 0.7990\n",
            "Epoch 19/20\n",
            "16/16 [==============================] - 0s 16ms/step - loss: 0.1474 - accuracy: 0.9546 - val_loss: 0.9473 - val_accuracy: 0.8070\n",
            "Epoch 20/20\n",
            "16/16 [==============================] - 0s 19ms/step - loss: 0.1366 - accuracy: 0.9575 - val_loss: 0.9842 - val_accuracy: 0.8090\n"
          ]
        }
      ]
    },
    {
      "cell_type": "markdown",
      "source": [
        "**Plotting the training and validation loss**"
      ],
      "metadata": {
        "id": "ubWhz-AEpcrx"
      }
    },
    {
      "cell_type": "code",
      "source": [
        "import matplotlib.pyplot as plt\n",
        "loss = history.history[\"loss\"]\n",
        "val_loss = history.history[\"val_loss\"]\n",
        "epochs = range(1, len(loss) + 1)\n",
        "plt.plot(epochs, loss, \"bo\", label=\"Training loss\")\n",
        "plt.plot(epochs, val_loss, \"b\", label=\"Validation loss\")\n",
        "plt.title(\"Training and validation loss\")\n",
        "plt.xlabel(\"Epochs\")\n",
        "plt.ylabel(\"Loss\")\n",
        "plt.legend()\n",
        "plt.show()"
      ],
      "metadata": {
        "colab": {
          "base_uri": "https://localhost:8080/",
          "height": 472
        },
        "id": "RGEQPXpOpd0R",
        "outputId": "5c0f55cd-0d7c-4c60-db88-6d4bc468ba92"
      },
      "execution_count": null,
      "outputs": [
        {
          "output_type": "display_data",
          "data": {
            "text/plain": [
              "<Figure size 640x480 with 1 Axes>"
            ],
            "image/png": "[encoded data removed]"
          },
          "metadata": {}
        }
      ]
    },
    {
      "cell_type": "markdown",
      "source": [
        "**Plotting the training and validation accuracy**"
      ],
      "metadata": {
        "id": "ggwvx8fpphdq"
      }
    },
    {
      "cell_type": "code",
      "source": [
        "plt.clf()\n",
        "acc = history.history[\"accuracy\"]\n",
        "val_acc = history.history[\"val_accuracy\"]\n",
        "plt.plot(epochs, acc, \"bo\", label=\"Training accuracy\")\n",
        "plt.plot(epochs, val_acc, \"b\", label=\"Validation accuracy\")\n",
        "plt.title(\"Training and validation accuracy\")\n",
        "plt.xlabel(\"Epochs\")\n",
        "plt.ylabel(\"Accuracy\")\n",
        "plt.legend()\n",
        "plt.show()"
      ],
      "metadata": {
        "colab": {
          "base_uri": "https://localhost:8080/",
          "height": 472
        },
        "id": "84SBOaumpitp",
        "outputId": "d6acee04-0a4c-4c88-93e3-70dd26b84a36"
      },
      "execution_count": null,
      "outputs": [
        {
          "output_type": "display_data",
          "data": {
            "text/plain": [
              "<Figure size 640x480 with 1 Axes>"
            ],
            "image/png": "[encoded data removed]"
          },
          "metadata": {}
        }
      ]
    },
    {
      "cell_type": "markdown",
      "source": [
        "**Retraining a model from scratch**\n",
        "\n",
        "here,using softmax as activation function for the output layer it will generate 46 different outputs.say max output value is 0.8 then other 45 value will all add up to 0.2\n",
        "\n",
        "here loss function is categorical_crossentropy for calculating difference between the actual output and predicted output."
      ],
      "metadata": {
        "id": "vxP0NexjpqS4"
      }
    },
    {
      "cell_type": "code",
      "source": [
        "model = tf.keras.Sequential([\n",
        "  layers.Dense(64, activation=\"relu\"),\n",
        "  layers.Dense(64, activation=\"relu\"),\n",
        "  layers.Dense(46, activation=\"softmax\")\n",
        "])\n",
        "model.compile(optimizer=\"rmsprop\",\n",
        "              loss=\"categorical_crossentropy\",\n",
        "              metrics=[\"accuracy\"])\n",
        "\n",
        "history = model.fit(partial_x_train,\n",
        "                    partial_y_train,\n",
        "                    epochs=9,\n",
        "                    batch_size=512,\n",
        "                    validation_data=(x_val, y_val))\n",
        "results = model.evaluate(x_test, y_test)"
      ],
      "metadata": {
        "colab": {
          "base_uri": "https://localhost:8080/"
        },
        "id": "fgADg0HFpxEr",
        "outputId": "78330ed9-4c49-41c3-9aaf-a1537b41bf9b"
      },
      "execution_count": null,
      "outputs": [
        {
          "output_type": "stream",
          "name": "stdout",
          "text": [
            "Epoch 1/9\n",
            "16/16 [==============================] - 1s 34ms/step - loss: 2.7972 - accuracy: 0.5066 - val_loss: 1.9330 - val_accuracy: 0.6140\n",
            "Epoch 2/9\n",
            "16/16 [==============================] - 0s 17ms/step - loss: 1.6123 - accuracy: 0.6736 - val_loss: 1.4186 - val_accuracy: 0.6890\n",
            "Epoch 3/9\n",
            "16/16 [==============================] - 0s 18ms/step - loss: 1.2233 - accuracy: 0.7357 - val_loss: 1.2245 - val_accuracy: 0.7470\n",
            "Epoch 4/9\n",
            "16/16 [==============================] - 0s 17ms/step - loss: 0.9999 - accuracy: 0.7893 - val_loss: 1.1051 - val_accuracy: 0.7620\n",
            "Epoch 5/9\n",
            "16/16 [==============================] - 0s 18ms/step - loss: 0.8393 - accuracy: 0.8205 - val_loss: 1.0261 - val_accuracy: 0.7980\n",
            "Epoch 6/9\n",
            "16/16 [==============================] - 0s 19ms/step - loss: 0.7064 - accuracy: 0.8513 - val_loss: 0.9735 - val_accuracy: 0.8000\n",
            "Epoch 7/9\n",
            "16/16 [==============================] - 0s 19ms/step - loss: 0.5950 - accuracy: 0.8757 - val_loss: 0.9472 - val_accuracy: 0.8080\n",
            "Epoch 8/9\n",
            "16/16 [==============================] - 0s 19ms/step - loss: 0.5082 - accuracy: 0.8976 - val_loss: 0.9212 - val_accuracy: 0.8110\n",
            "Epoch 9/9\n",
            "16/16 [==============================] - 0s 19ms/step - loss: 0.4328 - accuracy: 0.9107 - val_loss: 0.8927 - val_accuracy: 0.8110\n",
            "71/71 [==============================] - 0s 3ms/step - loss: 0.9539 - accuracy: 0.7876\n"
          ]
        }
      ]
    },
    {
      "cell_type": "code",
      "source": [
        "results"
      ],
      "metadata": {
        "colab": {
          "base_uri": "https://localhost:8080/"
        },
        "id": "CYgxt-Kqpt1C",
        "outputId": "8b4e7572-d372-4989-8174-3b52fa1e2aa1"
      },
      "execution_count": null,
      "outputs": [
        {
          "output_type": "execute_result",
          "data": {
            "text/plain": [
              "[0.9539434313774109, 0.7876224517822266]"
            ]
          },
          "metadata": {},
          "execution_count": 27
        }
      ]
    },
    {
      "cell_type": "code",
      "source": [
        "import copy\n",
        "test_labels_copy = copy.copy(test_labels)\n",
        "np.random.shuffle(test_labels_copy)\n",
        "hits_array = np.array(test_labels) == np.array(test_labels_copy)\n",
        "hits_array.mean()"
      ],
      "metadata": {
        "colab": {
          "base_uri": "https://localhost:8080/"
        },
        "id": "wOpfHYhEqDAR",
        "outputId": "45ef86af-de5e-43a4-9623-286f635849c7"
      },
      "execution_count": null,
      "outputs": [
        {
          "output_type": "execute_result",
          "data": {
            "text/plain": [
              "0.20213713268032057"
            ]
          },
          "metadata": {},
          "execution_count": 28
        }
      ]
    },
    {
      "cell_type": "markdown",
      "source": [
        "# **Generating predictions on new data**"
      ],
      "metadata": {
        "id": "SimP6vXKqPEs"
      }
    },
    {
      "cell_type": "code",
      "source": [
        "predictions = model.predict(x_test)"
      ],
      "metadata": {
        "colab": {
          "base_uri": "https://localhost:8080/"
        },
        "id": "O4rOgQ7-qRn2",
        "outputId": "f3d85a9f-2929-41a9-8a2c-ce36cfa1700d"
      },
      "execution_count": null,
      "outputs": [
        {
          "output_type": "stream",
          "name": "stdout",
          "text": [
            "71/71 [==============================] - 0s 3ms/step\n"
          ]
        }
      ]
    },
    {
      "cell_type": "code",
      "source": [
        "predictions[0].shape"
      ],
      "metadata": {
        "colab": {
          "base_uri": "https://localhost:8080/"
        },
        "id": "qDzwAwxMqU5D",
        "outputId": "47ce929d-e475-4d49-e071-e288e6959b6d"
      },
      "execution_count": null,
      "outputs": [
        {
          "output_type": "execute_result",
          "data": {
            "text/plain": [
              "(46,)"
            ]
          },
          "metadata": {},
          "execution_count": 30
        }
      ]
    },
    {
      "cell_type": "code",
      "source": [
        "np.sum(predictions[0])"
      ],
      "metadata": {
        "colab": {
          "base_uri": "https://localhost:8080/"
        },
        "id": "shfdx_T1qXWC",
        "outputId": "e9015eeb-07f2-4a55-f29f-187c5dac8397"
      },
      "execution_count": null,
      "outputs": [
        {
          "output_type": "execute_result",
          "data": {
            "text/plain": [
              "1.0"
            ]
          },
          "metadata": {},
          "execution_count": 31
        }
      ]
    },
    {
      "cell_type": "code",
      "source": [
        "np.argmax(predictions[0])"
      ],
      "metadata": {
        "colab": {
          "base_uri": "https://localhost:8080/"
        },
        "id": "fMUWUoWFqanN",
        "outputId": "19c79bc5-2898-4c8f-8851-6f7416a02ba0"
      },
      "execution_count": null,
      "outputs": [
        {
          "output_type": "execute_result",
          "data": {
            "text/plain": [
              "3"
            ]
          },
          "metadata": {},
          "execution_count": 32
        }
      ]
    },
    {
      "cell_type": "markdown",
      "source": [
        "# **A different way to handle the labels and the loss**"
      ],
      "metadata": {
        "id": "MjICNEgFsZBN"
      }
    },
    {
      "cell_type": "code",
      "source": [
        "y_train = np.array(train_labels)\n",
        "y_test = np.array(test_labels)"
      ],
      "metadata": {
        "id": "s0jdxG7esagw"
      },
      "execution_count": null,
      "outputs": []
    },
    {
      "cell_type": "code",
      "source": [
        "model.compile(optimizer=\"rmsprop\",\n",
        "              loss=\"sparse_categorical_crossentropy\",\n",
        "              metrics=[\"accuracy\"])"
      ],
      "metadata": {
        "id": "ISAQ_FcuseRm"
      },
      "execution_count": null,
      "outputs": []
    },
    {
      "cell_type": "markdown",
      "source": [
        "# **The importance of having sufficiently large intermediate layers**\n",
        "\n",
        "**A model with an information bottleneck**"
      ],
      "metadata": {
        "id": "sT8cP_WCsnG8"
      }
    },
    {
      "cell_type": "code",
      "source": [
        "model = tf.keras.Sequential([\n",
        "    layers.Dense(64, activation=\"relu\"),\n",
        "    layers.Dense(4, activation=\"relu\"),\n",
        "    layers.Dense(46, activation=\"softmax\")\n",
        "])\n",
        "model.compile(optimizer=\"rmsprop\",\n",
        "              loss=\"categorical_crossentropy\",\n",
        "              metrics=[\"accuracy\"])\n",
        "model.fit(partial_x_train,\n",
        "          partial_y_train,\n",
        "          epochs=20,\n",
        "          batch_size=128,\n",
        "          validation_data=(x_val, y_val))"
      ],
      "metadata": {
        "colab": {
          "base_uri": "https://localhost:8080/"
        },
        "id": "Y7_wQzGastwE",
        "outputId": "6a3fbc4d-8279-4604-c0a6-a4e5f3315396"
      },
      "execution_count": null,
      "outputs": [
        {
          "output_type": "stream",
          "name": "stdout",
          "text": [
            "Epoch 1/20\n",
            "63/63 [==============================] - 2s 10ms/step - loss: 2.9571 - accuracy: 0.1465 - val_loss: 2.3236 - val_accuracy: 0.4380\n",
            "Epoch 2/20\n",
            "63/63 [==============================] - 0s 6ms/step - loss: 1.9988 - accuracy: 0.4624 - val_loss: 1.8395 - val_accuracy: 0.4650\n",
            "Epoch 3/20\n",
            "63/63 [==============================] - 0s 7ms/step - loss: 1.6453 - accuracy: 0.4952 - val_loss: 1.6090 - val_accuracy: 0.6070\n",
            "Epoch 4/20\n",
            "63/63 [==============================] - 0s 6ms/step - loss: 1.3808 - accuracy: 0.6673 - val_loss: 1.4596 - val_accuracy: 0.6480\n",
            "Epoch 5/20\n",
            "63/63 [==============================] - 0s 6ms/step - loss: 1.2249 - accuracy: 0.6919 - val_loss: 1.4020 - val_accuracy: 0.6640\n",
            "Epoch 6/20\n",
            "63/63 [==============================] - 0s 6ms/step - loss: 1.1295 - accuracy: 0.7194 - val_loss: 1.3855 - val_accuracy: 0.6720\n",
            "Epoch 7/20\n",
            "63/63 [==============================] - 0s 6ms/step - loss: 1.0615 - accuracy: 0.7373 - val_loss: 1.3657 - val_accuracy: 0.6760\n",
            "Epoch 8/20\n",
            "63/63 [==============================] - 0s 6ms/step - loss: 1.0049 - accuracy: 0.7467 - val_loss: 1.3597 - val_accuracy: 0.6740\n",
            "Epoch 9/20\n",
            "63/63 [==============================] - 0s 6ms/step - loss: 0.9599 - accuracy: 0.7534 - val_loss: 1.3744 - val_accuracy: 0.6790\n",
            "Epoch 10/20\n",
            "63/63 [==============================] - 0s 6ms/step - loss: 0.9212 - accuracy: 0.7666 - val_loss: 1.4314 - val_accuracy: 0.6780\n",
            "Epoch 11/20\n",
            "63/63 [==============================] - 0s 6ms/step - loss: 0.8854 - accuracy: 0.7670 - val_loss: 1.4096 - val_accuracy: 0.6780\n",
            "Epoch 12/20\n",
            "63/63 [==============================] - 0s 7ms/step - loss: 0.8559 - accuracy: 0.7700 - val_loss: 1.4601 - val_accuracy: 0.6800\n",
            "Epoch 13/20\n",
            "63/63 [==============================] - 0s 8ms/step - loss: 0.8251 - accuracy: 0.7722 - val_loss: 1.4694 - val_accuracy: 0.6720\n",
            "Epoch 14/20\n",
            "63/63 [==============================] - 0s 7ms/step - loss: 0.7993 - accuracy: 0.7735 - val_loss: 1.4964 - val_accuracy: 0.6760\n",
            "Epoch 15/20\n",
            "63/63 [==============================] - 0s 8ms/step - loss: 0.7779 - accuracy: 0.7752 - val_loss: 1.5436 - val_accuracy: 0.6790\n",
            "Epoch 16/20\n",
            "63/63 [==============================] - 0s 8ms/step - loss: 0.7539 - accuracy: 0.7795 - val_loss: 1.5991 - val_accuracy: 0.6730\n",
            "Epoch 17/20\n",
            "63/63 [==============================] - 0s 7ms/step - loss: 0.7367 - accuracy: 0.7840 - val_loss: 1.5963 - val_accuracy: 0.6780\n",
            "Epoch 18/20\n",
            "63/63 [==============================] - 0s 6ms/step - loss: 0.7187 - accuracy: 0.7898 - val_loss: 1.5959 - val_accuracy: 0.6800\n",
            "Epoch 19/20\n",
            "63/63 [==============================] - 0s 6ms/step - loss: 0.7027 - accuracy: 0.7932 - val_loss: 1.6551 - val_accuracy: 0.6810\n",
            "Epoch 20/20\n",
            "63/63 [==============================] - 0s 6ms/step - loss: 0.6881 - accuracy: 0.7934 - val_loss: 1.6784 - val_accuracy: 0.6770\n"
          ]
        },
        {
          "output_type": "execute_result",
          "data": {
            "text/plain": [
              "<keras.callbacks.History at 0x7fbfa1b95b50>"
            ]
          },
          "metadata": {},
          "execution_count": 33
        }
      ]
    },
    {
      "cell_type": "code",
      "source": [
        "results = model.evaluate(x_test, y_test)"
      ],
      "metadata": {
        "id": "YN05Uy4rtGuI",
        "colab": {
          "base_uri": "https://localhost:8080/"
        },
        "outputId": "68bf88de-e985-464f-f874-ecdd22b0dac8"
      },
      "execution_count": 34,
      "outputs": [
        {
          "output_type": "stream",
          "name": "stdout",
          "text": [
            "71/71 [==============================] - 0s 3ms/step - loss: 1.7679 - accuracy: 0.6643\n"
          ]
        }
      ]
    },
    {
      "cell_type": "code",
      "source": [
        "results"
      ],
      "metadata": {
        "id": "Lam8vRBctZJl",
        "colab": {
          "base_uri": "https://localhost:8080/"
        },
        "outputId": "9dca0365-8eb4-402f-90ef-57cb4389af89"
      },
      "execution_count": 35,
      "outputs": [
        {
          "output_type": "execute_result",
          "data": {
            "text/plain": [
              "[1.7679095268249512, 0.6642920970916748]"
            ]
          },
          "metadata": {},
          "execution_count": 35
        }
      ]
    },
    {
      "cell_type": "code",
      "source": [
        "model.predict(x_test)"
      ],
      "metadata": {
        "colab": {
          "base_uri": "https://localhost:8080/"
        },
        "id": "h7sEpe9qt4E3",
        "outputId": "108ff966-b4b4-4ef8-bb8f-388d83c9ab3a"
      },
      "execution_count": 36,
      "outputs": [
        {
          "output_type": "stream",
          "name": "stdout",
          "text": [
            "71/71 [==============================] - 0s 4ms/step\n"
          ]
        },
        {
          "output_type": "execute_result",
          "data": {
            "text/plain": [
              "array([[1.2283011e-06, 3.5048635e-07, 7.6021298e-18, ..., 4.0140895e-17,\n",
              "        4.8829109e-16, 6.5896355e-13],\n",
              "       [4.2211628e-03, 1.0921135e-01, 3.9471615e-02, ..., 1.7497190e-06,\n",
              "        1.3052293e-08, 7.2916952e-09],\n",
              "       [1.7462969e-02, 2.2338462e-01, 2.6228577e-02, ..., 5.7302814e-06,\n",
              "        1.3950735e-07, 1.2794737e-07],\n",
              "       ...,\n",
              "       [9.8196545e-04, 1.4881061e-03, 4.1312331e-10, ..., 2.6311840e-11,\n",
              "        2.1485999e-11, 1.3092071e-09],\n",
              "       [5.9166998e-03, 2.8605505e-03, 9.7853820e-07, ..., 7.8369095e-07,\n",
              "        1.5459595e-06, 1.9075429e-05],\n",
              "       [1.3003084e-02, 6.3653427e-01, 1.8117347e-03, ..., 4.8002523e-08,\n",
              "        6.3543934e-11, 1.2685303e-10]], dtype=float32)"
            ]
          },
          "metadata": {},
          "execution_count": 36
        }
      ]
    },
    {
      "cell_type": "code",
      "source": [
        "!jupyter nbconvert --to html MulticlassClassificationScript.ipynb"
      ],
      "metadata": {
        "id": "2YYIkZaSuhoH"
      },
      "execution_count": null,
      "outputs": []
    }
  ]
}