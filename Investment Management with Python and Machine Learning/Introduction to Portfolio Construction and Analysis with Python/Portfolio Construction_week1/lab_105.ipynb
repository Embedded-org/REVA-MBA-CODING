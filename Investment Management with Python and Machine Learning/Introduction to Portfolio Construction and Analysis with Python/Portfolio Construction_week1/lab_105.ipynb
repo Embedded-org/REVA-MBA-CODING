{
  "nbformat": 4,
  "nbformat_minor": 0,
  "metadata": {
    "kernelspec": {
      "display_name": "Python 3",
      "language": "python",
      "name": "python3"
    },
    "language_info": {
      "codemirror_mode": {
        "name": "ipython",
        "version": 3
      },
      "file_extension": ".py",
      "mimetype": "text/x-python",
      "name": "python",
      "nbconvert_exporter": "python",
      "pygments_lexer": "ipython3",
      "version": "3.7.3"
    },
    "colab": {
      "name": "lab_105.ipynb",
      "provenance": [],
      "collapsed_sections": []
    }
  },
  "cells": [
    {
      "cell_type": "markdown",
      "metadata": {
        "id": "wWNwJXvJGWPL",
        "colab_type": "text"
      },
      "source": [
        "# Deviations from Normality\n",
        "\n",
        "_(plus python functions with default parameters plus a quick example of recursive functions)_\n",
        "\n",
        "Today, we'll develop the code for skewness and kurtosis even though these are already available in the `scipy.stats` module, and then we'll apply them to hedge fund index returns.\n",
        "\n",
        "We'll also look at using `scipy.stats` module to apply the _Jarque-Bera_ test for normality, and apply them to different return series.\n",
        "\n",
        "First, add the following code to our `edhec_risk_kit.py`\n",
        "\n",
        "```python\n",
        "def get_hfi_returns():\n",
        "    \"\"\"\n",
        "    Load and format the EDHEC Hedge Fund Index Returns\n",
        "    \"\"\"\n",
        "    hfi = pd.read_csv(\"data/edhec-hedgefundindices.csv\",\n",
        "                      header=0, index_col=0, parse_dates=True)\n",
        "    hfi = hfi/100\n",
        "    hfi.index = hfi.index.to_period('M')\n",
        "    return hfi\n",
        "```\n"
      ]
    },
    {
      "cell_type": "code",
      "metadata": {
        "id": "RIIHwAHRJMgA",
        "colab_type": "code",
        "colab": {
          "base_uri": "https://localhost:8080/",
          "height": 34
        },
        "outputId": "4e124c49-deaa-4560-dab9-c9ef32dd7702"
      },
      "source": [
        "from google.colab import drive\n",
        "drive.mount('/content/gdrive')"
      ],
      "execution_count": 39,
      "outputs": [
        {
          "output_type": "stream",
          "text": [
            "Drive already mounted at /content/gdrive; to attempt to forcibly remount, call drive.mount(\"/content/gdrive\", force_remount=True).\n"
          ],
          "name": "stdout"
        }
      ]
    },
    {
      "cell_type": "code",
      "metadata": {
        "id": "D2kWFHyFJWcy",
        "colab_type": "code",
        "colab": {
          "base_uri": "https://localhost:8080/",
          "height": 34
        },
        "outputId": "9ad3fdbb-43b3-4d7a-d6c2-018ceff4f37b"
      },
      "source": [
        "!ls /content/gdrive/My\\ Drive/import/*.py"
      ],
      "execution_count": 40,
      "outputs": [
        {
          "output_type": "stream",
          "text": [
            "'/content/gdrive/My Drive/import/edhec_risk_kit_105.py'\n"
          ],
          "name": "stdout"
        }
      ]
    },
    {
      "cell_type": "code",
      "metadata": {
        "id": "tkBqN6ZHJdfN",
        "colab_type": "code",
        "colab": {}
      },
      "source": [
        "import sys\n",
        "sys.path.append('/content/gdrive/My Drive/import')"
      ],
      "execution_count": 41,
      "outputs": []
    },
    {
      "cell_type": "code",
      "metadata": {
        "id": "xILG0rbxGWPS",
        "colab_type": "code",
        "colab": {
          "base_uri": "https://localhost:8080/",
          "height": 374
        },
        "outputId": "b6751a58-21b8-41f0-c396-8c6cfbdcd407"
      },
      "source": [
        "%reload_ext autoreload\n",
        "%autoreload 2\n",
        "\n",
        "import pandas as pd\n",
        "import  edhec_risk_kit_105 as erk\n",
        "hfi = erk.get_hfi_returns()\n",
        "hfi.head()"
      ],
      "execution_count": 42,
      "outputs": [
        {
          "output_type": "execute_result",
          "data": {
            "text/html": [
              "<div>\n",
              "<style scoped>\n",
              "    .dataframe tbody tr th:only-of-type {\n",
              "        vertical-align: middle;\n",
              "    }\n",
              "\n",
              "    .dataframe tbody tr th {\n",
              "        vertical-align: top;\n",
              "    }\n",
              "\n",
              "    .dataframe thead th {\n",
              "        text-align: right;\n",
              "    }\n",
              "</style>\n",
              "<table border=\"1\" class=\"dataframe\">\n",
              "  <thead>\n",
              "    <tr style=\"text-align: right;\">\n",
              "      <th></th>\n",
              "      <th>Convertible Arbitrage</th>\n",
              "      <th>CTA Global</th>\n",
              "      <th>Distressed Securities</th>\n",
              "      <th>Emerging Markets</th>\n",
              "      <th>Equity Market Neutral</th>\n",
              "      <th>Event Driven</th>\n",
              "      <th>Fixed Income Arbitrage</th>\n",
              "      <th>Global Macro</th>\n",
              "      <th>Long/Short Equity</th>\n",
              "      <th>Merger Arbitrage</th>\n",
              "      <th>Relative Value</th>\n",
              "      <th>Short Selling</th>\n",
              "      <th>Funds Of Funds</th>\n",
              "    </tr>\n",
              "    <tr>\n",
              "      <th>date</th>\n",
              "      <th></th>\n",
              "      <th></th>\n",
              "      <th></th>\n",
              "      <th></th>\n",
              "      <th></th>\n",
              "      <th></th>\n",
              "      <th></th>\n",
              "      <th></th>\n",
              "      <th></th>\n",
              "      <th></th>\n",
              "      <th></th>\n",
              "      <th></th>\n",
              "      <th></th>\n",
              "    </tr>\n",
              "  </thead>\n",
              "  <tbody>\n",
              "    <tr>\n",
              "      <th>1997-01</th>\n",
              "      <td>0.0119</td>\n",
              "      <td>0.0393</td>\n",
              "      <td>0.0178</td>\n",
              "      <td>0.0791</td>\n",
              "      <td>0.0189</td>\n",
              "      <td>0.0213</td>\n",
              "      <td>0.0191</td>\n",
              "      <td>0.0573</td>\n",
              "      <td>0.0281</td>\n",
              "      <td>0.0150</td>\n",
              "      <td>0.0180</td>\n",
              "      <td>-0.0166</td>\n",
              "      <td>0.0317</td>\n",
              "    </tr>\n",
              "    <tr>\n",
              "      <th>1997-02</th>\n",
              "      <td>0.0123</td>\n",
              "      <td>0.0298</td>\n",
              "      <td>0.0122</td>\n",
              "      <td>0.0525</td>\n",
              "      <td>0.0101</td>\n",
              "      <td>0.0084</td>\n",
              "      <td>0.0122</td>\n",
              "      <td>0.0175</td>\n",
              "      <td>-0.0006</td>\n",
              "      <td>0.0034</td>\n",
              "      <td>0.0118</td>\n",
              "      <td>0.0426</td>\n",
              "      <td>0.0106</td>\n",
              "    </tr>\n",
              "    <tr>\n",
              "      <th>1997-03</th>\n",
              "      <td>0.0078</td>\n",
              "      <td>-0.0021</td>\n",
              "      <td>-0.0012</td>\n",
              "      <td>-0.0120</td>\n",
              "      <td>0.0016</td>\n",
              "      <td>-0.0023</td>\n",
              "      <td>0.0109</td>\n",
              "      <td>-0.0119</td>\n",
              "      <td>-0.0084</td>\n",
              "      <td>0.0060</td>\n",
              "      <td>0.0010</td>\n",
              "      <td>0.0778</td>\n",
              "      <td>-0.0077</td>\n",
              "    </tr>\n",
              "    <tr>\n",
              "      <th>1997-04</th>\n",
              "      <td>0.0086</td>\n",
              "      <td>-0.0170</td>\n",
              "      <td>0.0030</td>\n",
              "      <td>0.0119</td>\n",
              "      <td>0.0119</td>\n",
              "      <td>-0.0005</td>\n",
              "      <td>0.0130</td>\n",
              "      <td>0.0172</td>\n",
              "      <td>0.0084</td>\n",
              "      <td>-0.0001</td>\n",
              "      <td>0.0122</td>\n",
              "      <td>-0.0129</td>\n",
              "      <td>0.0009</td>\n",
              "    </tr>\n",
              "    <tr>\n",
              "      <th>1997-05</th>\n",
              "      <td>0.0156</td>\n",
              "      <td>-0.0015</td>\n",
              "      <td>0.0233</td>\n",
              "      <td>0.0315</td>\n",
              "      <td>0.0189</td>\n",
              "      <td>0.0346</td>\n",
              "      <td>0.0118</td>\n",
              "      <td>0.0108</td>\n",
              "      <td>0.0394</td>\n",
              "      <td>0.0197</td>\n",
              "      <td>0.0173</td>\n",
              "      <td>-0.0737</td>\n",
              "      <td>0.0275</td>\n",
              "    </tr>\n",
              "  </tbody>\n",
              "</table>\n",
              "</div>"
            ],
            "text/plain": [
              "         Convertible Arbitrage  CTA Global  ...  Short Selling  Funds Of Funds\n",
              "date                                        ...                               \n",
              "1997-01                 0.0119      0.0393  ...        -0.0166          0.0317\n",
              "1997-02                 0.0123      0.0298  ...         0.0426          0.0106\n",
              "1997-03                 0.0078     -0.0021  ...         0.0778         -0.0077\n",
              "1997-04                 0.0086     -0.0170  ...        -0.0129          0.0009\n",
              "1997-05                 0.0156     -0.0015  ...        -0.0737          0.0275\n",
              "\n",
              "[5 rows x 13 columns]"
            ]
          },
          "metadata": {
            "tags": []
          },
          "execution_count": 42
        }
      ]
    },
    {
      "cell_type": "markdown",
      "metadata": {
        "id": "M1DpoMKrGWPn",
        "colab_type": "text"
      },
      "source": [
        "## Skewness\n",
        "\n",
        "Intuitively, a negative skew means that you get more negative returns than you would have expected if the returns were distributed like the normal distribution.\n",
        "\n",
        "Another way of thinking about it is if that returns are normally distributed, the mean and the median would be very close.\n",
        "\n",
        "However, if they are negatively skewed, the expected value i.e. the mean is less than the median. If they are positively skewed, the expected value (again, the mean) is greater than the median."
      ]
    },
    {
      "cell_type": "code",
      "metadata": {
        "id": "0mSkyT8BGWPp",
        "colab_type": "code",
        "colab": {
          "base_uri": "https://localhost:8080/",
          "height": 452
        },
        "outputId": "d131d41d-6318-4b88-962c-bd33ba568c97"
      },
      "source": [
        "pd.concat([hfi.mean(), hfi.median(), hfi.mean()>hfi.median()], axis=1)"
      ],
      "execution_count": 43,
      "outputs": [
        {
          "output_type": "execute_result",
          "data": {
            "text/html": [
              "<div>\n",
              "<style scoped>\n",
              "    .dataframe tbody tr th:only-of-type {\n",
              "        vertical-align: middle;\n",
              "    }\n",
              "\n",
              "    .dataframe tbody tr th {\n",
              "        vertical-align: top;\n",
              "    }\n",
              "\n",
              "    .dataframe thead th {\n",
              "        text-align: right;\n",
              "    }\n",
              "</style>\n",
              "<table border=\"1\" class=\"dataframe\">\n",
              "  <thead>\n",
              "    <tr style=\"text-align: right;\">\n",
              "      <th></th>\n",
              "      <th>0</th>\n",
              "      <th>1</th>\n",
              "      <th>2</th>\n",
              "    </tr>\n",
              "  </thead>\n",
              "  <tbody>\n",
              "    <tr>\n",
              "      <th>Convertible Arbitrage</th>\n",
              "      <td>0.005508</td>\n",
              "      <td>0.0065</td>\n",
              "      <td>False</td>\n",
              "    </tr>\n",
              "    <tr>\n",
              "      <th>CTA Global</th>\n",
              "      <td>0.004074</td>\n",
              "      <td>0.0014</td>\n",
              "      <td>True</td>\n",
              "    </tr>\n",
              "    <tr>\n",
              "      <th>Distressed Securities</th>\n",
              "      <td>0.006946</td>\n",
              "      <td>0.0089</td>\n",
              "      <td>False</td>\n",
              "    </tr>\n",
              "    <tr>\n",
              "      <th>Emerging Markets</th>\n",
              "      <td>0.006253</td>\n",
              "      <td>0.0096</td>\n",
              "      <td>False</td>\n",
              "    </tr>\n",
              "    <tr>\n",
              "      <th>Equity Market Neutral</th>\n",
              "      <td>0.004498</td>\n",
              "      <td>0.0051</td>\n",
              "      <td>False</td>\n",
              "    </tr>\n",
              "    <tr>\n",
              "      <th>Event Driven</th>\n",
              "      <td>0.006344</td>\n",
              "      <td>0.0084</td>\n",
              "      <td>False</td>\n",
              "    </tr>\n",
              "    <tr>\n",
              "      <th>Fixed Income Arbitrage</th>\n",
              "      <td>0.004365</td>\n",
              "      <td>0.0055</td>\n",
              "      <td>False</td>\n",
              "    </tr>\n",
              "    <tr>\n",
              "      <th>Global Macro</th>\n",
              "      <td>0.005403</td>\n",
              "      <td>0.0038</td>\n",
              "      <td>True</td>\n",
              "    </tr>\n",
              "    <tr>\n",
              "      <th>Long/Short Equity</th>\n",
              "      <td>0.006331</td>\n",
              "      <td>0.0079</td>\n",
              "      <td>False</td>\n",
              "    </tr>\n",
              "    <tr>\n",
              "      <th>Merger Arbitrage</th>\n",
              "      <td>0.005356</td>\n",
              "      <td>0.0060</td>\n",
              "      <td>False</td>\n",
              "    </tr>\n",
              "    <tr>\n",
              "      <th>Relative Value</th>\n",
              "      <td>0.005792</td>\n",
              "      <td>0.0067</td>\n",
              "      <td>False</td>\n",
              "    </tr>\n",
              "    <tr>\n",
              "      <th>Short Selling</th>\n",
              "      <td>-0.001701</td>\n",
              "      <td>-0.0053</td>\n",
              "      <td>True</td>\n",
              "    </tr>\n",
              "    <tr>\n",
              "      <th>Funds Of Funds</th>\n",
              "      <td>0.004262</td>\n",
              "      <td>0.0052</td>\n",
              "      <td>False</td>\n",
              "    </tr>\n",
              "  </tbody>\n",
              "</table>\n",
              "</div>"
            ],
            "text/plain": [
              "                               0       1      2\n",
              "Convertible Arbitrage   0.005508  0.0065  False\n",
              "CTA Global              0.004074  0.0014   True\n",
              "Distressed Securities   0.006946  0.0089  False\n",
              "Emerging Markets        0.006253  0.0096  False\n",
              "Equity Market Neutral   0.004498  0.0051  False\n",
              "Event Driven            0.006344  0.0084  False\n",
              "Fixed Income Arbitrage  0.004365  0.0055  False\n",
              "Global Macro            0.005403  0.0038   True\n",
              "Long/Short Equity       0.006331  0.0079  False\n",
              "Merger Arbitrage        0.005356  0.0060  False\n",
              "Relative Value          0.005792  0.0067  False\n",
              "Short Selling          -0.001701 -0.0053   True\n",
              "Funds Of Funds          0.004262  0.0052  False"
            ]
          },
          "metadata": {
            "tags": []
          },
          "execution_count": 43
        }
      ]
    },
    {
      "cell_type": "markdown",
      "metadata": {
        "id": "SUlPXaCBGWP2",
        "colab_type": "text"
      },
      "source": [
        "Now, let's develop the code to compute the skewness of a series of numbers.\n",
        "\n",
        "Recall that the skewness is given by:\n",
        "\n",
        "$$ S(R) = \\frac{E[ (R-E(R))^3 ]}{\\sigma_R^3} $$\n"
      ]
    },
    {
      "cell_type": "code",
      "metadata": {
        "id": "dI36u-u3GWP4",
        "colab_type": "code",
        "colab": {}
      },
      "source": [
        "def skewness(r):\n",
        "    \"\"\"\n",
        "    Alternative to scipy.stats.skew()\n",
        "    Computes the skewness of the supplied Series or DataFrame\n",
        "    Returns a float or a Series\n",
        "    \"\"\"\n",
        "    demeaned_r = r - r.mean()\n",
        "    # use the population standard deviation, so set dof=0\n",
        "    sigma_r = r.std(ddof=0)\n",
        "    exp = (demeaned_r**3).mean()\n",
        "    return exp/sigma_r**3\n"
      ],
      "execution_count": 44,
      "outputs": []
    },
    {
      "cell_type": "code",
      "metadata": {
        "id": "5Ir5EteSGWQE",
        "colab_type": "code",
        "colab": {
          "base_uri": "https://localhost:8080/",
          "height": 255
        },
        "outputId": "137edde4-3cc4-4b98-ee7f-4c1c3867a657"
      },
      "source": [
        "skewness(hfi).sort_values()"
      ],
      "execution_count": 45,
      "outputs": [
        {
          "output_type": "execute_result",
          "data": {
            "text/plain": [
              "Fixed Income Arbitrage   -3.940320\n",
              "Convertible Arbitrage    -2.639592\n",
              "Equity Market Neutral    -2.124435\n",
              "Relative Value           -1.815470\n",
              "Event Driven             -1.409154\n",
              "Merger Arbitrage         -1.320083\n",
              "Distressed Securities    -1.300842\n",
              "Emerging Markets         -1.167067\n",
              "Long/Short Equity        -0.390227\n",
              "Funds Of Funds           -0.361783\n",
              "CTA Global                0.173699\n",
              "Short Selling             0.767975\n",
              "Global Macro              0.982922\n",
              "dtype: float64"
            ]
          },
          "metadata": {
            "tags": []
          },
          "execution_count": 45
        }
      ]
    },
    {
      "cell_type": "markdown",
      "metadata": {
        "id": "TQt9Hg5CGWQP",
        "colab_type": "text"
      },
      "source": [
        "Just to see if we get the same answer, let's use the skewness function that is built into `scipy.stats`"
      ]
    },
    {
      "cell_type": "code",
      "metadata": {
        "id": "bNTb4XN_GWQR",
        "colab_type": "code",
        "colab": {
          "base_uri": "https://localhost:8080/",
          "height": 68
        },
        "outputId": "5ae9abe3-9441-4429-b97f-660ee23ea60d"
      },
      "source": [
        "import scipy.stats\n",
        "scipy.stats.skew(hfi)"
      ],
      "execution_count": 46,
      "outputs": [
        {
          "output_type": "execute_result",
          "data": {
            "text/plain": [
              "array([-2.63959223,  0.17369864, -1.30084204, -1.16706749, -2.12443538,\n",
              "       -1.40915356, -3.94032029,  0.98292188, -0.39022677, -1.32008333,\n",
              "       -1.81546975,  0.76797484, -0.36178308])"
            ]
          },
          "metadata": {
            "tags": []
          },
          "execution_count": 46
        }
      ]
    },
    {
      "cell_type": "markdown",
      "metadata": {
        "id": "popzylrNGWQb",
        "colab_type": "text"
      },
      "source": [
        "So, let's add that to our `edhec_risk_kit.py`.\n",
        "\n",
        "Finally, let's look at the skewness that you would expect from a truly random sequence of returns. Let's use the random normal generator from numpy and generate the same number of returns as we have for the hedge fund data."
      ]
    },
    {
      "cell_type": "code",
      "metadata": {
        "id": "gcFc_MmrGWQe",
        "colab_type": "code",
        "colab": {
          "base_uri": "https://localhost:8080/",
          "height": 34
        },
        "outputId": "b424bcbf-a85f-4215-8745-90995b386a10"
      },
      "source": [
        "hfi.shape"
      ],
      "execution_count": 47,
      "outputs": [
        {
          "output_type": "execute_result",
          "data": {
            "text/plain": [
              "(263, 13)"
            ]
          },
          "metadata": {
            "tags": []
          },
          "execution_count": 47
        }
      ]
    },
    {
      "cell_type": "code",
      "metadata": {
        "id": "PEzpgLx1GWQq",
        "colab_type": "code",
        "colab": {}
      },
      "source": [
        "import numpy as np\n",
        "normal_rets = np.random.normal(0, 0.15, (263, 1))"
      ],
      "execution_count": 48,
      "outputs": []
    },
    {
      "cell_type": "code",
      "metadata": {
        "id": "c5vVzhz9GWQ0",
        "colab_type": "code",
        "colab": {
          "base_uri": "https://localhost:8080/",
          "height": 34
        },
        "outputId": "f035072e-981b-4279-f3a2-e5e43bc089ad"
      },
      "source": [
        "normal_rets.mean(), normal_rets.std()"
      ],
      "execution_count": 49,
      "outputs": [
        {
          "output_type": "execute_result",
          "data": {
            "text/plain": [
              "(-0.0018745895478255877, 0.15617575484068547)"
            ]
          },
          "metadata": {
            "tags": []
          },
          "execution_count": 49
        }
      ]
    },
    {
      "cell_type": "code",
      "metadata": {
        "id": "1iJ5tyyJGWQ-",
        "colab_type": "code",
        "colab": {
          "base_uri": "https://localhost:8080/",
          "height": 34
        },
        "outputId": "087c13a2-7cb3-4b74-8bda-53fe5edd98b0"
      },
      "source": [
        "erk.skewness(normal_rets)"
      ],
      "execution_count": 50,
      "outputs": [
        {
          "output_type": "execute_result",
          "data": {
            "text/plain": [
              "0.02710927413557329"
            ]
          },
          "metadata": {
            "tags": []
          },
          "execution_count": 50
        }
      ]
    },
    {
      "cell_type": "markdown",
      "metadata": {
        "id": "V7_YQHW2GWRI",
        "colab_type": "text"
      },
      "source": [
        "# Kurtosis\n",
        "\n",
        "Intuitively, the kurtosis measures the \"fatness\" of the tails of the distribution. The normal distribution has a kurtosis of 3 and so if the kurtosis of your returns is less than 3 then it tends to have thinner tails, and if the kurtosis is greater than 3 then the distribution has fatter tails.\n",
        "\n",
        "Kurtosis is given by:\n",
        "\n",
        "$$ K(R) = \\frac{E[ (R-E(R))^4 ]}{\\sigma_R^4} $$\n",
        "\n",
        "This is very similar to the skewness, so we can just copy and paste it and then edit it to compute the 4th rather than the 3rd power (as was the case for skewness).\n"
      ]
    },
    {
      "cell_type": "code",
      "metadata": {
        "id": "M-WKfrqKGWRJ",
        "colab_type": "code",
        "colab": {
          "base_uri": "https://localhost:8080/",
          "height": 255
        },
        "outputId": "401faa1c-5592-4a9c-861f-5ed41d5d722d"
      },
      "source": [
        "erk.kurtosis(hfi)"
      ],
      "execution_count": 51,
      "outputs": [
        {
          "output_type": "execute_result",
          "data": {
            "text/plain": [
              "Convertible Arbitrage     23.280834\n",
              "CTA Global                 2.952960\n",
              "Distressed Securities      7.889983\n",
              "Emerging Markets           9.250788\n",
              "Equity Market Neutral     17.218555\n",
              "Event Driven               8.035828\n",
              "Fixed Income Arbitrage    29.842199\n",
              "Global Macro               5.741679\n",
              "Long/Short Equity          4.523893\n",
              "Merger Arbitrage           8.738950\n",
              "Relative Value            12.121208\n",
              "Short Selling              6.117772\n",
              "Funds Of Funds             7.070153\n",
              "dtype: float64"
            ]
          },
          "metadata": {
            "tags": []
          },
          "execution_count": 51
        }
      ]
    },
    {
      "cell_type": "markdown",
      "metadata": {
        "id": "NE_KRmxbGWRT",
        "colab_type": "text"
      },
      "source": [
        "Let's compare it with `scipy.stats` ..."
      ]
    },
    {
      "cell_type": "code",
      "metadata": {
        "id": "hFNP_oSPGWRW",
        "colab_type": "code",
        "colab": {
          "base_uri": "https://localhost:8080/",
          "height": 68
        },
        "outputId": "9d3968b7-1f83-49a0-f331-59cb6c5ebf1a"
      },
      "source": [
        "scipy.stats.kurtosis(hfi)"
      ],
      "execution_count": 52,
      "outputs": [
        {
          "output_type": "execute_result",
          "data": {
            "text/plain": [
              "array([20.28083446, -0.04703963,  4.88998336,  6.25078841, 14.21855526,\n",
              "        5.03582817, 26.84219928,  2.74167945,  1.52389258,  5.73894979,\n",
              "        9.12120787,  3.11777175,  4.07015278])"
            ]
          },
          "metadata": {
            "tags": []
          },
          "execution_count": 52
        }
      ]
    },
    {
      "cell_type": "markdown",
      "metadata": {
        "id": "7HgKPwjAGWRf",
        "colab_type": "text"
      },
      "source": [
        "Note that these numbers are all lower by 3 from the number we have computed. That's because, as we said above, the expected kurtosis of a normally distributed series of numbers is 3, and `scipy.stats` is returning the _Excess Kurtosis_. We can see this by applying it on the random normal numbers we generated:"
      ]
    },
    {
      "cell_type": "code",
      "metadata": {
        "id": "_RsCmTcXGWRg",
        "colab_type": "code",
        "colab": {
          "base_uri": "https://localhost:8080/",
          "height": 34
        },
        "outputId": "c5a866da-ea8c-472e-ed47-686607f2e05c"
      },
      "source": [
        "scipy.stats.kurtosis(normal_rets)"
      ],
      "execution_count": 53,
      "outputs": [
        {
          "output_type": "execute_result",
          "data": {
            "text/plain": [
              "array([-0.08718069])"
            ]
          },
          "metadata": {
            "tags": []
          },
          "execution_count": 53
        }
      ]
    },
    {
      "cell_type": "code",
      "metadata": {
        "id": "SbHh9adoGWRp",
        "colab_type": "code",
        "colab": {
          "base_uri": "https://localhost:8080/",
          "height": 34
        },
        "outputId": "fda7c0d9-aebe-4622-d86b-1f025caabbfa"
      },
      "source": [
        "erk.kurtosis(normal_rets)"
      ],
      "execution_count": 54,
      "outputs": [
        {
          "output_type": "execute_result",
          "data": {
            "text/plain": [
              "2.9128193137093716"
            ]
          },
          "metadata": {
            "tags": []
          },
          "execution_count": 54
        }
      ]
    },
    {
      "cell_type": "markdown",
      "metadata": {
        "id": "-31vrXgGGWRx",
        "colab_type": "text"
      },
      "source": [
        "## Running the Jarque-Bera Test for Normality\n",
        "\n",
        "The `scipy.stats` module contains a function that runs the _Jarque-Bera_ test on a sequence of numbers. Let's apply that to the normally generated returns:"
      ]
    },
    {
      "cell_type": "code",
      "metadata": {
        "id": "KfbZh98dGWRy",
        "colab_type": "code",
        "colab": {
          "base_uri": "https://localhost:8080/",
          "height": 34
        },
        "outputId": "cfd98c6c-190e-444a-fb88-419d1ea8590b"
      },
      "source": [
        "scipy.stats.jarque_bera(normal_rets)"
      ],
      "execution_count": 55,
      "outputs": [
        {
          "output_type": "execute_result",
          "data": {
            "text/plain": [
              "(0.11550218163281105, 0.9438848598095246)"
            ]
          },
          "metadata": {
            "tags": []
          },
          "execution_count": 55
        }
      ]
    },
    {
      "cell_type": "markdown",
      "metadata": {
        "id": "NSOeK5XSGWR-",
        "colab_type": "text"
      },
      "source": [
        "The first number is the test statistic and the second number is the one we want. It represents the p-value for the hypothesis test. If you want to run the test at a 1% level of significance, you want this number to be greater than 0.01 to accept the hypothesis that the data is normally distributed, and if that number is less than 0.01 then you must reject the hypothesis of normality.\n",
        "\n",
        "In this case, since we got a number higher than 0.01 we can accept the hypothesis that the numbers are random. Now, let's try this on our different hedge fund indices."
      ]
    },
    {
      "cell_type": "code",
      "metadata": {
        "id": "ujSq4iq9GWR_",
        "colab_type": "code",
        "colab": {
          "base_uri": "https://localhost:8080/",
          "height": 34
        },
        "outputId": "911aa058-cafe-4160-e4bc-1308d9adf5c5"
      },
      "source": [
        "scipy.stats.jarque_bera(hfi)"
      ],
      "execution_count": 56,
      "outputs": [
        {
          "output_type": "execute_result",
          "data": {
            "text/plain": [
              "(25656.585999171326, 0.0)"
            ]
          },
          "metadata": {
            "tags": []
          },
          "execution_count": 56
        }
      ]
    },
    {
      "cell_type": "markdown",
      "metadata": {
        "id": "hRx8vDjZGWSI",
        "colab_type": "text"
      },
      "source": [
        "Why didn't we get the results for the individual indices? Because the implementation of the test isn't smart enough to realize that we want to treat each column as a separate set of returns. We can write out own wrapper for it to fix that, so let's start by writing a simple wrapper, and adding this code to our python file:\n",
        "\n",
        "```python\n",
        "import scipy.stats\n",
        "def is_normal(r, level=0.01):\n",
        "    \"\"\"\n",
        "    Applies the Jarque-Bera test to determine if a Series is normal or not\n",
        "    Test is applied at the 1% level by default\n",
        "    Returns True if the hypothesis of normality is accepted, False otherwise\n",
        "    \"\"\"\n",
        "    statistic, p_value = scipy.stats.jarque_bera(r)\n",
        "    return p_value > level\n",
        "```"
      ]
    },
    {
      "cell_type": "code",
      "metadata": {
        "id": "djXnneozGWSK",
        "colab_type": "code",
        "colab": {
          "base_uri": "https://localhost:8080/",
          "height": 34
        },
        "outputId": "6b63d822-6ed8-4389-84e0-d41cef8d1f73"
      },
      "source": [
        "erk.is_normal(normal_rets)"
      ],
      "execution_count": 57,
      "outputs": [
        {
          "output_type": "execute_result",
          "data": {
            "text/plain": [
              "True"
            ]
          },
          "metadata": {
            "tags": []
          },
          "execution_count": 57
        }
      ]
    },
    {
      "cell_type": "markdown",
      "metadata": {
        "id": "5hQalsoDGWST",
        "colab_type": "text"
      },
      "source": [
        "There are a few different ways to handle the problem. The first is to use the `.aggregate` method on a dataframe, that takes a function as an argument and applies that function to each column:"
      ]
    },
    {
      "cell_type": "code",
      "metadata": {
        "id": "_zwsUsWIGWSV",
        "colab_type": "code",
        "colab": {
          "base_uri": "https://localhost:8080/",
          "height": 255
        },
        "outputId": "14f22b30-1a75-4d02-9558-ca49abbc6e9d"
      },
      "source": [
        "hfi.aggregate(erk.is_normal)"
      ],
      "execution_count": 58,
      "outputs": [
        {
          "output_type": "execute_result",
          "data": {
            "text/plain": [
              "Convertible Arbitrage     False\n",
              "CTA Global                 True\n",
              "Distressed Securities     False\n",
              "Emerging Markets          False\n",
              "Equity Market Neutral     False\n",
              "Event Driven              False\n",
              "Fixed Income Arbitrage    False\n",
              "Global Macro              False\n",
              "Long/Short Equity         False\n",
              "Merger Arbitrage          False\n",
              "Relative Value            False\n",
              "Short Selling             False\n",
              "Funds Of Funds            False\n",
              "dtype: bool"
            ]
          },
          "metadata": {
            "tags": []
          },
          "execution_count": 58
        }
      ]
    },
    {
      "cell_type": "markdown",
      "metadata": {
        "id": "tBl-5BHoGWSe",
        "colab_type": "text"
      },
      "source": [
        "However, we can fix this in our wrapper so that we have a uniform interface to test normality:\n",
        "\n",
        "```python\n",
        "import scipy.stats\n",
        "def is_normal(r, level=0.01):\n",
        "    \"\"\"\n",
        "    Applies the Jarque-Bera test to determine if a Series is normal or not\n",
        "    Test is applied at the 1% level by default\n",
        "    Returns True if the hypothesis of normality is accepted, False otherwise\n",
        "    \"\"\"\n",
        "    if isinstance(r, pd.DataFrame):\n",
        "        return r.aggregate(is_normal)\n",
        "    else:\n",
        "        statistic, p_value = scipy.stats.jarque_bera(r)\n",
        "        return p_value > level\n",
        "```\n"
      ]
    },
    {
      "cell_type": "code",
      "metadata": {
        "id": "jh_PnKtLGWSf",
        "colab_type": "code",
        "colab": {
          "base_uri": "https://localhost:8080/",
          "height": 34
        },
        "outputId": "00ddcbeb-4759-4a68-fe86-973bb07fc57a"
      },
      "source": [
        "import pandas as pd\n",
        "isinstance(hfi, pd.DataFrame)"
      ],
      "execution_count": 59,
      "outputs": [
        {
          "output_type": "execute_result",
          "data": {
            "text/plain": [
              "True"
            ]
          },
          "metadata": {
            "tags": []
          },
          "execution_count": 59
        }
      ]
    },
    {
      "cell_type": "code",
      "metadata": {
        "id": "PGOhH0MPGWSn",
        "colab_type": "code",
        "colab": {
          "base_uri": "https://localhost:8080/",
          "height": 34
        },
        "outputId": "948e0e79-3051-4612-95f8-8d25e3df5271"
      },
      "source": [
        "erk.is_normal(normal_rets)"
      ],
      "execution_count": 60,
      "outputs": [
        {
          "output_type": "execute_result",
          "data": {
            "text/plain": [
              "True"
            ]
          },
          "metadata": {
            "tags": []
          },
          "execution_count": 60
        }
      ]
    },
    {
      "cell_type": "markdown",
      "metadata": {
        "id": "6JrSrFduGWSy",
        "colab_type": "text"
      },
      "source": [
        "## Testing CRSP SmallCap and Large Cap returns for Normality\n",
        "\n",
        "Let's see whether any of the returns we've been studying so far pass the normality hypothesis."
      ]
    },
    {
      "cell_type": "code",
      "metadata": {
        "id": "P5EpVKhyGWS0",
        "colab_type": "code",
        "colab": {
          "base_uri": "https://localhost:8080/",
          "height": 68
        },
        "outputId": "3bdc8bf5-7197-42b3-ed5e-2bad4cf44943"
      },
      "source": [
        "ffme = erk.get_ffme_returns()\n",
        "erk.skewness(ffme)"
      ],
      "execution_count": 62,
      "outputs": [
        {
          "output_type": "execute_result",
          "data": {
            "text/plain": [
              "SmallCap    4.410739\n",
              "LargeCap    0.233445\n",
              "dtype: float64"
            ]
          },
          "metadata": {
            "tags": []
          },
          "execution_count": 62
        }
      ]
    },
    {
      "cell_type": "code",
      "metadata": {
        "id": "gS-8RGDOGWS7",
        "colab_type": "code",
        "colab": {
          "base_uri": "https://localhost:8080/",
          "height": 68
        },
        "outputId": "0d667970-0725-4fdb-c1ef-750d84ed8c0d"
      },
      "source": [
        "erk.kurtosis(ffme)"
      ],
      "execution_count": 63,
      "outputs": [
        {
          "output_type": "execute_result",
          "data": {
            "text/plain": [
              "SmallCap    46.845008\n",
              "LargeCap    10.694654\n",
              "dtype: float64"
            ]
          },
          "metadata": {
            "tags": []
          },
          "execution_count": 63
        }
      ]
    },
    {
      "cell_type": "code",
      "metadata": {
        "id": "04Tgl3iFGWTD",
        "colab_type": "code",
        "colab": {
          "base_uri": "https://localhost:8080/",
          "height": 68
        },
        "outputId": "60d548fd-8aec-4037-c600-55f60142358e"
      },
      "source": [
        "erk.is_normal(ffme)"
      ],
      "execution_count": 64,
      "outputs": [
        {
          "output_type": "execute_result",
          "data": {
            "text/plain": [
              "SmallCap    False\n",
              "LargeCap    False\n",
              "dtype: bool"
            ]
          },
          "metadata": {
            "tags": []
          },
          "execution_count": 64
        }
      ]
    },
    {
      "cell_type": "code",
      "metadata": {
        "id": "Qko0e5JIGWTK",
        "colab_type": "code",
        "colab": {}
      },
      "source": [
        "!jupyter nbconvert lab_105.ipynb"
      ],
      "execution_count": null,
      "outputs": []
    }
  ]
}