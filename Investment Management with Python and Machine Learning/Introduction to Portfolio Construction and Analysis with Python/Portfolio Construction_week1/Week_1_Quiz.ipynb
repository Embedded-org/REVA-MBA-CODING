{
  "nbformat": 4,
  "nbformat_minor": 0,
  "metadata": {
    "kernelspec": {
      "display_name": "Python 3",
      "language": "python",
      "name": "python3"
    },
    "language_info": {
      "codemirror_mode": {
        "name": "ipython",
        "version": 3
      },
      "file_extension": ".py",
      "mimetype": "text/x-python",
      "name": "python",
      "nbconvert_exporter": "python",
      "pygments_lexer": "ipython3",
      "version": "3.7.3"
    },
    "colab": {
      "name": "Week 1 - Quiz.ipynb",
      "provenance": [],
      "collapsed_sections": []
    }
  },
  "cells": [
    {
      "cell_type": "code",
      "metadata": {
        "id": "jilqNftK4tWP",
        "colab_type": "code",
        "colab": {
          "base_uri": "https://localhost:8080/",
          "height": 122
        },
        "outputId": "a8165ae8-8d38-404b-e08e-d1bbce14e5ca"
      },
      "source": [
        "from google.colab import drive\n",
        "drive.mount('/content/gdrive/')\n",
        "import sys\n",
        "sys.path.append('/content/gdrive/My Drive/import')\n",
        "%load_ext autoreload\n",
        "%autoreload 2\n",
        "import edhec_risk_kit_106 as erk\n",
        "import pandas as pd\n",
        "import numpy as np\n",
        "import scipy.stats\n",
        "%reload_ext autoreload"
      ],
      "execution_count": 2,
      "outputs": [
        {
          "output_type": "stream",
          "text": [
            "Go to this URL in a browser: https://accounts.google.com/o/oauth2/auth?client_id=947318989803-6bn6qk8qdgf4n4g3pfee6491hc0brc4i.apps.googleusercontent.com&redirect_uri=urn%3aietf%3awg%3aoauth%3a2.0%3aoob&scope=email%20https%3a%2f%2fwww.googleapis.com%2fauth%2fdocs.test%20https%3a%2f%2fwww.googleapis.com%2fauth%2fdrive%20https%3a%2f%2fwww.googleapis.com%2fauth%2fdrive.photos.readonly%20https%3a%2f%2fwww.googleapis.com%2fauth%2fpeopleapi.readonly&response_type=code\n",
            "\n",
            "Enter your authorization code:\n",
            "4/3wFfJoPGpUZojubP7KCon2ij6sTI0tlHwOgbDygE89E2sP3nk9wX4k4\n",
            "Mounted at /content/gdrive/\n"
          ],
          "name": "stdout"
        }
      ]
    },
    {
      "cell_type": "code",
      "metadata": {
        "id": "Z6C-XLQg5M3r",
        "colab_type": "code",
        "colab": {}
      },
      "source": [
        "data = pd.read_csv(\"data/Portfolios_Formed_on_ME_monthly_EW.csv\",\n",
        "                   header=0,\n",
        "                   index_col=0,\n",
        "                   na_values=-99.99,\n",
        "                   parse_dates=True,\n",
        "                  )"
      ],
      "execution_count": 3,
      "outputs": []
    },
    {
      "cell_type": "code",
      "metadata": {
        "id": "9I9melBP5S8E",
        "colab_type": "code",
        "colab": {}
      },
      "source": [
        "data = data[[\"Lo 20\", \"Hi 20\"]]"
      ],
      "execution_count": 4,
      "outputs": []
    },
    {
      "cell_type": "code",
      "metadata": {
        "id": "tAlwRcAi5Wu9",
        "colab_type": "code",
        "colab": {}
      },
      "source": [
        "data = data/100"
      ],
      "execution_count": 5,
      "outputs": []
    },
    {
      "cell_type": "code",
      "metadata": {
        "id": "R_co_X_O5bf4",
        "colab_type": "code",
        "colab": {}
      },
      "source": [
        "data.index = pd.to_datetime(data.index, format=\"%Y%m\").to_period(\"M\")"
      ],
      "execution_count": 6,
      "outputs": []
    },
    {
      "cell_type": "code",
      "metadata": {
        "id": "shCr150U5f4e",
        "colab_type": "code",
        "colab": {
          "base_uri": "https://localhost:8080/",
          "height": 297
        },
        "outputId": "0fef3f2f-696b-49c0-a3c9-cace3ef757ac"
      },
      "source": [
        "data.describe()"
      ],
      "execution_count": 7,
      "outputs": [
        {
          "output_type": "execute_result",
          "data": {
            "text/html": [
              "<div>\n",
              "<style scoped>\n",
              "    .dataframe tbody tr th:only-of-type {\n",
              "        vertical-align: middle;\n",
              "    }\n",
              "\n",
              "    .dataframe tbody tr th {\n",
              "        vertical-align: top;\n",
              "    }\n",
              "\n",
              "    .dataframe thead th {\n",
              "        text-align: right;\n",
              "    }\n",
              "</style>\n",
              "<table border=\"1\" class=\"dataframe\">\n",
              "  <thead>\n",
              "    <tr style=\"text-align: right;\">\n",
              "      <th></th>\n",
              "      <th>Lo 20</th>\n",
              "      <th>Hi 20</th>\n",
              "    </tr>\n",
              "  </thead>\n",
              "  <tbody>\n",
              "    <tr>\n",
              "      <th>count</th>\n",
              "      <td>1110.000000</td>\n",
              "      <td>1110.000000</td>\n",
              "    </tr>\n",
              "    <tr>\n",
              "      <th>mean</th>\n",
              "      <td>0.015904</td>\n",
              "      <td>0.009434</td>\n",
              "    </tr>\n",
              "    <tr>\n",
              "      <th>std</th>\n",
              "      <td>0.097197</td>\n",
              "      <td>0.056325</td>\n",
              "    </tr>\n",
              "    <tr>\n",
              "      <th>min</th>\n",
              "      <td>-0.309900</td>\n",
              "      <td>-0.304000</td>\n",
              "    </tr>\n",
              "    <tr>\n",
              "      <th>25%</th>\n",
              "      <td>-0.026950</td>\n",
              "      <td>-0.019175</td>\n",
              "    </tr>\n",
              "    <tr>\n",
              "      <th>50%</th>\n",
              "      <td>0.011900</td>\n",
              "      <td>0.012300</td>\n",
              "    </tr>\n",
              "    <tr>\n",
              "      <th>75%</th>\n",
              "      <td>0.048300</td>\n",
              "      <td>0.038375</td>\n",
              "    </tr>\n",
              "    <tr>\n",
              "      <th>max</th>\n",
              "      <td>1.126000</td>\n",
              "      <td>0.416300</td>\n",
              "    </tr>\n",
              "  </tbody>\n",
              "</table>\n",
              "</div>"
            ],
            "text/plain": [
              "             Lo 20        Hi 20\n",
              "count  1110.000000  1110.000000\n",
              "mean      0.015904     0.009434\n",
              "std       0.097197     0.056325\n",
              "min      -0.309900    -0.304000\n",
              "25%      -0.026950    -0.019175\n",
              "50%       0.011900     0.012300\n",
              "75%       0.048300     0.038375\n",
              "max       1.126000     0.416300"
            ]
          },
          "metadata": {
            "tags": []
          },
          "execution_count": 7
        }
      ]
    },
    {
      "cell_type": "code",
      "metadata": {
        "id": "81H0SlVv5jwf",
        "colab_type": "code",
        "colab": {
          "base_uri": "https://localhost:8080/",
          "height": 68
        },
        "outputId": "e65e75fc-758c-4a88-9af1-c3c8e919260b"
      },
      "source": [
        "n_months = data.shape[0]\n",
        "return_per_month = (data + 1).prod() ** (1 / n_months) - 1\n",
        "print(return_per_month*100)"
      ],
      "execution_count": 8,
      "outputs": [
        {
          "output_type": "stream",
          "text": [
            "Lo 20    1.185974\n",
            "Hi 20    0.785878\n",
            "dtype: float64\n"
          ],
          "name": "stdout"
        }
      ]
    },
    {
      "cell_type": "code",
      "metadata": {
        "id": "qM_E-FnS5orn",
        "colab_type": "code",
        "colab": {
          "base_uri": "https://localhost:8080/",
          "height": 68
        },
        "outputId": "3a305865-b0e1-438b-cda2-b22796b1ffb3"
      },
      "source": [
        "annualized_return = (return_per_month + 1)**12 - 1\n",
        "annualized_return*100"
      ],
      "execution_count": 9,
      "outputs": [
        {
          "output_type": "execute_result",
          "data": {
            "text/plain": [
              "Lo 20    15.197701\n",
              "Hi 20     9.849021\n",
              "dtype: float64"
            ]
          },
          "metadata": {
            "tags": []
          },
          "execution_count": 9
        }
      ]
    },
    {
      "cell_type": "code",
      "metadata": {
        "id": "vqt_hfNX5qKO",
        "colab_type": "code",
        "colab": {}
      },
      "source": [
        "annualized_volatility = data.std()*np.sqrt(12)"
      ],
      "execution_count": 10,
      "outputs": []
    },
    {
      "cell_type": "code",
      "metadata": {
        "id": "ZET9MMRk5yFk",
        "colab_type": "code",
        "colab": {
          "base_uri": "https://localhost:8080/",
          "height": 68
        },
        "outputId": "e5143289-55ca-4ab1-e196-f1c9d76873eb"
      },
      "source": [
        "annualized_volatility"
      ],
      "execution_count": 11,
      "outputs": [
        {
          "output_type": "execute_result",
          "data": {
            "text/plain": [
              "Lo 20    0.336701\n",
              "Hi 20    0.195116\n",
              "dtype: float64"
            ]
          },
          "metadata": {
            "tags": []
          },
          "execution_count": 11
        }
      ]
    },
    {
      "cell_type": "code",
      "metadata": {
        "id": "7sA4pn5Z52DW",
        "colab_type": "code",
        "colab": {
          "base_uri": "https://localhost:8080/",
          "height": 68
        },
        "outputId": "cf12108b-ad4e-45bb-f79e-73e1a4ac51ad"
      },
      "source": [
        "def annualized_return(r, periods_per_year):\n",
        "    \"\"\"\n",
        "    Computes annualized return on a time series of asset returns\n",
        "    \"\"\"\n",
        "    compounded_growth = (r + 1).prod()\n",
        "    n_periods = r.shape[0]\n",
        "    return compounded_growth ** (periods_per_year / n_periods) - 1 \n",
        "annualized_return(data[\"1999\":\"2015\"],12)*100"
      ],
      "execution_count": 12,
      "outputs": [
        {
          "output_type": "execute_result",
          "data": {
            "text/plain": [
              "Lo 20    11.442634\n",
              "Hi 20     6.286512\n",
              "dtype: float64"
            ]
          },
          "metadata": {
            "tags": []
          },
          "execution_count": 12
        }
      ]
    },
    {
      "cell_type": "code",
      "metadata": {
        "id": "iQV-r07G55Pd",
        "colab_type": "code",
        "colab": {
          "base_uri": "https://localhost:8080/",
          "height": 68
        },
        "outputId": "8c0d7aa7-716a-490c-ad74-8c7bc2a1a254"
      },
      "source": [
        "def annualized_volatility(r, periods_per_year):\n",
        "    \"\"\"\n",
        "    Computes annualized volatility on a time series of asset returns\n",
        "    \"\"\"\n",
        "    return r.std()*np.sqrt(periods_per_year)\n",
        "annualized_volatility(data[\"1999\":\"2015\"],12)*100"
      ],
      "execution_count": 13,
      "outputs": [
        {
          "output_type": "execute_result",
          "data": {
            "text/plain": [
              "Lo 20    22.889447\n",
              "Hi 20    17.271332\n",
              "dtype: float64"
            ]
          },
          "metadata": {
            "tags": []
          },
          "execution_count": 13
        }
      ]
    },
    {
      "cell_type": "code",
      "metadata": {
        "id": "12rQAbkY576W",
        "colab_type": "code",
        "colab": {
          "base_uri": "https://localhost:8080/",
          "height": 282
        },
        "outputId": "57ace102-6971-4b54-e13a-1f41d748f25c"
      },
      "source": [
        "data[\"1999\":\"2015\"].plot()"
      ],
      "execution_count": 14,
      "outputs": [
        {
          "output_type": "execute_result",
          "data": {
            "text/plain": [
              "<matplotlib.axes._subplots.AxesSubplot at 0x7fdff702e898>"
            ]
          },
          "metadata": {
            "tags": []
          },
          "execution_count": 14
        },
        {
          "output_type": "display_data",
          "data": {
            "image/png": "[encoded data removed]",
            "text/plain": [
              "<Figure size 432x288 with 1 Axes>"
            ]
          },
          "metadata": {
            "tags": [],
            "needs_background": "light"
          }
        }
      ]
    },
    {
      "cell_type": "code",
      "metadata": {
        "id": "A4PjX3gv5f2k",
        "colab_type": "code",
        "colab": {
          "base_uri": "https://localhost:8080/",
          "height": 282
        },
        "outputId": "638115c8-59e8-42c7-bf97-65602f098978"
      },
      "source": [
        "erk.drawdown(data[\"Lo 20\"][\"1999\":\"2015\"])[\"Drawdown\"].plot()"
      ],
      "execution_count": 15,
      "outputs": [
        {
          "output_type": "execute_result",
          "data": {
            "text/plain": [
              "<matplotlib.axes._subplots.AxesSubplot at 0x7fdff6f40278>"
            ]
          },
          "metadata": {
            "tags": []
          },
          "execution_count": 15
        },
        {
          "output_type": "display_data",
          "data": {
            "image/png": "[encoded data removed]",
            "text/plain": [
              "<Figure size 432x288 with 1 Axes>"
            ]
          },
          "metadata": {
            "tags": [],
            "needs_background": "light"
          }
        }
      ]
    },
    {
      "cell_type": "code",
      "metadata": {
        "id": "v7EOQuN-6Duv",
        "colab_type": "code",
        "colab": {
          "base_uri": "https://localhost:8080/",
          "height": 34
        },
        "outputId": "07163a96-6c6e-4f47-db5d-2396990d8d1e"
      },
      "source": [
        "erk.drawdown(data[\"Lo 20\"][\"1999\":\"2015\"])[\"Drawdown\"].min()*100"
      ],
      "execution_count": 16,
      "outputs": [
        {
          "output_type": "execute_result",
          "data": {
            "text/plain": [
              "-62.48092431236988"
            ]
          },
          "metadata": {
            "tags": []
          },
          "execution_count": 16
        }
      ]
    },
    {
      "cell_type": "code",
      "metadata": {
        "id": "jk7Nck7a6GS_",
        "colab_type": "code",
        "colab": {
          "base_uri": "https://localhost:8080/",
          "height": 34
        },
        "outputId": "ab342815-30fb-4e32-e378-51efdbd2ebea"
      },
      "source": [
        "erk.drawdown(data[\"Lo 20\"][\"1999\":\"2015\"])[\"Drawdown\"].idxmin()"
      ],
      "execution_count": 17,
      "outputs": [
        {
          "output_type": "execute_result",
          "data": {
            "text/plain": [
              "Period('2009-02', 'M')"
            ]
          },
          "metadata": {
            "tags": []
          },
          "execution_count": 17
        }
      ]
    },
    {
      "cell_type": "code",
      "metadata": {
        "id": "ZmGJ6R4K6Ilk",
        "colab_type": "code",
        "colab": {
          "base_uri": "https://localhost:8080/",
          "height": 34
        },
        "outputId": "224697d2-6c36-4650-fe41-e05f18ea3422"
      },
      "source": [
        "erk.drawdown(data[\"Hi 20\"][\"1999\":\"2015\"])[\"Drawdown\"].min()*100"
      ],
      "execution_count": 18,
      "outputs": [
        {
          "output_type": "execute_result",
          "data": {
            "text/plain": [
              "-55.27349978713653"
            ]
          },
          "metadata": {
            "tags": []
          },
          "execution_count": 18
        }
      ]
    },
    {
      "cell_type": "code",
      "metadata": {
        "id": "007hJMHA6K7W",
        "colab_type": "code",
        "colab": {
          "base_uri": "https://localhost:8080/",
          "height": 34
        },
        "outputId": "f937660a-6ad6-438f-dc90-681e5ced6d1a"
      },
      "source": [
        "erk.drawdown(data[\"Hi 20\"][\"1999\":\"2015\"])[\"Drawdown\"].idxmin()"
      ],
      "execution_count": 19,
      "outputs": [
        {
          "output_type": "execute_result",
          "data": {
            "text/plain": [
              "Period('2009-02', 'M')"
            ]
          },
          "metadata": {
            "tags": []
          },
          "execution_count": 19
        }
      ]
    },
    {
      "cell_type": "code",
      "metadata": {
        "id": "P8zAjHqz6PjE",
        "colab_type": "code",
        "colab": {}
      },
      "source": [
        "hfi = erk.get_hfi_returns()"
      ],
      "execution_count": 21,
      "outputs": []
    },
    {
      "cell_type": "code",
      "metadata": {
        "id": "lT449Zdt6TLL",
        "colab_type": "code",
        "colab": {
          "base_uri": "https://localhost:8080/",
          "height": 351
        },
        "outputId": "086f22e6-e781-476c-e471-717eb8f8f88f"
      },
      "source": [
        "hfi.describe()"
      ],
      "execution_count": 22,
      "outputs": [
        {
          "output_type": "execute_result",
          "data": {
            "text/html": [
              "<div>\n",
              "<style scoped>\n",
              "    .dataframe tbody tr th:only-of-type {\n",
              "        vertical-align: middle;\n",
              "    }\n",
              "\n",
              "    .dataframe tbody tr th {\n",
              "        vertical-align: top;\n",
              "    }\n",
              "\n",
              "    .dataframe thead th {\n",
              "        text-align: right;\n",
              "    }\n",
              "</style>\n",
              "<table border=\"1\" class=\"dataframe\">\n",
              "  <thead>\n",
              "    <tr style=\"text-align: right;\">\n",
              "      <th></th>\n",
              "      <th>Convertible Arbitrage</th>\n",
              "      <th>CTA Global</th>\n",
              "      <th>Distressed Securities</th>\n",
              "      <th>Emerging Markets</th>\n",
              "      <th>Equity Market Neutral</th>\n",
              "      <th>Event Driven</th>\n",
              "      <th>Fixed Income Arbitrage</th>\n",
              "      <th>Global Macro</th>\n",
              "      <th>Long/Short Equity</th>\n",
              "      <th>Merger Arbitrage</th>\n",
              "      <th>Relative Value</th>\n",
              "      <th>Short Selling</th>\n",
              "      <th>Funds Of Funds</th>\n",
              "    </tr>\n",
              "  </thead>\n",
              "  <tbody>\n",
              "    <tr>\n",
              "      <th>count</th>\n",
              "      <td>263.000000</td>\n",
              "      <td>263.000000</td>\n",
              "      <td>263.000000</td>\n",
              "      <td>263.000000</td>\n",
              "      <td>263.000000</td>\n",
              "      <td>263.000000</td>\n",
              "      <td>263.000000</td>\n",
              "      <td>263.000000</td>\n",
              "      <td>263.000000</td>\n",
              "      <td>263.000000</td>\n",
              "      <td>263.000000</td>\n",
              "      <td>263.000000</td>\n",
              "      <td>263.000000</td>\n",
              "    </tr>\n",
              "    <tr>\n",
              "      <th>mean</th>\n",
              "      <td>0.005508</td>\n",
              "      <td>0.004074</td>\n",
              "      <td>0.006946</td>\n",
              "      <td>0.006253</td>\n",
              "      <td>0.004498</td>\n",
              "      <td>0.006344</td>\n",
              "      <td>0.004365</td>\n",
              "      <td>0.005403</td>\n",
              "      <td>0.006331</td>\n",
              "      <td>0.005356</td>\n",
              "      <td>0.005792</td>\n",
              "      <td>-0.001701</td>\n",
              "      <td>0.004262</td>\n",
              "    </tr>\n",
              "    <tr>\n",
              "      <th>std</th>\n",
              "      <td>0.016567</td>\n",
              "      <td>0.023335</td>\n",
              "      <td>0.017042</td>\n",
              "      <td>0.032538</td>\n",
              "      <td>0.008130</td>\n",
              "      <td>0.016744</td>\n",
              "      <td>0.011539</td>\n",
              "      <td>0.014722</td>\n",
              "      <td>0.019935</td>\n",
              "      <td>0.009619</td>\n",
              "      <td>0.011484</td>\n",
              "      <td>0.047746</td>\n",
              "      <td>0.015566</td>\n",
              "    </tr>\n",
              "    <tr>\n",
              "      <th>min</th>\n",
              "      <td>-0.123700</td>\n",
              "      <td>-0.056800</td>\n",
              "      <td>-0.083600</td>\n",
              "      <td>-0.192200</td>\n",
              "      <td>-0.058700</td>\n",
              "      <td>-0.088600</td>\n",
              "      <td>-0.086700</td>\n",
              "      <td>-0.031300</td>\n",
              "      <td>-0.067500</td>\n",
              "      <td>-0.054400</td>\n",
              "      <td>-0.069200</td>\n",
              "      <td>-0.134000</td>\n",
              "      <td>-0.061800</td>\n",
              "    </tr>\n",
              "    <tr>\n",
              "      <th>25%</th>\n",
              "      <td>-0.000150</td>\n",
              "      <td>-0.012050</td>\n",
              "      <td>-0.001450</td>\n",
              "      <td>-0.009750</td>\n",
              "      <td>0.001500</td>\n",
              "      <td>-0.001450</td>\n",
              "      <td>0.001650</td>\n",
              "      <td>-0.004050</td>\n",
              "      <td>-0.004750</td>\n",
              "      <td>0.000600</td>\n",
              "      <td>0.001000</td>\n",
              "      <td>-0.027100</td>\n",
              "      <td>-0.003500</td>\n",
              "    </tr>\n",
              "    <tr>\n",
              "      <th>50%</th>\n",
              "      <td>0.006500</td>\n",
              "      <td>0.001400</td>\n",
              "      <td>0.008900</td>\n",
              "      <td>0.009600</td>\n",
              "      <td>0.005100</td>\n",
              "      <td>0.008400</td>\n",
              "      <td>0.005500</td>\n",
              "      <td>0.003800</td>\n",
              "      <td>0.007900</td>\n",
              "      <td>0.006000</td>\n",
              "      <td>0.006700</td>\n",
              "      <td>-0.005300</td>\n",
              "      <td>0.005200</td>\n",
              "    </tr>\n",
              "    <tr>\n",
              "      <th>75%</th>\n",
              "      <td>0.013600</td>\n",
              "      <td>0.019850</td>\n",
              "      <td>0.017750</td>\n",
              "      <td>0.025700</td>\n",
              "      <td>0.008300</td>\n",
              "      <td>0.016200</td>\n",
              "      <td>0.009550</td>\n",
              "      <td>0.012400</td>\n",
              "      <td>0.019150</td>\n",
              "      <td>0.011100</td>\n",
              "      <td>0.012950</td>\n",
              "      <td>0.019850</td>\n",
              "      <td>0.012100</td>\n",
              "    </tr>\n",
              "    <tr>\n",
              "      <th>max</th>\n",
              "      <td>0.061100</td>\n",
              "      <td>0.069100</td>\n",
              "      <td>0.050400</td>\n",
              "      <td>0.123000</td>\n",
              "      <td>0.025300</td>\n",
              "      <td>0.044200</td>\n",
              "      <td>0.036500</td>\n",
              "      <td>0.073800</td>\n",
              "      <td>0.074500</td>\n",
              "      <td>0.027200</td>\n",
              "      <td>0.039200</td>\n",
              "      <td>0.246300</td>\n",
              "      <td>0.066600</td>\n",
              "    </tr>\n",
              "  </tbody>\n",
              "</table>\n",
              "</div>"
            ],
            "text/plain": [
              "       Convertible Arbitrage  CTA Global  ...  Short Selling  Funds Of Funds\n",
              "count             263.000000  263.000000  ...     263.000000      263.000000\n",
              "mean                0.005508    0.004074  ...      -0.001701        0.004262\n",
              "std                 0.016567    0.023335  ...       0.047746        0.015566\n",
              "min                -0.123700   -0.056800  ...      -0.134000       -0.061800\n",
              "25%                -0.000150   -0.012050  ...      -0.027100       -0.003500\n",
              "50%                 0.006500    0.001400  ...      -0.005300        0.005200\n",
              "75%                 0.013600    0.019850  ...       0.019850        0.012100\n",
              "max                 0.061100    0.069100  ...       0.246300        0.066600\n",
              "\n",
              "[8 rows x 13 columns]"
            ]
          },
          "metadata": {
            "tags": []
          },
          "execution_count": 22
        }
      ]
    },
    {
      "cell_type": "code",
      "metadata": {
        "id": "jZ2i5wguYVvD",
        "colab_type": "code",
        "colab": {
          "base_uri": "https://localhost:8080/",
          "height": 255
        },
        "outputId": "74bc2abb-575d-4118-be2a-09cc05d5c342"
      },
      "source": [
        "erk.semideviation(hfi[\"2009\":\"2018\"]).sort_values()"
      ],
      "execution_count": 26,
      "outputs": [
        {
          "output_type": "execute_result",
          "data": {
            "text/plain": [
              "Fixed Income Arbitrage    0.003321\n",
              "Merger Arbitrage          0.003611\n",
              "Global Macro              0.005075\n",
              "Equity Market Neutral     0.005186\n",
              "Relative Value            0.005711\n",
              "Convertible Arbitrage     0.006681\n",
              "Funds Of Funds            0.007948\n",
              "Distressed Securities     0.009498\n",
              "Event Driven              0.010135\n",
              "CTA Global                0.010996\n",
              "Long/Short Equity         0.012139\n",
              "Emerging Markets          0.015276\n",
              "Short Selling             0.021240\n",
              "dtype: float64"
            ]
          },
          "metadata": {
            "tags": []
          },
          "execution_count": 26
        }
      ]
    },
    {
      "cell_type": "code",
      "metadata": {
        "id": "4bN7jRI96W1e",
        "colab_type": "code",
        "colab": {
          "base_uri": "https://localhost:8080/",
          "height": 388
        },
        "outputId": "376402d3-6e75-4e01-a63d-e72ce5393059"
      },
      "source": [
        "erk.semideviation(hfi[\"2009\":\"2018\"]).sort_values().plot.bar()"
      ],
      "execution_count": 23,
      "outputs": [
        {
          "output_type": "execute_result",
          "data": {
            "text/plain": [
              "<matplotlib.axes._subplots.AxesSubplot at 0x7fdff6a8fc18>"
            ]
          },
          "metadata": {
            "tags": []
          },
          "execution_count": 23
        },
        {
          "output_type": "display_data",
          "data": {
            "image/png": "[encoded data removed]",
            "text/plain": [
              "<Figure size 432x288 with 1 Axes>"
            ]
          },
          "metadata": {
            "tags": [],
            "needs_background": "light"
          }
        }
      ]
    },
    {
      "cell_type": "code",
      "metadata": {
        "id": "HXd9fXZGYoHG",
        "colab_type": "code",
        "colab": {
          "base_uri": "https://localhost:8080/",
          "height": 255
        },
        "outputId": "8330cdae-bc39-41e5-8a04-0c2ca0a7a928"
      },
      "source": [
        "erk.skewness(hfi[\"2009\":]).sort_values()"
      ],
      "execution_count": 27,
      "outputs": [
        {
          "output_type": "execute_result",
          "data": {
            "text/plain": [
              "Equity Market Neutral    -0.896327\n",
              "Funds Of Funds           -0.646908\n",
              "Merger Arbitrage         -0.551065\n",
              "Event Driven             -0.488821\n",
              "Long/Short Equity        -0.463703\n",
              "Distressed Securities    -0.254944\n",
              "Emerging Markets          0.033123\n",
              "CTA Global                0.052062\n",
              "Relative Value            0.159953\n",
              "Global Macro              0.348184\n",
              "Short Selling             0.456518\n",
              "Fixed Income Arbitrage    1.121453\n",
              "Convertible Arbitrage     1.305911\n",
              "dtype: float64"
            ]
          },
          "metadata": {
            "tags": []
          },
          "execution_count": 27
        }
      ]
    },
    {
      "cell_type": "code",
      "metadata": {
        "id": "4fji9Gxk6bE6",
        "colab_type": "code",
        "colab": {
          "base_uri": "https://localhost:8080/",
          "height": 388
        },
        "outputId": "0a0deea0-c11a-4fb1-9b17-a28cab2138ef"
      },
      "source": [
        "erk.skewness(hfi[\"2009\":]).sort_values().plot.bar()"
      ],
      "execution_count": 24,
      "outputs": [
        {
          "output_type": "execute_result",
          "data": {
            "text/plain": [
              "<matplotlib.axes._subplots.AxesSubplot at 0x7fdff6925da0>"
            ]
          },
          "metadata": {
            "tags": []
          },
          "execution_count": 24
        },
        {
          "output_type": "display_data",
          "data": {
            "image/png": "[encoded data removed]",
            "text/plain": [
              "<Figure size 432x288 with 1 Axes>"
            ]
          },
          "metadata": {
            "tags": [],
            "needs_background": "light"
          }
        }
      ]
    },
    {
      "cell_type": "code",
      "metadata": {
        "id": "0uoqJvwpY0SE",
        "colab_type": "code",
        "colab": {
          "base_uri": "https://localhost:8080/",
          "height": 255
        },
        "outputId": "fee642f6-4ccf-4a91-dd73-bba142d4c596"
      },
      "source": [
        "erk.kurtosis(hfi[\"2000\":\"2018\"]).sort_values()"
      ],
      "execution_count": 28,
      "outputs": [
        {
          "output_type": "execute_result",
          "data": {
            "text/plain": [
              "CTA Global                 2.845022\n",
              "Global Macro               3.653278\n",
              "Short Selling              4.352758\n",
              "Long/Short Equity          4.472589\n",
              "Merger Arbitrage           4.520785\n",
              "Event Driven               5.543444\n",
              "Emerging Markets           5.941289\n",
              "Distressed Securities      6.231720\n",
              "Funds Of Funds             7.584725\n",
              "Relative Value            12.731096\n",
              "Equity Market Neutral     20.329621\n",
              "Convertible Arbitrage     23.001449\n",
              "Fixed Income Arbitrage    33.378729\n",
              "dtype: float64"
            ]
          },
          "metadata": {
            "tags": []
          },
          "execution_count": 28
        }
      ]
    },
    {
      "cell_type": "code",
      "metadata": {
        "id": "LuZwCjva6ex-",
        "colab_type": "code",
        "colab": {
          "base_uri": "https://localhost:8080/",
          "height": 392
        },
        "outputId": "8957b915-74be-4ad8-87a7-bd08ea2e9797"
      },
      "source": [
        "erk.kurtosis(hfi[\"2000\":\"2018\"]).sort_values().plot.bar()"
      ],
      "execution_count": 25,
      "outputs": [
        {
          "output_type": "execute_result",
          "data": {
            "text/plain": [
              "<matplotlib.axes._subplots.AxesSubplot at 0x7fdff68ad588>"
            ]
          },
          "metadata": {
            "tags": []
          },
          "execution_count": 25
        },
        {
          "output_type": "display_data",
          "data": {
            "image/png": "[encoded data removed]",
            "text/plain": [
              "<Figure size 432x288 with 1 Axes>"
            ]
          },
          "metadata": {
            "tags": [],
            "needs_background": "light"
          }
        }
      ]
    },
    {
      "cell_type": "code",
      "metadata": {
        "id": "JbK_cTPXZNxo",
        "colab_type": "code",
        "colab": {
          "base_uri": "https://localhost:8080/",
          "height": 51
        },
        "outputId": "3b37cc95-a543-4694-abfb-6c72ef2d8181"
      },
      "source": [
        "!jupyter nbconvert Week_1_Quiz.ipynb"
      ],
      "execution_count": 29,
      "outputs": [
        {
          "output_type": "stream",
          "text": [
            "[NbConvertApp] Converting notebook Week_1_Quiz.ipynb to html\n",
            "[NbConvertApp] Writing 442381 bytes to Week_1_Quiz.html\n"
          ],
          "name": "stdout"
        }
      ]
    }
  ]
}