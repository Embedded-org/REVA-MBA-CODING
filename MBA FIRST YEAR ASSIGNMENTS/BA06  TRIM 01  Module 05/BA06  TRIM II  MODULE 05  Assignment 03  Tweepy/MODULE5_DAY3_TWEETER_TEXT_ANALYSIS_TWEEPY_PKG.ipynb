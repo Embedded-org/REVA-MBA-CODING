{
  "nbformat": 4,
  "nbformat_minor": 0,
  "metadata": {
    "colab": {
      "name": "MODULE5_DAY3_TWEETER_TEXT_ANALYSIS_TWEEPY_PKG.ipynb",
      "provenance": [],
      "collapsed_sections": []
    },
    "kernelspec": {
      "name": "python3",
      "display_name": "Python 3"
    }
  },
  "cells": [
    {
      "cell_type": "code",
      "metadata": {
        "colab": {
          "base_uri": "https://localhost:8080/"
        },
        "id": "NWmGMoJHNveP",
        "outputId": "02c81260-3307-4821-af0b-e33d2379b9fd"
      },
      "source": [
        "import numpy as np\n",
        "import pandas as pd\n",
        "import tweepy as tw\n",
        "import re\n",
        "import nltk\n",
        "nltk.download('stopwords')\n",
        "nltk.download('wordnet')\n",
        "from nltk.corpus import stopwords\n",
        "from nltk.stem.porter import PorterStemmer\n",
        "from nltk.stem import WordNetLemmatizer\n",
        "import matplotlib.pyplot as plt\n",
        "import seaborn as sns\n",
        "import itertools\n",
        "import collections\n",
        "from textblob  import TextBlob"
      ],
      "execution_count": null,
      "outputs": [
        {
          "output_type": "stream",
          "text": [
            "[nltk_data] Downloading package stopwords to /root/nltk_data...\n",
            "[nltk_data]   Package stopwords is already up-to-date!\n",
            "[nltk_data] Downloading package wordnet to /root/nltk_data...\n",
            "[nltk_data]   Package wordnet is already up-to-date!\n"
          ],
          "name": "stdout"
        }
      ]
    },
    {
      "cell_type": "code",
      "metadata": {
        "id": "WCV5mR1EN5iW"
      },
      "source": [
        "access_token='MY_ACESS_TOKEN'  \n",
        "access_token_secret='ACCESS_TOKEN_SECRET_KEY'\n",
        "\n",
        "consumer_key='CONSUMER_KEY'\n",
        "consumer_secret='CONSUMER_SECRET' "
      ],
      "execution_count": null,
      "outputs": []
    },
    {
      "cell_type": "code",
      "metadata": {
        "id": "zRcTnOWuN-Oh"
      },
      "source": [
        "auth = tw.OAuthHandler(consumer_key, consumer_secret)\n",
        "auth.set_access_token(access_token, access_token_secret)\n",
        "api = tw.API(auth, wait_on_rate_limit=True)"
      ],
      "execution_count": null,
      "outputs": []
    },
    {
      "cell_type": "markdown",
      "metadata": {
        "id": "zdoEJtgTgw-U"
      },
      "source": [
        "we need to provide our ACESS_TOKEN,ACCESS_TOKEN_SECRET_KEY,CONSUMER_KEY,CONSUMER_SECRET password to access developer account in tweeter.tweeter will then provide tweeter handler by which we can extract tweets from our tweeter account and explore various functionalies using tweeter APIs "
      ]
    },
    {
      "cell_type": "code",
      "metadata": {
        "colab": {
          "base_uri": "https://localhost:8080/"
        },
        "id": "ipGNWqQXOB7-",
        "outputId": "faeca79c-2efe-43fc-ba37-6504bf30f6c8"
      },
      "source": [
        "public_tweets=api.home_timeline()\n",
        "for tweet in public_tweets:\n",
        "  print(tweet.text)"
      ],
      "execution_count": null,
      "outputs": [
        {
          "output_type": "stream",
          "text": [
            "sample bhin  tweet hi about using #python and #tweepy packages\n",
            "RT @classcentral: [New Course] Data Science Ethics by H Jagadish from University of Michigan (@UMichOnline) on FutureLearn https://t.co/GFS…\n",
            "We're #hiring! Join our team and help shape the future of learning at @UMich! Learn more and apply at… https://t.co/oAY8r75Fty\n",
            "What happens when you are building a new @SakaiLMS feature to support an emergent @LearningImpact specification and… https://t.co/zIbQgW8jFY\n",
            "HOW TO EASILY FIND BAD CHRISTMAS LIGHT BULBS https://t.co/U7JySJYvVh via @YouTube\n",
            "RT @PawlowskiMario: The 4th #industrial revolution is here, and it's #transforming the way we live and #FutureofWork\n",
            "\n",
            "MT @BernardMarr @Haro…\n",
            "Hey, @Umich Faculty! Did you know? We're seeking proposals to support learners in India with @coursera. Learn more.… https://t.co/tZDt8HhE8h\n",
            "We're currently seeking a qualified Partnership Manager to identify and explore new opportunities and partnerships… https://t.co/qBUHlv8JUT\n",
            "We're inviting faculty to submit proposals to partner with us to develop innovative MOOCs and Specializations align… https://t.co/9hiZWwdi5b\n",
            "RT @PWindastry: UMichiganNews: RT @UMichiganAI: Listen to the final episode of season one of the \"MiXR Studios #Podcast\" with Dean @tfinhol…\n",
            "RT @rhenyard: I'm unsure about a lot of things these days, but I'm increasingly sure that this design challenge we're building between @UMi…\n",
            "@RACEREVA starts a new webinar series on #emergingtechnologies.  The first in this series is by Pradeepta Mishra, H… https://t.co/d1qtm66cdF\n",
            "RT @kuriharan: What is our future connection mean via @wef \n",
            "\n",
            "#tech #digital #data \n",
            "\n",
            "@omeroymak @alvinfoo @Paula_Piccard @WSWMUC @enricomoli…\n",
            "RT @Nicochan33: Indestructible and always on the move #robotic insect via @mashable #artificialintelligence #5G @jblefevre60 @PawlowskiMari…\n",
            "RT @UNC_EdTech: The Sakai 20 Upgrade is DONE! Please clear your browser cache to pick up latest updates in Sakai. If you find any bugs, sen…\n",
            "RT @DeVaneyGoBlue: If you want to:\n",
            "\n",
            "✅ Extend academic excellence\n",
            "✅ Expand public purpose\n",
            "✅ End educational privilege \n",
            "\n",
            "Then join our team @…\n",
            "RT @pvperez1: I completed Internet History, Technology, and Security by @drchuck. What's great about this course is you'll get to meet the…\n",
            "Learn how a grant from Epic Games will fund the development of #XR projects using @UnrealEngine. ⤵️ https://t.co/6UvPoWdwQZ\n",
            "RT @UMichOnline: 🎉\"Programming for Everybody (Getting Started with #Python)\" is the fourth most popular course this year on @coursera. \n",
            "\n",
            "Ha…\n",
            "We're so excited for this session, @rebquintana! RSVP below. https://t.co/p1l7dNIEvH\n"
          ],
          "name": "stdout"
        }
      ]
    },
    {
      "cell_type": "code",
      "metadata": {
        "colab": {
          "base_uri": "https://localhost:8080/"
        },
        "id": "N_-1HpIYOHf5",
        "outputId": "d8ec343f-adc1-4c78-aac6-a584e265ba76"
      },
      "source": [
        "user=api.get_user('@andy')\n",
        "print(\"user screen name\")\n",
        "print(user.screen_name)\n",
        "print(\"user followers count\")\n",
        "print(user.followers_count)"
      ],
      "execution_count": null,
      "outputs": [
        {
          "output_type": "stream",
          "text": [
            "user screen name\n",
            "Andy\n",
            "user followers count\n",
            "2371568\n"
          ],
          "name": "stdout"
        }
      ]
    },
    {
      "cell_type": "markdown",
      "metadata": {
        "id": "XGJhKG1Nhwe8"
      },
      "source": [
        "here api.get_user Returns information about the specified user. user.screen_name Specifies the screen name of the user. Helpful for disambiguating when a valid screen name is also a user ID.   Returns a user’s followers count ordered in which they were added. If no user is specified by id/screen name, it defaults to the authenticated user."
      ]
    },
    {
      "cell_type": "code",
      "metadata": {
        "colab": {
          "base_uri": "https://localhost:8080/"
        },
        "id": "SJ2E8fFnOL5o",
        "outputId": "e7d60518-44e9-4baa-b275-1a5c8ec5871f"
      },
      "source": [
        "for friend in user.friends():\n",
        "  print(friend.screen_name)"
      ],
      "execution_count": null,
      "outputs": [
        {
          "output_type": "stream",
          "text": [
            "TiffanyMoonMD\n",
            "melissamccarthy\n",
            "_DionneWarwick\n",
            "CoriBush\n",
            "bejohnce\n",
            "JoeBiden\n",
            "Mary_M_Cosby\n",
            "SuttonBStracke\n",
            "MeredithMarks0\n",
            "heathergay29\n",
            "TheRealJenShah\n",
            "whitneywildrose\n",
            "LisaBarlow7\n",
            "DrBiden\n",
            "staceyabrams\n",
            "NateSilver538\n",
            "TylerDinucci\n",
            "Hollywood_Pop\n",
            "John_Henson\n",
            "IzzyTheFrenchie\n"
          ],
          "name": "stdout"
        }
      ]
    },
    {
      "cell_type": "markdown",
      "metadata": {
        "id": "AwvUY3Fqjn9n"
      },
      "source": [
        "Returns a user’s friends ordered in which they were added 100 at a time. If no user is specified it defaults to the authenticated user.\n",
        "\n"
      ]
    },
    {
      "cell_type": "code",
      "metadata": {
        "colab": {
          "base_uri": "https://localhost:8080/"
        },
        "id": "fZhL0F-ZOM2q",
        "outputId": "8237e83c-66e2-4d2f-9f57-0a09015ab57e"
      },
      "source": [
        "for followers in user.followers():\n",
        "  print(followers.screen_name)"
      ],
      "execution_count": null,
      "outputs": [
        {
          "output_type": "stream",
          "text": [
            "olinzock_kim\n",
            "l_loser_r\n",
            "nikilyn42820587\n",
            "HoneyBunchezz\n",
            "MereGinsbach\n",
            "loko_laflare\n",
            "Patti40534863\n",
            "Jenny26218496\n",
            "Deniz___Ay\n",
            "FordTerisha\n",
            "Sadie_Dallinger\n",
            "VitaHansen18\n",
            "TheVault23\n",
            "ElaineR26616130\n",
            "lc_mccauley\n",
            "catygreen\n",
            "jamiellynch1\n",
            "teddytweets8\n",
            "Katelynisch\n",
            "Tripilay\n"
          ],
          "name": "stdout"
        }
      ]
    },
    {
      "cell_type": "markdown",
      "metadata": {
        "id": "Sus0a7bnj5D4"
      },
      "source": [
        "screen_name – Specifies the screen name of the user. Helpful for disambiguating when a valid screen name is also a user ID."
      ]
    },
    {
      "cell_type": "code",
      "metadata": {
        "colab": {
          "base_uri": "https://localhost:8080/"
        },
        "id": "uX35CVRXOPhp",
        "outputId": "1dc8a200-7751-40a9-d2e9-dc64fd847728"
      },
      "source": [
        "api.update_status(\"sample bhin  tweet bhi about using #python and #tweepy packages\")"
      ],
      "execution_count": null,
      "outputs": [
        {
          "output_type": "execute_result",
          "data": {
            "text/plain": [
              "Status(_api=<tweepy.api.API object at 0x7f709485a5c0>, _json={'created_at': 'Sun Dec 06 04:44:30 +0000 2020', 'id': 1335444983365644289, 'id_str': '1335444983365644289', 'text': 'sample bhin  tweet bhi about using #python and #tweepy packages', 'truncated': False, 'entities': {'hashtags': [{'text': 'python', 'indices': [35, 42]}, {'text': 'tweepy', 'indices': [47, 54]}], 'symbols': [], 'user_mentions': [], 'urls': []}, 'source': '<a href=\"https://www.linkedin.com/in/anand-mohan-12668a21/\" rel=\"nofollow\">andyemb</a>', 'in_reply_to_status_id': None, 'in_reply_to_status_id_str': None, 'in_reply_to_user_id': None, 'in_reply_to_user_id_str': None, 'in_reply_to_screen_name': None, 'user': {'id': 150566254, 'id_str': '150566254', 'name': 'ANAND MOHAN', 'screen_name': 'MBA_ANALYTICS', 'location': '', 'description': '', 'url': None, 'entities': {'description': {'urls': []}}, 'protected': False, 'followers_count': 10, 'friends_count': 5, 'listed_count': 0, 'created_at': 'Tue Jun 01 07:28:51 +0000 2010', 'favourites_count': 1, 'utc_offset': None, 'time_zone': None, 'geo_enabled': False, 'verified': False, 'statuses_count': 9, 'lang': None, 'contributors_enabled': False, 'is_translator': False, 'is_translation_enabled': False, 'profile_background_color': '000000', 'profile_background_image_url': 'http://abs.twimg.com/images/themes/theme1/bg.png', 'profile_background_image_url_https': 'https://abs.twimg.com/images/themes/theme1/bg.png', 'profile_background_tile': False, 'profile_image_url': 'http://pbs.twimg.com/profile_images/1315565685930516480/tm9tBmHM_normal.jpg', 'profile_image_url_https': 'https://pbs.twimg.com/profile_images/1315565685930516480/tm9tBmHM_normal.jpg', 'profile_banner_url': 'https://pbs.twimg.com/profile_banners/150566254/1489591858', 'profile_link_color': '19CF86', 'profile_sidebar_border_color': '000000', 'profile_sidebar_fill_color': '000000', 'profile_text_color': '000000', 'profile_use_background_image': False, 'has_extended_profile': False, 'default_profile': False, 'default_profile_image': False, 'following': False, 'follow_request_sent': False, 'notifications': False, 'translator_type': 'none'}, 'geo': None, 'coordinates': None, 'place': None, 'contributors': None, 'is_quote_status': False, 'retweet_count': 0, 'favorite_count': 0, 'favorited': False, 'retweeted': False, 'lang': 'en'}, created_at=datetime.datetime(2020, 12, 6, 4, 44, 30), id=1335444983365644289, id_str='1335444983365644289', text='sample bhin  tweet bhi about using #python and #tweepy packages', truncated=False, entities={'hashtags': [{'text': 'python', 'indices': [35, 42]}, {'text': 'tweepy', 'indices': [47, 54]}], 'symbols': [], 'user_mentions': [], 'urls': []}, source='andyemb', source_url='https://www.linkedin.com/in/anand-mohan-12668a21/', in_reply_to_status_id=None, in_reply_to_status_id_str=None, in_reply_to_user_id=None, in_reply_to_user_id_str=None, in_reply_to_screen_name=None, author=User(_api=<tweepy.api.API object at 0x7f709485a5c0>, _json={'id': 150566254, 'id_str': '150566254', 'name': 'ANAND MOHAN', 'screen_name': 'MBA_ANALYTICS', 'location': '', 'description': '', 'url': None, 'entities': {'description': {'urls': []}}, 'protected': False, 'followers_count': 10, 'friends_count': 5, 'listed_count': 0, 'created_at': 'Tue Jun 01 07:28:51 +0000 2010', 'favourites_count': 1, 'utc_offset': None, 'time_zone': None, 'geo_enabled': False, 'verified': False, 'statuses_count': 9, 'lang': None, 'contributors_enabled': False, 'is_translator': False, 'is_translation_enabled': False, 'profile_background_color': '000000', 'profile_background_image_url': 'http://abs.twimg.com/images/themes/theme1/bg.png', 'profile_background_image_url_https': 'https://abs.twimg.com/images/themes/theme1/bg.png', 'profile_background_tile': False, 'profile_image_url': 'http://pbs.twimg.com/profile_images/1315565685930516480/tm9tBmHM_normal.jpg', 'profile_image_url_https': 'https://pbs.twimg.com/profile_images/1315565685930516480/tm9tBmHM_normal.jpg', 'profile_banner_url': 'https://pbs.twimg.com/profile_banners/150566254/1489591858', 'profile_link_color': '19CF86', 'profile_sidebar_border_color': '000000', 'profile_sidebar_fill_color': '000000', 'profile_text_color': '000000', 'profile_use_background_image': False, 'has_extended_profile': False, 'default_profile': False, 'default_profile_image': False, 'following': False, 'follow_request_sent': False, 'notifications': False, 'translator_type': 'none'}, id=150566254, id_str='150566254', name='ANAND MOHAN', screen_name='MBA_ANALYTICS', location='', description='', url=None, entities={'description': {'urls': []}}, protected=False, followers_count=10, friends_count=5, listed_count=0, created_at=datetime.datetime(2010, 6, 1, 7, 28, 51), favourites_count=1, utc_offset=None, time_zone=None, geo_enabled=False, verified=False, statuses_count=9, lang=None, contributors_enabled=False, is_translator=False, is_translation_enabled=False, profile_background_color='000000', profile_background_image_url='http://abs.twimg.com/images/themes/theme1/bg.png', profile_background_image_url_https='https://abs.twimg.com/images/themes/theme1/bg.png', profile_background_tile=False, profile_image_url='http://pbs.twimg.com/profile_images/1315565685930516480/tm9tBmHM_normal.jpg', profile_image_url_https='https://pbs.twimg.com/profile_images/1315565685930516480/tm9tBmHM_normal.jpg', profile_banner_url='https://pbs.twimg.com/profile_banners/150566254/1489591858', profile_link_color='19CF86', profile_sidebar_border_color='000000', profile_sidebar_fill_color='000000', profile_text_color='000000', profile_use_background_image=False, has_extended_profile=False, default_profile=False, default_profile_image=False, following=False, follow_request_sent=False, notifications=False, translator_type='none'), user=User(_api=<tweepy.api.API object at 0x7f709485a5c0>, _json={'id': 150566254, 'id_str': '150566254', 'name': 'ANAND MOHAN', 'screen_name': 'MBA_ANALYTICS', 'location': '', 'description': '', 'url': None, 'entities': {'description': {'urls': []}}, 'protected': False, 'followers_count': 10, 'friends_count': 5, 'listed_count': 0, 'created_at': 'Tue Jun 01 07:28:51 +0000 2010', 'favourites_count': 1, 'utc_offset': None, 'time_zone': None, 'geo_enabled': False, 'verified': False, 'statuses_count': 9, 'lang': None, 'contributors_enabled': False, 'is_translator': False, 'is_translation_enabled': False, 'profile_background_color': '000000', 'profile_background_image_url': 'http://abs.twimg.com/images/themes/theme1/bg.png', 'profile_background_image_url_https': 'https://abs.twimg.com/images/themes/theme1/bg.png', 'profile_background_tile': False, 'profile_image_url': 'http://pbs.twimg.com/profile_images/1315565685930516480/tm9tBmHM_normal.jpg', 'profile_image_url_https': 'https://pbs.twimg.com/profile_images/1315565685930516480/tm9tBmHM_normal.jpg', 'profile_banner_url': 'https://pbs.twimg.com/profile_banners/150566254/1489591858', 'profile_link_color': '19CF86', 'profile_sidebar_border_color': '000000', 'profile_sidebar_fill_color': '000000', 'profile_text_color': '000000', 'profile_use_background_image': False, 'has_extended_profile': False, 'default_profile': False, 'default_profile_image': False, 'following': False, 'follow_request_sent': False, 'notifications': False, 'translator_type': 'none'}, id=150566254, id_str='150566254', name='ANAND MOHAN', screen_name='MBA_ANALYTICS', location='', description='', url=None, entities={'description': {'urls': []}}, protected=False, followers_count=10, friends_count=5, listed_count=0, created_at=datetime.datetime(2010, 6, 1, 7, 28, 51), favourites_count=1, utc_offset=None, time_zone=None, geo_enabled=False, verified=False, statuses_count=9, lang=None, contributors_enabled=False, is_translator=False, is_translation_enabled=False, profile_background_color='000000', profile_background_image_url='http://abs.twimg.com/images/themes/theme1/bg.png', profile_background_image_url_https='https://abs.twimg.com/images/themes/theme1/bg.png', profile_background_tile=False, profile_image_url='http://pbs.twimg.com/profile_images/1315565685930516480/tm9tBmHM_normal.jpg', profile_image_url_https='https://pbs.twimg.com/profile_images/1315565685930516480/tm9tBmHM_normal.jpg', profile_banner_url='https://pbs.twimg.com/profile_banners/150566254/1489591858', profile_link_color='19CF86', profile_sidebar_border_color='000000', profile_sidebar_fill_color='000000', profile_text_color='000000', profile_use_background_image=False, has_extended_profile=False, default_profile=False, default_profile_image=False, following=False, follow_request_sent=False, notifications=False, translator_type='none'), geo=None, coordinates=None, place=None, contributors=None, is_quote_status=False, retweet_count=0, favorite_count=0, favorited=False, retweeted=False, lang='en')"
            ]
          },
          "metadata": {
            "tags": []
          },
          "execution_count": 9
        }
      ]
    },
    {
      "cell_type": "markdown",
      "metadata": {
        "id": "Aj-TGP72kKS9"
      },
      "source": [
        "Updates the authenticating user’s current status, also known as Tweeting.\n",
        "\n",
        "For each update attempt, the update text is compared with the authenticating user’s recent Tweets. Any attempt that would result in duplication will be blocked, resulting in a 403 error. A user cannot submit the same status twice in a row.\n",
        "\n",
        "While not rate limited by the API, a user is limited in the number of Tweets they can create at a time. If the number of updates posted by the user reaches the current allowed limit this method will return an HTTP 403 error."
      ]
    },
    {
      "cell_type": "code",
      "metadata": {
        "id": "h_zjNCCCOUWq"
      },
      "source": [
        "#PULL TWEETS BY SEARCH WORDS\n",
        "tweets=tw.Cursor(api.search,q='ramayan-filter:retweets',lang=\"en\",since='2019-04-01').items(1000)"
      ],
      "execution_count": null,
      "outputs": []
    },
    {
      "cell_type": "markdown",
      "metadata": {
        "id": "0PpkZDA7kegk"
      },
      "source": [
        "Returns a collection of top 1000 relevant Tweets matching a specified query which is ramayan-filter:retweets over here over the period since 2019-04-01 in english language\n",
        "\n",
        "Twitter’s search service and, by extension, the Search API is not meant to be an exhaustive source of Tweets. Not all Tweets will be indexed or made available via the search interface.\n",
        "\n",
        "In API v1.1, the response format of the Search API has been improved to return Tweet objects more similar to the objects you’ll find across the REST API and platform. However, perspectival attributes (fields that pertain to the perspective of the authenticating user) are not currently supported on this endpoint."
      ]
    },
    {
      "cell_type": "code",
      "metadata": {
        "colab": {
          "base_uri": "https://localhost:8080/"
        },
        "id": "wWwm9vWgOYou",
        "outputId": "3ef4d23b-d813-4f3e-c30e-5fc1ad002ea5"
      },
      "source": [
        "tweets_text=[x.text for x in tweets]\n",
        "tweets_text[0:20]"
      ],
      "execution_count": null,
      "outputs": [
        {
          "output_type": "execute_result",
          "data": {
            "text/plain": [
              "['@SamTalwalkar @ajaypannu21 @TajinderBagga Hinduism and Sikhism are from the same dharma. This is a beautiful take o… https://t.co/Ufp5tFfIip',\n",
              " 'I remember when my family got out of financial crisis , my father did akhand ramayan and  bhandara , i was a small… https://t.co/9wlGHC6mYv',\n",
              " '@just_bhakt @tathasthuu @urmisgr8 @UnSubtleDesi Muslims do mind what happnd with ramayan. may be u 2 wud mind what… https://t.co/71l2Xt1ir5',\n",
              " '@DrRPNishank keep these 4 books in our education system see how nation develops in all aspects :\\n\\n1. Ramayan: For m… https://t.co/X5cJlXlvIC',\n",
              " \"@ramkadam @omraut Director @omraut look at it as a request or warning whatever. But don't play with the emotions of… https://t.co/SZEb7XkRUO\",\n",
              " \"@ramkadam Director @omraut look at it as a request or warning whatever. But don't play with the emotions of Ram Bha… https://t.co/tV4lE42MUD\",\n",
              " 'These Sanghies of Monkeys believe in Mystic mystical Mythological stories Such as Ramayan and Mahabharat. But never… https://t.co/8fKlOHJptO',\n",
              " '@SuvrasmitaRout @neilbhatt4 @sakshi_ira @BelekarS75 @BBongAmaze @heaven_alen @Singhh_riya @BeraRitwika Ramayan is a… https://t.co/8XLHn5TW2B',\n",
              " \"@iujjawaltrivedi Another super Flop Movie ..trying to Manipulate Ramayan .Why they don't Manipulate there own religion ..\",\n",
              " '@NoyonSENSE @hbharadwaj3 @UnSubtleDesi Hm ask to self!!!! Glamorizing the demon won’t work anymore also, Rawan will… https://t.co/3eo3ioO8VO',\n",
              " 'Saif Ali Khan courted another controversy upcoming movie ‘Adipurush’ have decided to show ‘Ravan’ as humanely as po… https://t.co/Rbw0m2Nq61',\n",
              " '#JaiShreeRam #Ramayan #story of #Courage #strength #love #sacrifices #LifeLessons #ForAllofUs #FeelingGood… https://t.co/8Lo0vSuMap',\n",
              " \"@RadharamnDas Bollywood don't study scriptures if they could have then they should have been aware about Ravan sins… https://t.co/96lckEv3VO\",\n",
              " '@venkyorg @DharmaSthapana_ We kill an animal without its consent and call it as sacrifice. \\n\\nHer sacrifice is ackno… https://t.co/QTutKvfLzK',\n",
              " \"#BoycottAdipurush we don't wanna learn our history through movies we'll read Ram Chrita manas Or Ramayan but won't… https://t.co/i5qIj6A3J0\",\n",
              " 'God alone knows who wrote this kind of Ramayan? I have read Ramayan since childhood but never came across Sita ji b… https://t.co/vrWmxtnSEI',\n",
              " \"Masjids : Madarsaas\\nChurch : Convent schools\\nTemples : ?\\n\\nWe must question government regarding this, but can't lea… https://t.co/TvZk3RSVf9\",\n",
              " '@pawan_aflatoon @Koenraad_Elst @Dikshit99_Bhatt coming to mimansa, mimansa means critical investigation. \\n\\nIt also… https://t.co/a3KWcPoKZb',\n",
              " '@Janamejayan Sir am reading , yoga Vashishth from here and ramayan from the blog. plz continue thanks you sir 🙏🏼',\n",
              " '@sunflowericarus yesterday I went to my Pakistani side of the family’s house and one of them was bragging and askin… https://t.co/yfcoxxb7a8']"
            ]
          },
          "metadata": {
            "tags": []
          },
          "execution_count": 11
        }
      ]
    },
    {
      "cell_type": "code",
      "metadata": {
        "id": "WHxb5RgBOevA"
      },
      "source": [
        "#PULL TWEETS BY SEARCH WORDS\n",
        "tweets=tw.Cursor(api.search,q='bigbasket-filter:retweets',lang=\"en\",since='2019-04-01').items(1000)"
      ],
      "execution_count": null,
      "outputs": []
    },
    {
      "cell_type": "markdown",
      "metadata": {
        "id": "qB8LiH-jkyJg"
      },
      "source": [
        "Returns a collection of top 1000 relevant Tweets matching a specified query which is bigbasket-filter:retweets over here over the period since 2019-04-01 in english language"
      ]
    },
    {
      "cell_type": "code",
      "metadata": {
        "colab": {
          "base_uri": "https://localhost:8080/"
        },
        "id": "CKySre9oOhGC",
        "outputId": "0d2d5e98-7d65-4e12-9fb7-b318c928949c"
      },
      "source": [
        "tweets_text=[x.text for x in tweets]\n",
        "tweets_text[0:20]"
      ],
      "execution_count": null,
      "outputs": [
        {
          "output_type": "execute_result",
          "data": {
            "text/plain": [
              "[\"@deed1_2  Thank you for highlighting this to us, be assured we've escalated the issue with our relevant team and wi… https://t.co/iLsI6pdeo5\",\n",
              " '@bigbasket_com Yeah 19 minutes more',\n",
              " '@arorasid  We promise to sort out the issue at the earliest. Be rest assured, Siddharth.',\n",
              " 'BigBasket guys put my ParleG biscuits on the very bottom of the contact-less delivery bag and proceeded to toss 12… https://t.co/Yx5DG5etcB',\n",
              " '@bigbasket_com Yeah 21 minutes left now...',\n",
              " '@bigbasket_com there is bug in your application. Some items are displayed as available but when you actually checko… https://t.co/mzgXM84ULw',\n",
              " '@bigbasket_com So to get my money back, I have to waste time again and again... https://t.co/1wieCQ2GiQ',\n",
              " '@arorasid  The needful will be done at the earliest. Kindly spare us some time.',\n",
              " '@bigbasket_com Ok.... time given for next 22 minutes, give me refund by 10am and delete my account',\n",
              " \"@arorasid  We understand the dismay expressed here, Siddharth. As stated, we'll definitely look into the concern wi… https://t.co/T1CQ5EMJxf\",\n",
              " '@bigbasket_com Basis false  notification your support team says order delivered when nothing is delivered... this is cheating at its best',\n",
              " \"@I_own_a_RX100 We love hearing about our awesome associates. Kindly DM us your registered details and we'll pass this along to his manager.\",\n",
              " \"@arorasid  We are sorry for what happened, Siddharth. This isn't the experience we wanted you to go through. We wil… https://t.co/7A0nsXB2Uw\",\n",
              " '@bigbasket_com Not a single product is delivered but this is what I got just now... https://t.co/UUhGM7Vtvh',\n",
              " \"@arorasid  We're sorry to hear of the poor experience, Siddharth. Be assured, we've escalated the issue with our co… https://t.co/w4SHFc3x85\",\n",
              " '@bigbasket_com No need to connect now as your agent disconnected the chat while I was typing a response to her... p… https://t.co/IiMqwoBrYZ',\n",
              " \"@arorasid  Noted, Siddharth! Please be assured, we've escalated the issue with our concerned team and will be connecting with you shortly.\",\n",
              " '@calamur It’s also on bigbasket so you can orfer from there for a quicker delivery',\n",
              " '@bigbasket_com Sent, please make refund is done today to my original source of payment (wallet) and account is deleted... thanks',\n",
              " '@arorasid  Apologies for the inconvenience, Siddharth. Kindly help us with the with the registered contact details… https://t.co/hfEq8WLq7Y']"
            ]
          },
          "metadata": {
            "tags": []
          },
          "execution_count": 13
        }
      ]
    },
    {
      "cell_type": "code",
      "metadata": {
        "colab": {
          "base_uri": "https://localhost:8080/"
        },
        "id": "UkQw8ra0Ok5E",
        "outputId": "01baf533-c69c-4f60-98ab-e975e06214af"
      },
      "source": [
        "len(tweets_text)"
      ],
      "execution_count": null,
      "outputs": [
        {
          "output_type": "execute_result",
          "data": {
            "text/plain": [
              "1000"
            ]
          },
          "metadata": {
            "tags": []
          },
          "execution_count": 14
        }
      ]
    },
    {
      "cell_type": "code",
      "metadata": {
        "colab": {
          "base_uri": "https://localhost:8080/"
        },
        "id": "V0U9HJ8cOneB",
        "outputId": "a0dad50f-08ca-464e-8a3b-bdf8c28da1bd"
      },
      "source": [
        "print(tweets_text[0])\n",
        "print(tweets_text[7])"
      ],
      "execution_count": null,
      "outputs": [
        {
          "output_type": "stream",
          "text": [
            "@deed1_2  Thank you for highlighting this to us, be assured we've escalated the issue with our relevant team and wi… https://t.co/iLsI6pdeo5\n",
            "@arorasid  The needful will be done at the earliest. Kindly spare us some time.\n"
          ],
          "name": "stdout"
        }
      ]
    },
    {
      "cell_type": "code",
      "metadata": {
        "id": "vEbKB8L3OqEB"
      },
      "source": [
        "#PULL TWEETS BY HASHTAGS\n",
        "tweets=tw.Cursor(api.search,q='#miband4-filter:retweets',lang=\"en\",since='2019-04-01').items(10)"
      ],
      "execution_count": null,
      "outputs": []
    },
    {
      "cell_type": "markdown",
      "metadata": {
        "id": "khEOIwG2mBfT"
      },
      "source": [
        "Tags can be used to segregate rules and their matching data into different logical groups. If a rule tag is provided, the rule tag is included in the ‘matching_rules’ attribute. It is recommended to assign rule-specific UUIDs to rule tags and maintain desired mappings on the client side."
      ]
    },
    {
      "cell_type": "code",
      "metadata": {
        "colab": {
          "base_uri": "https://localhost:8080/"
        },
        "id": "lkzKYqkFOsW1",
        "outputId": "41c185bb-0cd2-4cbe-8a7d-c63da6b0db80"
      },
      "source": [
        "tweets_text=[tweet.text for tweet in tweets]\n",
        "tweets_text[0:20]"
      ],
      "execution_count": null,
      "outputs": [
        {
          "output_type": "execute_result",
          "data": {
            "text/plain": [
              "['My routes\\nDay 27\\n\\n#workout\\n#sweatitout\\n#workoutmotivation \\n#workoutathome \\n#walking \\n#bodytransformation… https://t.co/jCX9akIzKt',\n",
              " 'My routes\\nDay 26\\n\\n#workout\\n#sweatitout\\n#workoutmotivation \\n#workoutathome \\n#walking \\n#bodytransformation… https://t.co/RLgSRXA7Lh',\n",
              " 'My routes\\nDay 25\\n\\n#workout\\n#sweatitout\\n#workoutmotivation \\n#workoutathome \\n#walking \\n#bodytransformation… https://t.co/xS6rjNHFtc',\n",
              " 'My routes\\nDay 24\\n\\n#workout\\n#sweatitout\\n#workoutmotivation \\n#workoutathome \\n#walking \\n#bodytransformation… https://t.co/qVj9sqjqs4',\n",
              " 'November was a strong month, again. Even though there were some painful days, it was mostly smooth sailing overall.… https://t.co/AHzNqY398V',\n",
              " 'My routes\\nDay 23\\n\\n#workout\\n#sweatitout\\n#workoutmotivation \\n#workoutathome \\n#walking \\n#bodytransformation… https://t.co/A6iQasK6hn',\n",
              " 'Flipkart #FlipstartDays Sale: Exciting deals on smartwatches and smartbands \\n#HonorBand5 #HonorBand6 #MiBand4 \\nhttps://t.co/wESjLceBBr',\n",
              " 'My routes\\nDay 22 \\n\\n#workout\\n#sweatitout\\n#workoutmotivation \\n#workoutathome \\n#walking \\n#bodytransformation… https://t.co/CB98WnGKys',\n",
              " '#Flipkart #FlipstartDays Sale: Exciting deals on smartwatches and smartbands \\n#MiBand4 #HonorBand5\\nhttps://t.co/wESjLceBBr',\n",
              " 'How to connect #Spotify to #MiBand4? In this post, here is the best way for you to play Spotify music on Mi Band 4… https://t.co/Sg84CB9hfA']"
            ]
          },
          "metadata": {
            "tags": []
          },
          "execution_count": 17
        }
      ]
    },
    {
      "cell_type": "code",
      "metadata": {
        "colab": {
          "base_uri": "https://localhost:8080/"
        },
        "id": "Z7HaasfxOxBe",
        "outputId": "958a679e-c6ac-431d-d488-615d21ded220"
      },
      "source": [
        "tweets=tw.Cursor(api.search,q='#iphone-filter:retweets',lang=\"en\",since='2019-04-01').items(1000)\n",
        "users=[[tweet.user.screen_name,tweet.user.location] for  tweet in tweets]\n",
        "users[0:20]"
      ],
      "execution_count": 56,
      "outputs": [
        {
          "output_type": "execute_result",
          "data": {
            "text/plain": [
              "[['gc8032', 'गांधीनगर, भारत'],\n",
              " ['moneycontrolcom', 'Mumbai'],\n",
              " ['cybertechbiz', 'Virginia, US'],\n",
              " ['OmmcomNews', 'Bhubaneshwar, India'],\n",
              " ['calligraphyhd', 'England, United Kingdom'],\n",
              " ['dynamicportrai1', 'Ticino, Switzerland'],\n",
              " ['standard3d', 'Toronto, Ontario'],\n",
              " ['bitcoinconnect', ''],\n",
              " ['sarahabbie22', 'Halifax, Nova Scotia'],\n",
              " ['realmethod41', 'U.S.A.'],\n",
              " ['NextTelcom', 'Nairobi, Kenya'],\n",
              " ['NcsVentures', 'Atlanta, GA'],\n",
              " ['TheNateJamShow', 'Texas'],\n",
              " ['TheGameLoop', ''],\n",
              " ['mvollmer1', 'Frankfurt, Germany'],\n",
              " ['bitcoinconnect', ''],\n",
              " ['GamersarIo', ''],\n",
              " ['rasmiranjanbabu', 'United States'],\n",
              " ['TheDailyPioneer', ''],\n",
              " ['dynamicportrai1', 'Ticino, Switzerland']]"
            ]
          },
          "metadata": {
            "tags": []
          },
          "execution_count": 56
        }
      ]
    },
    {
      "cell_type": "code",
      "metadata": {
        "colab": {
          "base_uri": "https://localhost:8080/",
          "height": 419
        },
        "id": "SczitgbhO0kO",
        "outputId": "c1dabdbe-0577-43b8-fff9-3a90d1613bc7"
      },
      "source": [
        "location=pd.DataFrame(data=users,columns=['screen_Name','location'])\n",
        "location"
      ],
      "execution_count": null,
      "outputs": [
        {
          "output_type": "execute_result",
          "data": {
            "text/html": [
              "<div>\n",
              "<style scoped>\n",
              "    .dataframe tbody tr th:only-of-type {\n",
              "        vertical-align: middle;\n",
              "    }\n",
              "\n",
              "    .dataframe tbody tr th {\n",
              "        vertical-align: top;\n",
              "    }\n",
              "\n",
              "    .dataframe thead th {\n",
              "        text-align: right;\n",
              "    }\n",
              "</style>\n",
              "<table border=\"1\" class=\"dataframe\">\n",
              "  <thead>\n",
              "    <tr style=\"text-align: right;\">\n",
              "      <th></th>\n",
              "      <th>screen_Name</th>\n",
              "      <th>location</th>\n",
              "    </tr>\n",
              "  </thead>\n",
              "  <tbody>\n",
              "    <tr>\n",
              "      <th>0</th>\n",
              "      <td>iam_sureshnaik</td>\n",
              "      <td>Anantapur, India</td>\n",
              "    </tr>\n",
              "    <tr>\n",
              "      <th>1</th>\n",
              "      <td>dynamicportrai1</td>\n",
              "      <td>Ticino, Switzerland</td>\n",
              "    </tr>\n",
              "    <tr>\n",
              "      <th>2</th>\n",
              "      <td>jirotomoton</td>\n",
              "      <td></td>\n",
              "    </tr>\n",
              "    <tr>\n",
              "      <th>3</th>\n",
              "      <td>bitcoinconnect</td>\n",
              "      <td></td>\n",
              "    </tr>\n",
              "    <tr>\n",
              "      <th>4</th>\n",
              "      <td>LexAfficial</td>\n",
              "      <td>London, KY</td>\n",
              "    </tr>\n",
              "    <tr>\n",
              "      <th>...</th>\n",
              "      <td>...</td>\n",
              "      <td>...</td>\n",
              "    </tr>\n",
              "    <tr>\n",
              "      <th>995</th>\n",
              "      <td>techsutram</td>\n",
              "      <td>Pune, India</td>\n",
              "    </tr>\n",
              "    <tr>\n",
              "      <th>996</th>\n",
              "      <td>dynamicportrai1</td>\n",
              "      <td>Ticino, Switzerland</td>\n",
              "    </tr>\n",
              "    <tr>\n",
              "      <th>997</th>\n",
              "      <td>SirStevenRice</td>\n",
              "      <td>Charlotte, NC</td>\n",
              "    </tr>\n",
              "    <tr>\n",
              "      <th>998</th>\n",
              "      <td>kolbyster</td>\n",
              "      <td></td>\n",
              "    </tr>\n",
              "    <tr>\n",
              "      <th>999</th>\n",
              "      <td>TechInRL</td>\n",
              "      <td>Canada</td>\n",
              "    </tr>\n",
              "  </tbody>\n",
              "</table>\n",
              "<p>1000 rows × 2 columns</p>\n",
              "</div>"
            ],
            "text/plain": [
              "         screen_Name             location\n",
              "0     iam_sureshnaik     Anantapur, India\n",
              "1    dynamicportrai1  Ticino, Switzerland\n",
              "2        jirotomoton                     \n",
              "3     bitcoinconnect                     \n",
              "4        LexAfficial           London, KY\n",
              "..               ...                  ...\n",
              "995       techsutram          Pune, India\n",
              "996  dynamicportrai1  Ticino, Switzerland\n",
              "997    SirStevenRice        Charlotte, NC\n",
              "998        kolbyster                     \n",
              "999         TechInRL               Canada\n",
              "\n",
              "[1000 rows x 2 columns]"
            ]
          },
          "metadata": {
            "tags": []
          },
          "execution_count": 21
        }
      ]
    },
    {
      "cell_type": "markdown",
      "metadata": {
        "id": "YpctTM3Nqgyh"
      },
      "source": [
        "FIND USER AND LOCATION INFO"
      ]
    },
    {
      "cell_type": "code",
      "metadata": {
        "id": "fyzyKtE2O4A7"
      },
      "source": [
        "tweets=tw.Cursor(api.search,q='india-economy-filter:retweets',lang=\"en\",since='2019-04-01').items(1000)\n",
        "tweets_text=[tweet.text for tweet in tweets]"
      ],
      "execution_count": null,
      "outputs": []
    },
    {
      "cell_type": "markdown",
      "metadata": {
        "id": "Vr5yhlt0m2hi"
      },
      "source": [
        "Returns a collection of top 1000 relevant Tweets matching a specified query which is india-economy-filter:retweets over here over the period since 2019-04-01 in english language"
      ]
    },
    {
      "cell_type": "code",
      "metadata": {
        "colab": {
          "base_uri": "https://localhost:8080/"
        },
        "id": "wbFtmxT0O63S",
        "outputId": "61ea68bd-4cca-4352-f262-ae8aa61c5fbc"
      },
      "source": [
        "len(tweets_text)\n",
        "tweets_text[0:5]"
      ],
      "execution_count": null,
      "outputs": [
        {
          "output_type": "execute_result",
          "data": {
            "text/plain": [
              "['India is #FoodSovereign the largest food economy with 60% of our people our #Annadatas feeding 1.3 billion. Kissing… https://t.co/jm25MUIM2e',\n",
              " '@kaushikcbasu In India we boycott everything which does not suit our ideology .. Ironically the boycotts are funded… https://t.co/fGo1jWOzGy',\n",
              " '@rashtrapatibhvn @UN_PGA @UN  @AgriGoI @MEAIndia\\nI am also the daughter of a farmer. \"Farmer\\'s Bill\"\\nGood for farme… https://t.co/dhd3tPtGDY',\n",
              " '@AJ_LKO @pralayhazra @dancingdonkey3 @AnandzWorld @kaushikcbasu Indian economy was the fastest growing economy for… https://t.co/taZ5CAMLue',\n",
              " '@homerj007 Terrible. The farm bills passed by the Indian Government are good, they support a free market economy. S… https://t.co/O6TxbPnRp6']"
            ]
          },
          "metadata": {
            "tags": []
          },
          "execution_count": 23
        }
      ]
    },
    {
      "cell_type": "code",
      "metadata": {
        "colab": {
          "base_uri": "https://localhost:8080/",
          "height": 204
        },
        "id": "4IFDnCCTO-In",
        "outputId": "c6d44eca-0874-40c7-97ff-2dcc0f87b838"
      },
      "source": [
        "tweets_df=pd.DataFrame(tweets_text,columns=[\"tweets\"])\n",
        "tweets_df.head()"
      ],
      "execution_count": null,
      "outputs": [
        {
          "output_type": "execute_result",
          "data": {
            "text/html": [
              "<div>\n",
              "<style scoped>\n",
              "    .dataframe tbody tr th:only-of-type {\n",
              "        vertical-align: middle;\n",
              "    }\n",
              "\n",
              "    .dataframe tbody tr th {\n",
              "        vertical-align: top;\n",
              "    }\n",
              "\n",
              "    .dataframe thead th {\n",
              "        text-align: right;\n",
              "    }\n",
              "</style>\n",
              "<table border=\"1\" class=\"dataframe\">\n",
              "  <thead>\n",
              "    <tr style=\"text-align: right;\">\n",
              "      <th></th>\n",
              "      <th>tweets</th>\n",
              "    </tr>\n",
              "  </thead>\n",
              "  <tbody>\n",
              "    <tr>\n",
              "      <th>0</th>\n",
              "      <td>India is #FoodSovereign the largest food econo...</td>\n",
              "    </tr>\n",
              "    <tr>\n",
              "      <th>1</th>\n",
              "      <td>@kaushikcbasu In India we boycott everything w...</td>\n",
              "    </tr>\n",
              "    <tr>\n",
              "      <th>2</th>\n",
              "      <td>@rashtrapatibhvn @UN_PGA @UN  @AgriGoI @MEAInd...</td>\n",
              "    </tr>\n",
              "    <tr>\n",
              "      <th>3</th>\n",
              "      <td>@AJ_LKO @pralayhazra @dancingdonkey3 @AnandzWo...</td>\n",
              "    </tr>\n",
              "    <tr>\n",
              "      <th>4</th>\n",
              "      <td>@homerj007 Terrible. The farm bills passed by ...</td>\n",
              "    </tr>\n",
              "  </tbody>\n",
              "</table>\n",
              "</div>"
            ],
            "text/plain": [
              "                                              tweets\n",
              "0  India is #FoodSovereign the largest food econo...\n",
              "1  @kaushikcbasu In India we boycott everything w...\n",
              "2  @rashtrapatibhvn @UN_PGA @UN  @AgriGoI @MEAInd...\n",
              "3  @AJ_LKO @pralayhazra @dancingdonkey3 @AnandzWo...\n",
              "4  @homerj007 Terrible. The farm bills passed by ..."
            ]
          },
          "metadata": {
            "tags": []
          },
          "execution_count": 24
        }
      ]
    },
    {
      "cell_type": "code",
      "metadata": {
        "colab": {
          "base_uri": "https://localhost:8080/",
          "height": 204
        },
        "id": "SRcyAvrdb3ZW",
        "outputId": "f8c376cc-57cd-41a2-f878-0e589d91419a"
      },
      "source": [
        "tweets_df.tail()"
      ],
      "execution_count": null,
      "outputs": [
        {
          "output_type": "execute_result",
          "data": {
            "text/html": [
              "<div>\n",
              "<style scoped>\n",
              "    .dataframe tbody tr th:only-of-type {\n",
              "        vertical-align: middle;\n",
              "    }\n",
              "\n",
              "    .dataframe tbody tr th {\n",
              "        vertical-align: top;\n",
              "    }\n",
              "\n",
              "    .dataframe thead th {\n",
              "        text-align: right;\n",
              "    }\n",
              "</style>\n",
              "<table border=\"1\" class=\"dataframe\">\n",
              "  <thead>\n",
              "    <tr style=\"text-align: right;\">\n",
              "      <th></th>\n",
              "      <th>tweets</th>\n",
              "    </tr>\n",
              "  </thead>\n",
              "  <tbody>\n",
              "    <tr>\n",
              "      <th>995</th>\n",
              "      <td>\"New Delhi, too, has in the past commented on ...</td>\n",
              "    </tr>\n",
              "    <tr>\n",
              "      <th>996</th>\n",
              "      <td>We have been witnessing the surge in demand fo...</td>\n",
              "    </tr>\n",
              "    <tr>\n",
              "      <th>997</th>\n",
              "      <td>Found this edition of #CutTheClutter by @Shekh...</td>\n",
              "    </tr>\n",
              "    <tr>\n",
              "      <th>998</th>\n",
              "      <td>Meaning of new india is destroying the growth ...</td>\n",
              "    </tr>\n",
              "    <tr>\n",
              "      <th>999</th>\n",
              "      <td>So its also a systemic problem. The government...</td>\n",
              "    </tr>\n",
              "  </tbody>\n",
              "</table>\n",
              "</div>"
            ],
            "text/plain": [
              "                                                tweets\n",
              "995  \"New Delhi, too, has in the past commented on ...\n",
              "996  We have been witnessing the surge in demand fo...\n",
              "997  Found this edition of #CutTheClutter by @Shekh...\n",
              "998  Meaning of new india is destroying the growth ...\n",
              "999  So its also a systemic problem. The government..."
            ]
          },
          "metadata": {
            "tags": []
          },
          "execution_count": 39
        }
      ]
    },
    {
      "cell_type": "code",
      "metadata": {
        "colab": {
          "base_uri": "https://localhost:8080/",
          "height": 173
        },
        "id": "zPmVDs8Wb9jy",
        "outputId": "ba6e5ada-a805-44a9-8dd6-1e0665407ce7"
      },
      "source": [
        "tweets_df.describe()"
      ],
      "execution_count": null,
      "outputs": [
        {
          "output_type": "execute_result",
          "data": {
            "text/html": [
              "<div>\n",
              "<style scoped>\n",
              "    .dataframe tbody tr th:only-of-type {\n",
              "        vertical-align: middle;\n",
              "    }\n",
              "\n",
              "    .dataframe tbody tr th {\n",
              "        vertical-align: top;\n",
              "    }\n",
              "\n",
              "    .dataframe thead th {\n",
              "        text-align: right;\n",
              "    }\n",
              "</style>\n",
              "<table border=\"1\" class=\"dataframe\">\n",
              "  <thead>\n",
              "    <tr style=\"text-align: right;\">\n",
              "      <th></th>\n",
              "      <th>tweets</th>\n",
              "    </tr>\n",
              "  </thead>\n",
              "  <tbody>\n",
              "    <tr>\n",
              "      <th>count</th>\n",
              "      <td>1000</td>\n",
              "    </tr>\n",
              "    <tr>\n",
              "      <th>unique</th>\n",
              "      <td>941</td>\n",
              "    </tr>\n",
              "    <tr>\n",
              "      <th>top</th>\n",
              "      <td>Meaning of new india is destroying the growth ...</td>\n",
              "    </tr>\n",
              "    <tr>\n",
              "      <th>freq</th>\n",
              "      <td>57</td>\n",
              "    </tr>\n",
              "  </tbody>\n",
              "</table>\n",
              "</div>"
            ],
            "text/plain": [
              "                                                   tweets\n",
              "count                                                1000\n",
              "unique                                                941\n",
              "top     Meaning of new india is destroying the growth ...\n",
              "freq                                                   57"
            ]
          },
          "metadata": {
            "tags": []
          },
          "execution_count": 40
        }
      ]
    },
    {
      "cell_type": "markdown",
      "metadata": {
        "id": "UvUBQTsinRlO"
      },
      "source": [
        "snowballing of tweets_df to display the top 5 tweets and last 5 tweets.also we can find unique tweets,count of number of tweets and other details using tweets_df.describe()"
      ]
    },
    {
      "cell_type": "code",
      "metadata": {
        "id": "P5gSSiN2PAz-"
      },
      "source": [
        "tweets_df.to_csv(\"tweets.csv\")"
      ],
      "execution_count": null,
      "outputs": []
    },
    {
      "cell_type": "code",
      "metadata": {
        "id": "BCkAknqvPD0p"
      },
      "source": [
        "corpus=[] #form an empty list called corpus\n",
        "stemmer = PorterStemmer() #for stemming the words to original form ,for example running to run\n",
        "stop_words=set(stopwords.words(\"english\"))#remove words such as will,I,and ,at etc.\n",
        "for i in range(0,1000): #iterate through the list of 1000 tweets\n",
        "  tweets_text_cln=re.sub(\"(@[A-Za-z0-9]+)|([^0-9A-Za-z \\t])|(\\w+:\\/\\/\\S+)|[0-9]\",' ',tweets_text[i])\n",
        "  tweets_text_cln=re.sub(r'^https?:\\/\\/.*[\\r\\n]*', '', tweets_text_cln, flags=re.MULTILINE)\n",
        "  tweets_text_cln=re.sub(r'^http?:\\/\\/.*[\\r\\n]*', '', tweets_text_cln, flags=re.MULTILINE)\n",
        "  tweets_text_cln=stemmer.stem(tweets_text_cln)\n",
        "  tweets_text_cln=tweets_text_cln.lower()\n",
        "  tweets_text_cln=tweets_text_cln.split()\n",
        "  tweets_text_cln=[x for x in tweets_text_cln if not x in stop_words]\n",
        "  tweets_text_cln=[x for x in tweets_text_cln if  len(x) > 3]\n",
        "  tweets_text_cln=\" \".join(tweets_text_cln)\n",
        "  corpus.append(tweets_text_cln)\n"
      ],
      "execution_count": null,
      "outputs": []
    },
    {
      "cell_type": "code",
      "metadata": {
        "colab": {
          "base_uri": "https://localhost:8080/"
        },
        "id": "h-i0n6SPPGHb",
        "outputId": "7d7cd8d4-6178-4340-9403-015e4454be16"
      },
      "source": [
        "corpus[0:5]"
      ],
      "execution_count": null,
      "outputs": [
        {
          "output_type": "execute_result",
          "data": {
            "text/plain": [
              "['india foodsovereign largest food economy people annadatas feeding billion kissing',\n",
              " 'india boycott everything suit ideology ironically boycotts funded',\n",
              " 'also daughter farmer farmer bill good farme',\n",
              " 'indian economy fastest growing economy',\n",
              " 'terrible farm bills passed indian government good support free market economy']"
            ]
          },
          "metadata": {
            "tags": []
          },
          "execution_count": 42
        }
      ]
    },
    {
      "cell_type": "markdown",
      "metadata": {
        "id": "x8jmnd-nn2w8"
      },
      "source": [
        "derived my corpus from the tweets_text after performing few manipulation operations on them."
      ]
    },
    {
      "cell_type": "code",
      "metadata": {
        "colab": {
          "base_uri": "https://localhost:8080/"
        },
        "id": "lrOwhguCPIjn",
        "outputId": "54a7e009-6259-4813-a564-4c569bcb5326"
      },
      "source": [
        "bagofwords=[]\n",
        "for i in range(0,1000):\n",
        "  words=corpus[i].split()\n",
        "  bagofwords.append(words)\n",
        "bagofwords[0:5]"
      ],
      "execution_count": null,
      "outputs": [
        {
          "output_type": "execute_result",
          "data": {
            "text/plain": [
              "[['india',\n",
              "  'foodsovereign',\n",
              "  'largest',\n",
              "  'food',\n",
              "  'economy',\n",
              "  'people',\n",
              "  'annadatas',\n",
              "  'feeding',\n",
              "  'billion',\n",
              "  'kissing'],\n",
              " ['india',\n",
              "  'boycott',\n",
              "  'everything',\n",
              "  'suit',\n",
              "  'ideology',\n",
              "  'ironically',\n",
              "  'boycotts',\n",
              "  'funded'],\n",
              " ['pga', 'also', 'daughter', 'farmer', 'farmer', 'bill', 'good', 'farme'],\n",
              " ['lko', 'indian', 'economy', 'fastest', 'growing', 'economy'],\n",
              " ['terrible',\n",
              "  'farm',\n",
              "  'bills',\n",
              "  'passed',\n",
              "  'indian',\n",
              "  'government',\n",
              "  'good',\n",
              "  'support',\n",
              "  'free',\n",
              "  'market',\n",
              "  'economy']]"
            ]
          },
          "metadata": {
            "tags": []
          },
          "execution_count": 28
        }
      ]
    },
    {
      "cell_type": "code",
      "metadata": {
        "colab": {
          "base_uri": "https://localhost:8080/"
        },
        "id": "nTdVFh0hPQhr",
        "outputId": "6f5abc33-998a-40de-c6cd-0fde69ce37b5"
      },
      "source": [
        "all_words=list(itertools.chain(*bagofwords))\n",
        "print(all_words[0:10])\n",
        "print()\n",
        "print(\"most commonly occuring words abd frequency\\n\")\n",
        "words_freq=collections.Counter(all_words)\n",
        "words_freq.most_common(20)"
      ],
      "execution_count": null,
      "outputs": [
        {
          "output_type": "stream",
          "text": [
            "['india', 'foodsovereign', 'largest', 'food', 'economy', 'people', 'annadatas', 'feeding', 'billion', 'kissing']\n",
            "\n",
            "most commonly occuring words abd frequency\n",
            "\n"
          ],
          "name": "stdout"
        },
        {
          "output_type": "execute_result",
          "data": {
            "text/plain": [
              "[('india', 631),\n",
              " ('economy', 542),\n",
              " ('farmers', 225),\n",
              " ('agriculture', 100),\n",
              " ('backbone', 92),\n",
              " ('growth', 88),\n",
              " ('new', 87),\n",
              " ('must', 81),\n",
              " ('stand', 80),\n",
              " ('therefore', 78),\n",
              " ('welfare', 77),\n",
              " ('destroying', 72),\n",
              " ('insure', 69),\n",
              " ('indian', 68),\n",
              " ('dmkwithfarmers', 67),\n",
              " ('meaning', 66),\n",
              " ('modi', 47),\n",
              " ('amp', 46),\n",
              " ('china', 41),\n",
              " ('recovery', 37)]"
            ]
          },
          "metadata": {
            "tags": []
          },
          "execution_count": 29
        }
      ]
    },
    {
      "cell_type": "markdown",
      "metadata": {
        "id": "_hrl7MQ_oTfq"
      },
      "source": [
        "Derived bag of words and also determined most commonly occuring words and frequency of occurence of those words."
      ]
    },
    {
      "cell_type": "code",
      "metadata": {
        "id": "hfV3LvUNPT7q"
      },
      "source": [
        "words_to_remove=['india','economy','indian','much','amp']"
      ],
      "execution_count": null,
      "outputs": []
    },
    {
      "cell_type": "code",
      "metadata": {
        "colab": {
          "base_uri": "https://localhost:8080/"
        },
        "id": "JSRalR66gENM",
        "outputId": "d68dc926-707f-467b-c402-956c713f4a5b"
      },
      "source": [
        "#Bag of words\n",
        "docs = freq_word_df.words\n",
        "#Identify the unique words\n",
        "###For eack row, tokenize\n",
        "unique_words = []\n",
        "for row in docs:\n",
        "    tokens = row.split()\n",
        "    for token in tokens:\n",
        "        if token in unique_words:\n",
        "            pass\n",
        "        else:\n",
        "            unique_words.append(token)\n",
        "print(unique_words)          \n",
        "\n",
        "bow = []\n",
        "for row in docs:\n",
        "    doc_to_bow = []\n",
        "    tokens = row.split()\n",
        "    for word in unique_words:\n",
        "        if word in tokens:\n",
        "            doc_to_bow.append(1)\n",
        "        else:\n",
        "            doc_to_bow.append(0) \n",
        "    bow.append(doc_to_bow)\n",
        "print(docs)\n",
        "print(bow)"
      ],
      "execution_count": null,
      "outputs": [
        {
          "output_type": "stream",
          "text": [
            "['farmers', 'agriculture', 'backbone', 'growth', 'new', 'must', 'stand', 'therefore', 'welfare', 'destroying', 'insure', 'dmkwithfarmers', 'meaning', 'modi', 'china', 'recovery', 'finance', 'country', 'council', 'pandemic']\n",
            "0            farmers\n",
            "1        agriculture\n",
            "2           backbone\n",
            "3             growth\n",
            "4                new\n",
            "5               must\n",
            "6              stand\n",
            "7          therefore\n",
            "8            welfare\n",
            "9         destroying\n",
            "10            insure\n",
            "11    dmkwithfarmers\n",
            "12           meaning\n",
            "13              modi\n",
            "14             china\n",
            "15          recovery\n",
            "16           finance\n",
            "17           country\n",
            "18           council\n",
            "19          pandemic\n",
            "Name: words, dtype: object\n",
            "[[1, 0, 0, 0, 0, 0, 0, 0, 0, 0, 0, 0, 0, 0, 0, 0, 0, 0, 0, 0], [0, 1, 0, 0, 0, 0, 0, 0, 0, 0, 0, 0, 0, 0, 0, 0, 0, 0, 0, 0], [0, 0, 1, 0, 0, 0, 0, 0, 0, 0, 0, 0, 0, 0, 0, 0, 0, 0, 0, 0], [0, 0, 0, 1, 0, 0, 0, 0, 0, 0, 0, 0, 0, 0, 0, 0, 0, 0, 0, 0], [0, 0, 0, 0, 1, 0, 0, 0, 0, 0, 0, 0, 0, 0, 0, 0, 0, 0, 0, 0], [0, 0, 0, 0, 0, 1, 0, 0, 0, 0, 0, 0, 0, 0, 0, 0, 0, 0, 0, 0], [0, 0, 0, 0, 0, 0, 1, 0, 0, 0, 0, 0, 0, 0, 0, 0, 0, 0, 0, 0], [0, 0, 0, 0, 0, 0, 0, 1, 0, 0, 0, 0, 0, 0, 0, 0, 0, 0, 0, 0], [0, 0, 0, 0, 0, 0, 0, 0, 1, 0, 0, 0, 0, 0, 0, 0, 0, 0, 0, 0], [0, 0, 0, 0, 0, 0, 0, 0, 0, 1, 0, 0, 0, 0, 0, 0, 0, 0, 0, 0], [0, 0, 0, 0, 0, 0, 0, 0, 0, 0, 1, 0, 0, 0, 0, 0, 0, 0, 0, 0], [0, 0, 0, 0, 0, 0, 0, 0, 0, 0, 0, 1, 0, 0, 0, 0, 0, 0, 0, 0], [0, 0, 0, 0, 0, 0, 0, 0, 0, 0, 0, 0, 1, 0, 0, 0, 0, 0, 0, 0], [0, 0, 0, 0, 0, 0, 0, 0, 0, 0, 0, 0, 0, 1, 0, 0, 0, 0, 0, 0], [0, 0, 0, 0, 0, 0, 0, 0, 0, 0, 0, 0, 0, 0, 1, 0, 0, 0, 0, 0], [0, 0, 0, 0, 0, 0, 0, 0, 0, 0, 0, 0, 0, 0, 0, 1, 0, 0, 0, 0], [0, 0, 0, 0, 0, 0, 0, 0, 0, 0, 0, 0, 0, 0, 0, 0, 1, 0, 0, 0], [0, 0, 0, 0, 0, 0, 0, 0, 0, 0, 0, 0, 0, 0, 0, 0, 0, 1, 0, 0], [0, 0, 0, 0, 0, 0, 0, 0, 0, 0, 0, 0, 0, 0, 0, 0, 0, 0, 1, 0], [0, 0, 0, 0, 0, 0, 0, 0, 0, 0, 0, 0, 0, 0, 0, 0, 0, 0, 0, 1]]\n"
          ],
          "name": "stdout"
        }
      ]
    },
    {
      "cell_type": "code",
      "metadata": {
        "colab": {
          "base_uri": "https://localhost:8080/"
        },
        "id": "OYEA9DI8PWJB",
        "outputId": "43417979-1b76-4877-cb14-f388c5322b1f"
      },
      "source": [
        "bagofwords_new=[[x for x in word if not x in words_to_remove]for word in bagofwords]\n",
        "bagofwords_new[0:5]"
      ],
      "execution_count": null,
      "outputs": [
        {
          "output_type": "execute_result",
          "data": {
            "text/plain": [
              "[['foodsovereign',\n",
              "  'largest',\n",
              "  'food',\n",
              "  'people',\n",
              "  'annadatas',\n",
              "  'feeding',\n",
              "  'billion',\n",
              "  'kissing'],\n",
              " ['boycott',\n",
              "  'everything',\n",
              "  'suit',\n",
              "  'ideology',\n",
              "  'ironically',\n",
              "  'boycotts',\n",
              "  'funded'],\n",
              " ['pga', 'also', 'daughter', 'farmer', 'farmer', 'bill', 'good', 'farme'],\n",
              " ['lko', 'fastest', 'growing'],\n",
              " ['terrible',\n",
              "  'farm',\n",
              "  'bills',\n",
              "  'passed',\n",
              "  'government',\n",
              "  'good',\n",
              "  'support',\n",
              "  'free',\n",
              "  'market']]"
            ]
          },
          "metadata": {
            "tags": []
          },
          "execution_count": 54
        }
      ]
    },
    {
      "cell_type": "markdown",
      "metadata": {
        "id": "Ynlk2MSoowAC"
      },
      "source": [
        "Derived my bag of words after identifying words to remove from my collections of original bag of words."
      ]
    },
    {
      "cell_type": "code",
      "metadata": {
        "colab": {
          "base_uri": "https://localhost:8080/"
        },
        "id": "joCRmjSwPZm4",
        "outputId": "13fff434-4958-408e-e3ff-518860df2a62"
      },
      "source": [
        "all_words=list(itertools.chain(*bagofwords_new))\n",
        "print(all_words[0:10])\n",
        "print()\n",
        "print(\"MOST COMMONLY OCCURING WORDS AND FREQUENCY\\n\")\n",
        "words_freq=collections.Counter(all_words)\n",
        "words_freq.most_common(20)"
      ],
      "execution_count": null,
      "outputs": [
        {
          "output_type": "stream",
          "text": [
            "['foodsovereign', 'largest', 'food', 'people', 'annadatas', 'feeding', 'billion', 'kissing', 'boycott', 'everything']\n",
            "\n",
            "MOST COMMONLY OCCURING WORDS AND FREQUENCY\n",
            "\n"
          ],
          "name": "stdout"
        },
        {
          "output_type": "execute_result",
          "data": {
            "text/plain": [
              "[('farmers', 225),\n",
              " ('agriculture', 100),\n",
              " ('backbone', 92),\n",
              " ('growth', 88),\n",
              " ('new', 87),\n",
              " ('must', 81),\n",
              " ('stand', 80),\n",
              " ('therefore', 78),\n",
              " ('welfare', 77),\n",
              " ('destroying', 72),\n",
              " ('insure', 69),\n",
              " ('dmkwithfarmers', 67),\n",
              " ('meaning', 66),\n",
              " ('modi', 47),\n",
              " ('china', 41),\n",
              " ('recovery', 37),\n",
              " ('finance', 35),\n",
              " ('country', 34),\n",
              " ('council', 34),\n",
              " ('pandemic', 33)]"
            ]
          },
          "metadata": {
            "tags": []
          },
          "execution_count": 32
        }
      ]
    },
    {
      "cell_type": "code",
      "metadata": {
        "colab": {
          "base_uri": "https://localhost:8080/",
          "height": 204
        },
        "id": "elq-Kn8pPdEO",
        "outputId": "190a0ae5-ec2d-4835-bfd4-7ec962f54f45"
      },
      "source": [
        "freq_word_df=pd.DataFrame(words_freq.most_common(20),columns=['words','freq'])\n",
        "freq_word_df.head()"
      ],
      "execution_count": null,
      "outputs": [
        {
          "output_type": "execute_result",
          "data": {
            "text/html": [
              "<div>\n",
              "<style scoped>\n",
              "    .dataframe tbody tr th:only-of-type {\n",
              "        vertical-align: middle;\n",
              "    }\n",
              "\n",
              "    .dataframe tbody tr th {\n",
              "        vertical-align: top;\n",
              "    }\n",
              "\n",
              "    .dataframe thead th {\n",
              "        text-align: right;\n",
              "    }\n",
              "</style>\n",
              "<table border=\"1\" class=\"dataframe\">\n",
              "  <thead>\n",
              "    <tr style=\"text-align: right;\">\n",
              "      <th></th>\n",
              "      <th>words</th>\n",
              "      <th>freq</th>\n",
              "    </tr>\n",
              "  </thead>\n",
              "  <tbody>\n",
              "    <tr>\n",
              "      <th>0</th>\n",
              "      <td>farmers</td>\n",
              "      <td>225</td>\n",
              "    </tr>\n",
              "    <tr>\n",
              "      <th>1</th>\n",
              "      <td>agriculture</td>\n",
              "      <td>100</td>\n",
              "    </tr>\n",
              "    <tr>\n",
              "      <th>2</th>\n",
              "      <td>backbone</td>\n",
              "      <td>92</td>\n",
              "    </tr>\n",
              "    <tr>\n",
              "      <th>3</th>\n",
              "      <td>growth</td>\n",
              "      <td>88</td>\n",
              "    </tr>\n",
              "    <tr>\n",
              "      <th>4</th>\n",
              "      <td>new</td>\n",
              "      <td>87</td>\n",
              "    </tr>\n",
              "  </tbody>\n",
              "</table>\n",
              "</div>"
            ],
            "text/plain": [
              "         words  freq\n",
              "0      farmers   225\n",
              "1  agriculture   100\n",
              "2     backbone    92\n",
              "3       growth    88\n",
              "4          new    87"
            ]
          },
          "metadata": {
            "tags": []
          },
          "execution_count": 33
        }
      ]
    },
    {
      "cell_type": "code",
      "metadata": {
        "colab": {
          "base_uri": "https://localhost:8080/",
          "height": 612
        },
        "id": "8ZHGmVY-PfjS",
        "outputId": "26896ed0-e227-43ec-88f9-7c688828945b"
      },
      "source": [
        "fig,ax=plt.subplots(figsize=(15,10))\n",
        "freq_word_df.sort_values(by='freq').plot.barh(x='words',y='freq',ax=ax,color='green')\n",
        "plt.show()"
      ],
      "execution_count": null,
      "outputs": [
        {
          "output_type": "display_data",
          "data": {
            "image/png": "[encoded data removed]",
            "text/plain": [
              "<Figure size 1080x720 with 1 Axes>"
            ]
          },
          "metadata": {
            "tags": [],
            "needs_background": "light"
          }
        }
      ]
    },
    {
      "cell_type": "markdown",
      "metadata": {
        "id": "VJuElyXPpLeF"
      },
      "source": [
        "executed a bar plot describing TOP 20 MOST COMMON WORDS and their frequency of occurences."
      ]
    },
    {
      "cell_type": "code",
      "metadata": {
        "id": "FHE2Dr8vPi8I"
      },
      "source": [
        "from wordcloud import WordCloud,STOPWORDS\n",
        "import matplotlib.pyplot as plt\n",
        "word_string=\" \".join(freq_word_df.words)\n",
        "wordcloud=WordCloud(stopwords=STOPWORDS,background_color='black',max_words=50).generate(word_string)"
      ],
      "execution_count": null,
      "outputs": []
    },
    {
      "cell_type": "code",
      "metadata": {
        "colab": {
          "base_uri": "https://localhost:8080/",
          "height": 34
        },
        "id": "_gQ2pqI-Pl2H",
        "outputId": "f3948a09-5bc7-4bbe-c615-79925b551c6f"
      },
      "source": [
        "plt.figure(figsize=(25,50))\n",
        "plt.clf()"
      ],
      "execution_count": null,
      "outputs": [
        {
          "output_type": "display_data",
          "data": {
            "text/plain": [
              "<Figure size 1800x3600 with 0 Axes>"
            ]
          },
          "metadata": {
            "tags": []
          }
        }
      ]
    },
    {
      "cell_type": "code",
      "metadata": {
        "colab": {
          "base_uri": "https://localhost:8080/",
          "height": 236
        },
        "id": "DunpJUVDPn-z",
        "outputId": "76ee8f60-2eb5-4922-ebba-6c28321c5d6d"
      },
      "source": [
        "plt.imshow(wordcloud)"
      ],
      "execution_count": null,
      "outputs": [
        {
          "output_type": "execute_result",
          "data": {
            "text/plain": [
              "<matplotlib.image.AxesImage at 0x7f7092f372b0>"
            ]
          },
          "metadata": {
            "tags": []
          },
          "execution_count": 37
        },
        {
          "output_type": "display_data",
          "data": {
            "image/png": "[encoded data removed]",
            "text/plain": [
              "<Figure size 432x288 with 1 Axes>"
            ]
          },
          "metadata": {
            "tags": [],
            "needs_background": "light"
          }
        }
      ]
    },
    {
      "cell_type": "markdown",
      "metadata": {
        "id": "T4TKyi0cpygd"
      },
      "source": [
        "Word clouds or tag clouds are graphical representations of word frequency that give greater prominence to words that appear more frequently in a source text. The larger the word in the visual the more common the word was in the document.plotted a wordcloud for my word_string."
      ]
    },
    {
      "cell_type": "code",
      "metadata": {
        "colab": {
          "base_uri": "https://localhost:8080/"
        },
        "id": "K54ZVIYkqM4P",
        "outputId": "32d566dc-680e-4a83-bd2f-3cea9879df83"
      },
      "source": [
        "!jupyter nbconvert MODULE5_DAY3_TWEETER_TEXT_ANALYSIS_TWEEPY_PKG.ipynb"
      ],
      "execution_count": null,
      "outputs": [
        {
          "output_type": "stream",
          "text": [
            "[NbConvertApp] Converting notebook MODULE5_DAY3_TWEETER_TEXT_ANALYSIS_TWEEPY_PKG.ipynb to html\n",
            "[NbConvertApp] Writing 495429 bytes to MODULE5_DAY3_TWEETER_TEXT_ANALYSIS_TWEEPY_PKG.html\n"
          ],
          "name": "stdout"
        }
      ]
    }
  ]
}