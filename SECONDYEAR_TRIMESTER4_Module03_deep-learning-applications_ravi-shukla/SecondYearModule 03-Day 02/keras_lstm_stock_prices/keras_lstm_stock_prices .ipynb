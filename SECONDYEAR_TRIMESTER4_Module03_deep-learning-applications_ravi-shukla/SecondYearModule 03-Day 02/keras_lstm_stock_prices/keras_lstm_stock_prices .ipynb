{
 "cells": [
  {
   "cell_type": "markdown",
   "metadata": {},
   "source": [
    "# Stock Prices Prediction Using Keras Long Term Short Memory"
   ]
  },
  {
   "cell_type": "code",
   "execution_count": 1,
   "metadata": {},
   "outputs": [],
   "source": [
    "# Part 1 - Data Preprocessing\n",
    "\n",
    "# Importing the libraries\n",
    "import numpy as np\n",
    "import matplotlib.pyplot as plt\n",
    "import pandas as pd"
   ]
  },
  {
   "cell_type": "code",
   "execution_count": 2,
   "metadata": {},
   "outputs": [],
   "source": [
    "# Importing the training set\n",
    "dataset_train = pd.read_csv(r'C:\\Users\\ravi_shukla\\Desktop\\Bert_Proj\\NSE-TATAGLOBAL.csv')\n",
    "training_set = dataset_train.iloc[:, 1:2].values"
   ]
  },
  {
   "cell_type": "code",
   "execution_count": 11,
   "metadata": {},
   "outputs": [
    {
     "data": {
      "text/html": [
       "<div>\n",
       "<style scoped>\n",
       "    .dataframe tbody tr th:only-of-type {\n",
       "        vertical-align: middle;\n",
       "    }\n",
       "\n",
       "    .dataframe tbody tr th {\n",
       "        vertical-align: top;\n",
       "    }\n",
       "\n",
       "    .dataframe thead th {\n",
       "        text-align: right;\n",
       "    }\n",
       "</style>\n",
       "<table border=\"1\" class=\"dataframe\">\n",
       "  <thead>\n",
       "    <tr style=\"text-align: right;\">\n",
       "      <th></th>\n",
       "      <th>Date</th>\n",
       "      <th>Open</th>\n",
       "      <th>High</th>\n",
       "      <th>Low</th>\n",
       "      <th>Last</th>\n",
       "      <th>Close</th>\n",
       "      <th>Total Trade Quantity</th>\n",
       "      <th>Turnover (Lacs)</th>\n",
       "    </tr>\n",
       "  </thead>\n",
       "  <tbody>\n",
       "    <tr>\n",
       "      <th>0</th>\n",
       "      <td>2018-09-28</td>\n",
       "      <td>234.05</td>\n",
       "      <td>235.95</td>\n",
       "      <td>230.20</td>\n",
       "      <td>233.50</td>\n",
       "      <td>233.75</td>\n",
       "      <td>3069914</td>\n",
       "      <td>7162.35</td>\n",
       "    </tr>\n",
       "    <tr>\n",
       "      <th>1</th>\n",
       "      <td>2018-09-27</td>\n",
       "      <td>234.55</td>\n",
       "      <td>236.80</td>\n",
       "      <td>231.10</td>\n",
       "      <td>233.80</td>\n",
       "      <td>233.25</td>\n",
       "      <td>5082859</td>\n",
       "      <td>11859.95</td>\n",
       "    </tr>\n",
       "    <tr>\n",
       "      <th>2</th>\n",
       "      <td>2018-09-26</td>\n",
       "      <td>240.00</td>\n",
       "      <td>240.00</td>\n",
       "      <td>232.50</td>\n",
       "      <td>235.00</td>\n",
       "      <td>234.25</td>\n",
       "      <td>2240909</td>\n",
       "      <td>5248.60</td>\n",
       "    </tr>\n",
       "    <tr>\n",
       "      <th>3</th>\n",
       "      <td>2018-09-25</td>\n",
       "      <td>233.30</td>\n",
       "      <td>236.75</td>\n",
       "      <td>232.00</td>\n",
       "      <td>236.25</td>\n",
       "      <td>236.10</td>\n",
       "      <td>2349368</td>\n",
       "      <td>5503.90</td>\n",
       "    </tr>\n",
       "    <tr>\n",
       "      <th>4</th>\n",
       "      <td>2018-09-24</td>\n",
       "      <td>233.55</td>\n",
       "      <td>239.20</td>\n",
       "      <td>230.75</td>\n",
       "      <td>234.00</td>\n",
       "      <td>233.30</td>\n",
       "      <td>3423509</td>\n",
       "      <td>7999.55</td>\n",
       "    </tr>\n",
       "  </tbody>\n",
       "</table>\n",
       "</div>"
      ],
      "text/plain": [
       "         Date    Open    High     Low    Last   Close  Total Trade Quantity  \\\n",
       "0  2018-09-28  234.05  235.95  230.20  233.50  233.75               3069914   \n",
       "1  2018-09-27  234.55  236.80  231.10  233.80  233.25               5082859   \n",
       "2  2018-09-26  240.00  240.00  232.50  235.00  234.25               2240909   \n",
       "3  2018-09-25  233.30  236.75  232.00  236.25  236.10               2349368   \n",
       "4  2018-09-24  233.55  239.20  230.75  234.00  233.30               3423509   \n",
       "\n",
       "   Turnover (Lacs)  \n",
       "0          7162.35  \n",
       "1         11859.95  \n",
       "2          5248.60  \n",
       "3          5503.90  \n",
       "4          7999.55  "
      ]
     },
     "execution_count": 11,
     "metadata": {},
     "output_type": "execute_result"
    }
   ],
   "source": [
    "dataset_train.head()\n"
   ]
  },
  {
   "cell_type": "code",
   "execution_count": 12,
   "metadata": {},
   "outputs": [],
   "source": [
    "# Feature Scaling\n",
    "from sklearn.preprocessing import MinMaxScaler\n",
    "sc = MinMaxScaler(feature_range = (0, 1))\n",
    "training_set_scaled = sc.fit_transform(training_set)"
   ]
  },
  {
   "cell_type": "code",
   "execution_count": 13,
   "metadata": {},
   "outputs": [],
   "source": [
    "# Creating a data structure with 60 timesteps and 1 output\n",
    "X_train = []\n",
    "y_train = []\n",
    "for i in range(60, 2035):\n",
    "    X_train.append(training_set_scaled[i-60:i, 0])\n",
    "    y_train.append(training_set_scaled[i, 0])\n",
    "X_train, y_train = np.array(X_train), np.array(y_train)"
   ]
  },
  {
   "cell_type": "code",
   "execution_count": 14,
   "metadata": {},
   "outputs": [],
   "source": [
    "# Reshaping\n",
    "X_train = np.reshape(X_train, (X_train.shape[0], X_train.shape[1], 1))"
   ]
  },
  {
   "cell_type": "code",
   "execution_count": 15,
   "metadata": {},
   "outputs": [
    {
     "name": "stderr",
     "output_type": "stream",
     "text": [
      "Using TensorFlow backend.\n"
     ]
    }
   ],
   "source": [
    "# Part 2 - Building the RNN\n",
    "\n",
    "# Importing the Keras libraries and packages\n",
    "from keras.models import Sequential\n",
    "from keras.layers import Dense\n",
    "from keras.layers import LSTM\n",
    "from keras.layers import Dropout"
   ]
  },
  {
   "cell_type": "code",
   "execution_count": 16,
   "metadata": {},
   "outputs": [
    {
     "name": "stdout",
     "output_type": "stream",
     "text": [
      "WARNING:tensorflow:From c:\\python37\\lib\\site-packages\\tensorflow_core\\python\\ops\\resource_variable_ops.py:1630: calling BaseResourceVariable.__init__ (from tensorflow.python.ops.resource_variable_ops) with constraint is deprecated and will be removed in a future version.\n",
      "Instructions for updating:\n",
      "If using Keras pass *_constraint arguments to layers.\n"
     ]
    }
   ],
   "source": [
    "# Initialising the RNN\n",
    "regressor = Sequential()\n",
    "\n",
    "# Adding the first LSTM layer and some Dropout regularisation\n",
    "regressor.add(LSTM(units = 50, return_sequences = True, input_shape = (X_train.shape[1], 1)))\n",
    "regressor.add(Dropout(0.2))"
   ]
  },
  {
   "cell_type": "code",
   "execution_count": 17,
   "metadata": {},
   "outputs": [],
   "source": [
    "# Adding a second LSTM layer and some Dropout regularisation\n",
    "regressor.add(LSTM(units = 50, return_sequences = True))\n",
    "regressor.add(Dropout(0.2))"
   ]
  },
  {
   "cell_type": "code",
   "execution_count": 18,
   "metadata": {},
   "outputs": [],
   "source": [
    "\n",
    "# Adding a third LSTM layer and some Dropout regularisation\n",
    "regressor.add(LSTM(units = 50, return_sequences = True))\n",
    "regressor.add(Dropout(0.2))"
   ]
  },
  {
   "cell_type": "code",
   "execution_count": 19,
   "metadata": {},
   "outputs": [],
   "source": [
    "# Adding a fourth LSTM layer and some Dropout regularisation\n",
    "regressor.add(LSTM(units = 50))\n",
    "regressor.add(Dropout(0.2))\n"
   ]
  },
  {
   "cell_type": "code",
   "execution_count": 20,
   "metadata": {},
   "outputs": [
    {
     "name": "stdout",
     "output_type": "stream",
     "text": [
      "WARNING:tensorflow:From c:\\python37\\lib\\site-packages\\keras\\backend\\tensorflow_backend.py:422: The name tf.global_variables is deprecated. Please use tf.compat.v1.global_variables instead.\n",
      "\n",
      "Epoch 1/100\n",
      "1975/1975 [==============================] - 22s 11ms/step - loss: 0.0115\n",
      "Epoch 2/100\n",
      "1975/1975 [==============================] - 20s 10ms/step - loss: 0.0033\n",
      "Epoch 3/100\n",
      "1975/1975 [==============================] - 20s 10ms/step - loss: 0.0028\n",
      "Epoch 4/100\n",
      "1975/1975 [==============================] - 20s 10ms/step - loss: 0.0028\n",
      "Epoch 5/100\n",
      "1975/1975 [==============================] - 20s 10ms/step - loss: 0.0028\n",
      "Epoch 6/100\n",
      "1975/1975 [==============================] - 21s 11ms/step - loss: 0.0029\n",
      "Epoch 7/100\n",
      "1975/1975 [==============================] - 20s 10ms/step - loss: 0.0020\n",
      "Epoch 8/100\n",
      "1975/1975 [==============================] - 21s 10ms/step - loss: 0.0021\n",
      "Epoch 9/100\n",
      "1975/1975 [==============================] - 21s 11ms/step - loss: 0.0021\n",
      "Epoch 10/100\n",
      "1975/1975 [==============================] - 20s 10ms/step - loss: 0.0021\n",
      "Epoch 11/100\n",
      "1975/1975 [==============================] - 20s 10ms/step - loss: 0.0020\n",
      "Epoch 12/100\n",
      "1975/1975 [==============================] - 21s 10ms/step - loss: 0.0023\n",
      "Epoch 13/100\n",
      "1975/1975 [==============================] - 20s 10ms/step - loss: 0.0018\n",
      "Epoch 14/100\n",
      "1975/1975 [==============================] - 20s 10ms/step - loss: 0.0017\n",
      "Epoch 15/100\n",
      "1975/1975 [==============================] - 20s 10ms/step - loss: 0.0016\n",
      "Epoch 16/100\n",
      "1975/1975 [==============================] - 20s 10ms/step - loss: 0.0016\n",
      "Epoch 17/100\n",
      "1975/1975 [==============================] - 19s 10ms/step - loss: 0.0016\n",
      "Epoch 18/100\n",
      "1975/1975 [==============================] - 20s 10ms/step - loss: 0.0017\n",
      "Epoch 19/100\n",
      "1975/1975 [==============================] - 20s 10ms/step - loss: 0.0014\n",
      "Epoch 20/100\n",
      "1975/1975 [==============================] - 20s 10ms/step - loss: 0.0016\n",
      "Epoch 21/100\n",
      "1975/1975 [==============================] - 20s 10ms/step - loss: 0.0014\n",
      "Epoch 22/100\n",
      "1975/1975 [==============================] - 21s 10ms/step - loss: 0.0013\n",
      "Epoch 23/100\n",
      "1975/1975 [==============================] - 21s 11ms/step - loss: 0.0015\n",
      "Epoch 24/100\n",
      "1975/1975 [==============================] - 20s 10ms/step - loss: 0.0014\n",
      "Epoch 25/100\n",
      "1975/1975 [==============================] - 21s 10ms/step - loss: 0.0012\n",
      "Epoch 26/100\n",
      "1975/1975 [==============================] - 21s 11ms/step - loss: 0.0013\n",
      "Epoch 27/100\n",
      "1975/1975 [==============================] - 21s 10ms/step - loss: 0.0012\n",
      "Epoch 28/100\n",
      "1975/1975 [==============================] - 21s 11ms/step - loss: 0.0012\n",
      "Epoch 29/100\n",
      "1975/1975 [==============================] - 20s 10ms/step - loss: 0.0013\n",
      "Epoch 30/100\n",
      "1975/1975 [==============================] - 20s 10ms/step - loss: 0.0012\n",
      "Epoch 31/100\n",
      "1975/1975 [==============================] - 20s 10ms/step - loss: 0.0011\n",
      "Epoch 32/100\n",
      "1975/1975 [==============================] - 20s 10ms/step - loss: 0.0011\n",
      "Epoch 33/100\n",
      "1975/1975 [==============================] - 20s 10ms/step - loss: 0.0011\n",
      "Epoch 34/100\n",
      "1975/1975 [==============================] - 20s 10ms/step - loss: 0.0010\n",
      "Epoch 35/100\n",
      "1975/1975 [==============================] - 20s 10ms/step - loss: 0.0011\n",
      "Epoch 36/100\n",
      "1975/1975 [==============================] - 20s 10ms/step - loss: 9.8388e-04\n",
      "Epoch 37/100\n",
      "1975/1975 [==============================] - 20s 10ms/step - loss: 0.0011\n",
      "Epoch 38/100\n",
      "1975/1975 [==============================] - 19s 10ms/step - loss: 8.7773e-04\n",
      "Epoch 39/100\n",
      "1975/1975 [==============================] - 21s 11ms/step - loss: 9.6579e-04\n",
      "Epoch 40/100\n",
      "1975/1975 [==============================] - 20s 10ms/step - loss: 8.4806e-04\n",
      "Epoch 41/100\n",
      "1975/1975 [==============================] - 20s 10ms/step - loss: 0.0011\n",
      "Epoch 42/100\n",
      "1975/1975 [==============================] - 19s 10ms/step - loss: 8.7692e-04\n",
      "Epoch 43/100\n",
      "1975/1975 [==============================] - 20s 10ms/step - loss: 9.0688e-04\n",
      "Epoch 44/100\n",
      "1975/1975 [==============================] - 19s 10ms/step - loss: 8.9204e-04\n",
      "Epoch 45/100\n",
      "1975/1975 [==============================] - 19s 10ms/step - loss: 9.8451e-04\n",
      "Epoch 46/100\n",
      "1975/1975 [==============================] - 20s 10ms/step - loss: 8.6583e-04\n",
      "Epoch 47/100\n",
      "1975/1975 [==============================] - 20s 10ms/step - loss: 8.6315e-04\n",
      "Epoch 48/100\n",
      "1975/1975 [==============================] - 20s 10ms/step - loss: 9.7130e-04\n",
      "Epoch 49/100\n",
      "1975/1975 [==============================] - 21s 10ms/step - loss: 8.8297e-04\n",
      "Epoch 50/100\n",
      "1975/1975 [==============================] - 20s 10ms/step - loss: 9.3412e-04\n",
      "Epoch 51/100\n",
      "1975/1975 [==============================] - 20s 10ms/step - loss: 9.6515e-04\n",
      "Epoch 52/100\n",
      "1975/1975 [==============================] - 20s 10ms/step - loss: 8.7092e-04\n",
      "Epoch 53/100\n",
      "1975/1975 [==============================] - 20s 10ms/step - loss: 8.3285e-04\n",
      "Epoch 54/100\n",
      "1975/1975 [==============================] - 20s 10ms/step - loss: 8.2089e-04\n",
      "Epoch 55/100\n",
      "1975/1975 [==============================] - 20s 10ms/step - loss: 8.2475e-04\n",
      "Epoch 56/100\n",
      "1975/1975 [==============================] - 20s 10ms/step - loss: 7.6825e-04\n",
      "Epoch 57/100\n",
      "1975/1975 [==============================] - 20s 10ms/step - loss: 7.2649e-04\n",
      "Epoch 58/100\n",
      "1975/1975 [==============================] - 20s 10ms/step - loss: 7.5988e-04\n",
      "Epoch 59/100\n",
      "1975/1975 [==============================] - 20s 10ms/step - loss: 7.2277e-04\n",
      "Epoch 60/100\n",
      "1975/1975 [==============================] - 19s 10ms/step - loss: 7.0973e-04\n",
      "Epoch 61/100\n",
      "1975/1975 [==============================] - 20s 10ms/step - loss: 6.4376e-04\n",
      "Epoch 62/100\n",
      "1975/1975 [==============================] - 20s 10ms/step - loss: 7.1342e-04\n",
      "Epoch 63/100\n",
      "1975/1975 [==============================] - 19s 10ms/step - loss: 7.2339e-04\n",
      "Epoch 64/100\n",
      "1975/1975 [==============================] - 21s 10ms/step - loss: 7.2386e-04\n",
      "Epoch 65/100\n",
      "1975/1975 [==============================] - 20s 10ms/step - loss: 7.5343e-04\n",
      "Epoch 66/100\n",
      "1975/1975 [==============================] - 20s 10ms/step - loss: 7.4317e-04\n",
      "Epoch 67/100\n",
      "1975/1975 [==============================] - 20s 10ms/step - loss: 7.5371e-04\n",
      "Epoch 68/100\n",
      "1975/1975 [==============================] - 20s 10ms/step - loss: 6.5606e-04\n",
      "Epoch 69/100\n",
      "1975/1975 [==============================] - 20s 10ms/step - loss: 6.9245e-04\n",
      "Epoch 70/100\n",
      "1975/1975 [==============================] - 20s 10ms/step - loss: 6.6524e-04\n",
      "Epoch 71/100\n",
      "1975/1975 [==============================] - 20s 10ms/step - loss: 6.5924e-04\n",
      "Epoch 72/100\n",
      "1975/1975 [==============================] - 20s 10ms/step - loss: 6.6586e-04\n",
      "Epoch 73/100\n",
      "1975/1975 [==============================] - 20s 10ms/step - loss: 7.4648e-04\n",
      "Epoch 74/100\n",
      "1975/1975 [==============================] - 20s 10ms/step - loss: 6.7869e-04\n",
      "Epoch 75/100\n",
      "1975/1975 [==============================] - 20s 10ms/step - loss: 6.6301e-04\n",
      "Epoch 76/100\n",
      "1975/1975 [==============================] - 20s 10ms/step - loss: 6.9085e-04\n",
      "Epoch 77/100\n",
      "1975/1975 [==============================] - 20s 10ms/step - loss: 7.0598e-04\n",
      "Epoch 78/100\n",
      "1975/1975 [==============================] - 20s 10ms/step - loss: 5.8641e-04\n",
      "Epoch 79/100\n",
      "1975/1975 [==============================] - 20s 10ms/step - loss: 7.7000e-04\n",
      "Epoch 80/100\n",
      "1975/1975 [==============================] - 20s 10ms/step - loss: 7.6212e-04\n",
      "Epoch 81/100\n",
      "1975/1975 [==============================] - 20s 10ms/step - loss: 7.1014e-04\n",
      "Epoch 82/100\n",
      "1975/1975 [==============================] - 21s 10ms/step - loss: 5.9193e-04\n",
      "Epoch 83/100\n",
      "1975/1975 [==============================] - 21s 10ms/step - loss: 7.0548e-04\n",
      "Epoch 84/100\n",
      "1975/1975 [==============================] - 21s 10ms/step - loss: 6.2657e-04\n",
      "Epoch 85/100\n",
      "1975/1975 [==============================] - 20s 10ms/step - loss: 5.7419e-04\n",
      "Epoch 86/100\n",
      "1975/1975 [==============================] - 20s 10ms/step - loss: 6.7694e-04\n",
      "Epoch 87/100\n",
      "1975/1975 [==============================] - 20s 10ms/step - loss: 5.6988e-04\n",
      "Epoch 88/100\n",
      "1975/1975 [==============================] - 20s 10ms/step - loss: 7.3733e-04\n",
      "Epoch 89/100\n",
      "1975/1975 [==============================] - 21s 10ms/step - loss: 8.3935e-04\n",
      "Epoch 90/100\n"
     ]
    },
    {
     "name": "stdout",
     "output_type": "stream",
     "text": [
      "1975/1975 [==============================] - 21s 11ms/step - loss: 8.6408e-04\n",
      "Epoch 91/100\n",
      "1975/1975 [==============================] - 21s 10ms/step - loss: 6.7160e-04\n",
      "Epoch 92/100\n",
      "1975/1975 [==============================] - 21s 11ms/step - loss: 6.2235e-04\n",
      "Epoch 93/100\n",
      "1975/1975 [==============================] - 21s 11ms/step - loss: 7.2827e-04\n",
      "Epoch 94/100\n",
      "1975/1975 [==============================] - 21s 11ms/step - loss: 7.4380e-04\n",
      "Epoch 95/100\n",
      "1975/1975 [==============================] - 21s 10ms/step - loss: 6.6847e-04\n",
      "Epoch 96/100\n",
      "1975/1975 [==============================] - 22s 11ms/step - loss: 6.9707e-04\n",
      "Epoch 97/100\n",
      "1975/1975 [==============================] - 22s 11ms/step - loss: 5.6812e-04\n",
      "Epoch 98/100\n",
      "1975/1975 [==============================] - 20s 10ms/step - loss: 6.0141e-04\n",
      "Epoch 99/100\n",
      "1975/1975 [==============================] - 21s 11ms/step - loss: 6.9720e-04\n",
      "Epoch 100/100\n",
      "1975/1975 [==============================] - 22s 11ms/step - loss: 6.3034e-04\n"
     ]
    },
    {
     "data": {
      "text/plain": [
       "<keras.callbacks.callbacks.History at 0x283bf5fecc8>"
      ]
     },
     "execution_count": 20,
     "metadata": {},
     "output_type": "execute_result"
    }
   ],
   "source": [
    "# Adding the output layer\n",
    "regressor.add(Dense(units = 1))\n",
    "\n",
    "# Compiling the RNN\n",
    "regressor.compile(optimizer = 'adam', loss = 'mean_squared_error')\n",
    "\n",
    "# Fitting the RNN to the Training set\n",
    "regressor.fit(X_train, y_train, epochs = 100, batch_size = 32)\n",
    "\n"
   ]
  },
  {
   "cell_type": "code",
   "execution_count": 22,
   "metadata": {},
   "outputs": [],
   "source": [
    "# Part 3 - Making the predictions and visualising the results\n",
    "\n",
    "# Getting the real stock price of 2018\n",
    "dataset_test = pd.read_csv(r'C:\\Users\\ravi_shukla\\Desktop\\Bert_Proj\\tatatest.csv')\n",
    "real_stock_price = dataset_test.iloc[:, 1:2].values"
   ]
  },
  {
   "cell_type": "code",
   "execution_count": 23,
   "metadata": {},
   "outputs": [],
   "source": [
    "# Getting the predicted stock price of 2018\n",
    "dataset_total = pd.concat((dataset_train['Open'], dataset_test['Open']), axis = 0)\n",
    "inputs = dataset_total[len(dataset_total) - len(dataset_test) - 60:].values\n",
    "inputs = inputs.reshape(-1,1)\n",
    "inputs = sc.transform(inputs)\n",
    "X_test = []\n",
    "for i in range(60, 76):\n",
    "    X_test.append(inputs[i-60:i, 0])\n",
    "X_test = np.array(X_test)\n",
    "X_test = np.reshape(X_test, (X_test.shape[0], X_test.shape[1], 1))\n",
    "predicted_stock_price = regressor.predict(X_test)\n",
    "predicted_stock_price = sc.inverse_transform(predicted_stock_price)\n"
   ]
  },
  {
   "cell_type": "code",
   "execution_count": 24,
   "metadata": {},
   "outputs": [
    {
     "data": {
      "image/png": "[encoded data removed]",
      "text/plain": [
       "<Figure size 432x288 with 1 Axes>"
      ]
     },
     "metadata": {
      "needs_background": "light"
     },
     "output_type": "display_data"
    }
   ],
   "source": [
    "# Visualising the results\n",
    "plt.plot(real_stock_price, color = 'red', label = 'Real TATA Stock Price')\n",
    "plt.plot(predicted_stock_price, color = 'blue', label = 'Predicted TAT Stock Price')\n",
    "plt.title('TATA Stock Price Prediction')\n",
    "plt.xlabel('Time')\n",
    "plt.ylabel('TATA Stock Price')\n",
    "plt.legend()\n",
    "plt.show()"
   ]
  },
  {
   "cell_type": "code",
   "execution_count": null,
   "metadata": {},
   "outputs": [],
   "source": []
  }
 ],
 "metadata": {
  "kernelspec": {
   "display_name": "Python 3",
   "language": "python",
   "name": "python3"
  },
  "language_info": {
   "codemirror_mode": {
    "name": "ipython",
    "version": 3
   },
   "file_extension": ".py",
   "mimetype": "text/x-python",
   "name": "python",
   "nbconvert_exporter": "python",
   "pygments_lexer": "ipython3",
   "version": "3.7.6"
  }
 },
 "nbformat": 4,
 "nbformat_minor": 2
}
