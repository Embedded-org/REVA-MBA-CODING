{
 "cells": [
  {
   "cell_type": "code",
   "execution_count": 1,
   "metadata": {},
   "outputs": [
    {
     "name": "stderr",
     "output_type": "stream",
     "text": [
      "Using TensorFlow backend.\n"
     ]
    }
   ],
   "source": [
    "#import required libraries\n",
    "import numpy\n",
    "from keras.models import Sequential\n",
    "from keras.layers import Dense\n",
    "from keras.layers import Dropout\n",
    "from keras.layers import LSTM\n",
    "from keras.callbacks import ModelCheckpoint\n",
    "from keras.utils import np_utils\n"
   ]
  },
  {
   "cell_type": "code",
   "execution_count": 3,
   "metadata": {},
   "outputs": [],
   "source": [
    "#Load the file\n",
    "# load text and covert to lowercase\n",
    "filename = \"C:\\\\Users\\\\ravi_shukla\\\\Desktop\\\\Bert_Proj\\\\wonderland.txt\"\n",
    "raw_text = open(filename, 'r', encoding='utf-8').read()\n",
    "raw_text = raw_text.lower()"
   ]
  },
  {
   "cell_type": "code",
   "execution_count": 5,
   "metadata": {},
   "outputs": [],
   "source": [
    "# create mapping of unique chars to integers\n",
    "chars = sorted(list(set(raw_text)))\n",
    "char_to_int = dict((c, i) for i, c in enumerate(chars))\n"
   ]
  },
  {
   "cell_type": "code",
   "execution_count": 8,
   "metadata": {},
   "outputs": [
    {
     "name": "stdout",
     "output_type": "stream",
     "text": [
      "Total Characters:  163781\n",
      "Total Vocab:  59\n"
     ]
    }
   ],
   "source": [
    "#Summarize the Dataset\n",
    "n_chars = len(raw_text)\n",
    "n_vocab = len(chars)\n",
    "print (\"Total Characters: \", n_chars)\n",
    "print (\"Total Vocab: \", n_vocab)"
   ]
  },
  {
   "cell_type": "code",
   "execution_count": 11,
   "metadata": {},
   "outputs": [
    {
     "name": "stdout",
     "output_type": "stream",
     "text": [
      "Total Patterns:  163681\n"
     ]
    }
   ],
   "source": [
    "# prepare the dataset of input to output pairs encoded as integers\n",
    "seq_length = 100\n",
    "dataX = []\n",
    "dataY = []\n",
    "for i in range(0, n_chars - seq_length, 1):\n",
    "\tseq_in = raw_text[i:i + seq_length]\n",
    "\tseq_out = raw_text[i + seq_length]\n",
    "\tdataX.append([char_to_int[char] for char in seq_in])\n",
    "\tdataY.append(char_to_int[seq_out])\n",
    "n_patterns = len(dataX)\n",
    "print (\"Total Patterns: \", n_patterns)"
   ]
  },
  {
   "cell_type": "code",
   "execution_count": 12,
   "metadata": {},
   "outputs": [],
   "source": [
    "# reshape X to be [samples, time steps, features]\n",
    "X = numpy.reshape(dataX, (n_patterns, seq_length, 1))\n",
    "# normalize\n",
    "X = X / float(n_vocab)\n",
    "# one hot encode the output variable\n",
    "y = np_utils.to_categorical(dataY)"
   ]
  },
  {
   "cell_type": "code",
   "execution_count": 15,
   "metadata": {},
   "outputs": [
    {
     "name": "stdout",
     "output_type": "stream",
     "text": [
      "WARNING:tensorflow:From c:\\python37\\lib\\site-packages\\tensorflow_core\\python\\ops\\resource_variable_ops.py:1630: calling BaseResourceVariable.__init__ (from tensorflow.python.ops.resource_variable_ops) with constraint is deprecated and will be removed in a future version.\n",
      "Instructions for updating:\n",
      "If using Keras pass *_constraint arguments to layers.\n"
     ]
    }
   ],
   "source": [
    "# define the LSTM model\n",
    "model = Sequential()\n",
    "model.add(LSTM(256, input_shape=(X.shape[1], X.shape[2])))\n",
    "model.add(Dropout(0.2))\n",
    "model.add(Dense(y.shape[1], activation='softmax'))\n",
    "model.compile(loss='categorical_crossentropy', optimizer='adam')"
   ]
  },
  {
   "cell_type": "code",
   "execution_count": 16,
   "metadata": {},
   "outputs": [],
   "source": [
    "# define the checkpoint\n",
    "filepath=\"weights-improvement-{epoch:02d}-{loss:.4f}.hdf5\"\n",
    "checkpoint = ModelCheckpoint(filepath, monitor='loss', verbose=1, save_best_only=True, mode='min')\n",
    "callbacks_list = [checkpoint]"
   ]
  },
  {
   "cell_type": "code",
   "execution_count": 17,
   "metadata": {},
   "outputs": [
    {
     "name": "stdout",
     "output_type": "stream",
     "text": [
      "WARNING:tensorflow:From c:\\python37\\lib\\site-packages\\keras\\backend\\tensorflow_backend.py:422: The name tf.global_variables is deprecated. Please use tf.compat.v1.global_variables instead.\n",
      "\n",
      "Epoch 1/20\n",
      "163681/163681 [==============================] - 166s 1ms/step - loss: 2.9681\n",
      "\n",
      "Epoch 00001: loss improved from inf to 2.96809, saving model to weights-improvement-01-2.9681.hdf5\n",
      "Epoch 2/20\n",
      "163681/163681 [==============================] - 163s 996us/step - loss: 2.7919\n",
      "\n",
      "Epoch 00002: loss improved from 2.96809 to 2.79186, saving model to weights-improvement-02-2.7919.hdf5\n",
      "Epoch 3/20\n",
      "163681/163681 [==============================] - 166s 1ms/step - loss: 2.7040\n",
      "\n",
      "Epoch 00003: loss improved from 2.79186 to 2.70396, saving model to weights-improvement-03-2.7040.hdf5\n",
      "Epoch 4/20\n",
      "163681/163681 [==============================] - 169s 1ms/step - loss: 2.6377\n",
      "\n",
      "Epoch 00004: loss improved from 2.70396 to 2.63772, saving model to weights-improvement-04-2.6377.hdf5\n",
      "Epoch 5/20\n",
      "163681/163681 [==============================] - 168s 1ms/step - loss: 2.5827\n",
      "\n",
      "Epoch 00005: loss improved from 2.63772 to 2.58271, saving model to weights-improvement-05-2.5827.hdf5\n",
      "Epoch 6/20\n",
      "163681/163681 [==============================] - 172s 1ms/step - loss: 2.5294\n",
      "\n",
      "Epoch 00006: loss improved from 2.58271 to 2.52944, saving model to weights-improvement-06-2.5294.hdf5\n",
      "Epoch 7/20\n",
      "163681/163681 [==============================] - 169s 1ms/step - loss: 2.4780\n",
      "\n",
      "Epoch 00007: loss improved from 2.52944 to 2.47797, saving model to weights-improvement-07-2.4780.hdf5\n",
      "Epoch 8/20\n",
      "163681/163681 [==============================] - 164s 1ms/step - loss: 2.4322\n",
      "\n",
      "Epoch 00008: loss improved from 2.47797 to 2.43215, saving model to weights-improvement-08-2.4322.hdf5\n",
      "Epoch 9/20\n",
      "163681/163681 [==============================] - 164s 1ms/step - loss: 2.3887\n",
      "\n",
      "Epoch 00009: loss improved from 2.43215 to 2.38870, saving model to weights-improvement-09-2.3887.hdf5\n",
      "Epoch 10/20\n",
      "163681/163681 [==============================] - 167s 1ms/step - loss: 2.3496\n",
      "\n",
      "Epoch 00010: loss improved from 2.38870 to 2.34960, saving model to weights-improvement-10-2.3496.hdf5\n",
      "Epoch 11/20\n",
      "163681/163681 [==============================] - 167s 1ms/step - loss: 2.3123\n",
      "\n",
      "Epoch 00011: loss improved from 2.34960 to 2.31229, saving model to weights-improvement-11-2.3123.hdf5\n",
      "Epoch 12/20\n",
      "163681/163681 [==============================] - 175s 1ms/step - loss: 2.2771\n",
      "\n",
      "Epoch 00012: loss improved from 2.31229 to 2.27709, saving model to weights-improvement-12-2.2771.hdf5\n",
      "Epoch 13/20\n",
      "163681/163681 [==============================] - 173s 1ms/step - loss: 2.2420\n",
      "\n",
      "Epoch 00013: loss improved from 2.27709 to 2.24198, saving model to weights-improvement-13-2.2420.hdf5\n",
      "Epoch 14/20\n",
      "163681/163681 [==============================] - 173s 1ms/step - loss: 2.2093\n",
      "\n",
      "Epoch 00014: loss improved from 2.24198 to 2.20931, saving model to weights-improvement-14-2.2093.hdf5\n",
      "Epoch 15/20\n",
      "163681/163681 [==============================] - 170s 1ms/step - loss: 2.1770\n",
      "\n",
      "Epoch 00015: loss improved from 2.20931 to 2.17702, saving model to weights-improvement-15-2.1770.hdf5\n",
      "Epoch 16/20\n",
      "163681/163681 [==============================] - 172s 1ms/step - loss: 2.1471\n",
      "\n",
      "Epoch 00016: loss improved from 2.17702 to 2.14712, saving model to weights-improvement-16-2.1471.hdf5\n",
      "Epoch 17/20\n",
      "163681/163681 [==============================] - 172s 1ms/step - loss: 2.1189\n",
      "\n",
      "Epoch 00017: loss improved from 2.14712 to 2.11890, saving model to weights-improvement-17-2.1189.hdf5\n",
      "Epoch 18/20\n",
      "163681/163681 [==============================] - 174s 1ms/step - loss: 2.0923\n",
      "\n",
      "Epoch 00018: loss improved from 2.11890 to 2.09227, saving model to weights-improvement-18-2.0923.hdf5\n",
      "Epoch 19/20\n",
      "163681/163681 [==============================] - 172s 1ms/step - loss: 2.0661\n",
      "\n",
      "Epoch 00019: loss improved from 2.09227 to 2.06613, saving model to weights-improvement-19-2.0661.hdf5\n",
      "Epoch 20/20\n",
      "163681/163681 [==============================] - 166s 1ms/step - loss: 2.0408\n",
      "\n",
      "Epoch 00020: loss improved from 2.06613 to 2.04080, saving model to weights-improvement-20-2.0408.hdf5\n"
     ]
    },
    {
     "data": {
      "text/plain": [
       "<keras.callbacks.callbacks.History at 0x2b01c14ce88>"
      ]
     },
     "execution_count": 17,
     "metadata": {},
     "output_type": "execute_result"
    }
   ],
   "source": [
    "#Fitting the model\n",
    "model.fit(X, y, epochs=20, batch_size=128, callbacks=callbacks_list)"
   ]
  },
  {
   "cell_type": "code",
   "execution_count": 18,
   "metadata": {},
   "outputs": [],
   "source": [
    "#Generating Text with the trained model\n",
    "# load the network weights\n",
    "filename = \"weights-improvement-20-2.0408.hdf5\"\n",
    "model.load_weights(filename)\n",
    "model.compile(loss='categorical_crossentropy', optimizer='adam')"
   ]
  },
  {
   "cell_type": "code",
   "execution_count": 19,
   "metadata": {},
   "outputs": [],
   "source": [
    "#reverse mapping from id to chars\n",
    "\n",
    "int_to_char = dict((i, c) for i, c in enumerate(chars))"
   ]
  },
  {
   "cell_type": "code",
   "execution_count": 23,
   "metadata": {},
   "outputs": [
    {
     "name": "stdout",
     "output_type": "stream",
     "text": [
      "Seed:\n",
      "\" laying against herself,\n",
      "for this curious child was very fond of pretending to be two people.\n",
      "'but it \"\n",
      " was the mart wai at in sane th then '\n",
      "\n",
      "'io sas the dare wait ' sreated the gryphon. ''thal toe toie the mortl so tee toie af irre ' sheught alice, 'in sould she would be fene io the soiee of the sam of the sabten '\n",
      "\n",
      "'io sas the dare wait ' sreated the gryphon. ''thal the soee tire to then toe care ti the thing!' saed the gatter. 'io sous of toine oo toe toen a siie oo tay to tee to tee then soue  \n",
      "'no shu d sat the garser ' sheu the poee turtle seit on, \n",
      "'no you don't keke the dars ' shiuget alice. \n",
      "'no  i nene thet ' said the qoeee. \n",
      "'ie course then soe tored ' said the monk turtle, ''ded tou thil to ' she aade to aelee to aerir it the woide \n",
      "\n",
      "'                                                                                                                                                                                                                                                                                                                                                         \n",
      "Done.\n"
     ]
    }
   ],
   "source": [
    "import sys\n",
    "# pick a random seed\n",
    "start = numpy.random.randint(0, len(dataX)-1)\n",
    "pattern = dataX[start]\n",
    "print (\"Seed:\")\n",
    "print (\"\\\"\", ''.join([int_to_char[value] for value in pattern]), \"\\\"\")\n",
    "# generate characters\n",
    "for i in range(1000):\n",
    "\tx = numpy.reshape(pattern, (1, len(pattern), 1))\n",
    "\tx = x / float(n_vocab)\n",
    "\tprediction = model.predict(x, verbose=0)\n",
    "\tindex = numpy.argmax(prediction)\n",
    "\tresult = int_to_char[index]\n",
    "\tseq_in = [int_to_char[value] for value in pattern]\n",
    "\tsys.stdout.write(result)\n",
    "\tpattern.append(index)\n",
    "\tpattern = pattern[1:len(pattern)]\n",
    "print (\"\\nDone.\")"
   ]
  }
 ],
 "metadata": {
  "kernelspec": {
   "display_name": "Python 3",
   "language": "python",
   "name": "python3"
  },
  "language_info": {
   "codemirror_mode": {
    "name": "ipython",
    "version": 3
   },
   "file_extension": ".py",
   "mimetype": "text/x-python",
   "name": "python",
   "nbconvert_exporter": "python",
   "pygments_lexer": "ipython3",
   "version": "3.7.6"
  }
 },
 "nbformat": 4,
 "nbformat_minor": 4
}
