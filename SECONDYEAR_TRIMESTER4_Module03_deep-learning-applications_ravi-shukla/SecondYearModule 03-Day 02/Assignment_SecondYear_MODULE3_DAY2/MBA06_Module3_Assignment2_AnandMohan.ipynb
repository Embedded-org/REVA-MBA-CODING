{
  "nbformat": 4,
  "nbformat_minor": 0,
  "metadata": {
    "colab": {
      "provenance": []
    },
    "kernelspec": {
      "name": "python3",
      "display_name": "Python 3"
    },
    "language_info": {
      "name": "python"
    },
    "gpuClass": "standard",
    "widgets": {
      "application/vnd.jupyter.widget-state+json": {
        "f490c44433394964946661b2efb68072": {
          "model_module": "@jupyter-widgets/controls",
          "model_name": "HBoxModel",
          "model_module_version": "1.5.0",
          "state": {
            "_dom_classes": [],
            "_model_module": "@jupyter-widgets/controls",
            "_model_module_version": "1.5.0",
            "_model_name": "HBoxModel",
            "_view_count": null,
            "_view_module": "@jupyter-widgets/controls",
            "_view_module_version": "1.5.0",
            "_view_name": "HBoxView",
            "box_style": "",
            "children": [
              "IPY_MODEL_0b7f4abfe4ad4f44a97778b041475c60",
              "IPY_MODEL_e08670d7b80247fbb1ac2168a2336817",
              "IPY_MODEL_07b9e94e8e50458d9582224476c93f23"
            ],
            "layout": "IPY_MODEL_9e77af8b07464e689c222018d25926c8"
          }
        },
        "0b7f4abfe4ad4f44a97778b041475c60": {
          "model_module": "@jupyter-widgets/controls",
          "model_name": "HTMLModel",
          "model_module_version": "1.5.0",
          "state": {
            "_dom_classes": [],
            "_model_module": "@jupyter-widgets/controls",
            "_model_module_version": "1.5.0",
            "_model_name": "HTMLModel",
            "_view_count": null,
            "_view_module": "@jupyter-widgets/controls",
            "_view_module_version": "1.5.0",
            "_view_name": "HTMLView",
            "description": "",
            "description_tooltip": null,
            "layout": "IPY_MODEL_4f016b1d4f75469ea930423025b6d608",
            "placeholder": "​",
            "style": "IPY_MODEL_e02b1c34293849498afda1b450f0c6d2",
            "value": "Downloading: 100%"
          }
        },
        "e08670d7b80247fbb1ac2168a2336817": {
          "model_module": "@jupyter-widgets/controls",
          "model_name": "FloatProgressModel",
          "model_module_version": "1.5.0",
          "state": {
            "_dom_classes": [],
            "_model_module": "@jupyter-widgets/controls",
            "_model_module_version": "1.5.0",
            "_model_name": "FloatProgressModel",
            "_view_count": null,
            "_view_module": "@jupyter-widgets/controls",
            "_view_module_version": "1.5.0",
            "_view_name": "ProgressView",
            "bar_style": "success",
            "description": "",
            "description_tooltip": null,
            "layout": "IPY_MODEL_07a6e09204e54680b6889bf65cf452c3",
            "max": 908,
            "min": 0,
            "orientation": "horizontal",
            "style": "IPY_MODEL_8c36a29cc1034d6d8fb4085dbea15a4e",
            "value": 908
          }
        },
        "07b9e94e8e50458d9582224476c93f23": {
          "model_module": "@jupyter-widgets/controls",
          "model_name": "HTMLModel",
          "model_module_version": "1.5.0",
          "state": {
            "_dom_classes": [],
            "_model_module": "@jupyter-widgets/controls",
            "_model_module_version": "1.5.0",
            "_model_name": "HTMLModel",
            "_view_count": null,
            "_view_module": "@jupyter-widgets/controls",
            "_view_module_version": "1.5.0",
            "_view_name": "HTMLView",
            "description": "",
            "description_tooltip": null,
            "layout": "IPY_MODEL_f1a32c51acc34b3783dae154639d4a59",
            "placeholder": "​",
            "style": "IPY_MODEL_443ab87454b24abbb759d129183c6011",
            "value": " 908/908 [00:00&lt;00:00, 25.3kB/s]"
          }
        },
        "9e77af8b07464e689c222018d25926c8": {
          "model_module": "@jupyter-widgets/base",
          "model_name": "LayoutModel",
          "model_module_version": "1.2.0",
          "state": {
            "_model_module": "@jupyter-widgets/base",
            "_model_module_version": "1.2.0",
            "_model_name": "LayoutModel",
            "_view_count": null,
            "_view_module": "@jupyter-widgets/base",
            "_view_module_version": "1.2.0",
            "_view_name": "LayoutView",
            "align_content": null,
            "align_items": null,
            "align_self": null,
            "border": null,
            "bottom": null,
            "display": null,
            "flex": null,
            "flex_flow": null,
            "grid_area": null,
            "grid_auto_columns": null,
            "grid_auto_flow": null,
            "grid_auto_rows": null,
            "grid_column": null,
            "grid_gap": null,
            "grid_row": null,
            "grid_template_areas": null,
            "grid_template_columns": null,
            "grid_template_rows": null,
            "height": null,
            "justify_content": null,
            "justify_items": null,
            "left": null,
            "margin": null,
            "max_height": null,
            "max_width": null,
            "min_height": null,
            "min_width": null,
            "object_fit": null,
            "object_position": null,
            "order": null,
            "overflow": null,
            "overflow_x": null,
            "overflow_y": null,
            "padding": null,
            "right": null,
            "top": null,
            "visibility": null,
            "width": null
          }
        },
        "4f016b1d4f75469ea930423025b6d608": {
          "model_module": "@jupyter-widgets/base",
          "model_name": "LayoutModel",
          "model_module_version": "1.2.0",
          "state": {
            "_model_module": "@jupyter-widgets/base",
            "_model_module_version": "1.2.0",
            "_model_name": "LayoutModel",
            "_view_count": null,
            "_view_module": "@jupyter-widgets/base",
            "_view_module_version": "1.2.0",
            "_view_name": "LayoutView",
            "align_content": null,
            "align_items": null,
            "align_self": null,
            "border": null,
            "bottom": null,
            "display": null,
            "flex": null,
            "flex_flow": null,
            "grid_area": null,
            "grid_auto_columns": null,
            "grid_auto_flow": null,
            "grid_auto_rows": null,
            "grid_column": null,
            "grid_gap": null,
            "grid_row": null,
            "grid_template_areas": null,
            "grid_template_columns": null,
            "grid_template_rows": null,
            "height": null,
            "justify_content": null,
            "justify_items": null,
            "left": null,
            "margin": null,
            "max_height": null,
            "max_width": null,
            "min_height": null,
            "min_width": null,
            "object_fit": null,
            "object_position": null,
            "order": null,
            "overflow": null,
            "overflow_x": null,
            "overflow_y": null,
            "padding": null,
            "right": null,
            "top": null,
            "visibility": null,
            "width": null
          }
        },
        "e02b1c34293849498afda1b450f0c6d2": {
          "model_module": "@jupyter-widgets/controls",
          "model_name": "DescriptionStyleModel",
          "model_module_version": "1.5.0",
          "state": {
            "_model_module": "@jupyter-widgets/controls",
            "_model_module_version": "1.5.0",
            "_model_name": "DescriptionStyleModel",
            "_view_count": null,
            "_view_module": "@jupyter-widgets/base",
            "_view_module_version": "1.2.0",
            "_view_name": "StyleView",
            "description_width": ""
          }
        },
        "07a6e09204e54680b6889bf65cf452c3": {
          "model_module": "@jupyter-widgets/base",
          "model_name": "LayoutModel",
          "model_module_version": "1.2.0",
          "state": {
            "_model_module": "@jupyter-widgets/base",
            "_model_module_version": "1.2.0",
            "_model_name": "LayoutModel",
            "_view_count": null,
            "_view_module": "@jupyter-widgets/base",
            "_view_module_version": "1.2.0",
            "_view_name": "LayoutView",
            "align_content": null,
            "align_items": null,
            "align_self": null,
            "border": null,
            "bottom": null,
            "display": null,
            "flex": null,
            "flex_flow": null,
            "grid_area": null,
            "grid_auto_columns": null,
            "grid_auto_flow": null,
            "grid_auto_rows": null,
            "grid_column": null,
            "grid_gap": null,
            "grid_row": null,
            "grid_template_areas": null,
            "grid_template_columns": null,
            "grid_template_rows": null,
            "height": null,
            "justify_content": null,
            "justify_items": null,
            "left": null,
            "margin": null,
            "max_height": null,
            "max_width": null,
            "min_height": null,
            "min_width": null,
            "object_fit": null,
            "object_position": null,
            "order": null,
            "overflow": null,
            "overflow_x": null,
            "overflow_y": null,
            "padding": null,
            "right": null,
            "top": null,
            "visibility": null,
            "width": null
          }
        },
        "8c36a29cc1034d6d8fb4085dbea15a4e": {
          "model_module": "@jupyter-widgets/controls",
          "model_name": "ProgressStyleModel",
          "model_module_version": "1.5.0",
          "state": {
            "_model_module": "@jupyter-widgets/controls",
            "_model_module_version": "1.5.0",
            "_model_name": "ProgressStyleModel",
            "_view_count": null,
            "_view_module": "@jupyter-widgets/base",
            "_view_module_version": "1.2.0",
            "_view_name": "StyleView",
            "bar_color": null,
            "description_width": ""
          }
        },
        "f1a32c51acc34b3783dae154639d4a59": {
          "model_module": "@jupyter-widgets/base",
          "model_name": "LayoutModel",
          "model_module_version": "1.2.0",
          "state": {
            "_model_module": "@jupyter-widgets/base",
            "_model_module_version": "1.2.0",
            "_model_name": "LayoutModel",
            "_view_count": null,
            "_view_module": "@jupyter-widgets/base",
            "_view_module_version": "1.2.0",
            "_view_name": "LayoutView",
            "align_content": null,
            "align_items": null,
            "align_self": null,
            "border": null,
            "bottom": null,
            "display": null,
            "flex": null,
            "flex_flow": null,
            "grid_area": null,
            "grid_auto_columns": null,
            "grid_auto_flow": null,
            "grid_auto_rows": null,
            "grid_column": null,
            "grid_gap": null,
            "grid_row": null,
            "grid_template_areas": null,
            "grid_template_columns": null,
            "grid_template_rows": null,
            "height": null,
            "justify_content": null,
            "justify_items": null,
            "left": null,
            "margin": null,
            "max_height": null,
            "max_width": null,
            "min_height": null,
            "min_width": null,
            "object_fit": null,
            "object_position": null,
            "order": null,
            "overflow": null,
            "overflow_x": null,
            "overflow_y": null,
            "padding": null,
            "right": null,
            "top": null,
            "visibility": null,
            "width": null
          }
        },
        "443ab87454b24abbb759d129183c6011": {
          "model_module": "@jupyter-widgets/controls",
          "model_name": "DescriptionStyleModel",
          "model_module_version": "1.5.0",
          "state": {
            "_model_module": "@jupyter-widgets/controls",
            "_model_module_version": "1.5.0",
            "_model_name": "DescriptionStyleModel",
            "_view_count": null,
            "_view_module": "@jupyter-widgets/base",
            "_view_module_version": "1.2.0",
            "_view_name": "StyleView",
            "description_width": ""
          }
        },
        "ea3e3f6ad5a143f0adb3db395f992a71": {
          "model_module": "@jupyter-widgets/controls",
          "model_name": "HBoxModel",
          "model_module_version": "1.5.0",
          "state": {
            "_dom_classes": [],
            "_model_module": "@jupyter-widgets/controls",
            "_model_module_version": "1.5.0",
            "_model_name": "HBoxModel",
            "_view_count": null,
            "_view_module": "@jupyter-widgets/controls",
            "_view_module_version": "1.5.0",
            "_view_name": "HBoxView",
            "box_style": "",
            "children": [
              "IPY_MODEL_94d147925698487da1d73d51b8313813",
              "IPY_MODEL_b07dacc31f2749a98d82a834860cd3db",
              "IPY_MODEL_cdd64f0464f54d9c9e093518503a3980"
            ],
            "layout": "IPY_MODEL_7ce9b4ba0bb74dfe888d3befa80d40ac"
          }
        },
        "94d147925698487da1d73d51b8313813": {
          "model_module": "@jupyter-widgets/controls",
          "model_name": "HTMLModel",
          "model_module_version": "1.5.0",
          "state": {
            "_dom_classes": [],
            "_model_module": "@jupyter-widgets/controls",
            "_model_module_version": "1.5.0",
            "_model_name": "HTMLModel",
            "_view_count": null,
            "_view_module": "@jupyter-widgets/controls",
            "_view_module_version": "1.5.0",
            "_view_name": "HTMLView",
            "description": "",
            "description_tooltip": null,
            "layout": "IPY_MODEL_c76bf0c491034e02b175568c477a4ffa",
            "placeholder": "​",
            "style": "IPY_MODEL_376f2dd817494f6092cb73d611fb76d5",
            "value": "Downloading: 100%"
          }
        },
        "b07dacc31f2749a98d82a834860cd3db": {
          "model_module": "@jupyter-widgets/controls",
          "model_name": "FloatProgressModel",
          "model_module_version": "1.5.0",
          "state": {
            "_dom_classes": [],
            "_model_module": "@jupyter-widgets/controls",
            "_model_module_version": "1.5.0",
            "_model_name": "FloatProgressModel",
            "_view_count": null,
            "_view_module": "@jupyter-widgets/controls",
            "_view_module_version": "1.5.0",
            "_view_name": "ProgressView",
            "bar_style": "success",
            "description": "",
            "description_tooltip": null,
            "layout": "IPY_MODEL_ee1567bc2b51424ab826bb88b2e6913c",
            "max": 898823,
            "min": 0,
            "orientation": "horizontal",
            "style": "IPY_MODEL_b0b9287f5fbc46558d4f6b9c8350bc70",
            "value": 898823
          }
        },
        "cdd64f0464f54d9c9e093518503a3980": {
          "model_module": "@jupyter-widgets/controls",
          "model_name": "HTMLModel",
          "model_module_version": "1.5.0",
          "state": {
            "_dom_classes": [],
            "_model_module": "@jupyter-widgets/controls",
            "_model_module_version": "1.5.0",
            "_model_name": "HTMLModel",
            "_view_count": null,
            "_view_module": "@jupyter-widgets/controls",
            "_view_module_version": "1.5.0",
            "_view_name": "HTMLView",
            "description": "",
            "description_tooltip": null,
            "layout": "IPY_MODEL_cb4bdacfcbe340adaeb85839ac34b8b0",
            "placeholder": "​",
            "style": "IPY_MODEL_b95998ab1d00417ca0fede39ec9b28ad",
            "value": " 899k/899k [00:00&lt;00:00, 1.18MB/s]"
          }
        },
        "7ce9b4ba0bb74dfe888d3befa80d40ac": {
          "model_module": "@jupyter-widgets/base",
          "model_name": "LayoutModel",
          "model_module_version": "1.2.0",
          "state": {
            "_model_module": "@jupyter-widgets/base",
            "_model_module_version": "1.2.0",
            "_model_name": "LayoutModel",
            "_view_count": null,
            "_view_module": "@jupyter-widgets/base",
            "_view_module_version": "1.2.0",
            "_view_name": "LayoutView",
            "align_content": null,
            "align_items": null,
            "align_self": null,
            "border": null,
            "bottom": null,
            "display": null,
            "flex": null,
            "flex_flow": null,
            "grid_area": null,
            "grid_auto_columns": null,
            "grid_auto_flow": null,
            "grid_auto_rows": null,
            "grid_column": null,
            "grid_gap": null,
            "grid_row": null,
            "grid_template_areas": null,
            "grid_template_columns": null,
            "grid_template_rows": null,
            "height": null,
            "justify_content": null,
            "justify_items": null,
            "left": null,
            "margin": null,
            "max_height": null,
            "max_width": null,
            "min_height": null,
            "min_width": null,
            "object_fit": null,
            "object_position": null,
            "order": null,
            "overflow": null,
            "overflow_x": null,
            "overflow_y": null,
            "padding": null,
            "right": null,
            "top": null,
            "visibility": null,
            "width": null
          }
        },
        "c76bf0c491034e02b175568c477a4ffa": {
          "model_module": "@jupyter-widgets/base",
          "model_name": "LayoutModel",
          "model_module_version": "1.2.0",
          "state": {
            "_model_module": "@jupyter-widgets/base",
            "_model_module_version": "1.2.0",
            "_model_name": "LayoutModel",
            "_view_count": null,
            "_view_module": "@jupyter-widgets/base",
            "_view_module_version": "1.2.0",
            "_view_name": "LayoutView",
            "align_content": null,
            "align_items": null,
            "align_self": null,
            "border": null,
            "bottom": null,
            "display": null,
            "flex": null,
            "flex_flow": null,
            "grid_area": null,
            "grid_auto_columns": null,
            "grid_auto_flow": null,
            "grid_auto_rows": null,
            "grid_column": null,
            "grid_gap": null,
            "grid_row": null,
            "grid_template_areas": null,
            "grid_template_columns": null,
            "grid_template_rows": null,
            "height": null,
            "justify_content": null,
            "justify_items": null,
            "left": null,
            "margin": null,
            "max_height": null,
            "max_width": null,
            "min_height": null,
            "min_width": null,
            "object_fit": null,
            "object_position": null,
            "order": null,
            "overflow": null,
            "overflow_x": null,
            "overflow_y": null,
            "padding": null,
            "right": null,
            "top": null,
            "visibility": null,
            "width": null
          }
        },
        "376f2dd817494f6092cb73d611fb76d5": {
          "model_module": "@jupyter-widgets/controls",
          "model_name": "DescriptionStyleModel",
          "model_module_version": "1.5.0",
          "state": {
            "_model_module": "@jupyter-widgets/controls",
            "_model_module_version": "1.5.0",
            "_model_name": "DescriptionStyleModel",
            "_view_count": null,
            "_view_module": "@jupyter-widgets/base",
            "_view_module_version": "1.2.0",
            "_view_name": "StyleView",
            "description_width": ""
          }
        },
        "ee1567bc2b51424ab826bb88b2e6913c": {
          "model_module": "@jupyter-widgets/base",
          "model_name": "LayoutModel",
          "model_module_version": "1.2.0",
          "state": {
            "_model_module": "@jupyter-widgets/base",
            "_model_module_version": "1.2.0",
            "_model_name": "LayoutModel",
            "_view_count": null,
            "_view_module": "@jupyter-widgets/base",
            "_view_module_version": "1.2.0",
            "_view_name": "LayoutView",
            "align_content": null,
            "align_items": null,
            "align_self": null,
            "border": null,
            "bottom": null,
            "display": null,
            "flex": null,
            "flex_flow": null,
            "grid_area": null,
            "grid_auto_columns": null,
            "grid_auto_flow": null,
            "grid_auto_rows": null,
            "grid_column": null,
            "grid_gap": null,
            "grid_row": null,
            "grid_template_areas": null,
            "grid_template_columns": null,
            "grid_template_rows": null,
            "height": null,
            "justify_content": null,
            "justify_items": null,
            "left": null,
            "margin": null,
            "max_height": null,
            "max_width": null,
            "min_height": null,
            "min_width": null,
            "object_fit": null,
            "object_position": null,
            "order": null,
            "overflow": null,
            "overflow_x": null,
            "overflow_y": null,
            "padding": null,
            "right": null,
            "top": null,
            "visibility": null,
            "width": null
          }
        },
        "b0b9287f5fbc46558d4f6b9c8350bc70": {
          "model_module": "@jupyter-widgets/controls",
          "model_name": "ProgressStyleModel",
          "model_module_version": "1.5.0",
          "state": {
            "_model_module": "@jupyter-widgets/controls",
            "_model_module_version": "1.5.0",
            "_model_name": "ProgressStyleModel",
            "_view_count": null,
            "_view_module": "@jupyter-widgets/base",
            "_view_module_version": "1.2.0",
            "_view_name": "StyleView",
            "bar_color": null,
            "description_width": ""
          }
        },
        "cb4bdacfcbe340adaeb85839ac34b8b0": {
          "model_module": "@jupyter-widgets/base",
          "model_name": "LayoutModel",
          "model_module_version": "1.2.0",
          "state": {
            "_model_module": "@jupyter-widgets/base",
            "_model_module_version": "1.2.0",
            "_model_name": "LayoutModel",
            "_view_count": null,
            "_view_module": "@jupyter-widgets/base",
            "_view_module_version": "1.2.0",
            "_view_name": "LayoutView",
            "align_content": null,
            "align_items": null,
            "align_self": null,
            "border": null,
            "bottom": null,
            "display": null,
            "flex": null,
            "flex_flow": null,
            "grid_area": null,
            "grid_auto_columns": null,
            "grid_auto_flow": null,
            "grid_auto_rows": null,
            "grid_column": null,
            "grid_gap": null,
            "grid_row": null,
            "grid_template_areas": null,
            "grid_template_columns": null,
            "grid_template_rows": null,
            "height": null,
            "justify_content": null,
            "justify_items": null,
            "left": null,
            "margin": null,
            "max_height": null,
            "max_width": null,
            "min_height": null,
            "min_width": null,
            "object_fit": null,
            "object_position": null,
            "order": null,
            "overflow": null,
            "overflow_x": null,
            "overflow_y": null,
            "padding": null,
            "right": null,
            "top": null,
            "visibility": null,
            "width": null
          }
        },
        "b95998ab1d00417ca0fede39ec9b28ad": {
          "model_module": "@jupyter-widgets/controls",
          "model_name": "DescriptionStyleModel",
          "model_module_version": "1.5.0",
          "state": {
            "_model_module": "@jupyter-widgets/controls",
            "_model_module_version": "1.5.0",
            "_model_name": "DescriptionStyleModel",
            "_view_count": null,
            "_view_module": "@jupyter-widgets/base",
            "_view_module_version": "1.2.0",
            "_view_name": "StyleView",
            "description_width": ""
          }
        },
        "0c9b50764725453596d6dd7f443e8b22": {
          "model_module": "@jupyter-widgets/controls",
          "model_name": "HBoxModel",
          "model_module_version": "1.5.0",
          "state": {
            "_dom_classes": [],
            "_model_module": "@jupyter-widgets/controls",
            "_model_module_version": "1.5.0",
            "_model_name": "HBoxModel",
            "_view_count": null,
            "_view_module": "@jupyter-widgets/controls",
            "_view_module_version": "1.5.0",
            "_view_name": "HBoxView",
            "box_style": "",
            "children": [
              "IPY_MODEL_e799bf0aafd644c5a678aa01a5a800f1",
              "IPY_MODEL_4943ab6c080249c19abed4b57529b0a4",
              "IPY_MODEL_964e3f4fbfaa40ab97c01ea000df14bd"
            ],
            "layout": "IPY_MODEL_17845f1d2f504eee81599582e779167e"
          }
        },
        "e799bf0aafd644c5a678aa01a5a800f1": {
          "model_module": "@jupyter-widgets/controls",
          "model_name": "HTMLModel",
          "model_module_version": "1.5.0",
          "state": {
            "_dom_classes": [],
            "_model_module": "@jupyter-widgets/controls",
            "_model_module_version": "1.5.0",
            "_model_name": "HTMLModel",
            "_view_count": null,
            "_view_module": "@jupyter-widgets/controls",
            "_view_module_version": "1.5.0",
            "_view_name": "HTMLView",
            "description": "",
            "description_tooltip": null,
            "layout": "IPY_MODEL_d469fd486d074ef7a79c887704d9f3d7",
            "placeholder": "​",
            "style": "IPY_MODEL_b34f16ab64ee49f196f0dfdf05df4649",
            "value": "Downloading: 100%"
          }
        },
        "4943ab6c080249c19abed4b57529b0a4": {
          "model_module": "@jupyter-widgets/controls",
          "model_name": "FloatProgressModel",
          "model_module_version": "1.5.0",
          "state": {
            "_dom_classes": [],
            "_model_module": "@jupyter-widgets/controls",
            "_model_module_version": "1.5.0",
            "_model_name": "FloatProgressModel",
            "_view_count": null,
            "_view_module": "@jupyter-widgets/controls",
            "_view_module_version": "1.5.0",
            "_view_name": "ProgressView",
            "bar_style": "success",
            "description": "",
            "description_tooltip": null,
            "layout": "IPY_MODEL_5da5b97d5c5d46dabef6d0ff8da9e764",
            "max": 456318,
            "min": 0,
            "orientation": "horizontal",
            "style": "IPY_MODEL_0f2b4834b14a4a36a408d296b4c91b81",
            "value": 456318
          }
        },
        "964e3f4fbfaa40ab97c01ea000df14bd": {
          "model_module": "@jupyter-widgets/controls",
          "model_name": "HTMLModel",
          "model_module_version": "1.5.0",
          "state": {
            "_dom_classes": [],
            "_model_module": "@jupyter-widgets/controls",
            "_model_module_version": "1.5.0",
            "_model_name": "HTMLModel",
            "_view_count": null,
            "_view_module": "@jupyter-widgets/controls",
            "_view_module_version": "1.5.0",
            "_view_name": "HTMLView",
            "description": "",
            "description_tooltip": null,
            "layout": "IPY_MODEL_2abe54af880d4d15bf382223f32795c9",
            "placeholder": "​",
            "style": "IPY_MODEL_b9c0a4d61eac4868a65efbd10d8e9689",
            "value": " 456k/456k [00:00&lt;00:00, 1.17MB/s]"
          }
        },
        "17845f1d2f504eee81599582e779167e": {
          "model_module": "@jupyter-widgets/base",
          "model_name": "LayoutModel",
          "model_module_version": "1.2.0",
          "state": {
            "_model_module": "@jupyter-widgets/base",
            "_model_module_version": "1.2.0",
            "_model_name": "LayoutModel",
            "_view_count": null,
            "_view_module": "@jupyter-widgets/base",
            "_view_module_version": "1.2.0",
            "_view_name": "LayoutView",
            "align_content": null,
            "align_items": null,
            "align_self": null,
            "border": null,
            "bottom": null,
            "display": null,
            "flex": null,
            "flex_flow": null,
            "grid_area": null,
            "grid_auto_columns": null,
            "grid_auto_flow": null,
            "grid_auto_rows": null,
            "grid_column": null,
            "grid_gap": null,
            "grid_row": null,
            "grid_template_areas": null,
            "grid_template_columns": null,
            "grid_template_rows": null,
            "height": null,
            "justify_content": null,
            "justify_items": null,
            "left": null,
            "margin": null,
            "max_height": null,
            "max_width": null,
            "min_height": null,
            "min_width": null,
            "object_fit": null,
            "object_position": null,
            "order": null,
            "overflow": null,
            "overflow_x": null,
            "overflow_y": null,
            "padding": null,
            "right": null,
            "top": null,
            "visibility": null,
            "width": null
          }
        },
        "d469fd486d074ef7a79c887704d9f3d7": {
          "model_module": "@jupyter-widgets/base",
          "model_name": "LayoutModel",
          "model_module_version": "1.2.0",
          "state": {
            "_model_module": "@jupyter-widgets/base",
            "_model_module_version": "1.2.0",
            "_model_name": "LayoutModel",
            "_view_count": null,
            "_view_module": "@jupyter-widgets/base",
            "_view_module_version": "1.2.0",
            "_view_name": "LayoutView",
            "align_content": null,
            "align_items": null,
            "align_self": null,
            "border": null,
            "bottom": null,
            "display": null,
            "flex": null,
            "flex_flow": null,
            "grid_area": null,
            "grid_auto_columns": null,
            "grid_auto_flow": null,
            "grid_auto_rows": null,
            "grid_column": null,
            "grid_gap": null,
            "grid_row": null,
            "grid_template_areas": null,
            "grid_template_columns": null,
            "grid_template_rows": null,
            "height": null,
            "justify_content": null,
            "justify_items": null,
            "left": null,
            "margin": null,
            "max_height": null,
            "max_width": null,
            "min_height": null,
            "min_width": null,
            "object_fit": null,
            "object_position": null,
            "order": null,
            "overflow": null,
            "overflow_x": null,
            "overflow_y": null,
            "padding": null,
            "right": null,
            "top": null,
            "visibility": null,
            "width": null
          }
        },
        "b34f16ab64ee49f196f0dfdf05df4649": {
          "model_module": "@jupyter-widgets/controls",
          "model_name": "DescriptionStyleModel",
          "model_module_version": "1.5.0",
          "state": {
            "_model_module": "@jupyter-widgets/controls",
            "_model_module_version": "1.5.0",
            "_model_name": "DescriptionStyleModel",
            "_view_count": null,
            "_view_module": "@jupyter-widgets/base",
            "_view_module_version": "1.2.0",
            "_view_name": "StyleView",
            "description_width": ""
          }
        },
        "5da5b97d5c5d46dabef6d0ff8da9e764": {
          "model_module": "@jupyter-widgets/base",
          "model_name": "LayoutModel",
          "model_module_version": "1.2.0",
          "state": {
            "_model_module": "@jupyter-widgets/base",
            "_model_module_version": "1.2.0",
            "_model_name": "LayoutModel",
            "_view_count": null,
            "_view_module": "@jupyter-widgets/base",
            "_view_module_version": "1.2.0",
            "_view_name": "LayoutView",
            "align_content": null,
            "align_items": null,
            "align_self": null,
            "border": null,
            "bottom": null,
            "display": null,
            "flex": null,
            "flex_flow": null,
            "grid_area": null,
            "grid_auto_columns": null,
            "grid_auto_flow": null,
            "grid_auto_rows": null,
            "grid_column": null,
            "grid_gap": null,
            "grid_row": null,
            "grid_template_areas": null,
            "grid_template_columns": null,
            "grid_template_rows": null,
            "height": null,
            "justify_content": null,
            "justify_items": null,
            "left": null,
            "margin": null,
            "max_height": null,
            "max_width": null,
            "min_height": null,
            "min_width": null,
            "object_fit": null,
            "object_position": null,
            "order": null,
            "overflow": null,
            "overflow_x": null,
            "overflow_y": null,
            "padding": null,
            "right": null,
            "top": null,
            "visibility": null,
            "width": null
          }
        },
        "0f2b4834b14a4a36a408d296b4c91b81": {
          "model_module": "@jupyter-widgets/controls",
          "model_name": "ProgressStyleModel",
          "model_module_version": "1.5.0",
          "state": {
            "_model_module": "@jupyter-widgets/controls",
            "_model_module_version": "1.5.0",
            "_model_name": "ProgressStyleModel",
            "_view_count": null,
            "_view_module": "@jupyter-widgets/base",
            "_view_module_version": "1.2.0",
            "_view_name": "StyleView",
            "bar_color": null,
            "description_width": ""
          }
        },
        "2abe54af880d4d15bf382223f32795c9": {
          "model_module": "@jupyter-widgets/base",
          "model_name": "LayoutModel",
          "model_module_version": "1.2.0",
          "state": {
            "_model_module": "@jupyter-widgets/base",
            "_model_module_version": "1.2.0",
            "_model_name": "LayoutModel",
            "_view_count": null,
            "_view_module": "@jupyter-widgets/base",
            "_view_module_version": "1.2.0",
            "_view_name": "LayoutView",
            "align_content": null,
            "align_items": null,
            "align_self": null,
            "border": null,
            "bottom": null,
            "display": null,
            "flex": null,
            "flex_flow": null,
            "grid_area": null,
            "grid_auto_columns": null,
            "grid_auto_flow": null,
            "grid_auto_rows": null,
            "grid_column": null,
            "grid_gap": null,
            "grid_row": null,
            "grid_template_areas": null,
            "grid_template_columns": null,
            "grid_template_rows": null,
            "height": null,
            "justify_content": null,
            "justify_items": null,
            "left": null,
            "margin": null,
            "max_height": null,
            "max_width": null,
            "min_height": null,
            "min_width": null,
            "object_fit": null,
            "object_position": null,
            "order": null,
            "overflow": null,
            "overflow_x": null,
            "overflow_y": null,
            "padding": null,
            "right": null,
            "top": null,
            "visibility": null,
            "width": null
          }
        },
        "b9c0a4d61eac4868a65efbd10d8e9689": {
          "model_module": "@jupyter-widgets/controls",
          "model_name": "DescriptionStyleModel",
          "model_module_version": "1.5.0",
          "state": {
            "_model_module": "@jupyter-widgets/controls",
            "_model_module_version": "1.5.0",
            "_model_name": "DescriptionStyleModel",
            "_view_count": null,
            "_view_module": "@jupyter-widgets/base",
            "_view_module_version": "1.2.0",
            "_view_name": "StyleView",
            "description_width": ""
          }
        },
        "c1171549d5ee4372baf41e8958d70298": {
          "model_module": "@jupyter-widgets/controls",
          "model_name": "HBoxModel",
          "model_module_version": "1.5.0",
          "state": {
            "_dom_classes": [],
            "_model_module": "@jupyter-widgets/controls",
            "_model_module_version": "1.5.0",
            "_model_name": "HBoxModel",
            "_view_count": null,
            "_view_module": "@jupyter-widgets/controls",
            "_view_module_version": "1.5.0",
            "_view_name": "HBoxView",
            "box_style": "",
            "children": [
              "IPY_MODEL_2a286564a2d74154b5d85b3613eca0f3",
              "IPY_MODEL_ad95b8ce56d54b288daf7d88567c2ce3",
              "IPY_MODEL_968d74e23d4d416b8aa53cf93c98ab69"
            ],
            "layout": "IPY_MODEL_28ebb7c2db1b4d4686317130a8c99118"
          }
        },
        "2a286564a2d74154b5d85b3613eca0f3": {
          "model_module": "@jupyter-widgets/controls",
          "model_name": "HTMLModel",
          "model_module_version": "1.5.0",
          "state": {
            "_dom_classes": [],
            "_model_module": "@jupyter-widgets/controls",
            "_model_module_version": "1.5.0",
            "_model_name": "HTMLModel",
            "_view_count": null,
            "_view_module": "@jupyter-widgets/controls",
            "_view_module_version": "1.5.0",
            "_view_name": "HTMLView",
            "description": "",
            "description_tooltip": null,
            "layout": "IPY_MODEL_75823eab1970433489f053927f0178a5",
            "placeholder": "​",
            "style": "IPY_MODEL_ea11c85ff0c9444eac05632afebab99a",
            "value": "Downloading: 100%"
          }
        },
        "ad95b8ce56d54b288daf7d88567c2ce3": {
          "model_module": "@jupyter-widgets/controls",
          "model_name": "FloatProgressModel",
          "model_module_version": "1.5.0",
          "state": {
            "_dom_classes": [],
            "_model_module": "@jupyter-widgets/controls",
            "_model_module_version": "1.5.0",
            "_model_name": "FloatProgressModel",
            "_view_count": null,
            "_view_module": "@jupyter-widgets/controls",
            "_view_module_version": "1.5.0",
            "_view_name": "ProgressView",
            "bar_style": "success",
            "description": "",
            "description_tooltip": null,
            "layout": "IPY_MODEL_ff61ecb46b1c4cf98e36b249e2c37b25",
            "max": 1629486723,
            "min": 0,
            "orientation": "horizontal",
            "style": "IPY_MODEL_a4e58501f1e543f6947a67a0e1145a59",
            "value": 1629486723
          }
        },
        "968d74e23d4d416b8aa53cf93c98ab69": {
          "model_module": "@jupyter-widgets/controls",
          "model_name": "HTMLModel",
          "model_module_version": "1.5.0",
          "state": {
            "_dom_classes": [],
            "_model_module": "@jupyter-widgets/controls",
            "_model_module_version": "1.5.0",
            "_model_name": "HTMLModel",
            "_view_count": null,
            "_view_module": "@jupyter-widgets/controls",
            "_view_module_version": "1.5.0",
            "_view_name": "HTMLView",
            "description": "",
            "description_tooltip": null,
            "layout": "IPY_MODEL_b49633430f8f4963a33c5a6eea4caa12",
            "placeholder": "​",
            "style": "IPY_MODEL_a4c2ea9a3bbe4028b04fa03b6347c9bc",
            "value": " 1.63G/1.63G [00:34&lt;00:00, 52.9MB/s]"
          }
        },
        "28ebb7c2db1b4d4686317130a8c99118": {
          "model_module": "@jupyter-widgets/base",
          "model_name": "LayoutModel",
          "model_module_version": "1.2.0",
          "state": {
            "_model_module": "@jupyter-widgets/base",
            "_model_module_version": "1.2.0",
            "_model_name": "LayoutModel",
            "_view_count": null,
            "_view_module": "@jupyter-widgets/base",
            "_view_module_version": "1.2.0",
            "_view_name": "LayoutView",
            "align_content": null,
            "align_items": null,
            "align_self": null,
            "border": null,
            "bottom": null,
            "display": null,
            "flex": null,
            "flex_flow": null,
            "grid_area": null,
            "grid_auto_columns": null,
            "grid_auto_flow": null,
            "grid_auto_rows": null,
            "grid_column": null,
            "grid_gap": null,
            "grid_row": null,
            "grid_template_areas": null,
            "grid_template_columns": null,
            "grid_template_rows": null,
            "height": null,
            "justify_content": null,
            "justify_items": null,
            "left": null,
            "margin": null,
            "max_height": null,
            "max_width": null,
            "min_height": null,
            "min_width": null,
            "object_fit": null,
            "object_position": null,
            "order": null,
            "overflow": null,
            "overflow_x": null,
            "overflow_y": null,
            "padding": null,
            "right": null,
            "top": null,
            "visibility": null,
            "width": null
          }
        },
        "75823eab1970433489f053927f0178a5": {
          "model_module": "@jupyter-widgets/base",
          "model_name": "LayoutModel",
          "model_module_version": "1.2.0",
          "state": {
            "_model_module": "@jupyter-widgets/base",
            "_model_module_version": "1.2.0",
            "_model_name": "LayoutModel",
            "_view_count": null,
            "_view_module": "@jupyter-widgets/base",
            "_view_module_version": "1.2.0",
            "_view_name": "LayoutView",
            "align_content": null,
            "align_items": null,
            "align_self": null,
            "border": null,
            "bottom": null,
            "display": null,
            "flex": null,
            "flex_flow": null,
            "grid_area": null,
            "grid_auto_columns": null,
            "grid_auto_flow": null,
            "grid_auto_rows": null,
            "grid_column": null,
            "grid_gap": null,
            "grid_row": null,
            "grid_template_areas": null,
            "grid_template_columns": null,
            "grid_template_rows": null,
            "height": null,
            "justify_content": null,
            "justify_items": null,
            "left": null,
            "margin": null,
            "max_height": null,
            "max_width": null,
            "min_height": null,
            "min_width": null,
            "object_fit": null,
            "object_position": null,
            "order": null,
            "overflow": null,
            "overflow_x": null,
            "overflow_y": null,
            "padding": null,
            "right": null,
            "top": null,
            "visibility": null,
            "width": null
          }
        },
        "ea11c85ff0c9444eac05632afebab99a": {
          "model_module": "@jupyter-widgets/controls",
          "model_name": "DescriptionStyleModel",
          "model_module_version": "1.5.0",
          "state": {
            "_model_module": "@jupyter-widgets/controls",
            "_model_module_version": "1.5.0",
            "_model_name": "DescriptionStyleModel",
            "_view_count": null,
            "_view_module": "@jupyter-widgets/base",
            "_view_module_version": "1.2.0",
            "_view_name": "StyleView",
            "description_width": ""
          }
        },
        "ff61ecb46b1c4cf98e36b249e2c37b25": {
          "model_module": "@jupyter-widgets/base",
          "model_name": "LayoutModel",
          "model_module_version": "1.2.0",
          "state": {
            "_model_module": "@jupyter-widgets/base",
            "_model_module_version": "1.2.0",
            "_model_name": "LayoutModel",
            "_view_count": null,
            "_view_module": "@jupyter-widgets/base",
            "_view_module_version": "1.2.0",
            "_view_name": "LayoutView",
            "align_content": null,
            "align_items": null,
            "align_self": null,
            "border": null,
            "bottom": null,
            "display": null,
            "flex": null,
            "flex_flow": null,
            "grid_area": null,
            "grid_auto_columns": null,
            "grid_auto_flow": null,
            "grid_auto_rows": null,
            "grid_column": null,
            "grid_gap": null,
            "grid_row": null,
            "grid_template_areas": null,
            "grid_template_columns": null,
            "grid_template_rows": null,
            "height": null,
            "justify_content": null,
            "justify_items": null,
            "left": null,
            "margin": null,
            "max_height": null,
            "max_width": null,
            "min_height": null,
            "min_width": null,
            "object_fit": null,
            "object_position": null,
            "order": null,
            "overflow": null,
            "overflow_x": null,
            "overflow_y": null,
            "padding": null,
            "right": null,
            "top": null,
            "visibility": null,
            "width": null
          }
        },
        "a4e58501f1e543f6947a67a0e1145a59": {
          "model_module": "@jupyter-widgets/controls",
          "model_name": "ProgressStyleModel",
          "model_module_version": "1.5.0",
          "state": {
            "_model_module": "@jupyter-widgets/controls",
            "_model_module_version": "1.5.0",
            "_model_name": "ProgressStyleModel",
            "_view_count": null,
            "_view_module": "@jupyter-widgets/base",
            "_view_module_version": "1.2.0",
            "_view_name": "StyleView",
            "bar_color": null,
            "description_width": ""
          }
        },
        "b49633430f8f4963a33c5a6eea4caa12": {
          "model_module": "@jupyter-widgets/base",
          "model_name": "LayoutModel",
          "model_module_version": "1.2.0",
          "state": {
            "_model_module": "@jupyter-widgets/base",
            "_model_module_version": "1.2.0",
            "_model_name": "LayoutModel",
            "_view_count": null,
            "_view_module": "@jupyter-widgets/base",
            "_view_module_version": "1.2.0",
            "_view_name": "LayoutView",
            "align_content": null,
            "align_items": null,
            "align_self": null,
            "border": null,
            "bottom": null,
            "display": null,
            "flex": null,
            "flex_flow": null,
            "grid_area": null,
            "grid_auto_columns": null,
            "grid_auto_flow": null,
            "grid_auto_rows": null,
            "grid_column": null,
            "grid_gap": null,
            "grid_row": null,
            "grid_template_areas": null,
            "grid_template_columns": null,
            "grid_template_rows": null,
            "height": null,
            "justify_content": null,
            "justify_items": null,
            "left": null,
            "margin": null,
            "max_height": null,
            "max_width": null,
            "min_height": null,
            "min_width": null,
            "object_fit": null,
            "object_position": null,
            "order": null,
            "overflow": null,
            "overflow_x": null,
            "overflow_y": null,
            "padding": null,
            "right": null,
            "top": null,
            "visibility": null,
            "width": null
          }
        },
        "a4c2ea9a3bbe4028b04fa03b6347c9bc": {
          "model_module": "@jupyter-widgets/controls",
          "model_name": "DescriptionStyleModel",
          "model_module_version": "1.5.0",
          "state": {
            "_model_module": "@jupyter-widgets/controls",
            "_model_module_version": "1.5.0",
            "_model_name": "DescriptionStyleModel",
            "_view_count": null,
            "_view_module": "@jupyter-widgets/base",
            "_view_module_version": "1.2.0",
            "_view_name": "StyleView",
            "description_width": ""
          }
        }
      }
    }
  },
  "cells": [
    {
      "cell_type": "code",
      "execution_count": null,
      "metadata": {
        "id": "JM221fOIobqO"
      },
      "outputs": [],
      "source": [
        "#!pip install transformers==3.1.0"
      ]
    },
    {
      "cell_type": "code",
      "source": [
        "from transformers import pipeline"
      ],
      "metadata": {
        "id": "j6drKJRyp8J0"
      },
      "execution_count": null,
      "outputs": []
    },
    {
      "cell_type": "markdown",
      "source": [
        "#zero-shot sequence classifiers\n",
        "\n",
        "Yin et al. proposed a method for using pre-trained NLI models as a ready-made zero-shot sequence classifiers. The method works by posing the sequence to be classified as the NLI premise and to construct a hypothesis from each candidate label."
      ],
      "metadata": {
        "id": "UXx5bgu_jrKC"
      }
    },
    {
      "cell_type": "code",
      "source": [
        "classifier = pipeline(\"zero-shot-classification\")"
      ],
      "metadata": {
        "colab": {
          "base_uri": "https://localhost:8080/",
          "height": 217,
          "referenced_widgets": [
            "f490c44433394964946661b2efb68072",
            "0b7f4abfe4ad4f44a97778b041475c60",
            "e08670d7b80247fbb1ac2168a2336817",
            "07b9e94e8e50458d9582224476c93f23",
            "9e77af8b07464e689c222018d25926c8",
            "4f016b1d4f75469ea930423025b6d608",
            "e02b1c34293849498afda1b450f0c6d2",
            "07a6e09204e54680b6889bf65cf452c3",
            "8c36a29cc1034d6d8fb4085dbea15a4e",
            "f1a32c51acc34b3783dae154639d4a59",
            "443ab87454b24abbb759d129183c6011",
            "ea3e3f6ad5a143f0adb3db395f992a71",
            "94d147925698487da1d73d51b8313813",
            "b07dacc31f2749a98d82a834860cd3db",
            "cdd64f0464f54d9c9e093518503a3980",
            "7ce9b4ba0bb74dfe888d3befa80d40ac",
            "c76bf0c491034e02b175568c477a4ffa",
            "376f2dd817494f6092cb73d611fb76d5",
            "ee1567bc2b51424ab826bb88b2e6913c",
            "b0b9287f5fbc46558d4f6b9c8350bc70",
            "cb4bdacfcbe340adaeb85839ac34b8b0",
            "b95998ab1d00417ca0fede39ec9b28ad",
            "0c9b50764725453596d6dd7f443e8b22",
            "e799bf0aafd644c5a678aa01a5a800f1",
            "4943ab6c080249c19abed4b57529b0a4",
            "964e3f4fbfaa40ab97c01ea000df14bd",
            "17845f1d2f504eee81599582e779167e",
            "d469fd486d074ef7a79c887704d9f3d7",
            "b34f16ab64ee49f196f0dfdf05df4649",
            "5da5b97d5c5d46dabef6d0ff8da9e764",
            "0f2b4834b14a4a36a408d296b4c91b81",
            "2abe54af880d4d15bf382223f32795c9",
            "b9c0a4d61eac4868a65efbd10d8e9689",
            "c1171549d5ee4372baf41e8958d70298",
            "2a286564a2d74154b5d85b3613eca0f3",
            "ad95b8ce56d54b288daf7d88567c2ce3",
            "968d74e23d4d416b8aa53cf93c98ab69",
            "28ebb7c2db1b4d4686317130a8c99118",
            "75823eab1970433489f053927f0178a5",
            "ea11c85ff0c9444eac05632afebab99a",
            "ff61ecb46b1c4cf98e36b249e2c37b25",
            "a4e58501f1e543f6947a67a0e1145a59",
            "b49633430f8f4963a33c5a6eea4caa12",
            "a4c2ea9a3bbe4028b04fa03b6347c9bc"
          ]
        },
        "id": "xqwdJpt0qNm5",
        "outputId": "1fdc4d78-6e2e-42d5-e157-f6a83ee76e97"
      },
      "execution_count": null,
      "outputs": [
        {
          "output_type": "display_data",
          "data": {
            "text/plain": [
              "Downloading:   0%|          | 0.00/908 [00:00<?, ?B/s]"
            ],
            "application/vnd.jupyter.widget-view+json": {
              "version_major": 2,
              "version_minor": 0,
              "model_id": "f490c44433394964946661b2efb68072"
            }
          },
          "metadata": {}
        },
        {
          "output_type": "display_data",
          "data": {
            "text/plain": [
              "Downloading:   0%|          | 0.00/899k [00:00<?, ?B/s]"
            ],
            "application/vnd.jupyter.widget-view+json": {
              "version_major": 2,
              "version_minor": 0,
              "model_id": "ea3e3f6ad5a143f0adb3db395f992a71"
            }
          },
          "metadata": {}
        },
        {
          "output_type": "display_data",
          "data": {
            "text/plain": [
              "Downloading:   0%|          | 0.00/456k [00:00<?, ?B/s]"
            ],
            "application/vnd.jupyter.widget-view+json": {
              "version_major": 2,
              "version_minor": 0,
              "model_id": "0c9b50764725453596d6dd7f443e8b22"
            }
          },
          "metadata": {}
        },
        {
          "output_type": "display_data",
          "data": {
            "text/plain": [
              "Downloading:   0%|          | 0.00/1.63G [00:00<?, ?B/s]"
            ],
            "application/vnd.jupyter.widget-view+json": {
              "version_major": 2,
              "version_minor": 0,
              "model_id": "c1171549d5ee4372baf41e8958d70298"
            }
          },
          "metadata": {}
        },
        {
          "output_type": "stream",
          "name": "stderr",
          "text": [
            "Some weights of the model checkpoint at facebook/bart-large-mnli were not used when initializing BartForSequenceClassification: ['model.encoder.version', 'model.decoder.version']\n",
            "- This IS expected if you are initializing BartForSequenceClassification from the checkpoint of a model trained on another task or with another architecture (e.g. initializing a BertForSequenceClassification model from a BertForPretraining model).\n",
            "- This IS NOT expected if you are initializing BartForSequenceClassification from the checkpoint of a model that you expect to be exactly identical (initializing a BertForSequenceClassification model from a BertForSequenceClassification model).\n"
          ]
        }
      ]
    },
    {
      "cell_type": "markdown",
      "source": [
        "#zero-shot classification method:\n",
        "It is surprisingly effective in many cases, particularly when used with larger pre-trained models like BART and Roberta. \n",
        "\n",
        "Here,we are using this model for zero-shot classification with Hugging Face's built-in pipeline"
      ],
      "metadata": {
        "id": "Zv_bfgtKj4sr"
      }
    },
    {
      "cell_type": "code",
      "source": [
        "import pandas as pd"
      ],
      "metadata": {
        "id": "EJqogsBatfwi"
      },
      "execution_count": null,
      "outputs": []
    },
    {
      "cell_type": "code",
      "source": [
        "imdb=pd.read_csv(\"IMDB-Movie-Data.csv\")"
      ],
      "metadata": {
        "id": "7ZGX1XWtt6S6"
      },
      "execution_count": null,
      "outputs": []
    },
    {
      "cell_type": "code",
      "source": [
        "imdb_100=imdb.head(100)"
      ],
      "metadata": {
        "id": "bQGwOTLpuet7"
      },
      "execution_count": null,
      "outputs": []
    },
    {
      "cell_type": "code",
      "source": [
        "sequences=imdb_100['Description']"
      ],
      "metadata": {
        "id": "cCpbXR5puxSg"
      },
      "execution_count": null,
      "outputs": []
    },
    {
      "cell_type": "code",
      "source": [
        "Genre_list = imdb_100['Genre'].tolist()\n",
        "genlist=[]\n",
        "for k in range(0,100):\n",
        "  x = Genre_list[k].split(\",\")\n",
        "  for i in x:\n",
        "    genlist.append(i)\n",
        "set_Genre = set(genlist)\n",
        "genre = (list(set_Genre))"
      ],
      "metadata": {
        "id": "Gb28knERysKn"
      },
      "execution_count": null,
      "outputs": []
    },
    {
      "cell_type": "markdown",
      "source": [
        "#Applying Zero Shot Text Classification Model on IMDB-Movie-Data Dataset:\n",
        "\n",
        "we will collect first 100 rows of IMDB-Movie-Data Dataset and\n",
        "use Zero Shot Text Classification Model on the “Description” Field to predict the “Genre” Labels."
      ],
      "metadata": {
        "id": "zUmTq-lTkpSn"
      }
    },
    {
      "cell_type": "code",
      "source": [
        "print(genre)"
      ],
      "metadata": {
        "colab": {
          "base_uri": "https://localhost:8080/"
        },
        "id": "vjaBVJ1Wxuar",
        "outputId": "6891728b-95d4-49f8-b0ae-d989fa8abb8e"
      },
      "execution_count": null,
      "outputs": [
        {
          "output_type": "stream",
          "name": "stdout",
          "text": [
            "['Western', 'Music', 'War', 'Comedy', 'Fantasy', 'Action', 'Biography', 'Thriller', 'Adventure', 'Horror', 'Romance', 'History', 'Drama', 'Crime', 'Family', 'Animation', 'Mystery', 'Sci-Fi']\n"
          ]
        }
      ]
    },
    {
      "cell_type": "code",
      "source": [
        "sequences[0:5]"
      ],
      "metadata": {
        "colab": {
          "base_uri": "https://localhost:8080/"
        },
        "id": "xrv4LabD3zJT",
        "outputId": "0367cac0-54fc-4b18-c531-b2c3db46cfaa"
      },
      "execution_count": null,
      "outputs": [
        {
          "output_type": "execute_result",
          "data": {
            "text/plain": [
              "0    A group of intergalactic criminals are forced ...\n",
              "1    Following clues to the origin of mankind, a te...\n",
              "2    Three girls are kidnapped by a man with a diag...\n",
              "3    In a city of humanoid animals, a hustling thea...\n",
              "4    A secret government agency recruits some of th...\n",
              "Name: Description, dtype: object"
            ]
          },
          "metadata": {},
          "execution_count": 12
        }
      ]
    },
    {
      "cell_type": "markdown",
      "source": [
        "#predicting the “Genre” Labels"
      ],
      "metadata": {
        "id": "JvPEvZkrmlEt"
      }
    },
    {
      "cell_type": "code",
      "source": [
        "x=[]\n",
        "j=0\n",
        "for i in sequences:\n",
        "  x.append(classifier(i,genre,multi_class=True))\n",
        "  print(x[j])\n",
        "  j=j+1\n",
        "with open(\"classification_100.txt\",\"w\")as file1:\n",
        "  file1.write(str(x))\n",
        "file1.close()"
      ],
      "metadata": {
        "colab": {
          "base_uri": "https://localhost:8080/"
        },
        "id": "RUanhb3K36nj",
        "outputId": "db2400ea-a42e-463d-d7ac-fa60f45074b7"
      },
      "execution_count": null,
      "outputs": [
        {
          "output_type": "stream",
          "name": "stdout",
          "text": [
            "{'sequence': 'A group of intergalactic criminals are forced to work together to stop a fanatical warrior from taking control of the universe.', 'labels': ['Crime', 'Sci-Fi', 'Adventure', 'Action', 'Fantasy', 'War', 'Thriller', 'Drama', 'Mystery', 'Horror', 'Animation', 'History', 'Biography', 'Family', 'Comedy', 'Romance', 'Music', 'Western'], 'scores': [0.9210296869277954, 0.8914148807525635, 0.7411670684814453, 0.5097889304161072, 0.38553476333618164, 0.35584017634391785, 0.06516969949007034, 0.05227535218000412, 0.03178655728697777, 0.013205056078732014, 0.005208242684602737, 0.0016991192242130637, 0.001290416345000267, 0.0012246990809217095, 0.001044990960508585, 0.0004588828014675528, 0.00042211494292132556, 0.0003751326585188508]}\n",
            "{'sequence': 'Following clues to the origin of mankind, a team finds a structure on a distant moon, but they soon realize they are not alone.', 'labels': ['Adventure', 'Sci-Fi', 'Mystery', 'History', 'Action', 'Western', 'Fantasy', 'Family', 'Animation', 'Biography', 'Drama', 'Thriller', 'War', 'Romance', 'Crime', 'Music', 'Horror', 'Comedy'], 'scores': [0.8800731301307678, 0.6180804967880249, 0.5743436813354492, 0.326301246881485, 0.08942604809999466, 0.05576210096478462, 0.040466539561748505, 0.034318190068006516, 0.022125283256173134, 0.01708291657269001, 0.015188240446150303, 0.010274753905832767, 0.002867602976039052, 0.0027315840125083923, 0.0016246524173766375, 0.0015031073708087206, 0.0007196118822321296, 0.0003403099544811994]}\n",
            "{'sequence': 'Three girls are kidnapped by a man with a diagnosed 23 distinct personalities. They must try to escape before the apparent emergence of a frightful new 24th.', 'labels': ['Crime', 'Horror', 'Action', 'Adventure', 'Mystery', 'Drama', 'Family', 'Thriller', 'Western', 'Sci-Fi', 'Fantasy', 'Biography', 'Animation', 'Romance', 'War', 'History', 'Comedy', 'Music'], 'scores': [0.8735148906707764, 0.7159451246261597, 0.5768031477928162, 0.5192350149154663, 0.45351967215538025, 0.2996140122413635, 0.29387202858924866, 0.2502882480621338, 0.1396833062171936, 0.09343821555376053, 0.09315969049930573, 0.05936124920845032, 0.033571768552064896, 0.011634748429059982, 0.007760167587548494, 0.005108752753585577, 0.003981092944741249, 0.0012306893477216363]}\n",
            "{'sequence': \"In a city of humanoid animals, a hustling theater impresario's attempt to save his theater with a singing competition becomes grander than he anticipates even as its finalists' find that their lives will never be the same.\", 'labels': ['Adventure', 'Fantasy', 'Sci-Fi', 'Action', 'Comedy', 'Drama', 'Mystery', 'Music', 'Thriller', 'Animation', 'Horror', 'Family', 'Romance', 'Western', 'Crime', 'History', 'Biography', 'War'], 'scores': [0.8014466166496277, 0.6587495803833008, 0.45221713185310364, 0.29437917470932007, 0.23085083067417145, 0.1450221687555313, 0.1023791953921318, 0.06262168288230896, 0.03528832271695137, 0.03137405216693878, 0.02780560404062271, 0.01754736714065075, 0.010555622167885303, 0.005969725549221039, 0.004025280941277742, 0.002828199416399002, 0.0020075927022844553, 0.00025031546829268336]}\n",
            "{'sequence': 'A secret government agency recruits some of the most dangerous incarcerated super-villains to form a defensive task force. Their first mission: save the world from the apocalypse.', 'labels': ['Action', 'Sci-Fi', 'Mystery', 'Fantasy', 'Western', 'Adventure', 'Family', 'War', 'Biography', 'Horror', 'Drama', 'Thriller', 'Crime', 'Animation', 'History', 'Music', 'Romance', 'Comedy'], 'scores': [0.4503302276134491, 0.3897497057914734, 0.2353229820728302, 0.18106518685817719, 0.1645156592130661, 0.14223381876945496, 0.04606909304857254, 0.030248606577515602, 0.02812550775706768, 0.022911090403795242, 0.022327322512865067, 0.020061258226633072, 0.01416531391441822, 0.013508125208318233, 0.005600359290838242, 0.002333493670448661, 0.0021618525497615337, 0.00036241314955987036]}\n",
            "{'sequence': 'European mercenaries searching for black powder become embroiled in the defense of the Great Wall of China against a horde of monstrous creatures.', 'labels': ['Western', 'War', 'Adventure', 'Action', 'History', 'Fantasy', 'Horror', 'Sci-Fi', 'Drama', 'Crime', 'Thriller', 'Biography', 'Romance', 'Mystery', 'Animation', 'Family', 'Comedy', 'Music'], 'scores': [0.9967676401138306, 0.9420627951622009, 0.9105663895606995, 0.8028478622436523, 0.3629366159439087, 0.2235182523727417, 0.15509581565856934, 0.09703213721513748, 0.09131886810064316, 0.03855149820446968, 0.013210353441536427, 0.005679716821759939, 0.0039847856387495995, 0.0029459712095558643, 0.002224584110081196, 0.0015890077920630574, 0.0013544413959607482, 0.00028011747053824365]}\n",
            "{'sequence': 'A jazz pianist falls for an aspiring actress in Los Angeles.', 'labels': ['Music', 'Romance', 'Action', 'Adventure', 'Biography', 'Comedy', 'Fantasy', 'Western', 'Drama', 'Family', 'Thriller', 'History', 'Mystery', 'Crime', 'Animation', 'War', 'Sci-Fi', 'Horror'], 'scores': [0.9528385996818542, 0.7832614779472351, 0.6409733295440674, 0.4307589530944824, 0.13131798803806305, 0.09263233095407486, 0.08214090019464493, 0.06729517132043839, 0.051578961312770844, 0.0229105856269598, 0.019340986385941505, 0.012413715943694115, 0.006275789346545935, 0.004215890541672707, 0.0012225022073835135, 0.00023438023345079273, 0.00021952306269668043, 0.00018500765145290643]}\n",
            "{'sequence': 'A has-been actor best known for playing the title character in the 1980s detective series \"Mindhorn\" must work with the police when a serial killer says that he will only speak with Detective Mindhorn, whom he believes to be a real person.', 'labels': ['Crime', 'Mystery', 'Action', 'Drama', 'Biography', 'Adventure', 'History', 'Horror', 'Western', 'Family', 'War', 'Thriller', 'Fantasy', 'Comedy', 'Romance', 'Music', 'Sci-Fi', 'Animation'], 'scores': [0.30381274223327637, 0.23558400571346283, 0.16175106167793274, 0.07542594522237778, 0.06716510653495789, 0.04974369704723358, 0.04531174898147583, 0.030990878120064735, 0.006297736894339323, 0.005383027717471123, 0.003975728526711464, 0.0014200853183865547, 0.001291673630475998, 0.0012319684028625488, 0.0008143349550664425, 0.0004445008817128837, 0.0002643488405738026, 0.00013177740038372576]}\n",
            "{'sequence': 'A true-life drama, centering on British explorer Col. Percival Fawcett, who disappeared while searching for a mysterious city in the Amazon in the 1920s.', 'labels': ['Drama', 'Mystery', 'Adventure', 'Action', 'History', 'Western', 'Family', 'Biography', 'Thriller', 'Crime', 'War', 'Romance', 'Horror', 'Comedy', 'Fantasy', 'Music', 'Animation', 'Sci-Fi'], 'scores': [0.9923082590103149, 0.3739490509033203, 0.05149948224425316, 0.03940460458397865, 0.03738780319690704, 0.002751606749370694, 0.0022913182619959116, 0.002140549011528492, 0.00078097905497998, 0.0005023786216042936, 0.0004646487068384886, 0.0003708966833073646, 0.00016130291623994708, 0.00015446593170054257, 0.00014956692757550627, 0.0001404460344929248, 0.00012314021296333522, 0.00011944098514504731]}\n",
            "{'sequence': 'A spacecraft traveling to a distant colony planet and transporting thousands of people has a malfunction in its sleep chambers. As a result, two passengers are awakened 90 years early.', 'labels': ['Adventure', 'Sci-Fi', 'Mystery', 'Horror', 'Action', 'Fantasy', 'Drama', 'Western', 'Family', 'Thriller', 'Animation', 'History', 'Comedy', 'Romance', 'Biography', 'Crime', 'War', 'Music'], 'scores': [0.5909184813499451, 0.42571842670440674, 0.39117956161499023, 0.21326449513435364, 0.189539834856987, 0.16646572947502136, 0.10518091171979904, 0.07228317111730576, 0.03478110581636429, 0.02739625796675682, 0.027299463748931885, 0.011750111356377602, 0.009068664163351059, 0.00806958694010973, 0.006814000196754932, 0.005640464834868908, 0.0005807187408208847, 0.00045090465573593974]}\n",
            "{'sequence': \"The adventures of writer Newt Scamander in New York's secret community of witches and wizards seventy years before Harry Potter reads his book in school.\", 'labels': ['Adventure', 'Fantasy', 'Action', 'History', 'Mystery', 'Family', 'Biography', 'Thriller', 'War', 'Western', 'Sci-Fi', 'Crime', 'Drama', 'Animation', 'Comedy', 'Horror', 'Romance', 'Music'], 'scores': [0.9288953542709351, 0.8474454283714294, 0.061328381299972534, 0.01969079300761223, 0.01041567325592041, 0.005095392465591431, 0.004667329136282206, 0.004014788195490837, 0.0039915842935442924, 0.00239327154122293, 0.0009081854368560016, 0.0006554595311172307, 0.0006305517163127661, 0.0006046494818292558, 0.0005614468827843666, 0.0005411778693087399, 0.0003314284549560398, 0.00024104578187689185]}\n",
            "{'sequence': 'The story of a team of female African-American mathematicians who served a vital role in NASA during the early years of the U.S. space program.', 'labels': ['History', 'Action', 'Family', 'Biography', 'Adventure', 'Thriller', 'Mystery', 'War', 'Sci-Fi', 'Drama', 'Animation', 'Fantasy', 'Romance', 'Crime', 'Music', 'Horror', 'Western', 'Comedy'], 'scores': [0.8298768401145935, 0.13564716279506683, 0.02203393168747425, 0.01507616974413395, 0.013359155505895615, 0.0023131861817091703, 0.0017717118607833982, 0.0008893767953850329, 0.0006794668734073639, 0.000645930937025696, 0.00046927074436098337, 0.0004405415093060583, 0.0003860972647089511, 0.00018729956354945898, 0.00015573229757137597, 9.999328176490963e-05, 9.57578668021597e-05, 7.635758811375126e-05]}\n",
            "{'sequence': 'The Rebel Alliance makes a risky move to steal the plans for the Death Star, setting up the epic saga to follow.', 'labels': ['Drama', 'War', 'Adventure', 'Sci-Fi', 'Action', 'Crime', 'Fantasy', 'History', 'Thriller', 'Western', 'Mystery', 'Animation', 'Biography', 'Horror', 'Family', 'Music', 'Romance', 'Comedy'], 'scores': [0.9891058802604675, 0.9248985648155212, 0.8943384289741516, 0.873597264289856, 0.7683464288711548, 0.48352038860321045, 0.2142145335674286, 0.06484705954790115, 0.047158412635326385, 0.015276679769158363, 0.010906473733484745, 0.0018605338409543037, 0.0010137278586626053, 0.0008141071302816272, 0.0008093806682154536, 0.0006676545599475503, 0.0002459069073665887, 0.00020805363601539284]}\n",
            "{'sequence': \"In Ancient Polynesia, when a terrible curse incurred by the Demigod Maui reaches an impetuous Chieftain's daughter's island, she answers the Ocean's call to seek out the Demigod to set things right.\", 'labels': ['Action', 'Adventure', 'History', 'Family', 'Drama', 'Horror', 'Mystery', 'Crime', 'Fantasy', 'Biography', 'War', 'Music', 'Romance', 'Animation', 'Comedy', 'Thriller', 'Western', 'Sci-Fi'], 'scores': [0.9088388085365295, 0.8014032244682312, 0.44252505898475647, 0.33296775817871094, 0.2748061418533325, 0.24109886586666107, 0.02710629254579544, 0.018935224041342735, 0.015605374239385128, 0.007069793995469809, 0.005795704200863838, 0.0025458605960011482, 0.0021895472891628742, 0.0020440213847905397, 0.001674094470217824, 0.0015010234201326966, 8.259422611445189e-05, 7.156204810598865e-05]}\n",
            "{'sequence': 'Gloria is an out-of-work party girl forced to leave her life in New York City, and move back home. When reports surface that a giant creature is destroying Seoul, she gradually comes to the realization that she is somehow connected to this phenomenon.', 'labels': ['Sci-Fi', 'Mystery', 'Horror', 'Fantasy', 'Adventure', 'Action', 'Animation', 'War', 'Drama', 'Comedy', 'Biography', 'Crime', 'Family', 'Thriller', 'Western', 'History', 'Romance', 'Music'], 'scores': [0.49726566672325134, 0.29256874322891235, 0.2855165898799896, 0.27062898874282837, 0.2260272353887558, 0.1502283364534378, 0.08936705440282822, 0.08523038029670715, 0.06497335433959961, 0.06444473564624786, 0.06087415665388107, 0.05513158440589905, 0.02413526177406311, 0.010108554735779762, 0.009401676245033741, 0.007872309535741806, 0.005429822951555252, 0.0035430490970611572]}\n",
            "{'sequence': 'The quiet life of a terrier named Max is upended when his owner takes in Duke, a stray whom Max instantly dislikes.', 'labels': ['Drama', 'Adventure', 'Family', 'Action', 'Western', 'Biography', 'Animation', 'Fantasy', 'Thriller', 'Mystery', 'Romance', 'Comedy', 'History', 'Crime', 'Horror', 'War', 'Music', 'Sci-Fi'], 'scores': [0.9481273889541626, 0.6690891981124878, 0.3754864037036896, 0.36588436365127563, 0.2958500385284424, 0.08965305984020233, 0.040228988975286484, 0.038766711950302124, 0.029896795749664307, 0.02174835093319416, 0.017365479841828346, 0.013732663355767727, 0.013600818812847137, 0.012802977114915848, 0.005562132690101862, 0.004964899271726608, 0.001944133429788053, 0.0016806492349132895]}\n",
            "{'sequence': 'WWII American Army Medic Desmond T. Doss, who served during the Battle of Okinawa, refuses to kill people, and becomes the first man in American history to receive the Medal of Honor without firing a shot.', 'labels': ['War', 'History', 'Action', 'Biography', 'Western', 'Family', 'Drama', 'Adventure', 'Thriller', 'Animation', 'Horror', 'Mystery', 'Fantasy', 'Romance', 'Crime', 'Music', 'Comedy', 'Sci-Fi'], 'scores': [0.9644757509231567, 0.9025028944015503, 0.8027091026306152, 0.45302990078926086, 0.2507898509502411, 0.06211785972118378, 0.048349779099226, 0.04311668127775192, 0.015446736477315426, 0.013035492040216923, 0.01264000404626131, 0.0029279037844389677, 0.0021710041910409927, 0.0008315510931424797, 0.000766920333262533, 0.0006715822382830083, 0.0006608705734834075, 0.00018581342010293156]}\n",
            "{'sequence': \"The CIA's most dangerous former operative is drawn out of hiding to uncover more explosive truths about his past.\", 'labels': ['Adventure', 'Action', 'Drama', 'Mystery', 'Crime', 'Biography', 'Thriller', 'Horror', 'Western', 'History', 'War', 'Sci-Fi', 'Family', 'Fantasy', 'Animation', 'Romance', 'Music', 'Comedy'], 'scores': [0.6342089176177979, 0.53376704454422, 0.49426886439323425, 0.43645256757736206, 0.3646537661552429, 0.31242790818214417, 0.30630233883857727, 0.26483216881752014, 0.1865191012620926, 0.10630472004413605, 0.10574990510940552, 0.07135730236768723, 0.05011456459760666, 0.018432457000017166, 0.011105457320809364, 0.0030789929442107677, 0.0015825931914150715, 0.001152161625213921]}\n",
            "{'sequence': 'A five-year-old Indian boy gets lost on the streets of Calcutta, thousands of kilometers from home. He survives many challenges before being adopted by a couple in Australia. 25 years later, he sets out to find his lost family.', 'labels': ['Family', 'Adventure', 'Action', 'Drama', 'Biography', 'Animation', 'Fantasy', 'Mystery', 'History', 'Comedy', 'Horror', 'Thriller', 'Romance', 'Crime', 'Music', 'War', 'Sci-Fi', 'Western'], 'scores': [0.8994131684303284, 0.788724958896637, 0.42076173424720764, 0.20224760472774506, 0.11669276654720306, 0.06898198276758194, 0.04055991768836975, 0.03844498470425606, 0.02471652813255787, 0.019812943413853645, 0.0181370098143816, 0.010032863356173038, 0.008475592359900475, 0.008136395364999771, 0.002459788927808404, 0.0021093629766255617, 0.0020503094419837, 0.0001719269494060427]}\n",
            "{'sequence': 'When twelve mysterious spacecraft appear around the world, linguistics professor Louise Banks is tasked with interpreting the language of the apparent alien visitors.', 'labels': ['Sci-Fi', 'Mystery', 'Adventure', 'Fantasy', 'Family', 'Action', 'Western', 'Thriller', 'War', 'Romance', 'Drama', 'Horror', 'History', 'Biography', 'Crime', 'Comedy', 'Animation', 'Music'], 'scores': [0.9661043882369995, 0.839690089225769, 0.3449534773826599, 0.18331974744796753, 0.18182262778282166, 0.14104920625686646, 0.11051509529352188, 0.06163301318883896, 0.043285153806209564, 0.03464841842651367, 0.02715410850942135, 0.022335808724164963, 0.014739342965185642, 0.007470420561730862, 0.006814251653850079, 0.001962166978046298, 0.0019236287334933877, 0.001072276383638382]}\n",
            "{'sequence': 'Kenny Wells, a prospector desperate for a lucky break, teams up with a similarly eager geologist and sets off on a journey to find gold in the uncharted jungle of Indonesia.', 'labels': ['Adventure', 'Action', 'Fantasy', 'Drama', 'Comedy', 'Thriller', 'Sci-Fi', 'Western', 'Animation', 'Biography', 'History', 'Family', 'Romance', 'Crime', 'Mystery', 'War', 'Music', 'Horror'], 'scores': [0.9677428007125854, 0.8515714406967163, 0.4416946470737457, 0.09853209555149078, 0.07619434595108032, 0.06394949555397034, 0.0450393371284008, 0.03991185128688812, 0.025918615981936455, 0.021568654105067253, 0.008622889406979084, 0.002975901123136282, 0.0017573392251506448, 0.001627107965759933, 0.0012961227912455797, 0.0005525855231098831, 0.0005384653341025114, 0.0004964257241226733]}\n",
            "{'sequence': \"A depressed uncle is asked to take care of his teenage nephew after the boy's father dies.\", 'labels': ['Family', 'Action', 'Horror', 'Adventure', 'Western', 'Drama', 'Thriller', 'Comedy', 'History', 'Fantasy', 'Animation', 'Mystery', 'Biography', 'Crime', 'Romance', 'Sci-Fi', 'War', 'Music'], 'scores': [0.9575215578079224, 0.4803602695465088, 0.2977295219898224, 0.28253066539764404, 0.1432974636554718, 0.13270993530750275, 0.06770411133766174, 0.06308502703905106, 0.04389001429080963, 0.043673403561115265, 0.03703192621469498, 0.036478497087955475, 0.03595218434929848, 0.028992878273129463, 0.012037798762321472, 0.004030060488730669, 0.0016341296723112464, 0.0013904048828408122]}\n",
            "{'sequence': \"A cold-blooded predatory couple while cruising the streets in search of their next victim, will stumble upon a 17-year-old high school girl, who will be sedated, abducted and chained in the strangers' guest room.\", 'labels': ['Crime', 'Horror', 'Action', 'Western', 'Thriller', 'Fantasy', 'Adventure', 'Sci-Fi', 'Biography', 'Mystery', 'Drama', 'History', 'War', 'Music', 'Animation', 'Family', 'Romance', 'Comedy'], 'scores': [0.9898596405982971, 0.9687505960464478, 0.5432406067848206, 0.17365875840187073, 0.16847042739391327, 0.04740435257554054, 0.030149975791573524, 0.02526151016354561, 0.012091989628970623, 0.00926193781197071, 0.005215570330619812, 0.004825026728212833, 0.0023345565423369408, 0.001928547746501863, 0.0018628776306286454, 0.0009844006272032857, 0.0005268745007924736, 0.00010478676267666742]}\n",
            "{'sequence': 'After the Bergens invade Troll Village, Poppy, the happiest Troll ever born, and the curmudgeonly Branch set off on a journey to rescue her friends.', 'labels': ['Adventure', 'Action', 'Drama', 'War', 'Animation', 'Fantasy', 'Comedy', 'Family', 'Crime', 'Biography', 'Mystery', 'Western', 'History', 'Sci-Fi', 'Thriller', 'Horror', 'Romance', 'Music'], 'scores': [0.9711332321166992, 0.9320423603057861, 0.7937878966331482, 0.675658643245697, 0.60072922706604, 0.5828760862350464, 0.49061107635498047, 0.2818204462528229, 0.12982897460460663, 0.07302375882863998, 0.05935703590512276, 0.058944519609212875, 0.035057127475738525, 0.025789128616452217, 0.023533489555120468, 0.019041679799556732, 0.01268066093325615, 0.0037292074412107468]}\n",
            "{'sequence': \"Two decades after the first Independence Day invasion, Earth is faced with a new extra-Solar threat. But will mankind's new space defenses be enough?\", 'labels': ['Action', 'War', 'Adventure', 'Family', 'History', 'Western', 'Mystery', 'Sci-Fi', 'Drama', 'Horror', 'Music', 'Animation', 'Crime', 'Fantasy', 'Biography', 'Thriller', 'Romance', 'Comedy'], 'scores': [0.4821087718009949, 0.3856845200061798, 0.3356682062149048, 0.2925184667110443, 0.2584303617477417, 0.213115394115448, 0.16747912764549255, 0.10044122487306595, 0.0951414704322815, 0.07598534971475601, 0.07170756161212921, 0.06674932688474655, 0.06583191454410553, 0.06160556897521019, 0.047095514833927155, 0.03796006739139557, 0.028715059161186218, 0.012641491368412971]}\n",
            "{'sequence': 'Fiona visits Paris for the first time to assist her myopic Aunt Martha. Catastrophes ensue, mainly involving Dom, a homeless man who has yet to have an emotion or thought he was afraid of expressing.', 'labels': ['Drama', 'Adventure', 'Comedy', 'Action', 'Fantasy', 'Western', 'Family', 'Horror', 'Romance', 'Animation', 'Crime', 'Thriller', 'Biography', 'Mystery', 'History', 'Music', 'Sci-Fi', 'War'], 'scores': [0.9490697979927063, 0.6771530508995056, 0.4486609101295471, 0.40524211525917053, 0.2544310688972473, 0.21097831428050995, 0.20530717074871063, 0.056251849979162216, 0.039782799780368805, 0.0317021869122982, 0.023042811080813408, 0.012868555262684822, 0.011327952146530151, 0.008535048924386501, 0.007058631628751755, 0.004924047272652388, 0.0041997991502285, 0.0016691558994352818]}\n",
            "{'sequence': 'In ancient India, an adventurous and daring man becomes involved in a decades old feud between two warring people.', 'labels': ['Adventure', 'History', 'War', 'Action', 'Drama', 'Fantasy', 'Biography', 'Family', 'Thriller', 'Crime', 'Mystery', 'Romance', 'Comedy', 'Horror', 'Animation', 'Music', 'Western', 'Sci-Fi'], 'scores': [0.913478672504425, 0.7807102799415588, 0.7667937874794006, 0.4163558781147003, 0.2739775478839874, 0.03599349781870842, 0.03490490838885307, 0.024239325895905495, 0.015797704458236694, 0.011168968863785267, 0.00946170836687088, 0.008213981054723263, 0.0044201151467859745, 0.0016889682738110423, 0.0013475408777594566, 0.0007289671921171248, 8.288475510198623e-05, 6.653966556768864e-05]}\n",
            "{'sequence': 'A young woman must save herself and her friends from an ancient evil that stalks its victims through the real-life phenomenon of sleep paralysis.', 'labels': ['Action', 'Horror', 'Western', 'Adventure', 'Drama', 'Mystery', 'Family', 'Thriller', 'Crime', 'Romance', 'Biography', 'History', 'Animation', 'War', 'Sci-Fi', 'Fantasy', 'Music', 'Comedy'], 'scores': [0.6346811056137085, 0.31458383798599243, 0.22132280468940735, 0.22054091095924377, 0.09894799441099167, 0.08935617655515671, 0.02295272797346115, 0.022726034745573997, 0.005719861481338739, 0.004140481818467379, 0.003086077980697155, 0.0026691013481467962, 0.0022246595472097397, 0.001206614077091217, 0.0005774915916845202, 0.00053414172725752, 0.00034711393527686596, 0.00022920349147170782]}\n",
            "{'sequence': 'When three overworked and under-appreciated moms are pushed beyond their limits, they ditch their conventional responsibilities for a jolt of long overdue freedom, fun, and comedic self-indulgence.', 'labels': ['Comedy', 'Family', 'Adventure', 'Action', 'Drama', 'Western', 'Fantasy', 'Mystery', 'Thriller', 'Romance', 'Animation', 'Crime', 'Music', 'Biography', 'War', 'Sci-Fi', 'History', 'Horror'], 'scores': [0.9152529835700989, 0.812460720539093, 0.7082705497741699, 0.43588176369667053, 0.3373706638813019, 0.19765116274356842, 0.16625958681106567, 0.10182534903287888, 0.07818972319364548, 0.03759829327464104, 0.01168222539126873, 0.005577935371547937, 0.0032428442500531673, 0.00293325656093657, 0.0021943834144622087, 0.002087876433506608, 0.0017435826594009995, 0.00042657286394387484]}\n",
            "{'sequence': 'When Callum Lynch explores the memories of his ancestor Aguilar and gains the skills of a Master Assassin, he discovers he is a descendant of the secret Assassins society.', 'labels': ['Family', 'Adventure', 'Biography', 'History', 'Mystery', 'Fantasy', 'Action', 'War', 'Sci-Fi', 'Western', 'Thriller', 'Crime', 'Drama', 'Animation', 'Horror', 'Romance', 'Music', 'Comedy'], 'scores': [0.8639863133430481, 0.6445584297180176, 0.5604064464569092, 0.4283145070075989, 0.2500751316547394, 0.24069181084632874, 0.22632895410060883, 0.21769890189170837, 0.18730877339839935, 0.1772237867116928, 0.10823166370391846, 0.04797260835766792, 0.016411056742072105, 0.01479839812964201, 0.01111842691898346, 0.0052549391984939575, 0.002887134440243244, 0.0007726534968242049]}\n",
            "{'sequence': \"A holiday gathering threatens to go off the rails when Ned Fleming realizes that his daughter's Silicon Valley millionaire boyfriend is about to pop the question.\", 'labels': ['Drama', 'Family', 'Action', 'Comedy', 'Adventure', 'Horror', 'Romance', 'Fantasy', 'Western', 'Mystery', 'Thriller', 'Crime', 'Animation', 'Music', 'History', 'Biography', 'Sci-Fi', 'War'], 'scores': [0.9686629772186279, 0.9473512172698975, 0.5458647012710571, 0.5300467014312744, 0.38263288140296936, 0.2539278268814087, 0.25369298458099365, 0.08362627774477005, 0.06887698918581009, 0.05941806733608246, 0.054289527237415314, 0.02949562482535839, 0.009455697610974312, 0.003766962792724371, 0.0021303854882717133, 0.0018477545818313956, 0.0013425201177597046, 0.00036973124952055514]}\n",
            "{'sequence': \"A wealthy art gallery owner is haunted by her ex-husband's novel, a violent thriller she interprets as a symbolic revenge tale.\", 'labels': ['Thriller', 'Western', 'Crime', 'Horror', 'Mystery', 'Action', 'Family', 'Fantasy', 'Drama', 'War', 'Adventure', 'Romance', 'Sci-Fi', 'History', 'Biography', 'Comedy', 'Music', 'Animation'], 'scores': [0.7331134080886841, 0.2543993294239044, 0.22697463631629944, 0.11527663469314575, 0.07923372089862823, 0.059316426515579224, 0.050993602722883224, 0.04907815530896187, 0.03700024262070656, 0.018715698271989822, 0.013585989363491535, 0.006463669240474701, 0.005124180112034082, 0.0021639359183609486, 0.0015114451525732875, 0.00027950984076596797, 0.00027461140416562557, 0.00023852387676015496]}\n",
            "{'sequence': \"After the re-emergence of the world's first mutant, world-destroyer Apocalypse, the X-Men must unite to defeat his extinction level plan.\", 'labels': ['Action', 'Western', 'Sci-Fi', 'History', 'War', 'Adventure', 'Biography', 'Drama', 'Fantasy', 'Thriller', 'Crime', 'Family', 'Horror', 'Animation', 'Mystery', 'Romance', 'Music', 'Comedy'], 'scores': [0.5910322666168213, 0.13426534831523895, 0.04732222482562065, 0.041759930551052094, 0.04033881053328514, 0.02057621069252491, 0.02036353014409542, 0.016191186383366585, 0.01093353983014822, 0.0046720621176064014, 0.004656672477722168, 0.003760987427085638, 0.0035038013011217117, 0.002959202043712139, 0.0028973030857741833, 0.001028068596497178, 0.0008540507988072932, 0.00037614890607073903]}\n",
            "{'sequence': 'A fast-talking mercenary with a morbid sense of humor is subjected to a rogue experiment that leaves him with accelerated healing powers and a quest for revenge.', 'labels': ['Adventure', 'Action', 'Western', 'Fantasy', 'Comedy', 'Thriller', 'Sci-Fi', 'War', 'Drama', 'Crime', 'Mystery', 'Horror', 'Biography', 'Family', 'Animation', 'History', 'Romance', 'Music'], 'scores': [0.8083457946777344, 0.5817551016807556, 0.4478941857814789, 0.24764610826969147, 0.23594850301742554, 0.1613004207611084, 0.15892234444618225, 0.14894866943359375, 0.04445328190922737, 0.04207906872034073, 0.04205044358968735, 0.03943772614002228, 0.008546131663024426, 0.003915820736438036, 0.002473187167197466, 0.001006965758278966, 0.0005643827607855201, 0.0003200776700396091]}\n",
            "{'sequence': 'Alice returns to where the nightmare began: The Hive in Raccoon City, where the Umbrella Corporation is gathering its forces for a final strike against the only remaining survivors of the apocalypse.', 'labels': ['Horror', 'Sci-Fi', 'War', 'Drama', 'History', 'Crime', 'Adventure', 'Action', 'Fantasy', 'Western', 'Biography', 'Mystery', 'Thriller', 'Family', 'Animation', 'Romance', 'Music', 'Comedy'], 'scores': [0.9688181281089783, 0.6104332804679871, 0.540334165096283, 0.5161095261573792, 0.5041700005531311, 0.40852585434913635, 0.3753602206707001, 0.3604649603366852, 0.12632900476455688, 0.08997796475887299, 0.06236385181546211, 0.06129009649157524, 0.06017351150512695, 0.05666428431868553, 0.01660029962658882, 0.0036482082214206457, 0.0026974750217050314, 0.0014433386968448758]}\n",
            "{'sequence': \"Political interference in the Avengers' activities causes a rift between former allies Captain America and Iron Man.\", 'labels': ['Drama', 'War', 'Adventure', 'Action', 'Mystery', 'Fantasy', 'Thriller', 'Western', 'History', 'Family', 'Crime', 'Horror', 'Sci-Fi', 'Biography', 'Animation', 'Music', 'Romance', 'Comedy'], 'scores': [0.6936728358268738, 0.42354723811149597, 0.21459589898586273, 0.0989782065153122, 0.042139932513237, 0.035787515342235565, 0.02692864090204239, 0.024588918313384056, 0.011697239242494106, 0.0099062854424119, 0.00808387529104948, 0.007226930465549231, 0.0045487526804208755, 0.0034341048449277878, 0.0033925792668014765, 0.0005996889667585492, 0.0005420445231720805, 0.00027603667695075274]}\n",
            "{'sequence': \"A team of explorers travel through a wormhole in space in an attempt to ensure humanity's survival.\", 'labels': ['Sci-Fi', 'Adventure', 'Action', 'Fantasy', 'Western', 'Drama', 'Animation', 'Mystery', 'Thriller', 'Horror', 'History', 'Family', 'Crime', 'War', 'Biography', 'Comedy', 'Romance', 'Music'], 'scores': [0.9383819103240967, 0.9194054007530212, 0.6815230250358582, 0.4025866389274597, 0.33030208945274353, 0.11079704761505127, 0.03737521171569824, 0.02699011191725731, 0.01817060075700283, 0.011824355460703373, 0.00597249623388052, 0.003590109059587121, 0.0027996781282126904, 0.0019551885779947042, 0.0015017929254099727, 0.0012815549271181226, 0.0008869532612152398, 0.00038974551716819406]}\n",
            "{'sequence': 'While on a journey of physical and spiritual healing, a brilliant neurosurgeon is drawn into the world of the mystic arts.', 'labels': ['Adventure', 'Mystery', 'Fantasy', 'Action', 'Western', 'Thriller', 'Sci-Fi', 'Family', 'Biography', 'Romance', 'Drama', 'History', 'Animation', 'Music', 'Comedy', 'War', 'Crime', 'Horror'], 'scores': [0.8784488439559937, 0.8349128365516663, 0.16609032452106476, 0.12267175316810608, 0.09894800186157227, 0.04618415981531143, 0.027098922058939934, 0.023118209093809128, 0.011124568060040474, 0.004670788999646902, 0.0038835061714053154, 0.002705569379031658, 0.0023150809574872255, 0.0005246164510026574, 0.0003969636745750904, 0.0002506060991436243, 0.0002232442784588784, 0.00016532905283384025]}\n",
            "{'sequence': 'Seven gunmen in the old west gradually come together to help a poor village against savage thieves.', 'labels': ['Western', 'Action', 'History', 'Adventure', 'Crime', 'Thriller', 'War', 'Horror', 'Drama', 'Fantasy', 'Mystery', 'Family', 'Biography', 'Animation', 'Music', 'Comedy', 'Romance', 'Sci-Fi'], 'scores': [0.9964592456817627, 0.7836434245109558, 0.707774817943573, 0.6405276656150818, 0.5100061297416687, 0.0921022891998291, 0.07825083285570145, 0.014249004423618317, 0.012966032139956951, 0.008068892173469067, 0.007114890031516552, 0.0043656793422997, 0.0010970945004373789, 0.0010569649748504162, 0.00026980190887115896, 0.00016746642359066755, 0.00014680525055155158, 8.889869059203193e-05]}\n",
            "{'sequence': \"Alienated, hopeful-filmmaker Pat Johnson's epic story growing up in rural Illinois, falling in love, and becoming the first fan of the movie that changed everything.\", 'labels': ['History', 'Biography', 'Adventure', 'Romance', 'Family', 'Drama', 'Mystery', 'War', 'Fantasy', 'Action', 'Thriller', 'Western', 'Crime', 'Music', 'Horror', 'Sci-Fi', 'Animation', 'Comedy'], 'scores': [0.6038959622383118, 0.2511618733406067, 0.11471770703792572, 0.10252626240253448, 0.08345571160316467, 0.05177997425198555, 0.022915247827768326, 0.022132109850645065, 0.020613547414541245, 0.018943697214126587, 0.013343686237931252, 0.007773091550916433, 0.002395092509686947, 0.001643616589717567, 0.001582504017278552, 0.00100765994284302, 0.0008475127979181707, 0.0004127747379243374]}\n",
            "{'sequence': 'A sausage strives to discover the truth about his existence.', 'labels': ['Mystery', 'Action', 'Adventure', 'Western', 'Sci-Fi', 'Fantasy', 'Biography', 'Drama', 'Crime', 'Thriller', 'History', 'Comedy', 'Animation', 'Family', 'War', 'Horror', 'Romance', 'Music'], 'scores': [0.6867421269416809, 0.45471054315567017, 0.34121811389923096, 0.2564394474029541, 0.06808095425367355, 0.04307040572166443, 0.04234800115227699, 0.037082456052303314, 0.019514720886945724, 0.014955737628042698, 0.011428974568843842, 0.008966170251369476, 0.0073175737634301186, 0.006102217826992273, 0.005091104656457901, 0.0033885263837873936, 0.0006308085867203772, 0.00023376992612611502]}\n",
            "{'sequence': 'A chronicle of the childhood, adolescence and burgeoning adulthood of a young, African-American, gay man growing up in a rough neighborhood of Miami.', 'labels': ['History', 'Biography', 'Action', 'Family', 'Adventure', 'Drama', 'Thriller', 'Romance', 'Mystery', 'Crime', 'War', 'Animation', 'Music', 'Horror', 'Western', 'Comedy', 'Fantasy', 'Sci-Fi'], 'scores': [0.8860760927200317, 0.10309866070747375, 0.09491237252950668, 0.06922078877687454, 0.053082678467035294, 0.018493706360459328, 0.01391042023897171, 0.012492709793150425, 0.012451201677322388, 0.007290930952876806, 0.0028195278719067574, 0.0019334120443090796, 0.0015356745570898056, 0.0010646228911355138, 0.0006179637857712805, 0.0004215856606606394, 0.0002244139031972736, 0.00020846222469117492]}\n",
            "{'sequence': 'A group of friends are going on a camping trip to celebrate graduating college. But once they enter the woods, the proverbial shit starts to hit the fan.', 'labels': ['Drama', 'Adventure', 'Action', 'Horror', 'Western', 'Comedy', 'Crime', 'Mystery', 'Fantasy', 'Thriller', 'Animation', 'Family', 'History', 'Sci-Fi', 'Romance', 'Biography', 'Music', 'War'], 'scores': [0.8967239260673523, 0.8088057041168213, 0.5566950440406799, 0.5062154531478882, 0.37763431668281555, 0.32526636123657227, 0.17707104980945587, 0.1461002081632614, 0.11296343058347702, 0.0384829081594944, 0.038443583995103836, 0.017711780965328217, 0.015632882714271545, 0.013299448415637016, 0.006974705960601568, 0.005112492013722658, 0.002173609798774123, 0.001581906108185649]}\n",
            "{'sequence': \"The story of Ray Kroc, a salesman who turned two brothers' innovative fast food eatery, McDonald's, into one of the biggest restaurant businesses in the world with a combination of ambition, persistence, and ruthlessness.\", 'labels': ['History', 'Biography', 'Action', 'Western', 'Adventure', 'Family', 'Drama', 'Thriller', 'Crime', 'Fantasy', 'Mystery', 'Animation', 'War', 'Sci-Fi', 'Music', 'Horror', 'Romance', 'Comedy'], 'scores': [0.5691947340965271, 0.5561304092407227, 0.40511754155158997, 0.09813731163740158, 0.018625827506184578, 0.005907499697059393, 0.005588172003626823, 0.005246430169790983, 0.0008695450378581882, 0.0006665412220172584, 0.0005634678527712822, 0.0005506961606442928, 0.0003871777735184878, 0.00019534480816219002, 0.00017803155060391873, 0.00015465152682736516, 0.00013700389536097646, 0.00010973474127240479]}\n",
            "{'sequence': \"A young street artist in East Los Angeles is caught between his father's obsession with lowrider car culture, his ex-felon brother and his need for self-expression.\", 'labels': ['Family', 'Drama', 'Action', 'Adventure', 'Fantasy', 'Mystery', 'Thriller', 'War', 'Romance', 'Comedy', 'Animation', 'Crime', 'Music', 'Horror', 'History', 'Biography', 'Western', 'Sci-Fi'], 'scores': [0.44308167695999146, 0.3474620580673218, 0.3256467580795288, 0.26981502771377563, 0.16259407997131348, 0.0965433120727539, 0.010721269063651562, 0.005248225759714842, 0.0020402302034199238, 0.0017501625698059797, 0.0017403723904863, 0.0014699016464874148, 0.0010198326781392097, 0.0008318406762555242, 0.0007813986740075052, 0.0006536470027640462, 0.0005559707060456276, 0.00013588702131528407]}\n",
            "{'sequence': 'Jack Sparrow and Barbossa embark on a quest to find the elusive fountain of youth, only to discover that Blackbeard and his daughter are after it too.', 'labels': ['Adventure', 'Action', 'Family', 'Drama', 'Mystery', 'Fantasy', 'Crime', 'Comedy', 'Western', 'Animation', 'Biography', 'History', 'Horror', 'War', 'Thriller', 'Sci-Fi', 'Romance', 'Music'], 'scores': [0.9495153427124023, 0.7507719397544861, 0.687537670135498, 0.6028063297271729, 0.575214147567749, 0.5550395846366882, 0.33742499351501465, 0.1837187111377716, 0.17066079378128052, 0.13258685171604156, 0.09827177226543427, 0.08757935464382172, 0.04000377282500267, 0.011964459903538227, 0.009336567483842373, 0.0071946727111935616, 0.0021238913759589195, 0.0018263644305989146]}\n",
            "{'sequence': 'In the high-stakes world of political power-brokers, Elizabeth Sloane is the most sought after and formidable lobbyist in D.C. But when taking on the most powerful opponent of her career, she finds winning may come at too high a price.', 'labels': ['Action', 'Family', 'Adventure', 'Biography', 'Drama', 'Crime', 'Western', 'Thriller', 'War', 'Mystery', 'Animation', 'History', 'Music', 'Horror', 'Fantasy', 'Romance', 'Comedy', 'Sci-Fi'], 'scores': [0.38362494111061096, 0.3236192464828491, 0.2720384895801544, 0.24688546359539032, 0.16361461579799652, 0.14834558963775635, 0.14535564184188843, 0.10118845850229263, 0.08005009591579437, 0.07925109565258026, 0.043627992272377014, 0.0332321934401989, 0.031330496072769165, 0.024901987984776497, 0.022381454706192017, 0.02051391452550888, 0.0032119210809469223, 0.0028497211169451475]}\n",
            "{'sequence': 'A young girl finds herself in a reform school after therapy since she was blamed for the death of a young boy. At the school she finds herself drawn to a fellow student, unaware that he is an angel, and has loved her for thousands of years.', 'labels': ['Mystery', 'Family', 'Adventure', 'Fantasy', 'Romance', 'Action', 'Biography', 'Western', 'Horror', 'Sci-Fi', 'Animation', 'Crime', 'Drama', 'History', 'Thriller', 'Comedy', 'Music', 'War'], 'scores': [0.6466310024261475, 0.5104906558990479, 0.4206831455230713, 0.4172466993331909, 0.304401159286499, 0.30144771933555603, 0.10816974192857742, 0.10104449093341827, 0.08217866718769073, 0.07126429677009583, 0.06203353404998779, 0.05448181554675102, 0.04228933900594711, 0.04062006250023842, 0.03166479617357254, 0.01599717140197754, 0.0021413001231849194, 0.0007467641844414175]}\n",
            "{'sequence': 'The USS Enterprise crew explores the furthest reaches of uncharted space, where they encounter a new ruthless enemy who puts them and everything the Federation stands for to the test.', 'labels': ['Sci-Fi', 'Adventure', 'Action', 'War', 'Drama', 'Thriller', 'Fantasy', 'Western', 'Horror', 'Mystery', 'Crime', 'Family', 'History', 'Biography', 'Animation', 'Music', 'Romance', 'Comedy'], 'scores': [0.9527522325515747, 0.8846015334129333, 0.4815249443054199, 0.1426190733909607, 0.12239865213632584, 0.04874510318040848, 0.04792522266507149, 0.033686261624097824, 0.02697150781750679, 0.01817317120730877, 0.016132764518260956, 0.006209554150700569, 0.0049316068179905415, 0.004762561526149511, 0.004197081550955772, 0.0017285860376432538, 0.0015722524840384722, 0.0005613794783130288]}\n",
            "{'sequence': 'A director (Charlize Theron) of an international aid agency in Africa meets a relief aid doctor (Javier Bardem) amidst a political/social revolution, and together face tough choices ... See full summary »', 'labels': ['Drama', 'Action', 'Adventure', 'Thriller', 'Fantasy', 'Biography', 'Romance', 'Sci-Fi', 'Animation', 'Comedy', 'Family', 'Horror', 'History', 'Mystery', 'Crime', 'Music', 'War', 'Western'], 'scores': [0.863078773021698, 0.780997097492218, 0.5260631442070007, 0.11897942423820496, 0.035523995757102966, 0.026273107156157494, 0.021159037947654724, 0.012189676985144615, 0.00935558695346117, 0.006146643776446581, 0.00598872359842062, 0.005852137692272663, 0.004849940538406372, 0.001661989837884903, 0.0013498777989298105, 0.0005124038434587419, 0.0003314139903523028, 0.0001987591094803065]}\n",
            "{'sequence': 'Three decades after the defeat of the Galactic Empire, a new threat arises. The First Order attempts to rule the galaxy and only a ragtag group of heroes can stop them, along with the help of the Resistance.', 'labels': ['Sci-Fi', 'War', 'Adventure', 'Action', 'Fantasy', 'History', 'Western', 'Family', 'Drama', 'Animation', 'Biography', 'Mystery', 'Crime', 'Thriller', 'Romance', 'Horror', 'Music', 'Comedy'], 'scores': [0.8639102578163147, 0.8318503499031067, 0.7132737636566162, 0.5022262930870056, 0.3935425877571106, 0.3399755656719208, 0.2711459696292877, 0.15445981919765472, 0.15044604241847992, 0.10953686386346817, 0.09364104270935059, 0.08852800726890564, 0.050314467400312424, 0.047631748020648956, 0.036088112741708755, 0.034092169255018234, 0.02739293873310089, 0.0035418327897787094]}\n",
            "{'sequence': 'Vampire death dealer, Selene (Kate Beckinsale) fights to end the eternal war between the Lycan clan and the Vampire faction that betrayed her.', 'labels': ['War', 'Action', 'Drama', 'Crime', 'Sci-Fi', 'Biography', 'Fantasy', 'Western', 'Family', 'Adventure', 'Horror', 'Thriller', 'History', 'Animation', 'Romance', 'Mystery', 'Comedy', 'Music'], 'scores': [0.7773954272270203, 0.6340393424034119, 0.359629362821579, 0.20746424794197083, 0.1705646812915802, 0.09619443863630295, 0.07714380323886871, 0.05305681377649307, 0.035600267350673676, 0.035173095762729645, 0.020639246329665184, 0.016803165897727013, 0.007655205670744181, 0.004060904961079359, 0.0031057868618518114, 0.0019524636445567012, 0.0005163369351066649, 0.0004859856271650642]}\n",
            "{'sequence': \"Three generations come together in the week leading up to Mother's Day.\", 'labels': ['Family', 'Action', 'Western', 'Adventure', 'History', 'Animation', 'Thriller', 'Music', 'Drama', 'Mystery', 'Romance', 'Fantasy', 'Biography', 'Crime', 'Horror', 'Comedy', 'Sci-Fi', 'War'], 'scores': [0.9720474481582642, 0.385587602853775, 0.16114044189453125, 0.013699445873498917, 0.00919236522167921, 0.005770788062363863, 0.005322637967765331, 0.004123994614928961, 0.0041168672032654285, 0.0036464736331254244, 0.0033462715800851583, 0.002374257892370224, 0.0013508243719115853, 0.0010443987557664514, 0.0010250068735331297, 0.0005212153191678226, 0.0005140021676197648, 0.0003928258956875652]}\n",
            "{'sequence': 'An ex-hitman comes out of retirement to track down the gangsters that took everything from him.', 'labels': ['Crime', 'Action', 'Adventure', 'Drama', 'Western', 'Thriller', 'Mystery', 'War', 'Family', 'Fantasy', 'Sci-Fi', 'Horror', 'History', 'Biography', 'Animation', 'Comedy', 'Romance', 'Music'], 'scores': [0.8807619214057922, 0.8703168630599976, 0.8272646069526672, 0.5783896446228027, 0.44393080472946167, 0.12370134890079498, 0.08927890658378601, 0.08119147270917892, 0.07406063377857208, 0.060723502188920975, 0.05248742923140526, 0.046764712780714035, 0.034661948680877686, 0.01781737618148327, 0.002556618768721819, 0.0025294958613812923, 0.0006291361059993505, 0.000338021811330691]}\n",
            "{'sequence': 'When the menace known as the Joker wreaks havoc and chaos on the people of Gotham, the Dark Knight must come to terms with one of the greatest psychological tests of his ability to fight injustice.', 'labels': ['Crime', 'Horror', 'Drama', 'Action', 'Adventure', 'Thriller', 'Biography', 'History', 'Fantasy', 'Animation', 'Family', 'Western', 'Comedy', 'Mystery', 'Sci-Fi', 'War', 'Romance', 'Music'], 'scores': [0.413581520318985, 0.31890615820884705, 0.25989919900894165, 0.2157302051782608, 0.06129540503025055, 0.028006773442029953, 0.013417795300483704, 0.009667722508311272, 0.0033181195612996817, 0.00290952087379992, 0.0028022294864058495, 0.001989399315789342, 0.00188138906378299, 0.001768038491718471, 0.0012702737003564835, 0.0007471154676750302, 0.0003692814498208463, 0.0003403560258448124]}\n",
            "{'sequence': 'In the 17th century, two Portuguese Jesuit priests travel to Japan in an attempt to locate their mentor, who is rumored to have committed apostasy, and to propagate Catholicism.', 'labels': ['Action', 'History', 'Adventure', 'Mystery', 'Biography', 'Family', 'Crime', 'Horror', 'Thriller', 'Western', 'Romance', 'Animation', 'Fantasy', 'Drama', 'War', 'Music', 'Comedy', 'Sci-Fi'], 'scores': [0.5191777944564819, 0.3669590651988983, 0.14089886844158173, 0.1077270433306694, 0.07621408253908157, 0.059773948043584824, 0.01450575701892376, 0.012564757838845253, 0.004062832798808813, 0.003215550445020199, 0.0030853755306452513, 0.002164510078728199, 0.002087553031742573, 0.0020804936066269875, 0.0019317101687192917, 0.0019109302666038275, 0.0003405701136216521, 0.00030701319337822497]}\n",
            "{'sequence': \"Hoping to walk away with a massive fortune, a trio of thieves break into the house of a blind man who isn't as helpless as he seems.\", 'labels': ['Crime', 'Adventure', 'Action', 'Mystery', 'Fantasy', 'Drama', 'Horror', 'Western', 'Thriller', 'Comedy', 'Sci-Fi', 'Animation', 'Biography', 'History', 'Family', 'War', 'Music', 'Romance'], 'scores': [0.9796457886695862, 0.8248042464256287, 0.5315361618995667, 0.2501077651977539, 0.20676572620868683, 0.18327847123146057, 0.16827188432216644, 0.12504413723945618, 0.1082288846373558, 0.05544248968362808, 0.0217326320707798, 0.013341166079044342, 0.0048429155722260475, 0.004149970132857561, 0.0033783563412725925, 0.0030922451987862587, 0.0016441477928310633, 0.0010818694718182087]}\n",
            "{'sequence': \"A girl in a small town forms an unlikely bond with a recently-paralyzed man she's taking care of.\", 'labels': ['Adventure', 'Romance', 'Action', 'Family', 'Western', 'Drama', 'Fantasy', 'Animation', 'Thriller', 'Mystery', 'Comedy', 'Biography', 'History', 'Horror', 'Sci-Fi', 'Crime', 'Music', 'War'], 'scores': [0.7753581404685974, 0.3975410759449005, 0.3825649619102478, 0.3093409240245819, 0.2979341745376587, 0.20526741445064545, 0.15597346425056458, 0.10837694257497787, 0.017446452751755714, 0.01659523695707321, 0.010525539517402649, 0.004092424642294645, 0.0028466559015214443, 0.0023682466708123684, 0.0015503567410632968, 0.0008493273053318262, 0.0008414630428887904, 0.0001771679671946913]}\n",
            "{'sequence': 'A former secretary, newly appointed as a scriptwriter for propaganda films, joins the cast and crew of a major production while the Blitz rages around them.', 'labels': ['War', 'Action', 'Adventure', 'Family', 'History', 'Drama', 'Thriller', 'Biography', 'Mystery', 'Crime', 'Horror', 'Romance', 'Western', 'Comedy', 'Fantasy', 'Music', 'Animation', 'Sci-Fi'], 'scores': [0.9777229428291321, 0.1830437034368515, 0.018311772495508194, 0.010873551480472088, 0.005925639532506466, 0.003503944957628846, 0.002167765749618411, 0.0021509474609047174, 0.0017509920289739966, 0.0016190255992114544, 0.0011601540027186275, 0.0011334138689562678, 0.0010207388550043106, 0.0009124282514676452, 0.0007880878401920199, 0.00033774838084354997, 0.00019273682846687734, 0.00018483513849787414]}\n",
            "{'sequence': \"The story of Chesley Sullenberger, an American pilot who became a hero after landing his damaged plane on the Hudson River in order to save the flight's passengers and crew.\", 'labels': ['History', 'Drama', 'Action', 'Adventure', 'Biography', 'Western', 'Family', 'Thriller', 'Fantasy', 'Animation', 'Crime', 'War', 'Mystery', 'Horror', 'Sci-Fi', 'Romance', 'Music', 'Comedy'], 'scores': [0.8420723080635071, 0.6975237727165222, 0.5922656655311584, 0.33806392550468445, 0.09793529659509659, 0.008550707250833511, 0.001623314106836915, 0.0009140509646385908, 0.0004962833481840789, 0.0004797579604201019, 0.00020095438230782747, 0.00016288715414702892, 0.00014826675760559738, 0.00014820427168160677, 0.0001453764853067696, 0.0001289205247303471, 0.00011504945723572746, 9.28646550164558e-05]}\n",
            "{'sequence': 'Fearing that the actions of Superman are left unchecked, Batman takes on the Man of Steel, while the world wrestles with what kind of a hero it really needs.', 'labels': ['Drama', 'Action', 'Adventure', 'Western', 'Fantasy', 'Thriller', 'Horror', 'History', 'Biography', 'War', 'Sci-Fi', 'Mystery', 'Family', 'Crime', 'Animation', 'Comedy', 'Music', 'Romance'], 'scores': [0.6822752356529236, 0.6509210467338562, 0.20561660826206207, 0.08299184590578079, 0.039315950125455856, 0.026096226647496223, 0.025734087452292442, 0.020621061325073242, 0.020010463893413544, 0.01675076223909855, 0.01549129281193018, 0.009445605799555779, 0.009097435511648655, 0.0032820007763803005, 0.0025359538849443197, 0.0012749418383464217, 0.0009577926248311996, 0.0008556657703593373]}\n",
            "{'sequence': 'A father and son, both coroners, are pulled into a complex mystery while attempting to identify the body of a young woman, who was apparently harboring dark secrets.', 'labels': ['Mystery', 'Family', 'Crime', 'Adventure', 'Drama', 'Horror', 'Western', 'Action', 'Thriller', 'Sci-Fi', 'Fantasy', 'History', 'Biography', 'War', 'Animation', 'Comedy', 'Romance', 'Music'], 'scores': [0.9719408750534058, 0.9633120894432068, 0.7648496627807617, 0.622351348400116, 0.6084191203117371, 0.2986021339893341, 0.2625034749507904, 0.24889186024665833, 0.11295473575592041, 0.015996163710951805, 0.010906507261097431, 0.0034178162459284067, 0.0031271479092538357, 0.0028493490535765886, 0.0027585593052208424, 0.0007678008987568319, 0.0003644893004093319, 0.00019323719607200474]}\n",
            "{'sequence': 'A divorcee becomes entangled in a missing persons investigation that promises to send shockwaves throughout her life.', 'labels': ['Drama', 'Mystery', 'Horror', 'Adventure', 'Action', 'Crime', 'Thriller', 'Western', 'Family', 'Fantasy', 'Sci-Fi', 'Biography', 'History', 'Animation', 'Comedy', 'War', 'Romance', 'Music'], 'scores': [0.9834104180335999, 0.9417820572853088, 0.9190255403518677, 0.5560063123703003, 0.5203908681869507, 0.46359071135520935, 0.4466201961040497, 0.28040245175361633, 0.17330564558506012, 0.07504157721996307, 0.021811209619045258, 0.004502884112298489, 0.003138288389891386, 0.002381423721089959, 0.001093864208087325, 0.0007806084468029439, 0.0006518662557937205, 0.0002449916210025549]}\n",
            "{'sequence': \"Literature student Anastasia Steele's life changes forever when she meets handsome, yet tormented, billionaire Christian Grey.\", 'labels': ['Romance', 'Western', 'Fantasy', 'Biography', 'Drama', 'War', 'Family', 'Action', 'Mystery', 'Adventure', 'Crime', 'Horror', 'Thriller', 'Comedy', 'Sci-Fi', 'History', 'Music', 'Animation'], 'scores': [0.7926296591758728, 0.20006604492664337, 0.007710304111242294, 0.0052368538454174995, 0.004812182858586311, 0.0031588557176291943, 0.0026123891584575176, 0.002563153626397252, 0.0014305680524557829, 0.0008496215450577438, 0.0006640332867391407, 0.0004240318958181888, 0.00034455806598998606, 0.00030674770823679864, 0.0001736108388286084, 0.0001293058885494247, 7.442899368470535e-05, 5.826200504088774e-05]}\n",
            "{'sequence': 'Two stage magicians engage in competitive one-upmanship in an attempt to create the ultimate stage illusion.', 'labels': ['Western', 'Mystery', 'Action', 'Adventure', 'Thriller', 'Fantasy', 'War', 'Family', 'Horror', 'Drama', 'Romance', 'History', 'Sci-Fi', 'Music', 'Crime', 'Comedy', 'Animation', 'Biography'], 'scores': [0.2504512667655945, 0.227476567029953, 0.12972483038902283, 0.12490137666463852, 0.10902651399374008, 0.044446736574172974, 0.007240100298076868, 0.004285324364900589, 0.003388191806152463, 0.0014624639879912138, 0.0010127039859071374, 0.0010084945242851973, 0.0003582064528018236, 0.00027555733686313033, 0.00021800173271913081, 0.0002047037851298228, 0.0001868962572189048, 0.00017173646483570337]}\n",
            "{'sequence': \"A spy organization recruits an unrefined, but promising street kid into the agency's ultra-competitive training program, just as a global threat emerges from a twisted tech genius.\", 'labels': ['Action', 'Mystery', 'Adventure', 'Sci-Fi', 'Family', 'Western', 'Drama', 'Fantasy', 'Thriller', 'Horror', 'War', 'History', 'Biography', 'Romance', 'Animation', 'Music', 'Crime', 'Comedy'], 'scores': [0.5274882316589355, 0.2748248279094696, 0.27187612652778625, 0.15158143639564514, 0.1232256144285202, 0.08882966637611389, 0.08835379779338837, 0.07000470161437988, 0.05080779269337654, 0.01600245200097561, 0.010353519581258297, 0.0032378125470131636, 0.0031295660883188248, 0.001824191422201693, 0.0012868704507127404, 0.0010491369757801294, 0.00047680531861260533, 0.00041311574750579894]}\n",
            "{'sequence': 'The story of the 2013 Boston Marathon bombing and the aftermath, which includes the city-wide manhunt to find the terrorists responsible.', 'labels': ['Horror', 'History', 'Crime', 'Action', 'Drama', 'Western', 'War', 'Adventure', 'Thriller', 'Family', 'Mystery', 'Biography', 'Animation', 'Music', 'Sci-Fi', 'Fantasy', 'Romance', 'Comedy'], 'scores': [0.8135294318199158, 0.8086315989494324, 0.613810122013092, 0.4154793918132782, 0.24278654158115387, 0.011563687585294247, 0.010551070794463158, 0.005002123769372702, 0.003769456408917904, 0.0019758271519094706, 0.0011139614507555962, 0.0010220478288829327, 0.0006430537905544043, 0.00027292920276522636, 0.0002584640169516206, 0.00021768358419649303, 0.00014300424663815647, 0.00013714373926632106]}\n",
            "{'sequence': 'A woman rebels against a tyrannical ruler in postapocalyptic Australia in search for her home-land with the help of a group of female prisoners, a psychotic worshipper, and a drifter named Max.', 'labels': ['Action', 'Adventure', 'Fantasy', 'Sci-Fi', 'Drama', 'Animation', 'War', 'Biography', 'Horror', 'Crime', 'Mystery', 'Family', 'Thriller', 'Romance', 'History', 'Western', 'Comedy', 'Music'], 'scores': [0.8005752563476562, 0.7165141701698303, 0.4173206090927124, 0.4146982729434967, 0.06304828822612762, 0.0352594256401062, 0.010893896222114563, 0.009108450263738632, 0.00783612485975027, 0.006816004402935505, 0.005389351397752762, 0.005153024569153786, 0.004654279910027981, 0.0009051742381416261, 0.0006917713326402009, 0.00044328541844151914, 0.00038581673288717866, 0.0002248715318273753]}\n",
            "{'sequence': \"A man's nervous breakdown causes him to leave his wife and live in his attic for several months.\", 'labels': ['Family', 'Drama', 'Horror', 'Adventure', 'Western', 'Action', 'Crime', 'Thriller', 'History', 'Fantasy', 'Mystery', 'Biography', 'Comedy', 'Sci-Fi', 'Romance', 'Animation', 'War', 'Music'], 'scores': [0.7354915738105774, 0.6909871697425842, 0.41084590554237366, 0.33574947714805603, 0.2656848132610321, 0.23699888586997986, 0.09400417655706406, 0.07010301202535629, 0.017609653994441032, 0.014648028649389744, 0.009825102053582668, 0.008065512403845787, 0.003962057642638683, 0.0035513355396687984, 0.002565996488556266, 0.0016602411633357406, 0.0005175602855160832, 0.00019494746811687946]}\n",
            "{'sequence': 'A dramatization of the April 2010 disaster, when the offshore drilling rig Deepwater Horizon exploded and created the worst oil spill in U.S. history.', 'labels': ['Drama', 'Horror', 'Action', 'History', 'Animation', 'Adventure', 'Western', 'Comedy', 'Crime', 'Thriller', 'Family', 'Fantasy', 'Sci-Fi', 'War', 'Mystery', 'Biography', 'Music', 'Romance'], 'scores': [0.9871007800102234, 0.6997161507606506, 0.3854449689388275, 0.1954808086156845, 0.0754038542509079, 0.05758265405893326, 0.047964245080947876, 0.046358153223991394, 0.039715614169836044, 0.03892156854271889, 0.006022593937814236, 0.0017364672385156155, 0.0013137583155184984, 0.0009489317890256643, 0.0006391205824911594, 0.0004565903509501368, 0.00026259510195814073, 0.00022354167595040053]}\n",
            "{'sequence': 'Set during the last days of the Ottoman Empire, The Promise follows a love triangle between Michael, a brilliant medical student, the beautiful and sophisticated Ana, and Chris - a renowned American journalist based in Paris.', 'labels': ['Drama', 'History', 'Romance', 'Fantasy', 'Action', 'Biography', 'Crime', 'Comedy', 'Adventure', 'Family', 'War', 'Animation', 'Thriller', 'Mystery', 'Sci-Fi', 'Music', 'Horror', 'Western'], 'scores': [0.824590802192688, 0.30695033073425293, 0.19064567983150482, 0.0386573001742363, 0.014994672499597073, 0.0031102527864277363, 0.0016537917545065284, 0.0013678831746801734, 0.0012508220970630646, 0.0010286998003721237, 0.0009142068447545171, 0.0007448392570950091, 0.0006961372564546764, 0.0005125859752297401, 0.00047015983727760613, 0.00038307937211357057, 0.00033976754639297724, 0.0002147335180779919]}\n",
            "{'sequence': 'In 1942, a Canadian intelligence officer in North Africa encounters a female French Resistance fighter on a deadly mission behind enemy lines. When they reunite in London, their relationship is tested by the pressures of war.', 'labels': ['War', 'History', 'Adventure', 'Action', 'Drama', 'Western', 'Biography', 'Horror', 'Romance', 'Crime', 'Thriller', 'Animation', 'Mystery', 'Family', 'Fantasy', 'Music', 'Sci-Fi', 'Comedy'], 'scores': [0.869571328163147, 0.1133144423365593, 0.08145307749509811, 0.0774199515581131, 0.06774995476007462, 0.05146319791674614, 0.03428051248192787, 0.01892683282494545, 0.014403986744582653, 0.010167347267270088, 0.008765952661633492, 0.008533749729394913, 0.006977309938520193, 0.006233397871255875, 0.00519718648865819, 0.001104639726690948, 0.0010388196678832173, 0.0007229567272588611]}\n",
            "{'sequence': \"A boy seeks the help of a tree monster to cope with his single mother's terminal illness.\", 'labels': ['Adventure', 'Sci-Fi', 'Action', 'Fantasy', 'Horror', 'Animation', 'Family', 'Drama', 'Western', 'Comedy', 'Mystery', 'Thriller', 'Biography', 'Crime', 'History', 'Romance', 'War', 'Music'], 'scores': [0.6809318661689758, 0.5274013876914978, 0.47946834564208984, 0.4729960858821869, 0.31853917241096497, 0.24877870082855225, 0.14129306375980377, 0.129305899143219, 0.1273149996995926, 0.02132115513086319, 0.021059652790427208, 0.012071920558810234, 0.004526562988758087, 0.0036108682397753, 0.0035673421807587147, 0.0008145610918290913, 0.0003546594234649092, 0.00024152327387128025]}\n",
            "{'sequence': 'Retreating from life after a tragedy, a man questions the universe by writing to Love, Time and Death. Receiving unexpected answers, he begins to see how these things interlock and how even loss can reveal moments of meaning and beauty.', 'labels': ['Mystery', 'Western', 'Adventure', 'Drama', 'Family', 'Romance', 'Action', 'Thriller', 'History', 'Fantasy', 'Biography', 'Animation', 'Crime', 'Music', 'Sci-Fi', 'Horror', 'Comedy', 'War'], 'scores': [0.6049138307571411, 0.3134750723838806, 0.23607788980007172, 0.10496947914361954, 0.05299675837159157, 0.040048908442258835, 0.03997332230210304, 0.03623050078749657, 0.03306548297405243, 0.023478230461478233, 0.014639358967542648, 0.008637873455882072, 0.0070237768813967705, 0.0039183637127280235, 0.0036173283588141203, 0.003241064492613077, 0.0024563013575971127, 0.000999133219011128]}\n",
            "{'sequence': 'In a city of anthropomorphic animals, a rookie bunny cop and a cynical con artist fox must work together to uncover a conspiracy.', 'labels': ['Adventure', 'Mystery', 'Action', 'Fantasy', 'Crime', 'Drama', 'Animation', 'Thriller', 'Sci-Fi', 'Family', 'Comedy', 'Romance', 'War', 'Horror', 'Western', 'Biography', 'History', 'Music'], 'scores': [0.9109023809432983, 0.8121079802513123, 0.4869444668292999, 0.3633047044277191, 0.33865445852279663, 0.2769502103328705, 0.23547257483005524, 0.13866738975048065, 0.13617223501205444, 0.11786209791898727, 0.0519549697637558, 0.01807238720357418, 0.009699826128780842, 0.008589346893131733, 0.0047994814813137054, 0.004072380717843771, 0.0028522221837192774, 0.0013055099407210946]}\n",
            "{'sequence': 'Captain Barbossa, Will Turner and Elizabeth Swann must sail off the edge of the map, navigate treachery and betrayal, find Jack Sparrow, and make their final alliances for one last decisive battle.', 'labels': ['Adventure', 'War', 'Action', 'Drama', 'Crime', 'Mystery', 'Fantasy', 'Western', 'History', 'Thriller', 'Biography', 'Horror', 'Sci-Fi', 'Family', 'Romance', 'Animation', 'Comedy', 'Music'], 'scores': [0.9581480026245117, 0.882134735584259, 0.8624747395515442, 0.8190012574195862, 0.6320850849151611, 0.45483893156051636, 0.4041024446487427, 0.3118765950202942, 0.2937223017215729, 0.20938275754451752, 0.20677612721920013, 0.13857975602149963, 0.0712910071015358, 0.044351428747177124, 0.030528753995895386, 0.01130768470466137, 0.0026191622018814087, 0.001920265145599842]}\n",
            "{'sequence': \"Earth's mightiest heroes must come together and learn to fight as a team if they are to stop the mischievous Loki and his alien army from enslaving humanity.\", 'labels': ['War', 'Adventure', 'Sci-Fi', 'Action', 'Western', 'Drama', 'Fantasy', 'Animation', 'Thriller', 'Mystery', 'History', 'Family', 'Crime', 'Horror', 'Biography', 'Music', 'Romance', 'Comedy'], 'scores': [0.822510838508606, 0.8184108734130859, 0.7114647030830383, 0.6407462358474731, 0.2671656012535095, 0.21636994183063507, 0.12775859236717224, 0.05851257964968681, 0.04847623035311699, 0.04456408694386482, 0.030735181644558907, 0.02811862714588642, 0.019718067720532417, 0.013663133606314659, 0.012162812054157257, 0.001530631328932941, 0.0015115682035684586, 0.0006294739432632923]}\n",
            "{'sequence': \"In Nazi-occupied France during World War II, a plan to assassinate Nazi leaders by a group of Jewish U.S. soldiers coincides with a theatre owner's vengeful plans for the same.\", 'labels': ['War', 'Crime', 'Action', 'History', 'Horror', 'Adventure', 'Drama', 'Thriller', 'Family', 'Mystery', 'Fantasy', 'Biography', 'Comedy', 'Music', 'Romance', 'Western', 'Animation', 'Sci-Fi'], 'scores': [0.8671969175338745, 0.6880671977996826, 0.48248788714408875, 0.4474741220474243, 0.272568941116333, 0.18262723088264465, 0.10023952275514603, 0.03349350392818451, 0.017988745123147964, 0.016726095229387283, 0.00973904225975275, 0.0054616779088974, 0.0032566760201007128, 0.0012653607409447432, 0.0010055422317236662, 0.0006944382330402732, 0.0004741974116768688, 0.0002429011365165934]}\n",
            "{'sequence': \"Jack Sparrow races to recover the heart of Davy Jones to avoid enslaving his soul to Jones' service, as other friends and foes seek the heart for their own agenda as well.\", 'labels': ['Adventure', 'Action', 'Drama', 'Crime', 'War', 'Biography', 'Horror', 'Fantasy', 'History', 'Family', 'Mystery', 'Western', 'Animation', 'Comedy', 'Thriller', 'Sci-Fi', 'Romance', 'Music'], 'scores': [0.9385891556739807, 0.859548032283783, 0.8451571464538574, 0.7588351368904114, 0.3905257284641266, 0.21829672157764435, 0.138609379529953, 0.1248311772942543, 0.1091659814119339, 0.08700378239154816, 0.08176945149898529, 0.07611353695392609, 0.04612471163272858, 0.04491738602519035, 0.042083997279405594, 0.013639516197144985, 0.010659906081855297, 0.005280707497149706]}\n",
            "{'sequence': 'Following a ghost invasion of Manhattan, paranormal enthusiasts Erin Gilbert and Abby Yates, nuclear engineer Jillian Holtzmann, and subway worker Patty Tolan band together to stop the otherworldly threat.', 'labels': ['Action', 'Adventure', 'Horror', 'Sci-Fi', 'Drama', 'Mystery', 'Fantasy', 'Thriller', 'History', 'Family', 'Western', 'Crime', 'War', 'Biography', 'Animation', 'Romance', 'Comedy', 'Music'], 'scores': [0.782800555229187, 0.5847617387771606, 0.40142619609832764, 0.34688594937324524, 0.32098013162612915, 0.2902801036834717, 0.25477302074432373, 0.06409427523612976, 0.012001683004200459, 0.007699558511376381, 0.005057214293628931, 0.0026009695138782263, 0.001968640834093094, 0.0017245025373995304, 0.0008326334645971656, 0.0007632810738869011, 0.00034909878741018474, 0.00033064078888855875]}\n",
            "{'sequence': 'A thief, who steals corporate secrets through use of dream-sharing technology, is given the inverse task of planting an idea into the mind of a CEO.', 'labels': ['Crime', 'Mystery', 'Sci-Fi', 'Western', 'Adventure', 'Action', 'Fantasy', 'Family', 'Horror', 'Thriller', 'Drama', 'War', 'History', 'Music', 'Biography', 'Animation', 'Romance', 'Comedy'], 'scores': [0.9657902121543884, 0.21890783309936523, 0.1294570118188858, 0.1234218180179596, 0.06411027163267136, 0.051724623888731, 0.023924361914396286, 0.01873600482940674, 0.018341319635510445, 0.01816069334745407, 0.0063507091253995895, 0.004486943129450083, 0.00437379814684391, 0.000478621746879071, 0.0003750865289475769, 0.00029652516241185367, 0.0002609400835353881, 0.0001712180528556928]}\n",
            "{'sequence': 'In the forests of the Pacific Northwest, a father devoted to raising his six kids with a rigorous physical and intellectual education is forced to leave his paradise and enter the world, challenging his idea of what it means to be a parent.', 'labels': ['Family', 'Adventure', 'Action', 'Mystery', 'Biography', 'Drama', 'Fantasy', 'Horror', 'Crime', 'History', 'Thriller', 'Animation', 'Sci-Fi', 'Romance', 'Western', 'Music', 'War', 'Comedy'], 'scores': [0.8729280829429626, 0.5288680195808411, 0.1714520901441574, 0.0587766207754612, 0.02657799795269966, 0.019923940300941467, 0.01715053617954254, 0.010933010838925838, 0.007608433719724417, 0.005578463431447744, 0.005046864505857229, 0.0027924678288400173, 0.002356910379603505, 0.0011220283340662718, 0.0010470239212736487, 0.0009236884652636945, 0.000693740148562938, 0.0006367562455125153]}\n",
            "{'sequence': 'Based on the true story of Jordan Belfort, from his rise to a wealthy stock-broker living the high life to his fall involving crime, corruption and the federal government.', 'labels': ['Biography', 'Crime', 'Drama', 'History', 'Thriller', 'Action', 'Adventure', 'Horror', 'Western', 'Family', 'War', 'Mystery', 'Romance', 'Comedy', 'Animation', 'Fantasy', 'Music', 'Sci-Fi'], 'scores': [0.8846668601036072, 0.6961888074874878, 0.44956716895103455, 0.40746691823005676, 0.26412245631217957, 0.25869929790496826, 0.2397516816854477, 0.10673912614583969, 0.0599353201687336, 0.010741814970970154, 0.00458545470610261, 0.0037001469172537327, 0.0010905707022175193, 0.0009347640443593264, 0.0007901336066424847, 0.0003735043865162879, 0.0003451258526183665, 0.00024740464868955314]}\n",
            "{'sequence': \"With his wife's disappearance having become the focus of an intense media circus, a man sees the spotlight turned on him when it's suspected that he may not be innocent.\", 'labels': ['Family', 'Drama', 'Mystery', 'Horror', 'Action', 'Crime', 'Western', 'Adventure', 'Thriller', 'Fantasy', 'History', 'Biography', 'Sci-Fi', 'Animation', 'Romance', 'Comedy', 'War', 'Music'], 'scores': [0.9613653421401978, 0.9153350591659546, 0.8781465291976929, 0.5867393612861633, 0.4985968768596649, 0.3443772494792938, 0.28672266006469727, 0.2528737187385559, 0.13726045191287994, 0.015994489192962646, 0.014457399956882, 0.012457333505153656, 0.005459946114569902, 0.002363333012908697, 0.001794764306396246, 0.0016418518498539925, 0.0014852446038275957, 0.0004120295343454927]}\n",
            "{'sequence': 'Deckard Shaw seeks revenge against Dominic Toretto and his family for his comatose brother.', 'labels': ['Family', 'Crime', 'Action', 'Drama', 'Thriller', 'War', 'Western', 'Horror', 'History', 'Adventure', 'Biography', 'Comedy', 'Sci-Fi', 'Romance', 'Mystery', 'Fantasy', 'Animation', 'Music'], 'scores': [0.9682709574699402, 0.9564200043678284, 0.8672782778739929, 0.7542006969451904, 0.6764823198318481, 0.5487841367721558, 0.4916529953479767, 0.4252270460128784, 0.28445181250572205, 0.28370192646980286, 0.25900986790657043, 0.15610085427761078, 0.052498798817396164, 0.019602641463279724, 0.015710845589637756, 0.011133291758596897, 0.0038647018373012543, 0.0035042944364249706]}\n",
            "{'sequence': 'A new theme park, built on the original site of Jurassic Park, creates a genetically modified hybrid dinosaur, which escapes containment and goes on a killing spree.', 'labels': ['Action', 'Adventure', 'Drama', 'History', 'Horror', 'Crime', 'Sci-Fi', 'Mystery', 'War', 'Family', 'Biography', 'Animation', 'Western', 'Music', 'Fantasy', 'Comedy', 'Thriller', 'Romance'], 'scores': [0.06925614923238754, 0.06647122651338577, 0.038591448217630386, 0.008115677163004875, 0.004061826039105654, 0.0036025834269821644, 0.0022244714200496674, 0.002057242440059781, 0.0019154350738972425, 0.0011360677890479565, 0.0008894547936506569, 0.0004651697527151555, 0.00024947425117716193, 0.00016680738190189004, 0.00016073122969828546, 0.00015448163321707398, 7.208513125078753e-05, 6.479432340711355e-05]}\n",
            "{'sequence': 'A group of Boston-bred gangsters set up shop in balmy Florida during the Prohibition era, facing off against the competition and the Ku Klux Klan.', 'labels': ['Crime', 'History', 'Adventure', 'Action', 'Family', 'Drama', 'Biography', 'Thriller', 'War', 'Mystery', 'Fantasy', 'Horror', 'Animation', 'Music', 'Western', 'Romance', 'Sci-Fi', 'Comedy'], 'scores': [0.9388721585273743, 0.7687259912490845, 0.37408751249313354, 0.36144402623176575, 0.27250897884368896, 0.18304002285003662, 0.09359792619943619, 0.01802946999669075, 0.0106527553871274, 0.010571002960205078, 0.005954957101494074, 0.0017762086354196072, 0.0012072252575308084, 0.0007422005292028189, 0.0004148813895881176, 0.0004123998514842242, 0.0001428961695637554, 0.00013637870142702013]}\n",
            "{'sequence': 'A paraplegic marine dispatched to the moon Pandora on a unique mission becomes torn between following his orders and protecting the world he feels is his home.', 'labels': ['Sci-Fi', 'Adventure', 'Drama', 'Action', 'Fantasy', 'Thriller', 'War', 'Animation', 'Western', 'Mystery', 'Biography', 'Crime', 'History', 'Horror', 'Comedy', 'Family', 'Romance', 'Music'], 'scores': [0.9308401942253113, 0.8947184085845947, 0.6671425700187683, 0.5892160534858704, 0.19814243912696838, 0.03843812644481659, 0.017258545383810997, 0.01560900080949068, 0.009891282767057419, 0.009265090338885784, 0.008518791757524014, 0.0071932971477508545, 0.00580946821719408, 0.0052943602204322815, 0.0024464901071041822, 0.0009340280666947365, 0.0004949062131345272, 0.0002623590698931366]}\n",
            "{'sequence': 'In the dead of a Wyoming winter, a bounty hunter and his prisoner find shelter in a cabin currently inhabited by a collection of nefarious characters.', 'labels': ['Western', 'Adventure', 'Crime', 'Mystery', 'Horror', 'Action', 'Drama', 'Fantasy', 'Thriller', 'History', 'Comedy', 'Biography', 'Family', 'Animation', 'Sci-Fi', 'Music', 'War', 'Romance'], 'scores': [0.9876121282577515, 0.8004553318023682, 0.5860133767127991, 0.5314204096794128, 0.23862993717193604, 0.1939057856798172, 0.13853849470615387, 0.12611666321754456, 0.06448230147361755, 0.017623726278543472, 0.017314475029706955, 0.013906813226640224, 0.008645787835121155, 0.003769928589463234, 0.002798199886456132, 0.0013309753267094493, 0.0013159166555851698, 0.0008727519889362156]}\n",
            "{'sequence': 'As a math savant uncooks the books for a new client, the Treasury Department closes in on his activities and the body count starts to rise.', 'labels': ['Action', 'Drama', 'Adventure', 'Thriller', 'Western', 'Family', 'Fantasy', 'Crime', 'Mystery', 'Sci-Fi', 'Horror', 'Animation', 'Comedy', 'History', 'War', 'Biography', 'Romance', 'Music'], 'scores': [0.6964556574821472, 0.5579599738121033, 0.43358665704727173, 0.3618197441101074, 0.19848757982254028, 0.11138288676738739, 0.08682011812925339, 0.0850163996219635, 0.05549423769116402, 0.028735103085637093, 0.019536016508936882, 0.013264341279864311, 0.004944705404341221, 0.003256406169384718, 0.002816160675138235, 0.0014967997558414936, 0.00021275697508826852, 9.263561514671892e-05]}\n",
            "{'sequence': \"When Keller Dover's daughter and her friend go missing, he takes matters into his own hands as the police pursue multiple leads and the pressure mounts.\", 'labels': ['Family', 'Action', 'Drama', 'Mystery', 'Crime', 'Adventure', 'Horror', 'Thriller', 'Western', 'Fantasy', 'History', 'Comedy', 'Biography', 'War', 'Animation', 'Sci-Fi', 'Romance', 'Music'], 'scores': [0.9768949747085571, 0.9513558149337769, 0.9190692901611328, 0.9148833751678467, 0.8406108617782593, 0.7405322194099426, 0.4719030559062958, 0.3794110119342804, 0.3094210624694824, 0.043590694665908813, 0.027421394363045692, 0.024829255416989326, 0.019661663100123405, 0.010483942925930023, 0.00945405662059784, 0.007967098616063595, 0.00236942688934505, 0.002130018314346671]}\n",
            "{'sequence': 'As an Orc horde invades the planet Azeroth using a magic portal, a few human heroes and dissenting Orcs must attempt to stop the true evil behind this war.', 'labels': ['Adventure', 'War', 'Fantasy', 'Action', 'Sci-Fi', 'Drama', 'Animation', 'Horror', 'Mystery', 'Crime', 'Thriller', 'Family', 'Biography', 'History', 'Western', 'Romance', 'Music', 'Comedy'], 'scores': [0.9636677503585815, 0.9548319578170776, 0.8622844219207764, 0.6950139403343201, 0.5778689980506897, 0.2548588216304779, 0.06054745614528656, 0.055101171135902405, 0.04802742227911949, 0.047221194952726364, 0.04590902477502823, 0.013468088582158089, 0.011854351498186588, 0.007035963702946901, 0.0032029738649725914, 0.0011709632817655802, 0.0011665455531328917, 0.0005709797842428088]}\n",
            "{'sequence': \"An aspiring author during the civil rights movement of the 1960s decides to write a book detailing the African American maids' point of view on the white families for which they work, and the hardships they go through on a daily basis.\", 'labels': ['Family', 'History', 'Action', 'Adventure', 'Mystery', 'Drama', 'War', 'Biography', 'Crime', 'Horror', 'Thriller', 'Western', 'Romance', 'Fantasy', 'Animation', 'Music', 'Sci-Fi', 'Comedy'], 'scores': [0.7398399114608765, 0.26944777369499207, 0.23504692316055298, 0.016741009429097176, 0.007183656562119722, 0.004574974067509174, 0.0036329671274870634, 0.0015396842500194907, 0.001248498447239399, 0.0009223493980243802, 0.0007597060757689178, 0.0007336976705119014, 0.0004138608055654913, 0.00030355440685525537, 0.0002953428484033793, 0.0002615051344037056, 0.0001178833917947486, 0.00010581209062365815]}\n",
            "{'sequence': \"Based on the true story of two young men, David Packouz and Efraim Diveroli, who won a $300 million contract from the Pentagon to arm America's allies in Afghanistan.\", 'labels': ['Biography', 'Action', 'History', 'Adventure', 'Drama', 'War', 'Crime', 'Western', 'Thriller', 'Horror', 'Family', 'Mystery', 'Animation', 'Romance', 'Fantasy', 'Music', 'Comedy', 'Sci-Fi'], 'scores': [0.4753822982311249, 0.36935755610466003, 0.3157111406326294, 0.1639474779367447, 0.13897335529327393, 0.12318146228790283, 0.040149617940187454, 0.02729726769030094, 0.009458820335566998, 0.007179114501923323, 0.004755849484354258, 0.0012302128598093987, 0.0005247440421953797, 0.0005136635736562312, 0.00043489428935572505, 0.00031027765362523496, 0.00027118349680677056, 0.00015648304542992264]}\n",
            "{'sequence': \"When Tony Stark and Bruce Banner try to jump-start a dormant peacekeeping program called Ultron, things go horribly wrong and it's up to Earth's mightiest heroes to stop the villainous Ultron from enacting his terrible plan.\", 'labels': ['Sci-Fi', 'Action', 'Adventure', 'Drama', 'Horror', 'War', 'Fantasy', 'Crime', 'Biography', 'Animation', 'History', 'Mystery', 'Western', 'Comedy', 'Family', 'Thriller', 'Music', 'Romance'], 'scores': [0.7682597637176514, 0.7275402545928955, 0.7105284929275513, 0.6547312140464783, 0.5846118330955505, 0.3317457139492035, 0.0562165305018425, 0.0420561321079731, 0.028552459552884102, 0.019800875335931778, 0.01800827495753765, 0.013478375971317291, 0.012735823169350624, 0.008001068606972694, 0.0057115075178444386, 0.004950106143951416, 0.0026136431843042374, 0.0015091929817572236]}\n",
            "{'sequence': 'In 1970s Los Angeles, a mismatched pair of private eyes investigate a missing girl and the mysterious death of a porn star.', 'labels': ['Mystery', 'Crime', 'Drama', 'Action', 'Western', 'Adventure', 'History', 'Horror', 'Thriller', 'Fantasy', 'Family', 'Romance', 'Biography', 'Comedy', 'Sci-Fi', 'Animation', 'War', 'Music'], 'scores': [0.8327420949935913, 0.551190972328186, 0.29415205121040344, 0.1475592702627182, 0.10325807332992554, 0.05343891307711601, 0.04523437097668648, 0.04044114053249359, 0.004912080708891153, 0.004616511519998312, 0.003045059973374009, 0.002034572185948491, 0.0015612163115292788, 0.0010812029941007495, 0.0009014165261760354, 0.0007755081751383841, 0.0005699744215235114, 0.00022408575750887394]}\n",
            "{'sequence': 'Two strangers find themselves linked in a bizarre way. When a connection forms, will distance be the only thing to keep them apart?', 'labels': ['Mystery', 'Adventure', 'Action', 'Romance', 'Fantasy', 'Drama', 'Thriller', 'Western', 'Animation', 'Sci-Fi', 'Horror', 'History', 'Music', 'Biography', 'Comedy', 'Crime', 'War', 'Family'], 'scores': [0.8431991338729858, 0.7773939967155457, 0.4530632495880127, 0.4246119558811188, 0.3358907699584961, 0.3351454436779022, 0.1773497611284256, 0.16744089126586914, 0.16461054980754852, 0.12384073436260223, 0.11166467517614365, 0.07052474468946457, 0.06051470339298248, 0.058450158685445786, 0.05171215161681175, 0.049054257571697235, 0.0405380018055439, 0.001555180293507874]}\n",
            "{'sequence': 'Shortly after delivering a patient to an understaffed hospital, a police officer experiences strange and violent occurrences seemingly linked to a group of mysterious hooded figures.', 'labels': ['Mystery', 'Horror', 'Adventure', 'Crime', 'Action', 'Drama', 'Western', 'Sci-Fi', 'Fantasy', 'Thriller', 'Family', 'Animation', 'History', 'Comedy', 'Biography', 'War', 'Romance', 'Music'], 'scores': [0.890540361404419, 0.7061381936073303, 0.6203060746192932, 0.4453471899032593, 0.424460232257843, 0.25752195715904236, 0.24552254378795624, 0.20681925117969513, 0.11919001489877701, 0.08783926069736481, 0.038110800087451935, 0.013599403202533722, 0.008309813216328621, 0.007834400050342083, 0.005459236446768045, 0.0015061693266034126, 0.001168638002127409, 0.0005320888012647629]}\n",
            "{'sequence': 'A personal shopper in Paris refuses to leave the city until she makes contact with her twin brother who previously died there. Her life becomes more complicated when a mysterious person contacts her via text message.', 'labels': ['Drama', 'Mystery', 'Adventure', 'Western', 'Family', 'Action', 'Fantasy', 'Horror', 'Crime', 'Comedy', 'Sci-Fi', 'Biography', 'Romance', 'Animation', 'Thriller', 'History', 'War', 'Music'], 'scores': [0.8481100797653198, 0.8339818120002747, 0.6101592779159546, 0.5460144281387329, 0.42007920145988464, 0.22875700891017914, 0.12589828670024872, 0.07682382315397263, 0.07183834910392761, 0.06325477361679077, 0.02229316532611847, 0.021409548819065094, 0.019583938643336296, 0.018971171230077744, 0.01875811628997326, 0.006022770423442125, 0.0007368233636952937, 0.0007103974348865449]}\n",
            "{'sequence': 'An undercover cop and a mole in the police attempt to identify each other while infiltrating an Irish gang in South Boston.', 'labels': ['Crime', 'Drama', 'Action', 'Mystery', 'Adventure', 'Horror', 'Family', 'Thriller', 'War', 'History', 'Sci-Fi', 'Biography', 'Fantasy', 'Animation', 'Music', 'Comedy', 'Western', 'Romance'], 'scores': [0.712539792060852, 0.5538048148155212, 0.5012498497962952, 0.2577980160713196, 0.25551268458366394, 0.04733394831418991, 0.04483424499630928, 0.03504610061645508, 0.012450626119971275, 0.00962273869663477, 0.006111430935561657, 0.003867316758260131, 0.003841850208118558, 0.0018964502960443497, 0.0004914653836749494, 0.0004825096111744642, 0.00047002622159197927, 0.00046200546785257757]}\n"
          ]
        }
      ]
    },
    {
      "cell_type": "markdown",
      "source": [
        "# Evaluating prediction probabilities for the first five sequences:\n",
        "\n",
        "predicting the “Genre” Labels,we are listing all scores of different labels for first five sequences and comparing with what is available in Genre_list.we get prediction probabilities of quite many labels as higher than 45% and mostly in the range of 70-90% which is quite satisfactory. "
      ],
      "metadata": {
        "id": "UxjwgXfMlbMU"
      }
    },
    {
      "cell_type": "code",
      "source": [
        "for i in range(0,5):\n",
        "  print(x[i]['sequence'])\n",
        "  print(\"Genre_list:\",Genre_list[i])\n",
        "  loop_len=len(x[i]['labels'])\n",
        "  for j in range(0,loop_len):\n",
        "    if(x[i]['scores'][j]<0.45):\n",
        "      continue\n",
        "    print(x[i]['labels'][j],'.....',x[i]['scores'][j])"
      ],
      "metadata": {
        "colab": {
          "base_uri": "https://localhost:8080/"
        },
        "id": "5v5VQp5B7NK3",
        "outputId": "bb337da9-acec-4500-bc00-76e4693dcd91"
      },
      "execution_count": null,
      "outputs": [
        {
          "output_type": "stream",
          "name": "stdout",
          "text": [
            "A group of intergalactic criminals are forced to work together to stop a fanatical warrior from taking control of the universe.\n",
            "Genre_list: Action,Adventure,Sci-Fi\n",
            "Crime ..... 0.9210296869277954\n",
            "Sci-Fi ..... 0.8914148807525635\n",
            "Adventure ..... 0.7411670684814453\n",
            "Action ..... 0.5097889304161072\n",
            "Following clues to the origin of mankind, a team finds a structure on a distant moon, but they soon realize they are not alone.\n",
            "Genre_list: Adventure,Mystery,Sci-Fi\n",
            "Adventure ..... 0.8800731301307678\n",
            "Sci-Fi ..... 0.6180804967880249\n",
            "Mystery ..... 0.5743436813354492\n",
            "Three girls are kidnapped by a man with a diagnosed 23 distinct personalities. They must try to escape before the apparent emergence of a frightful new 24th.\n",
            "Genre_list: Horror,Thriller\n",
            "Crime ..... 0.8735148906707764\n",
            "Horror ..... 0.7159451246261597\n",
            "Action ..... 0.5768031477928162\n",
            "Adventure ..... 0.5192350149154663\n",
            "Mystery ..... 0.45351967215538025\n",
            "In a city of humanoid animals, a hustling theater impresario's attempt to save his theater with a singing competition becomes grander than he anticipates even as its finalists' find that their lives will never be the same.\n",
            "Genre_list: Animation,Comedy,Family\n",
            "Adventure ..... 0.8014466166496277\n",
            "Fantasy ..... 0.6587495803833008\n",
            "Sci-Fi ..... 0.45221713185310364\n",
            "A secret government agency recruits some of the most dangerous incarcerated super-villains to form a defensive task force. Their first mission: save the world from the apocalypse.\n",
            "Genre_list: Action,Adventure,Fantasy\n",
            "Action ..... 0.4503302276134491\n"
          ]
        }
      ]
    },
    {
      "cell_type": "code",
      "source": [
        "!jupyter nbconvert MBA06_Module3_Assignment2_AnandMohan.ipynb"
      ],
      "metadata": {
        "id": "YapVO82EDe6E",
        "colab": {
          "base_uri": "https://localhost:8080/"
        },
        "outputId": "854236c6-57bf-493b-e8d0-2eed37f2fcd9"
      },
      "execution_count": 1,
      "outputs": [
        {
          "output_type": "stream",
          "name": "stdout",
          "text": [
            "[NbConvertApp] Converting notebook MBA06_Module3_Assignment2_AnandMohan.ipynb to html\n",
            "[NbConvertApp] Writing 420752 bytes to MBA06_Module3_Assignment2_AnandMohan.html\n"
          ]
        }
      ]
    }
  ]
}